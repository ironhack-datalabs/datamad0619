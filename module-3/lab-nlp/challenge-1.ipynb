{
 "cells": [
  {
   "cell_type": "markdown",
   "metadata": {},
   "source": [
    "NLTK installed, videos visualized and questions answered."
   ]
  },
  {
   "cell_type": "markdown",
   "metadata": {},
   "source": [
    "1 - Computer language vs natural (human) language: how they differ?\n",
    "\n",
    "Computer language tend to have small vocabularies and follow structure conventions, natural language contains large diverse vocabularies, words with several different meanings, speaking with different accents, word play, ambiguous sentences, mispronouncing, etc.    "
   ]
  },
  {
   "cell_type": "markdown",
   "metadata": {},
   "source": [
    "2 - Why NLP needs to deconstruct the natural language in order to analyze?\n",
    "\n",
    "Because we can't give a computer a dictionary of all posible sentences that may exist."
   ]
  },
  {
   "cell_type": "markdown",
   "metadata": {},
   "source": [
    "3 - What is the biggest problem for computer to understand natural language?\n",
    "\n",
    "That there are lots of words which have multiple meanings or can be both noun or verb, so we need to teach the computer some grammar."
   ]
  },
  {
   "cell_type": "markdown",
   "metadata": {},
   "source": [
    "4 - What is a parse tree?\n",
    "\n",
    "A parse tree is a structure that tags every part of a speech and reveals how the sentence is constructed."
   ]
  },
  {
   "cell_type": "markdown",
   "metadata": {},
   "source": [
    "5 - How are the first-generation NLP algorithms (based on semantic rules) different from modern NLP algorithms (based on knowledge graphs and machine learning)?\n",
    "\n",
    "First-generation algorithms consisted of hand-crafted rules, while modern NLP algorithms are based on machine learning techniques that can learn automatically from existing datasets of human language."
   ]
  },
  {
   "cell_type": "markdown",
   "metadata": {},
   "source": [
    "6 - How did early-generation chatbots (e.g. Eliza) recognize natual languge? What are the limitations?\n",
    "\n",
    "Experts encoded hundred of rules mapping what a user may say to how a program should reply, but this was hard to mantain and quite limited.\n"
   ]
  },
  {
   "cell_type": "markdown",
   "metadata": {},
   "source": [
    "7 - How do modern chatbots (e.g. IBM Watson, Facebook Messenger Chatbot) recognize natural language?\n",
    "\n",
    "When data is stored in a web of semantic information, where entities are linked to one another in meaningful relationships, allows to craft informational sentences (knowledge graph). Dialog systems based on machine learning are more like human to human chat."
   ]
  },
  {
   "cell_type": "markdown",
   "metadata": {},
   "source": [
    "8 - What is speech recognition? What is its relation to NLP?\n",
    "\n",
    "It is making a computer get words from the sound. It uses deep neural networks to get the best accuracy."
   ]
  },
  {
   "cell_type": "markdown",
   "metadata": {},
   "source": [
    "9 - How does speech recognition work (how do computers translate sounds into texts)?\n",
    "\n",
    "It uses spectrograms (frequency vs time) processed with the algorithm fast fourier transform and transcription accuracy combined with language models which contain statistics about frequencies of words."
   ]
  },
  {
   "cell_type": "markdown",
   "metadata": {},
   "source": [
    "10 - What is speech synthesis?\n",
    "\n",
    "It is the inverse of speech recognition, the process of generating spoken language by machine on the basis of written input."
   ]
  },
  {
   "cell_type": "markdown",
   "metadata": {},
   "source": [
    "11 - What are essential for NLP algorithms to produce more accurate results?\n",
    "\n",
    "Voice user interfaces create a positive feedback loop by getting more data to train the systems which enables better accuracy which leads to more people using those interfaces and generating new data to train with."
   ]
  },
  {
   "cell_type": "markdown",
   "metadata": {},
   "source": [
    "12 - What is text mining / text analysis?\n",
    "\n",
    "Text mining or text analysis is the process of deriving meaningful information from natural language text."
   ]
  },
  {
   "cell_type": "markdown",
   "metadata": {},
   "source": [
    "13 - What is sentiment analysis?\n",
    "\n",
    "Sentiment analysis is the process of computationally identifying and categorizing opinions expressed in a piece of text, especially in order to determine whether the writer's attitude towards a particular topic, product, etc. is positive, negative, or neutral."
   ]
  },
  {
   "cell_type": "markdown",
   "metadata": {},
   "source": [
    "14 - What are the common areas of application of NLP?\n",
    "\n",
    "Sentimental analysis, chatbots, speech recognition, machine translation, spell checking, keyword searching, information extraction and advertising matching."
   ]
  },
  {
   "cell_type": "markdown",
   "metadata": {},
   "source": [
    "15 - What are the 6 general steps of NLP analysis?\n",
    "\n",
    "Tokenization, stemming, lemmatization, POS tags, named entity recognition and chunking."
   ]
  },
  {
   "cell_type": "markdown",
   "metadata": {},
   "source": [
    "16 - What is tokenization?\n",
    "\n",
    "It is the process of breaking strings into its individual words."
   ]
  },
  {
   "cell_type": "markdown",
   "metadata": {},
   "source": [
    "17 - What is stemming?\n",
    "\n",
    "Stemming is normalize words into its base or root form."
   ]
  },
  {
   "cell_type": "markdown",
   "metadata": {},
   "source": [
    "18 - What is lemmatization? How is lemmatization different from stemming?\n",
    "\n",
    "Lemmatization takes into consideration the morphological analysis of the word mapping several words into one common root, as stemming, but its output is a proper word."
   ]
  },
  {
   "cell_type": "markdown",
   "metadata": {},
   "source": [
    "19 - What are POS tags?\n",
    "\n",
    "The grammatical tag of the word (name, verb, etc.)"
   ]
  },
  {
   "cell_type": "markdown",
   "metadata": {},
   "source": [
    "20 - What does named entity recognition do?\n",
    "\n",
    "It is the process of detecting the name entities such us organizations, location, persons, etc."
   ]
  },
  {
   "cell_type": "markdown",
   "metadata": {},
   "source": [
    "21 - What does chunking do?\n",
    "\n",
    "It picks up individual pieces of information and groups them into bigger pieces."
   ]
  },
  {
   "cell_type": "code",
   "execution_count": null,
   "metadata": {},
   "outputs": [],
   "source": []
  }
 ],
 "metadata": {
  "kernelspec": {
   "display_name": "Python 3",
   "language": "python",
   "name": "python3"
  },
  "language_info": {
   "codemirror_mode": {
    "name": "ipython",
    "version": 3
   },
   "file_extension": ".py",
   "mimetype": "text/x-python",
   "name": "python",
   "nbconvert_exporter": "python",
   "pygments_lexer": "ipython3",
   "version": "3.7.3"
  }
 },
 "nbformat": 4,
 "nbformat_minor": 2
}
