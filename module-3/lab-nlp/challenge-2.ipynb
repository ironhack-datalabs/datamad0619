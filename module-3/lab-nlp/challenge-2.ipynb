{
 "cells": [
  {
   "cell_type": "markdown",
   "metadata": {},
   "source": [
    "Text Cleaning\n",
    "\n",
    "input = @Ironhack's-#Q website 776-is http://ironhack.com [(2018)]\")\n",
    "\n",
    "output = ironhack s  q website  is\n",
    "\n",
    "Notes:\n",
    "\n",
    "Use regular expressions to identify URL patterns and remove URLs.\n",
    "\n",
    "You don't want to replace special characters/numbers with an empty string. Because that will join words that shouldn't be joined. For instance, if you replace the ' in you're, you will get youre which is undesirable. So instead, replace special characters and numbers with a whitespace.\n",
    "\n",
    "The order matters in terms of what to clean before others. For example, if you clean special characters before URLs, it will be difficult to identify the URLs patterns.\n",
    "\n",
    "Don't worry about single letters and multiple whitespaces in your returned string. In our next steps those issues will be fixed.\n"
   ]
  },
  {
   "cell_type": "code",
   "execution_count": 1,
   "metadata": {},
   "outputs": [
    {
     "name": "stdout",
     "output_type": "stream",
     "text": [
      "ironhack s q website is\n"
     ]
    }
   ],
   "source": [
    "import re\n",
    "\n",
    "def clean_up(s):\n",
    "    \n",
    "    url = re.findall('http[s]?://(?:[a-zA-Z]|[0-9]|[$-_@.&+]|[!*\\(\\), ]|(?:%[0-9a-fA-F][0-9a-fA-F]))+', s)\n",
    "    url_to_string = ''.join(url)\n",
    "    s = s.replace(url_to_string, '').lower()\n",
    "    \n",
    "    numbers = re.findall('[0-9]', s)\n",
    "    numbers_to_string = ''.join(numbers)\n",
    "    s = s.replace(numbers_to_string,'')\n",
    "    \n",
    "    special_characters = [\"'\",'\"','@','\\\\','`','*','_','{','}','[',']','(',')','>','<','#','+','-','.',',','!','$','|','€' ,'%','&','/','\\'']\n",
    "    \n",
    "    for character in s:\n",
    "        if character in special_characters:\n",
    "            s = s.replace(character,\" \")\n",
    "    return print(' '.join(s.split()))\n",
    "            \n",
    "clean_up(\"@Ironhack's-#Q website 776-is http://ironhack.com [(2018)]\\\")\")\n"
   ]
  },
  {
   "cell_type": "markdown",
   "metadata": {},
   "source": [
    "Tokenization\n",
    "\n",
    "Write a function called tokenize to convert a string to a list of words.\n",
    "\n",
    "input = ironhack s q website is\n",
    "\n",
    "output = ['ironhack', 's', 'q', 'website', 'is']\n",
    "\n",
    "Hint: use the word_tokenize function in NLTK."
   ]
  },
  {
   "cell_type": "code",
   "execution_count": 2,
   "metadata": {},
   "outputs": [
    {
     "name": "stdout",
     "output_type": "stream",
     "text": [
      "['ironhack', 's', 'q', 'website', 'is']\n"
     ]
    }
   ],
   "source": [
    "def tokenize(s):\n",
    "    s = s.split(' ')\n",
    "    return print(s)\n",
    "    \n",
    "tokenize('ironhack s q website is')\n"
   ]
  },
  {
   "cell_type": "markdown",
   "metadata": {},
   "source": [
    "Stemming and Lemmatization\n",
    "\n",
    "In NLTK, there are three stemming libraries: Porter, Snowball, and Lancaster. The difference among the three is the agressiveness with which they perform stemming. Porter is the most gentle stemmer that preserves the word's original form if it has doubts. In contrast, Lancaster is the most aggressive one that sometimes produces wrong outputs. And Snowball is in between. In most cases you will use either Porter or Snowball.\n",
    "\n",
    "Lemmatization differs from stemming in that lemmatization cares about whether the reduced form belongs to the target language and it often requires the context (i.e. POS or parts-of-speech) in order to perform the correct transformation. For example, the Word Net lemmatizer in NLTK yields different results with and without being told that was is a verb:\n",
    "\n",
    "from nltk.stem import WordNetLemmatizer\n",
    "\n",
    "lemmatizer = WordNetLemmatizer()\n",
    "\n",
    "lemmatizer.lemmatize('was')\n",
    "\n",
    "'wa'\n",
    "\n",
    "lemmatizer.lemmatize('runs', pos='v')\n",
    "\n",
    "'be'\n",
    "\n",
    "In your Jupyter Notebook, import the necessary libraries and define a function called stem_and_lemmatize that performs both stemming and lemmatization on a list of words. Don't worry about the POS part of lemmatization for now.\n"
   ]
  },
  {
   "cell_type": "code",
   "execution_count": 7,
   "metadata": {},
   "outputs": [
    {
     "name": "stdout",
     "output_type": "stream",
     "text": [
      "['greater', 'tree', 'most', 'number', 'use', 'word', 'in', 'a', 'consequ', 'that']\n",
      "['greater', 'tree', 'most', 'number', 'used', 'word', 'in', 'a', 'consequently', 'that']\n"
     ]
    }
   ],
   "source": [
    "from nltk.stem import SnowballStemmer\n",
    "from nltk.stem import WordNetLemmatizer\n",
    "\n",
    "def stem_and_lemmatize(l):\n",
    "\n",
    "    #from nltk.stem import PorterStemmer\n",
    "    #stemmer = PorterStemmer()\n",
    "    #stemmed = stemmer.stem(l)\n",
    "    #print(' '.join(stemmed))\n",
    "    \n",
    "    #from nltk.stem import SnowballStemmer\n",
    "    #stemmer = SnowballStemmer()\n",
    "    #stemmed = stemmer.stem(l)\n",
    "    #print(' '.join(stemmed))\n",
    "    \n",
    "    #from nltk.stem import LancasterStemmer\n",
    "    #stemmer = LancasterStemmer()\n",
    "    #stemmed = stemmer.stem(l)\n",
    "    #print(' '.join(stemmed))\n",
    "    \n",
    "    #from nltk.stem import RegexpStemmer\n",
    "    #stemmer = RegexpStemmer()\n",
    "    #stemmed = stemmer.stem(l)\n",
    "    #print(' '.join(stemmed))\n",
    "    \n",
    "    stemmer = SnowballStemmer('english', ignore_stopwords = True)\n",
    "    stem = []\n",
    "    for word in l:\n",
    "        stemmed = stemmer.stem(word)\n",
    "        stem.append(stemmed)\n",
    "    print(stem)\n",
    "    \n",
    "    lemmatizer = WordNetLemmatizer()\n",
    "    lemma = []\n",
    "    for word in l:\n",
    "        lemmas = (lemmatizer.lemmatize(word))\n",
    "        lemma.append(lemmas)\n",
    "    return print(lemma)\n",
    "\n",
    "stem_and_lemmatize(['greater', 'trees', 'most', 'numbers', 'used', 'words', 'in', 'a', 'consequently', 'that'])\n",
    "\n",
    "'''sentence = \"The striped bats are hanging on their feet for best\"\n",
    "\n",
    "word_list = nltk.word_tokenize(sentence)\n",
    "lemmatized_output = ' '.join([lemmatizer.lemmatize(w) for w in word_list])\n",
    "print(lemmatized_output)\n",
    "\n",
    "# Lemmatize with POS Tag\n",
    "from nltk.corpus import wordnet\n",
    "\n",
    "print(nltk.pos_tag(nltk.word_tokenize(sentence)))\n",
    "\n",
    "def get_wordnet_pos(word):\n",
    "    \"\"\"Map POS tag to first character lemmatize() accepts\"\"\"\n",
    "    tag = nltk.pos_tag([word])[0][1][0].upper()\n",
    "    tag_dict = {\"J\": wordnet.ADJ,\n",
    "                \"N\": wordnet.NOUN,\n",
    "                \"V\": wordnet.VERB,\n",
    "                \"R\": wordnet.ADV}\n",
    "\n",
    "    return tag_dict.get(tag, wordnet.NOUN)\n",
    "\n",
    "# 1. Init Lemmatizer\n",
    "lemmatizer = WordNetLemmatizer()\n",
    "\n",
    "# 2. Lemmatize Single Word with the appropriate POS tag\n",
    "word = 'feet'\n",
    "print(lemmatizer.lemmatize(word, get_wordnet_pos(word)))\n",
    "\n",
    "# 3. Lemmatize a Sentence with the appropriate POS tag\n",
    "sentence = \"The striped bats are hanging on their feet for best\"\n",
    "print([lemmatizer.lemmatize(w, get_wordnet_pos(w)) for w in nltk.word_tokenize(sentence)])\n",
    "#> ['The', 'strip', 'bat', 'be', 'hang', 'on', 'their', 'foot', 'for', 'best']'''"
   ]
  },
  {
   "cell_type": "markdown",
   "metadata": {},
   "source": [
    "Stop Words Removal\n",
    "\n",
    "Stop Words are the most commonly used words in a language that don't contribute to the main meaning of the texts. Examples of English stop words are i, me, is, and, the, but, and here. We want to remove stop words from analysis because otherwise stop words will take the overwhelming portion in our tokenized word list and the NLP algorithms will have problems in identifying the truely important words.\n",
    "\n",
    "NLTK has a stopwords package that allows us to import the most common stop words in over a dozen langauges including English, Spanish, French, German, Dutch, Portuguese, Italian, etc. These are the bare minimum stop words (100-150 words in each language) that can get beginners started. Some other NLP packages such as stop-words and wordcloud provide bigger lists of stop words.\n",
    "\n",
    "Now in your Jupyter Notebook, create a function called remove_stopwords that loop through a list of words that have been stemmed and lemmatized to check and remove stop words. Return a new list where stop words have been removed.\n"
   ]
  },
  {
   "cell_type": "code",
   "execution_count": 5,
   "metadata": {},
   "outputs": [
    {
     "name": "stdout",
     "output_type": "stream",
     "text": [
      "['This', 'sample', 'sentence', ',', 'showing', 'stop', 'words', 'filtration', '.']\n"
     ]
    }
   ],
   "source": [
    "from nltk.corpus import stopwords \n",
    "from nltk.tokenize import word_tokenize\n",
    "\n",
    "def remove_stopwords(l):\n",
    "    \n",
    "    stop_words = set(stopwords.words('english'))\n",
    "  \n",
    "    word_tokens = word_tokenize(l)\n",
    "  \n",
    "    filtered_sentence = [word for word in word_tokens if not word in stop_words]\n",
    "  \n",
    "    filtered_sentence = []\n",
    "  \n",
    "    for word in word_tokens: \n",
    "        if word not in stop_words: \n",
    "            filtered_sentence.append(word) \n",
    "\n",
    "    print(filtered_sentence)\n",
    "\n",
    "example = \"This is a sample sentence, showing off the stop words filtration.\"\n",
    "remove_stopwords(example)"
   ]
  },
  {
   "cell_type": "code",
   "execution_count": null,
   "metadata": {},
   "outputs": [],
   "source": []
  }
 ],
 "metadata": {
  "kernelspec": {
   "display_name": "Python 3",
   "language": "python",
   "name": "python3"
  },
  "language_info": {
   "codemirror_mode": {
    "name": "ipython",
    "version": 3
   },
   "file_extension": ".py",
   "mimetype": "text/x-python",
   "name": "python",
   "nbconvert_exporter": "python",
   "pygments_lexer": "ipython3",
   "version": "3.7.3"
  }
 },
 "nbformat": 4,
 "nbformat_minor": 2
}
