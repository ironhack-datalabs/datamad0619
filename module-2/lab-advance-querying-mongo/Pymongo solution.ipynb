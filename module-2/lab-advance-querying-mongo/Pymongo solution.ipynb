{
 "cells": [
  {
   "cell_type": "code",
   "execution_count": 6,
   "metadata": {},
   "outputs": [],
   "source": [
    "from pymongo import MongoClient\n",
    "\n",
    "client = MongoClient('mongodb://localhost:27017/')\n",
    "db = client.companies"
   ]
  },
  {
   "cell_type": "code",
   "execution_count": 7,
   "metadata": {},
   "outputs": [
    {
     "name": "stderr",
     "output_type": "stream",
     "text": [
      "/usr/local/lib/python3.7/site-packages/ipykernel_launcher.py:1: DeprecationWarning: collection_names is deprecated. Use list_collection_names instead.\n",
      "  \"\"\"Entry point for launching an IPython kernel.\n"
     ]
    },
    {
     "data": {
      "text/plain": [
       "['companies']"
      ]
     },
     "execution_count": 7,
     "metadata": {},
     "output_type": "execute_result"
    }
   ],
   "source": [
    "db.collection_names()"
   ]
  },
  {
   "cell_type": "code",
   "execution_count": 19,
   "metadata": {},
   "outputs": [
    {
     "name": "stdout",
     "output_type": "stream",
     "text": [
      "[{'name': 'Babelgum'}]\n"
     ]
    }
   ],
   "source": [
    "import pprint\n",
    "\n",
    "restaurantes = db.companies.find({'name': 'Babelgum'},{'name': 1, '_id':0})\n",
    "print(list(restaurantes))"
   ]
  },
  {
   "cell_type": "code",
   "execution_count": 38,
   "metadata": {},
   "outputs": [
    {
     "name": "stdout",
     "output_type": "stream",
     "text": [
      "[{'name': 'Siemens', 'number_of_employees': 405000}, {'name': 'IBM', 'number_of_employees': 388000}, {'name': 'Toyota', 'number_of_employees': 320000}, {'name': 'PayPal', 'number_of_employees': 300000}, {'name': 'Nippon Telegraph and Telephone Corporation', 'number_of_employees': 227000}, {'name': 'Samsung Electronics', 'number_of_employees': 221726}, {'name': 'Accenture', 'number_of_employees': 205000}, {'name': 'Tata Consultancy Services', 'number_of_employees': 200300}, {'name': 'Flextronics International', 'number_of_employees': 200000}, {'name': 'Safeway', 'number_of_employees': 186000}, {'name': 'Sony', 'number_of_employees': 180500}, {'name': 'LG', 'number_of_employees': 177000}, {'name': 'Ford', 'number_of_employees': 171000}, {'name': 'Boeing', 'number_of_employees': 160000}, {'name': 'Digital Equipment Corporation', 'number_of_employees': 140000}, {'name': 'Nokia', 'number_of_employees': 125000}, {'name': 'MItsubishi Electric', 'number_of_employees': 107000}, {'name': 'MItsubishi Electric', 'number_of_employees': 107000}, {'name': 'Comcast', 'number_of_employees': 100000}, {'name': 'Bertelsmann', 'number_of_employees': 100000}]\n"
     ]
    }
   ],
   "source": [
    "df = db.companies.find({'number_of_employees':{'$gt':5000}},{'name': 1, 'number_of_employees':1,'_id':0}).sort('number_of_employees', -1).limit(20)\n",
    "print(list(df))"
   ]
  },
  {
   "cell_type": "code",
   "execution_count": 41,
   "metadata": {},
   "outputs": [
    {
     "name": "stdout",
     "output_type": "stream",
     "text": [
      "[{'name': 'Wetpaint', 'founded_year': 2005}, {'name': 'Zoho', 'founded_year': 2005}, {'name': 'Digg', 'founded_year': 2004}, {'name': 'Omnidrive', 'founded_year': 2005}, {'name': 'Gizmoz', 'founded_year': 2003}, {'name': 'StumbleUpon', 'founded_year': 2002}, {'name': 'Helio', 'founded_year': 2005}, {'name': 'Facebook', 'founded_year': 2004}, {'name': 'Plaxo', 'founded_year': 2002}, {'name': 'Technorati', 'founded_year': 2002}, {'name': 'AddThis', 'founded_year': 2004}, {'name': 'Veoh', 'founded_year': 2004}, {'name': 'Jingle Networks', 'founded_year': 2005}, {'name': 'LifeLock', 'founded_year': 2005}, {'name': 'Meetup', 'founded_year': 2002}, {'name': 'Wesabe', 'founded_year': 2005}, {'name': 'Jangl SMS', 'founded_year': 2005}, {'name': 'SmugMug', 'founded_year': 2002}, {'name': 'Jajah', 'founded_year': 2005}, {'name': 'YouTube', 'founded_year': 2005}]\n"
     ]
    }
   ],
   "source": [
    "df = db.companies.find({ '$and': [{'founded_year':{'$gte':2000}},{'founded_year':{'$lte':2005}}]},{'name':1 , 'founded_year':1,'_id':0}).limit(20)\n",
    "print(list(df))"
   ]
  },
  {
   "cell_type": "code",
   "execution_count": 42,
   "metadata": {},
   "outputs": [
    {
     "name": "stdout",
     "output_type": "stream",
     "text": [
      "[{'name': 'Facebook', 'ipo': {'valuation_amount': 104000000000, 'valuation_currency_code': 'USD', 'pub_year': 2012, 'pub_month': 5, 'pub_day': 18, 'stock_symbol': 'NASDAQ:FB'}}, {'name': 'Twitter', 'ipo': {'valuation_amount': 18100000000, 'valuation_currency_code': 'USD', 'pub_year': 2013, 'pub_month': 11, 'pub_day': 7, 'stock_symbol': 'NYSE:TWTR'}}, {'name': 'Yelp', 'ipo': {'valuation_amount': 1300000000, 'valuation_currency_code': 'USD', 'pub_year': 2012, 'pub_month': 3, 'pub_day': 2, 'stock_symbol': 'NYSE:YELP'}}, {'name': 'LinkedIn', 'ipo': {'valuation_amount': 9310000000, 'valuation_currency_code': 'USD', 'pub_year': 2011, 'pub_month': 7, 'pub_day': 20, 'stock_symbol': 'NYSE:LNKD'}}, {'name': 'Amazon', 'ipo': {'valuation_amount': 100000000000, 'valuation_currency_code': 'USD', 'pub_year': 1997, 'pub_month': 5, 'pub_day': None, 'stock_symbol': 'NASDAQ:AMZN'}}, {'name': 'Brightcove', 'ipo': {'valuation_amount': 290000000, 'valuation_currency_code': 'USD', 'pub_year': 2012, 'pub_month': 2, 'pub_day': 17, 'stock_symbol': 'NASDAQ:BCOV'}}, {'name': 'KIT digital', 'ipo': {'valuation_amount': 235000000, 'valuation_currency_code': 'USD', 'pub_year': 2010, 'pub_month': 7, 'pub_day': 27, 'stock_symbol': 'KITD'}}, {'name': 'Nielsen', 'ipo': {'valuation_amount': 1600000000, 'valuation_currency_code': 'USD', 'pub_year': 2011, 'pub_month': 1, 'pub_day': 26, 'stock_symbol': 'NYSE:NLSN'}}, {'name': 'OpenTable', 'ipo': {'valuation_amount': 1050000000, 'valuation_currency_code': 'USD', 'pub_year': 2009, 'pub_month': 5, 'pub_day': 21, 'stock_symbol': 'NASDAQ:OPEN'}}, {'name': 'ChannelAdvisor', 'ipo': {'valuation_amount': 287000000, 'valuation_currency_code': 'USD', 'pub_year': 2013, 'pub_month': 5, 'pub_day': 23, 'stock_symbol': 'NYSE:ECOM'}}, {'name': 'Jive Software', 'ipo': {'valuation_amount': 1000000000, 'valuation_currency_code': 'USD', 'pub_year': 2012, 'pub_month': 2, 'pub_day': 3, 'stock_symbol': 'NASDAQ:JIVE'}}, {'name': 'Zillow', 'ipo': {'valuation_amount': 2550000000, 'valuation_currency_code': 'USD', 'pub_year': 2011, 'pub_month': 7, 'pub_day': 19, 'stock_symbol': 'NASDAQ:Z'}}, {'name': 'Wix', 'ipo': {'valuation_amount': 750000000, 'valuation_currency_code': 'USD', 'pub_year': 2013, 'pub_month': 11, 'pub_day': 6, 'stock_symbol': 'NASDAQ:WIX'}}, {'name': 'Shutterfly', 'ipo': {'valuation_amount': 350000000, 'valuation_currency_code': 'USD', 'pub_year': 2006, 'pub_month': 9, 'pub_day': 29, 'stock_symbol': 'SFLY'}}, {'name': 'TripAdvisor', 'ipo': {'valuation_amount': 3273770000, 'valuation_currency_code': 'USD', 'pub_year': 2011, 'pub_month': 12, 'pub_day': 21, 'stock_symbol': 'TRIP'}}, {'name': 'Salesforce', 'ipo': {'valuation_amount': 110000000, 'valuation_currency_code': 'USD', 'pub_year': 2004, 'pub_month': 7, 'pub_day': 2, 'stock_symbol': 'NYSE:CRM'}}, {'name': 'HomeAway', 'ipo': {'valuation_amount': 3000000000, 'valuation_currency_code': 'USD', 'pub_year': 2011, 'pub_month': 6, 'pub_day': 29, 'stock_symbol': 'NASDAQ:AWAY'}}, {'name': 'QuinStreet', 'ipo': {'valuation_amount': 140000000, 'valuation_currency_code': 'USD', 'pub_year': 2010, 'pub_month': 1, 'pub_day': 11, 'stock_symbol': 'NASDAQ:QNST'}}, {'name': 'Rackspace', 'ipo': {'valuation_amount': 5440000000, 'valuation_currency_code': 'USD', 'pub_year': 2011, 'pub_month': 11, 'pub_day': 7, 'stock_symbol': 'RAX'}}, {'name': 'BMC Software', 'ipo': {'valuation_amount': 6000000000, 'valuation_currency_code': 'USD', 'pub_year': 1988, 'pub_month': 8, 'pub_day': 12, 'stock_symbol': 'NASDAQ:BMC'}}]\n"
     ]
    }
   ],
   "source": [
    "df = db.companies.find({'$and': [{\"ipo.valuation_amount\":{'$gt':100000000}},{'founded_year':{'$lt':2010}}]},{'name':1 , 'ipo':1,'_id':0}).limit(20)\n",
    "print(list(df))"
   ]
  },
  {
   "cell_type": "code",
   "execution_count": 45,
   "metadata": {},
   "outputs": [
    {
     "name": "stdout",
     "output_type": "stream",
     "text": [
      "[{'name': 'Infinera Corporation', 'number_of_employees': 974}, {'name': 'NorthPoint Communications Group', 'number_of_employees': 948}, {'name': '888 Holdings', 'number_of_employees': 931}, {'name': 'Forrester Research', 'number_of_employees': 903}, {'name': 'SonicWALL', 'number_of_employees': 900}, {'name': 'Webmetrics', 'number_of_employees': 900}, {'name': 'Cornerstone OnDemand', 'number_of_employees': 881}, {'name': 'Yelp', 'number_of_employees': 800}, {'name': 'ZoomInfo', 'number_of_employees': 800}, {'name': 'MySpace', 'number_of_employees': 800}]\n"
     ]
    }
   ],
   "source": [
    "df = db.companies.find({'$and': [{'number_of_employees':{'$lt':1000}},{'founded_year':{'$lt':2005}}]},{'name':1 , 'number_of_employees':1,'_id':0}).sort('number_of_employees',-1).limit(10)\n",
    "print(list(df))"
   ]
  },
  {
   "cell_type": "code",
   "execution_count": 54,
   "metadata": {},
   "outputs": [
    {
     "name": "stdout",
     "output_type": "stream",
     "text": [
      "[{'name': 'AdventNet', 'partners': []}, {'name': 'Wetpaint', 'partners': []}, {'name': 'Zoho', 'partners': []}, {'name': 'Digg', 'partners': []}, {'name': 'Omnidrive', 'partners': []}, {'name': 'Postini', 'partners': []}, {'name': 'Flektor', 'partners': []}, {'name': 'Geni', 'partners': []}, {'name': 'Fox Interactive Media', 'partners': []}, {'name': 'Gizmoz', 'partners': []}, {'name': 'StumbleUpon', 'partners': []}, {'name': 'Scribd', 'partners': []}, {'name': 'Lala', 'partners': []}, {'name': 'Slacker', 'partners': []}, {'name': 'Helio', 'partners': []}, {'name': 'MeetMoi', 'partners': []}, {'name': 'Joost', 'partners': []}, {'name': 'CBS', 'partners': []}, {'name': 'Facebook', 'partners': []}, {'name': 'Viacom', 'partners': []}]\n"
     ]
    }
   ],
   "source": [
    "df = db.companies.find({'partners':{'$exists': 'false'}},{'name':1 , 'partners':1,'_id':0}).limit(20)\n",
    "print(list(df))"
   ]
  },
  {
   "cell_type": "code",
   "execution_count": null,
   "metadata": {},
   "outputs": [],
   "source": []
  }
 ],
 "metadata": {
  "kernelspec": {
   "display_name": "Python 3",
   "language": "python",
   "name": "python3"
  },
  "language_info": {
   "codemirror_mode": {
    "name": "ipython",
    "version": 3
   },
   "file_extension": ".py",
   "mimetype": "text/x-python",
   "name": "python",
   "nbconvert_exporter": "python",
   "pygments_lexer": "ipython3",
   "version": "3.7.3"
  }
 },
 "nbformat": 4,
 "nbformat_minor": 2
}
