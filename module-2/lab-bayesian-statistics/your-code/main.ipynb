{
 "cells": [
  {
   "cell_type": "markdown",
   "metadata": {},
   "source": [
    "# Intro to Bayesian Statistics Lab\n",
    "\n",
    "Complete the following set of exercises to solidify your knowledge of Bayesian statistics and Bayesian data analysis."
   ]
  },
  {
   "cell_type": "code",
   "execution_count": 114,
   "metadata": {},
   "outputs": [],
   "source": [
    "import pandas as pd\n",
    "import numpy as np\n",
    "import matplotlib.pyplot as plt"
   ]
  },
  {
   "cell_type": "markdown",
   "metadata": {},
   "source": [
    "## 1. Cookie Problem\n",
    "\n",
    "Suppose we have two bowls of cookies. Bowl 1 contains 30 vanilla cookies and 10 chocolate cookies. Bowl 2 contains 20 of each. You randomly pick one cookie out of one of the bowls, and it is vanilla. Use Bayes Theorem to calculate the probability that the vanilla cookie you picked came from Bowl 1?"
   ]
  },
  {
   "cell_type": "code",
   "execution_count": 115,
   "metadata": {},
   "outputs": [],
   "source": [
    "priors = [1/2,1/2] \n",
    "total = 40\n",
    "likelihoods_vanilla = [30/total, 20/total]"
   ]
  },
  {
   "cell_type": "code",
   "execution_count": 116,
   "metadata": {},
   "outputs": [],
   "source": [
    "def bayes(priors, likelihoods):\n",
    "    marg = sum(np.multiply(priors, likelihoods)) \n",
    "    prob = np.divide(np.multiply(priors,likelihoods), marg) \n",
    "    return \"The probability that vanilla cookie came from Bowl 1 is {} and from Bowl 2 is {}\".format(prob[0], prob[1])"
   ]
  },
  {
   "cell_type": "code",
   "execution_count": 117,
   "metadata": {},
   "outputs": [
    {
     "data": {
      "text/plain": [
       "'The probability that vanilla cookie came from Bowl 1 is 0.6 and from Bowl 2 is 0.4'"
      ]
     },
     "execution_count": 117,
     "metadata": {},
     "output_type": "execute_result"
    }
   ],
   "source": [
    "bayes(priors, likelihoods_vanilla)"
   ]
  },
  {
   "cell_type": "markdown",
   "metadata": {},
   "source": [
    "What is the probability that it came from Bowl 2?"
   ]
  },
  {
   "cell_type": "code",
   "execution_count": 118,
   "metadata": {},
   "outputs": [],
   "source": [
    "#0.4"
   ]
  },
  {
   "cell_type": "markdown",
   "metadata": {},
   "source": [
    "What if the cookie you had picked was chocolate? What are the probabilities that the chocolate cookie came from Bowl 1 and Bowl 2 respectively?"
   ]
  },
  {
   "cell_type": "code",
   "execution_count": 119,
   "metadata": {},
   "outputs": [],
   "source": [
    "priors = [1/2,1/2] \n",
    "total = 40\n",
    "likelihoods_choco = [10/total, 20/total]"
   ]
  },
  {
   "cell_type": "code",
   "execution_count": 120,
   "metadata": {},
   "outputs": [],
   "source": [
    "def bayes2(priors, likelihoods):\n",
    "    marg = sum(np.multiply(priors, likelihoods)) \n",
    "    prob = np.divide(np.multiply(priors,likelihoods), marg) \n",
    "    return \"The probability that chocolate cookie came from Bowl 1 is {} and from Bowl 2 is {}\".format(prob[0], prob[1])"
   ]
  },
  {
   "cell_type": "code",
   "execution_count": 121,
   "metadata": {},
   "outputs": [
    {
     "data": {
      "text/plain": [
       "'The probability that chocolate cookie came from Bowl 1 is 0.3333333333333333 and from Bowl 2 is 0.6666666666666666'"
      ]
     },
     "execution_count": 121,
     "metadata": {},
     "output_type": "execute_result"
    }
   ],
   "source": [
    "bayes2(priors, likelihoods_choco)"
   ]
  },
  {
   "cell_type": "markdown",
   "metadata": {},
   "source": [
    "## 2. Candy Problem\n",
    "\n",
    "Suppose you have two bags of candies:\n",
    "\n",
    "- In Bag 1, the mix of colors is:\n",
    "    - Brown - 30%\n",
    "    - Yellow - 20%\n",
    "    - Red - 20%\n",
    "    - Green - 10%\n",
    "    - Orange - 10%\n",
    "    - Tan - 10%\n",
    "    \n",
    "- In Bag 2, the mix of colors is:\n",
    "    - Blue - 24%\n",
    "    - Green - 20%\n",
    "    - Orange - 16%\n",
    "    - Yellow - 14%\n",
    "    - Red - 13%\n",
    "    - Brown - 13%\n",
    "    \n",
    "Not knowing which bag is which, you randomly draw one candy from each bag. One is yellow and one is green. What is the probability that the yellow one came from the Bag 1?\n",
    "\n",
    "*Hint: For the likelihoods, you will need to multiply the probabilities of drawing yellow from one bag and green from the other bag and vice versa.*"
   ]
  },
  {
   "cell_type": "code",
   "execution_count": 129,
   "metadata": {},
   "outputs": [],
   "source": [
    "#p(A) que sea de una bolsa\n",
    "#p(B) que sea de ese color dentro de la bolsa\n",
    "#likelihood. Probabilidad de amarillo en bolsa 1 x verde en bolsa 2, verde 1 y amarillo 2"
   ]
  },
  {
   "cell_type": "code",
   "execution_count": 161,
   "metadata": {},
   "outputs": [],
   "source": [
    "priors = [1/2,1/2] \n",
    "likelihoods_yellow = [(20/100*20/100), (10/100*14/100)]"
   ]
  },
  {
   "cell_type": "code",
   "execution_count": 162,
   "metadata": {},
   "outputs": [],
   "source": [
    "def bayes3(priors, likelihoods):\n",
    "    marg = sum(np.multiply(priors, likelihoods)) \n",
    "    prob = np.divide(np.multiply(priors,likelihoods), marg) \n",
    "    return \"The probability that yellow candy came from Bowl 1 is {}\".format(prob[0])"
   ]
  },
  {
   "cell_type": "code",
   "execution_count": 163,
   "metadata": {},
   "outputs": [
    {
     "data": {
      "text/plain": [
       "'The probability that yellow candy came from Bowl 1 is 0.7407407407407407'"
      ]
     },
     "execution_count": 163,
     "metadata": {},
     "output_type": "execute_result"
    }
   ],
   "source": [
    "bayes3(priors, likelihoods_yellow)"
   ]
  },
  {
   "cell_type": "markdown",
   "metadata": {},
   "source": [
    "What is the probability that the yellow candy came from Bag 2?"
   ]
  },
  {
   "cell_type": "code",
   "execution_count": 170,
   "metadata": {},
   "outputs": [],
   "source": [
    "priors = [1/2,1/2] \n",
    "likelihoods_yellow_2 = [(14/100*10/100), (20/100*20/100)]"
   ]
  },
  {
   "cell_type": "code",
   "execution_count": 171,
   "metadata": {},
   "outputs": [],
   "source": [
    "def bayes3(priors, likelihoods):\n",
    "    marg = sum(np.multiply(priors, likelihoods)) \n",
    "    prob = np.divide(np.multiply(priors,likelihoods), marg) \n",
    "    return \"The probability that yellow candy came from Bowl 2 is {}\".format(prob[0])"
   ]
  },
  {
   "cell_type": "code",
   "execution_count": 172,
   "metadata": {},
   "outputs": [
    {
     "data": {
      "text/plain": [
       "'The probability that yellow candy came from Bowl 2 is 0.25925925925925924'"
      ]
     },
     "execution_count": 172,
     "metadata": {},
     "output_type": "execute_result"
    }
   ],
   "source": [
    "bayes3(priors, likelihoods_yellow_2)"
   ]
  },
  {
   "cell_type": "markdown",
   "metadata": {},
   "source": [
    "What are the probabilities that the green one came from Bag 1 and Bag 2 respectively?"
   ]
  },
  {
   "cell_type": "code",
   "execution_count": 173,
   "metadata": {},
   "outputs": [],
   "source": [
    "priors = [1/2,1/2] \n",
    "likelihoods_green = [(10/100*14/100), (20/100*20/100)]"
   ]
  },
  {
   "cell_type": "code",
   "execution_count": 174,
   "metadata": {},
   "outputs": [],
   "source": [
    "def bayes3(priors, likelihoods):\n",
    "    marg = sum(np.multiply(priors, likelihoods)) \n",
    "    prob = np.divide(np.multiply(priors,likelihoods), marg) \n",
    "    return \"The probability that green candy came from Bowl 1 is {} and from Bowl 2 is {}\".format(prob[0], prob[1])"
   ]
  },
  {
   "cell_type": "code",
   "execution_count": 175,
   "metadata": {},
   "outputs": [
    {
     "data": {
      "text/plain": [
       "'The probability that green candy came from Bowl 1 is 0.25925925925925924 and from Bowl 2 is 0.7407407407407407'"
      ]
     },
     "execution_count": 175,
     "metadata": {},
     "output_type": "execute_result"
    }
   ],
   "source": [
    "bayes3(priors, likelihoods_green)"
   ]
  },
  {
   "cell_type": "markdown",
   "metadata": {},
   "source": [
    "## 3. Monty Hall Problem\n",
    "\n",
    "Suppose you are a contestant on the popular game show *Let's Make a Deal*. The host of the show (Monty Hall) presents you with three doors - Door A, Door B, and Door C. He tells you that there is a sports car behind one of them and if you choose the correct one, you win the car!\n",
    "\n",
    "You select Door A, but then Monty makes things a little more interesting. He opens Door B to reveal that there is no sports car behind it and asks you if you would like to stick with your choice of Door A or switch your choice to Door C. Given this new information, what are the probabilities of you winning the car if you stick with Door A versus if you switch to Door C?"
   ]
  },
  {
   "cell_type": "code",
   "execution_count": 228,
   "metadata": {},
   "outputs": [],
   "source": [
    "priors = [1/3, 1/3, 1/3] \n",
    "likelihoods = [1/3, 1/3, 1/3]"
   ]
  },
  {
   "cell_type": "code",
   "execution_count": 229,
   "metadata": {},
   "outputs": [],
   "source": [
    "def bayes3(priors, likelihoods):\n",
    "    marg = sum(np.multiply(priors, likelihoods)) \n",
    "    prob = np.divide(np.multiply(priors,likelihoods), marg) \n",
    "    return \"The probability is {}\".format(prob)"
   ]
  },
  {
   "cell_type": "code",
   "execution_count": 230,
   "metadata": {},
   "outputs": [
    {
     "data": {
      "text/plain": [
       "'The probability is [0.33333333 0.33333333 0.33333333]'"
      ]
     },
     "execution_count": 230,
     "metadata": {},
     "output_type": "execute_result"
    }
   ],
   "source": [
    "bayes3(priors, likelihoods)\n",
    "\n",
    "#La probabilidad de cada puerta al inicio es 0.33..."
   ]
  },
  {
   "cell_type": "code",
   "execution_count": 231,
   "metadata": {},
   "outputs": [],
   "source": [
    "priors = [1/3, 1/3, 1/3] \n",
    "likelihoods = [1/3, 0, (1-1/3-0)]"
   ]
  },
  {
   "cell_type": "code",
   "execution_count": 232,
   "metadata": {},
   "outputs": [],
   "source": [
    "def bayes3(priors, likelihoods):\n",
    "    marg = sum(np.multiply(priors, likelihoods)) \n",
    "    prob = np.divide(np.multiply(priors,likelihoods), marg) \n",
    "    return \"The probability of winning with Door selected is {}, Door opened before is {} and new door is {} \".format(prob[0], prob[1], prob[2])\n",
    "\n",
    "# La probabilidad de la primera puerta sigue siendo 1/3, la puerta siguiente pasa a ser 2/3"
   ]
  },
  {
   "cell_type": "code",
   "execution_count": 233,
   "metadata": {},
   "outputs": [
    {
     "data": {
      "text/plain": [
       "'The probability of winning with Door selected is 0.33333333333333326, Door opened before is 0.0 and new door is 0.6666666666666666 '"
      ]
     },
     "execution_count": 233,
     "metadata": {},
     "output_type": "execute_result"
    }
   ],
   "source": [
    "bayes3(priors, likelihoods)\n",
    "\n",
    "#La probabilidad de la segunda puerta es 0.66... mientras que la primera sigue siendo 0.33..."
   ]
  },
  {
   "cell_type": "markdown",
   "metadata": {},
   "source": [
    "## 4. Bayesian Analysis \n",
    "\n",
    "Suppose you work for a landscaping company, and they want to advertise their service online. They create an ad and sit back waiting for the money to roll in. On the first day, the ad sends 100 visitors to the site and 14 of them sign up for landscaping services. Create a generative model to come up with the posterior distribution and produce a visualization of what the posterior distribution would look like given the observed data."
   ]
  },
  {
   "cell_type": "code",
   "execution_count": 283,
   "metadata": {},
   "outputs": [],
   "source": [
    "n_visitors = 100\n",
    "n_sign = 14"
   ]
  },
  {
   "cell_type": "code",
   "execution_count": 284,
   "metadata": {},
   "outputs": [
    {
     "data": {
      "image/png": "[encoded data removed]",
      "text/plain": [
       "<Figure size 432x288 with 1 Axes>"
      ]
     },
     "metadata": {
      "needs_background": "light"
     },
     "output_type": "display_data"
    }
   ],
   "source": [
    "number = 100000 #Primero crear una distribución uniforme random\n",
    "\n",
    "prior = pd.Series(np.random.uniform(0,1, number))\n",
    "prior.hist();"
   ]
  },
  {
   "cell_type": "code",
   "execution_count": 292,
   "metadata": {},
   "outputs": [],
   "source": [
    "simulation = np.random.binomial(n_visitors, prior) #Generacion aleatoria de visitantes"
   ]
  },
  {
   "cell_type": "code",
   "execution_count": 294,
   "metadata": {},
   "outputs": [],
   "source": [
    "posterior_distribution = prior[[i for i, x in enumerate(simulation) if x==n_sign]] "
   ]
  },
  {
   "cell_type": "code",
   "execution_count": 295,
   "metadata": {},
   "outputs": [
    {
     "data": {
      "image/png": "[encoded data removed]",
      "text/plain": [
       "<Figure size 432x288 with 1 Axes>"
      ]
     },
     "metadata": {
      "needs_background": "light"
     },
     "output_type": "display_data"
    }
   ],
   "source": [
    "posterior_distribution.hist(); \n",
    "\n",
    "#En un entorno de 15% de probabilidad lo normal es que compren 14 de 100."
   ]
  },
  {
   "cell_type": "markdown",
   "metadata": {},
   "source": [
    "Produce a set of descriptive statistics for the posterior distribution."
   ]
  },
  {
   "cell_type": "code",
   "execution_count": 298,
   "metadata": {},
   "outputs": [
    {
     "data": {
      "text/plain": [
       "count    976.000000\n",
       "mean       0.145415\n",
       "std        0.033744\n",
       "min        0.054915\n",
       "25%        0.121435\n",
       "50%        0.143927\n",
       "75%        0.166450\n",
       "max        0.271182\n",
       "dtype: float64"
      ]
     },
     "execution_count": 298,
     "metadata": {},
     "output_type": "execute_result"
    }
   ],
   "source": [
    "posterior_distribution.describe()"
   ]
  },
  {
   "cell_type": "markdown",
   "metadata": {},
   "source": [
    "What is the 90% credible interval range?"
   ]
  },
  {
   "cell_type": "code",
   "execution_count": 312,
   "metadata": {},
   "outputs": [
    {
     "data": {
      "text/plain": [
       "'The 90% credible interval range is between 0.09317971470752032 and 0.20614099016776213'"
      ]
     },
     "execution_count": 312,
     "metadata": {},
     "output_type": "execute_result"
    }
   ],
   "source": [
    "#90% interval range es entre el percentil 5 al 95.\n",
    "\n",
    "\"The 90% credible interval range is between {} and {}\".format(posterior_distribution.quantile(.05), posterior_distribution.quantile(.95))"
   ]
  },
  {
   "cell_type": "markdown",
   "metadata": {},
   "source": [
    "What is the Maximum Likelihood Estimate?"
   ]
  },
  {
   "cell_type": "code",
   "execution_count": 317,
   "metadata": {},
   "outputs": [],
   "source": [
    "rounded = posterior_distribution.round(2)"
   ]
  },
  {
   "cell_type": "code",
   "execution_count": 342,
   "metadata": {},
   "outputs": [],
   "source": [
    "mode = rounded.mode()[0]"
   ]
  },
  {
   "cell_type": "code",
   "execution_count": 341,
   "metadata": {},
   "outputs": [],
   "source": [
    "prob = len(rounded[rounded == mode]) / len(rounded)"
   ]
  },
  {
   "cell_type": "code",
   "execution_count": 344,
   "metadata": {},
   "outputs": [
    {
     "name": "stdout",
     "output_type": "stream",
     "text": [
      "The Maximum Likelihood Estimate is 0.15 and its probability is 0.12295081967213115\n"
     ]
    }
   ],
   "source": [
    "print('The Maximum Likelihood Estimate is {} and its probability is {}'.format(mode, prob))"
   ]
  }
 ],
 "metadata": {
  "kernelspec": {
   "display_name": "Python 3",
   "language": "python",
   "name": "python3"
  },
  "language_info": {
   "codemirror_mode": {
    "name": "ipython",
    "version": 3
   },
   "file_extension": ".py",
   "mimetype": "text/x-python",
   "name": "python",
   "nbconvert_exporter": "python",
   "pygments_lexer": "ipython3",
   "version": "3.7.3"
  }
 },
 "nbformat": 4,
 "nbformat_minor": 2
}
