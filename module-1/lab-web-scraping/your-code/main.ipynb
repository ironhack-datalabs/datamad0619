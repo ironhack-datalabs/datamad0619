{
 "cells": [
  {
   "cell_type": "markdown",
   "metadata": {},
   "source": [
    "# Web Scraping Lab\n",
    "\n",
    "You will find in this notebook some scrapy exercises to practise your scraping skills.\n",
    "\n",
    "**Tips:**\n",
    "\n",
    "- Check the response status code for each request to ensure you have obtained the intended contennt.\n",
    "- Print the response text in each request to understand the kind of info you are getting and its format.\n",
    "- Check for patterns in the response text to extract the data/info requested in each question.\n",
    "- Visit each url and take a look at its source through Chrome DevTools. You'll need to identify the html tags, special class names etc. used for the html content you are expected to extract."
   ]
  },
  {
   "cell_type": "markdown",
   "metadata": {},
   "source": [
    "- [Requests library](http://docs.python-requests.org/en/master/#the-user-guide) documentation \n",
    "- [Beautiful Soup Doc](https://www.crummy.com/software/BeautifulSoup/bs4/doc/)\n",
    "- [Urllib](https://docs.python.org/3/library/urllib.html#module-urllib)\n",
    "- [re lib](https://docs.python.org/3/library/re.html)\n",
    "- [lxml lib](https://lxml.de/)\n",
    "- [Scrapy](https://scrapy.org/)\n",
    "- [List of HTTP status codes](https://en.wikipedia.org/wiki/List_of_HTTP_status_codes)\n",
    "- [HTML basics](http://www.simplehtmlguide.com/cheatsheet.php)\n",
    "- [CSS basics](https://www.cssbasics.com/#page_start)"
   ]
  },
  {
   "cell_type": "markdown",
   "metadata": {},
   "source": [
    "#### Below are the libraries and modules you may need. `requests`,  `BeautifulSoup` and `pandas` are imported for you. If you prefer to use additional libraries feel free to uncomment them."
   ]
  },
  {
   "cell_type": "code",
   "execution_count": 1,
   "metadata": {},
   "outputs": [],
   "source": [
    "import requests as req\n",
    "from bs4 import BeautifulSoup\n",
    "import pandas as pd\n",
    "# from pprint import pprint\n",
    "# from lxml import html\n",
    "# from lxml.html import fromstring\n",
    "# import urllib.request\n",
    "# from urllib.request import urlopen\n",
    "# import random\n",
    "# import re\n",
    "# import scrapy"
   ]
  },
  {
   "cell_type": "markdown",
   "metadata": {},
   "source": [
    "#### Download, parse (using BeautifulSoup), and print the content from the Trending Developers page from GitHub:"
   ]
  },
  {
   "cell_type": "code",
   "execution_count": 2,
   "metadata": {},
   "outputs": [],
   "source": [
    "# This is the url you will scrape in this exercise\n",
    "url = 'https://github.com/trending/developers'"
   ]
  },
  {
   "cell_type": "code",
   "execution_count": 3,
   "metadata": {},
   "outputs": [],
   "source": [
    "res = req.get(url)\n",
    "#res.text"
   ]
  },
  {
   "cell_type": "markdown",
   "metadata": {},
   "source": [
    "#### Display the names of the trending developers retrieved in the previous step.\n",
    "\n",
    "Your output should be a Python list of developer names. Each name should not contain any html tag.\n",
    "\n",
    "**Instructions:**\n",
    "\n",
    "1. Find out the html tag and class names used for the developer names. You can achieve this using Chrome DevTools.\n",
    "\n",
    "1. Use BeautifulSoup to extract all the html elements that contain the developer names.\n",
    "\n",
    "1. Use string manipulation techniques to replace whitespaces and linebreaks (i.e. `\\n`) in the *text* of each html element. Use a list to store the clean names.\n",
    "\n",
    "1. Print the list of names.\n",
    "\n",
    "Your output should look like below:\n",
    "\n",
    "```\n",
    "['trimstray (@trimstray)',\n",
    " 'joewalnes (JoeWalnes)',\n",
    " 'charlax (Charles-AxelDein)',\n",
    " 'ForrestKnight (ForrestKnight)',\n",
    " 'revery-ui (revery-ui)',\n",
    " 'alibaba (Alibaba)',\n",
    " 'Microsoft (Microsoft)',\n",
    " 'github (GitHub)',\n",
    " 'facebook (Facebook)',\n",
    " 'boazsegev (Bo)',\n",
    " 'google (Google)',\n",
    " 'cloudfetch',\n",
    " 'sindresorhus (SindreSorhus)',\n",
    " 'tensorflow',\n",
    " 'apache (TheApacheSoftwareFoundation)',\n",
    " 'DevonCrawford (DevonCrawford)',\n",
    " 'ARMmbed (ArmMbed)',\n",
    " 'vuejs (vuejs)',\n",
    " 'fastai (fast.ai)',\n",
    " 'QiShaoXuan (Qi)',\n",
    " 'joelparkerhenderson (JoelParkerHenderson)',\n",
    " 'torvalds (LinusTorvalds)',\n",
    " 'CyC2018',\n",
    " 'komeiji-satori (神楽坂覚々)',\n",
    " 'script-8']\n",
    " ```"
   ]
  },
  {
   "cell_type": "code",
   "execution_count": 4,
   "metadata": {},
   "outputs": [
    {
     "data": {
      "text/plain": [
       "['Carl Lerche (carllerche)',\n",
       " 'typicode (typicode)',\n",
       " 'David Fowler (davidfowl)',\n",
       " 'Andrew Duthie (aduth)',\n",
       " 'Chrissy LeMaire (potatoqualitee)',\n",
       " 'Evan Purkhiser (EvanPurkhiser)',\n",
       " 'Peter Bourgon (peterbourgon)',\n",
       " 'Luke Latham (guardrex)',\n",
       " 'Alex Ellis (alexellis)',\n",
       " 'Philipp Oppermann (phil-opp)',\n",
       " 'Richard Knop (RichardKnop)',\n",
       " 'Jared Palmer (jaredpalmer)',\n",
       " 'Mike Jolley (mikejolley)',\n",
       " 'Jason Quense (jquense)',\n",
       " 'Aaron Turner (torch2424)',\n",
       " 'Nikita Sobolev (sobolevn)',\n",
       " 'ChangJoo Park(박창주) (ChangJoo-Park)',\n",
       " 'Gregor Martynus (gr2m)',\n",
       " 'Aymeric Augustin (aaugustin)',\n",
       " 'Matthew Leibowitz (mattleibow)',\n",
       " 'Miek Gieben (miekg)',\n",
       " 'Evan Bacon (EvanBacon)',\n",
       " 'Daniel Agar (dagar)',\n",
       " 'Laurent Cozic (laurent22)',\n",
       " 'Jason Miller (developit)']"
      ]
     },
     "metadata": {},
     "output_type": "display_data"
    }
   ],
   "source": [
    "#your code\n",
    "# https://www.crummy.com/software/BeautifulSoup/bs4/doc/\n",
    "from bs4 import BeautifulSoup\n",
    "soup = BeautifulSoup(res.text, 'html.parser')\n",
    "bs = []\n",
    "\n",
    "for lst in soup.select('h1[class=\"h3 lh-condensed\"] a'):\n",
    "    bs.append(str(lst.get_text())+\" \"+\"(\"+(str(lst.get(\"href\"))).lstrip('/')+')')\n",
    "display(bs)\n",
    "              "
   ]
  },
  {
   "cell_type": "markdown",
   "metadata": {},
   "source": [
    "#### Display the trending Python repositories in GitHub\n",
    "\n",
    "The steps to solve this problem is similar to the previous one except that you need to find out the repository names instead of developer names."
   ]
  },
  {
   "cell_type": "code",
   "execution_count": 5,
   "metadata": {},
   "outputs": [],
   "source": [
    "# This is the url you will scrape in this exercise\n",
    "url = 'https://github.com/trending/python?since=daily'"
   ]
  },
  {
   "cell_type": "code",
   "execution_count": 6,
   "metadata": {},
   "outputs": [],
   "source": [
    "res = req.get(url)\n",
    "#res.text"
   ]
  },
  {
   "cell_type": "code",
   "execution_count": 7,
   "metadata": {},
   "outputs": [
    {
     "data": {
      "text/plain": [
       "['leisurelicht',\n",
       " 'soimort',\n",
       " 'bokeh',\n",
       " 'fox-it',\n",
       " 'spesmilo',\n",
       " 'raspberrypi',\n",
       " 'dask',\n",
       " 'zalandoresearch',\n",
       " 'TheresAFewConors',\n",
       " 'ZhuiyiTechnology',\n",
       " 'docker',\n",
       " 'satwikkansal',\n",
       " 'matterport',\n",
       " 'reiinakano',\n",
       " 'machinelearningmindset',\n",
       " 'USTC-Resource',\n",
       " 'my8100',\n",
       " 'Neo23x0',\n",
       " 'locustio',\n",
       " 'microsoft',\n",
       " 'tzutalin',\n",
       " 'dmlc',\n",
       " 'PySimpleGUI',\n",
       " 'google-research',\n",
       " 'LaQuay']"
      ]
     },
     "metadata": {},
     "output_type": "display_data"
    }
   ],
   "source": [
    "from bs4 import BeautifulSoup\n",
    "soup = BeautifulSoup(res.text, 'html.parser')\n",
    "bsnames = []\n",
    "\n",
    "for lst in soup.select('h1[class=\"h3 lh-condensed\"] a'):\n",
    "    bsnames.append(lst.get(\"href\").split(\"/\")[1])\n",
    "display(bsnames)"
   ]
  },
  {
   "cell_type": "markdown",
   "metadata": {},
   "source": [
    "#### Display all the image links from Walt Disney wikipedia page"
   ]
  },
  {
   "cell_type": "code",
   "execution_count": 8,
   "metadata": {},
   "outputs": [],
   "source": [
    "# This is the url you will scrape in this exercise\n",
    "url3 = 'https://en.wikipedia.org/wiki/Walt_Disney'"
   ]
  },
  {
   "cell_type": "code",
   "execution_count": 9,
   "metadata": {},
   "outputs": [],
   "source": [
    "res = req.get(url3)\n",
    "# res.text"
   ]
  },
  {
   "cell_type": "code",
   "execution_count": 10,
   "metadata": {},
   "outputs": [
    {
     "data": {
      "text/plain": [
       "['https://en.wikipedia.org/wiki/File:Walt_Disney_1946.JPG',\n",
       " 'https://en.wikipedia.org/wiki/File:Walt_Disney_1942_signature.svg',\n",
       " 'https://en.wikipedia.org/wiki/File:Walt_Disney_envelope_ca._1921.jpg',\n",
       " 'https://en.wikipedia.org/wiki/File:Trolley_Troubles_poster.jpg',\n",
       " 'https://en.wikipedia.org/wiki/File:Walt_Disney_and_his_cartoon_creation_%22Mickey_Mouse%22_-_National_Board_of_Review_Magazine.jpg',\n",
       " 'https://en.wikipedia.org/wiki/File:Steamboat-willie.jpg',\n",
       " 'https://en.wikipedia.org/wiki/File:Walt_Disney_1935.jpg',\n",
       " 'https://en.wikipedia.org/wiki/File:Walt_Disney_Snow_white_1937_trailer_screenshot_(13).jpg',\n",
       " 'https://en.wikipedia.org/wiki/File:Disney_drawing_goofy.jpg',\n",
       " 'https://en.wikipedia.org/wiki/File:DisneySchiphol1951.jpg',\n",
       " 'https://en.wikipedia.org/wiki/File:WaltDisneyplansDisneylandDec1954.jpg',\n",
       " 'https://en.wikipedia.org/wiki/File:Walt_disney_portrait_right.jpg',\n",
       " 'https://en.wikipedia.org/wiki/File:Walt_Disney_Grave.JPG',\n",
       " 'https://en.wikipedia.org/wiki/File:Roy_O._Disney_with_Company_at_Press_Conference.jpg',\n",
       " 'https://en.wikipedia.org/wiki/File:Disney_Display_Case.JPG',\n",
       " 'https://en.wikipedia.org/wiki/File:Disney1968.jpg',\n",
       " 'https://en.wikipedia.org/wiki/File:Animation_disc.svg',\n",
       " 'https://en.wikipedia.org/wiki/File:P_vip.svg',\n",
       " 'https://en.wikipedia.org/wiki/File:Magic_Kingdom_castle.jpg',\n",
       " 'https://en.wikipedia.org/wiki/File:Video-x-generic.svg',\n",
       " 'https://en.wikipedia.org/wiki/File:Flag_of_Los_Angeles_County,_California.svg',\n",
       " 'https://en.wikipedia.org/wiki/File:USA_flag_on_television.svg']"
      ]
     },
     "metadata": {},
     "output_type": "display_data"
    }
   ],
   "source": [
    "from bs4 import BeautifulSoup\n",
    "soup = BeautifulSoup(res.text, 'html.parser')\n",
    "bsimg = []\n",
    "    \n",
    "for lst in soup.select('a.image'):\n",
    "    bsimg.append(\"https://en.wikipedia.org\"+(lst.get(\"href\")))\n",
    "display(bsimg)"
   ]
  },
  {
   "cell_type": "markdown",
   "metadata": {},
   "source": [
    "#### Retrieve an arbitary Wikipedia page of \"Python\" and create a list of links on that page"
   ]
  },
  {
   "cell_type": "code",
   "execution_count": 11,
   "metadata": {},
   "outputs": [],
   "source": [
    "# This is the url you will scrape in this exercise\n",
    "url4 = 'https://en.wikipedia.org/wiki/Python'"
   ]
  },
  {
   "cell_type": "code",
   "execution_count": 12,
   "metadata": {},
   "outputs": [],
   "source": [
    "res = req.get(url4)\n",
    "# res.text"
   ]
  },
  {
   "cell_type": "code",
   "execution_count": 13,
   "metadata": {},
   "outputs": [
    {
     "data": {
      "text/plain": [
       "['/wiki/Pythonidae',\n",
       " '/wiki/Python_(genus)',\n",
       " '/wiki/Python_(mythology)',\n",
       " '/wiki/Python_of_Aenus',\n",
       " '/wiki/Python_(painter)',\n",
       " '/wiki/Python_of_Byzantium',\n",
       " '/wiki/Python_of_Catana',\n",
       " '/wiki/Python_(film)',\n",
       " '/wiki/Pythons_2',\n",
       " '/wiki/Monty_Python',\n",
       " '/wiki/Python_(Monty)_Pictures',\n",
       " '/wiki/Python_(programming_language)',\n",
       " '/wiki/CPython',\n",
       " '/wiki/CMU_Common_Lisp',\n",
       " '/wiki/PERQ#PERQ_3',\n",
       " '/wiki/Python_(Busch_Gardens_Tampa_Bay)',\n",
       " '/wiki/Python_(Coney_Island,_Cincinnati,_Ohio)',\n",
       " '/wiki/Python_(Efteling)',\n",
       " '/wiki/Python_(automobile_maker)',\n",
       " '/wiki/Python_(Ford_prototype)',\n",
       " '/wiki/Colt_Python',\n",
       " '/wiki/Python_(missile)',\n",
       " '/wiki/Python_(nuclear_primary)',\n",
       " '/wiki/Python_Anghelo',\n",
       " '/wiki/PYTHON',\n",
       " '/wiki/Cython',\n",
       " '/wiki/Pyton']"
      ]
     },
     "metadata": {},
     "output_type": "display_data"
    }
   ],
   "source": [
    "from bs4 import BeautifulSoup\n",
    "soup = BeautifulSoup(res.text, 'html.parser')\n",
    "bspy = []\n",
    "    \n",
    "for lst in soup.select(\"div.mw-parser-output ul a[href^='/']\"):\n",
    "    bspy.append(lst.get(\"href\"))\n",
    "display(bspy)"
   ]
  },
  {
   "cell_type": "markdown",
   "metadata": {},
   "source": [
    "#### Number of Titles that have changed in the United States Code since its last release point "
   ]
  },
  {
   "cell_type": "code",
   "execution_count": 14,
   "metadata": {},
   "outputs": [],
   "source": [
    "# This is the url you will scrape in this exercise\n",
    "url5 = 'http://uscode.house.gov/download/download.shtml'"
   ]
  },
  {
   "cell_type": "code",
   "execution_count": 15,
   "metadata": {},
   "outputs": [],
   "source": [
    "res = req.get(url5)\n",
    "#res.text"
   ]
  },
  {
   "cell_type": "code",
   "execution_count": 16,
   "metadata": {},
   "outputs": [
    {
     "data": {
      "text/plain": [
       "['Title 2 - The Congress']"
      ]
     },
     "metadata": {},
     "output_type": "display_data"
    }
   ],
   "source": [
    "from bs4 import BeautifulSoup\n",
    "soup = BeautifulSoup(res.text, 'html.parser')\n",
    "bsus = []\n",
    "    \n",
    "for lst in soup.select(\"div.usctitlechanged\"):\n",
    "    bsus.append(lst.get_text().strip())\n",
    "display(bsus)"
   ]
  },
  {
   "cell_type": "markdown",
   "metadata": {},
   "source": [
    "#### A Python list with the top ten FBI's Most Wanted names "
   ]
  },
  {
   "cell_type": "code",
   "execution_count": 17,
   "metadata": {},
   "outputs": [],
   "source": [
    "# This is the url you will scrape in this exercise\n",
    "url6 = 'https://www.fbi.gov/wanted/topten'"
   ]
  },
  {
   "cell_type": "code",
   "execution_count": 18,
   "metadata": {},
   "outputs": [],
   "source": [
    "res = req.get(url6)\n",
    "#res.text"
   ]
  },
  {
   "cell_type": "code",
   "execution_count": 19,
   "metadata": {},
   "outputs": [
    {
     "data": {
      "text/plain": [
       "['JASON DEREK BROWN',\n",
       " 'RAFAEL CARO-QUINTERO',\n",
       " 'ALEXIS FLORES',\n",
       " 'EUGENE PALMER',\n",
       " 'SANTIAGO VILLALBA MEDEROS',\n",
       " 'ROBERT WILLIAM FISHER',\n",
       " 'BHADRESHKUMAR CHETANBHAI PATEL',\n",
       " 'ARNOLDO JIMENEZ',\n",
       " 'ALEJANDRO ROSALES CASTILLO',\n",
       " 'YASER ABDEL SAID']"
      ]
     },
     "metadata": {},
     "output_type": "display_data"
    }
   ],
   "source": [
    "from bs4 import BeautifulSoup\n",
    "soup = BeautifulSoup(res.text, 'html.parser')\n",
    "bsfbi = []\n",
    "\n",
    "for lst in soup.select('h3.title a'):\n",
    "    bsfbi.append(lst.get_text())\n",
    "display(bsfbi)"
   ]
  },
  {
   "cell_type": "markdown",
   "metadata": {},
   "source": [
    "####  20 latest earthquakes info (date, time, latitude, longitude and region name) by the EMSC as a pandas dataframe"
   ]
  },
  {
   "cell_type": "code",
   "execution_count": 20,
   "metadata": {},
   "outputs": [],
   "source": [
    "# This is the url you will scrape in this exercise\n",
    "url7 = 'https://www.emsc-csem.org/Earthquake/'"
   ]
  },
  {
   "cell_type": "code",
   "execution_count": 21,
   "metadata": {},
   "outputs": [
    {
     "data": {
      "text/plain": [
       "'<!DOCTYPE html PUBLIC \"-//W3C//DTD XHTML 1.0 Strict//EN\" \"http://www.w3.org/TR/xhtml1/DTD/xhtml1-strict.dtd\">\\r\\n<html xmlns=\"http://www.w3.org/1999/xhtml\" xmlns:og=\"http://opengraphprotocol.org/schema/\" xml:lang=\"en\" lang=\"en\">\\r\\n<head><meta name=\"google-site-verification\" content=\"srFzNKBTd0FbRhtnzP--Tjxl01NfbscjYwkp4yOWuQY\" /><meta name=\"msvalidate.01\" content=\"BCAA3C04C41AE6E6AFAF117B9469C66F\" /><meta name=\"y_key\" content=\"43b36314ccb77957\" /><!-- 5-Clk8f50tFFdPTU97Bw7ygWE1A -->\\r\\n<meta http-equiv=\"Content-Language\" content=\"en\" /><meta http-equiv=\"Content-Type\" content=\"text/html; charset=UTF-8\" />\\r\\n<meta name=\"robots\" content=\"all\" />\\r\\n<meta name=\"keywords\" content=\"earthquake,earthquakes,last earthquake,earthquake today,earthquakes today,earth quake,earth quakes,real time seismicity,seismic,seismicity,seismicity map,seismology,sismologie,EMSC,CSEM,seismicity on google earth,sumatra,tsunami,tsunamis,map,maps,richter,mercalli,moment tensors,epicenter,magnitude,seismology,foreshock,aftershock,tremor\" />\\r\\n<meta name=\"description\"  lang=\"en\" content=\"Latest Earthquakes in the world. World earthquake list. Earthquake information. earthquakes today - recent and latest earthquakes, earthquake map and earthquake information. Earthquake information for europe. EMSC (European Mediterranean Seismological Centre) provides real time earthquake information for seismic events with magnitude larger than 5 in the European Mediterranean area and larger than 7 in the rest of the world.\" />\\r\\n<meta name=\"publisher\" content=\"EMSC - European-Mediterranean Seismological Centre\" />\\r\\n<link rel=\"shortcut icon\" type=\"image/x-icon\" href=\"https://www.emsc-csem.org/favicon.ico\" />\\r\\n<link rel=\"icon\" type=\"image/png\" href=\"https://www.emsc-csem.org/favicon.png\" />\\r\\n<link rel=\"alternate\" type=\"application/rss+xml\" title=\"EMSC:  RSS Feed\" href=\"https://www.emsc-csem.org/service/rss/rss.php?typ=emsc\" />\\t\\t\\r\\n<link rel=\"alternate\" type=\"application/rss+xml\" title=\"EMSC:  MAG>=4\" href=\"https://www.emsc-csem.org/service/rss/rss.php?typ=emsc&amp;magmin=4\" />\\t\\t\\r\\n<link rel=\"alternate\" type=\"application/rss+xml\" title=\"EMSC:  MAG>=5\" href=\"https://www.emsc-csem.org/service/rss/rss.php?typ=emsc&amp;magmin=5\" />\\t\\t\\r\\n<link rel=\"alternate\" type=\"application/rss+xml\" title=\"EMSC:  MAG>=6\" href=\"https://www.emsc-csem.org/service/rss/rss.php?typ=emsc&amp;magmin=6\" />\\r\\n<title>Earthquakes today | Earthquake today | earthquake | earthquakes</title>\\n<!--[if !(IE)|(gt IE 7)]><!--><link rel=\"stylesheet\" type=\"text/css\" href=\"https://static3.emsc.eu/Css/m_csem.css\" /><![endif]--><!--[if lte IE 7]><link rel=\"stylesheet\" type=\"text/css\" href=\"https://static1.emsc.eu/Css/m_csem_ie.css\" /><![endif]--><!--[if !(IE)|(gt IE 7)]><!--><link rel=\"stylesheet\" type=\"text/css\" href=\"https://static2.emsc.eu/Css/menu.css\" /><![endif]--><!--[if lte IE 7]><link rel=\"stylesheet\" type=\"text/css\" href=\"https://static3.emsc.eu/Css/menu_ie.css\" /><![endif]-->\\r\\n\\t<style type=\"text/css\">#contenu,  #footer, #nav {\\n\\twidth: 950px;\\n}</style><script type=\"text/javascript\" src=\"https://static2.emsc.eu/javascript/widget.js\"></script>\\n\\r\\n\\t\\t\\t<script type=\"text/javascript\">\\r\\n\\t\\t\\tvar basehref=window.location.protocol+\"//\"+window.location.hostname; \\r\\n\\t\\t\\t</script>\\r\\n\\t\\t\\t<!--[if lte IE 6]> <script type=\"text/javascript\" src=\"https://static1.emsc.eu/Css/javascript_v3.js\"></script> <![endif]--><script type=\"text/javascript\" src=\"https://static2.emsc.eu/javascript/jquery_corner.js\"></script>\\n<script type=\"text/javascript\" src=\"https://static3.emsc.eu/javascript/fonc_utils.js\"></script>\\n\\n<script type=\"text/javascript\" src=\"https://static1.emsc.eu/javascript/dyndate.js\"></script>\\n<script>addjs_after(\"https://static2.emsc.eu/javascript/alert_bandeau_v2.js\");</script><script type=\"text/javascript\">addcss_after(\"https://static3.emsc.eu/Css/print.css\",\"print\"); </script>\\n\\r\\n</head><body>\\n\\r\\n<div id=\"contenu\"><!-- Start container --> \\r\\n\\t<div id=\"bandeau\"><style> .ban022{background:url(\\'https://static1.emsc.eu/Css/img/spriteBannApp.jpg\\') no-repeat;} .ban0{background:#B40015;/*#000;*/width:100%;height:100%;border:0;} .ban1{vertical-align:top;text-align:center;padding-top:4px;width:150px;} \\r\\n\\t\\t\\t.ban2{position:relative; vertical-align:middle;text-align:center; color:#fff; background-position:0px -41px;/*10px -41px;*/} \\r\\n\\t\\t\\t.ban3{width:140px;padding-left:5px;text-align:center;background-position:-640px -41px;}\\r\\n\\t\\t\\t#ejs_server_heure {position:absolute; bottom:0; width:100%;}\\r\\n\\t\\t\\t#bandeau{background:#B40015;}</style><table cellpadding=\"0\" cellspacing=\"0\" class=\"ban0\"><tr><td class=\"ban1\" onclick=\"window.location.href=\\'https://www.emsc-csem.org\\';\" onmouseover=\"this.style.cursor=\\'pointer\\';\"  >\\r\\n\\t\\t\\t<img src=\"https://static2.emsc.eu/Css/img/logo.png\" alt=\"logo - home\" style=\"width:150px;height:81px;\" /></td>\\r\\n\\t\\t\\t<td class=\"ban2 ban022\" onclick=\"window.location.href=\\'https://www.emsc-csem.org\\';\" onmouseover=\"this.style.cursor=\\'pointer\\';\"   >\\r\\n\\t\\t\\t\\r\\n\\t\\t\\t<div style=\"border:0; position:relative; float:right; width:110px; height:80px; margin-top:-5px; margin-right:25px; \">\\r\\n\\t\\t\\t\\t<div id=\"androidstore\" style=\"border:0; position:relative; float:left; width:110px; height:35px;\"></div>\\r\\n\\t\\t\\t\\t<div id=\"iosstore\" style=\"border:0; position:relative; float:left; width:110px; height:35px; margin-top:8px;\"></div>\\r\\n\\t\\t\\t</div>\\r\\n\\t\\t\\t\\r\\n\\t\\t\\t\\r\\n\\t\\t\\t<script type=\"text/javascript\">set_server_date(2019,6,28,8,35,27)</script>\\r\\n\\t\\t\\t<div id=\"ejs_server_heure\">Current time: 2019-06-28 08:35:27 UTC</div> \\r\\n\\t\\t\\t</td>\\r\\n\\t\\t\\t <td align=\"right\" class=\"ban3 ban022\" ><div id=\"login_box\" class=\"login_box\"><form action=\"https://www.emsc-csem.org/Member/\" method=\"post\" enctype=\"multipart/form-data\" >\\r\\n\\t\\t\\t\\t<table cellpadding=\"0\" cellspacing=\"0\" style=\"width:100%;height:100%;border:0;\" ><tr><td colspan=\"2\" style=\"text-align: center; font-size: 11px; font-weight: bold; color: #fff;\" >\\r\\n\\t\\t\\t\\t<span class=\"spriteorig sp_lock vbottom\"></span>&nbsp;Member access</td></tr><tr><td colspan=\"2\" style=\"height: 2px;text-align:center;\">\\r\\n\\t\\t\\t\\t<img src=\"data:image/png;base64,iVBORw0KGgoAAAANSUhEUgAAAAEAAAABCAQAAAC1HAwCAAAABGdBTUEAALGPC/xhBQAAAAtJREFUCNdjYGAAAAADAAEg1ZTHAAAAAElFTkSuQmCC\" alt=\"\" style=\"display: block;width:1px;border:0;height:2px;\"/></td></tr>\\r\\n\\t\\t\\t\\t<tr><td style=\"font-size: 11px; font-weight: bold; text-align: left; color: #000;\">Name&nbsp;</td>\\r\\n\\t\\t\\t\\t\\t<td style=\"text-align:left;\"><input name=\"login\" maxlength=\"10\" size=\"8\" style=\"height: 11px; width: 80px; font-size: 11px;\" type=\"text\"/></td></tr>\\r\\n\\t\\t\\t\\t<tr><td colspan=\"2\" style=\"height: 2px;text-align:center;\"><img src=\"data:image/png;base64,iVBORw0KGgoAAAANSUhEUgAAAAEAAAABCAQAAAC1HAwCAAAABGdBTUEAALGPC/xhBQAAAAtJREFUCNdjYGAAAAADAAEg1ZTHAAAAAElFTkSuQmCC\" alt=\"\" style=\"display: block;width:1px; border:0;height:2px;\"/></td></tr>\\r\\n\\t\\t\\t\\t<tr><td style=\"font-size: 11px; font-weight: bold; text-align: left; color: #000;\">Pwd</td>\\r\\n\\t\\t\\t\\t\\t<td style=\"text-align:left;\"><input name=\"pwd\" maxlength=\"32\" size=\"8\" style=\"height: 11px; width: 80px; font-size: 11px;\" type=\"password\" /></td></tr>\\r\\n\\t\\t\\t\\t<tr><td colspan=\"2\" style=\"height: 2px;text-align:center;\"><img src=\"data:image/png;base64,iVBORw0KGgoAAAANSUhEUgAAAAEAAAABCAQAAAC1HAwCAAAABGdBTUEAALGPC/xhBQAAAAtJREFUCNdjYGAAAAADAAEg1ZTHAAAAAElFTkSuQmCC\" alt=\"\" style=\"display: block;width:1px;border:0;height:2px;\"/></td>\\r\\n\\t\\t\\t\\t</tr><tr><td>&nbsp;</td><td style=\"text-align:left;\"><input value=\"Sign in\" style=\"height: 20px; font-size: 11px;\" type=\"submit\"/></td></tr></table></form></div></td></tr></table><script>\\r\\n\\t\\t\\t$jq(function(){\\r\\n\\t\\t\\t\\t$jq(\"#androidstore\").bind(\"click\", function(e) { e.preventDefault(); e.stopPropagation(); $jq.post(\"/indexAjaxApp.php\", { linkto:\"android\",from:\"site\"}, function () {});  window.open(\"https://play.google.com/store/apps/details?id=org.emsc_csem.lastquake\",\"_blank\"); });\\r\\n\\t\\t\\t\\t$jq(\"#iosstore\").bind(\"click\", function(e) { e.preventDefault(); e.stopPropagation(); $jq.post(\"/indexAjaxApp.php\", { linkto:\"ios\",from:\"site\" }, function () {});  window.open(\"https://itunes.apple.com/us/app/lastquake/id890799748\",\"_blank\"); });\\r\\n\\t\\t\\t\\t\\r\\n\\t\\t\\t});\\r\\n\\t\\t\\t</script>\\r\\n\\t</div>\\r\\n\\t\\t<ul id=\"nav\">\\r\\n\\t\\t\\t<!-- earthquake level 0 -->\\r\\n\\t\\t\\t <li><a href=\"https://www.emsc-csem.org/Earthquake/info.php\"   >Earthquake information</a>\\r\\n\\t\\t\\t\\t<ul>\\n<li><a href=\"https://www.emsc-csem.org/Earthquake/\"   >List of latest earthquakes</a></li>\\n<li><a href=\"https://www.emsc-csem.org/Earthquake/significant_earthquakes.php\"   >Significant earthquakes</a></li>\\n<li><a href=\"https://www.emsc-csem.org/Earthquake/?filter=yes\"   >Search earthquakes</a></li>\\n<li><a href=\"https://www.emsc-csem.org/Earthquake/Map/gmap.php\"   >Earthquakes interactive map</a></li>\\n<li><a href=\"https://www.emsc-csem.org/Earthquake/near_you.php\"   >Earthquakes near you</a></li>\\n<li><a href=\"https://www.emsc-csem.org/Earthquake/felt.php\"   >Felt earthquakes</a></li>\\n<li><a href=\"https://www.emsc-csem.org/Earthquake/News/\"   >Special reports</a></li>\\n<li><a href=\"https://www.emsc-csem.org/Earthquake/seismicity/real_time.php\"   >How it works</a></li>\\n</ul></li>\\r\\n\\t\\t\\t<!-- search level 0 -->\\r\\n\\t\\t\\t <li><a href=\"https://www.emsc-csem.org/Earthquake/Contribute/?lang=en\"  onmouseover=\"info_b(\\'show\\',\\'The flag is the visible language that seems to be the most appropriate to respond to our questionnaire.\\',\\'Language\\');\" onmouseout=\"info_b(\\'notshow\\',\\'\\',\\'\\');\" ><img src=\"/Images/flag/flag_en.png\" id=\"flag\" style=\"vertical-align:middle;height:12px;width:18px;\" />  Testimonies, photos</a>\\r\\n\\t\\t\\t\\t<ul>\\n<li><a href=\"https://www.emsc-csem.org/Earthquake/Gallery/\"   >Photos</a></li>\\n<li><a href=\"https://www.emsc-csem.org/Earthquake/Testimonies/\"   >Testimonies</a></li>\\n</ul></li>\\r\\n\\t\\t\\t<!-- data level 0 -->\\r\\n\\t\\t\\t <li><a href=\"https://www.emsc-csem.org/service/\"   >Information services</a>\\r\\n\\t\\t\\t\\t<ul>\\n<li><a href=\"https://www.emsc-csem.org/service/real_time/\"   ><span class=\"spriteorig sp_phone\" style=\"vertical-align:middle;\"></span> For smartphones</a></li>\\n<li><a href=\"https://www.emsc-csem.org/service/application/\"   ><span class=\"spriteorig sp_phone\" style=\"vertical-align:middle;\"></span> Android & iOS App</a></li>\\n<li><a href=\"https://www.emsc-csem.org/service/Browser-extension/\"   ><span style=\"display:inline-block;background:url(/Css/img/extension-icon.png) no-repeat;width:16px;height:16px;vertical-align:middle;\"></span> Browser extensions</a></li>\\n<li><a href=\"https://www.seismicportal.eu/webservices.html\"   ><span class=\"spriteorig sp_feed-icon14\" style=\"vertical-align:middle;\"></span> Webservices</a></li>\\n<li><a href=\"https://www.emsc-csem.org/service/rss/\"   ><span class=\"spriteorig sp_feed-icon14\" style=\"vertical-align:middle;\"></span> RSS feeds</a></li>\\n<li><a href=\"https://www.emsc-csem.org/Earthquake/Map/earth/\"   ><span class=\"spriteorig sp_ge2\" style=\"vertical-align:middle;\"></span> Seismicity on Google Earth</a></li>\\n<li><a href=\"https://www.emsc-csem.org/service/register.php\"   ><span class=\"spriteorig sp_alert1\" style=\"vertical-align:middle;\"></span> Email notification service</a></li>\\n</ul></li>\\r\\n\\t\\t\\t<!-- seismicity level 0 -->\\r\\n\\t\\t\\t <li><a href=\"https://www.emsc-csem.org/Earthquake/for_seismologist.php\"   >For seismologists</a>\\r\\n\\t\\t\\t\\t<ul>\\n<li><a href=\"https://www.emsc-csem.org/Earthquake/seismologist.php\"   >Latest data contributions</a></li>\\n<li><a href=\"https://www.emsc-csem.org/Earthquake/index_tensors.php\"   >Moment tensors</a></li>\\n<li><a href=\"https://www.emsc-csem.org/Bulletin/\"   >Euro-Med bulletin</a></li>\\n<li><a href=\"https://www.seismicportal.eu/\" target=\"_blank\"  >Seismic Portal</a></li>\\n<li><a href=\"https://www.emsc-csem.org/News/\"   >News</a></li>\\n<li><a href=\"https://www.emsc-csem.org/job/\"   >Jobs</a></li>\\n</ul></li>\\r\\n\\t\\t\\t<!-- project level 0 -->\\r\\n\\t\\t\\t <li><a href=\"https://www.emsc-csem.org/Project/\"   >Projects</a>\\r\\n\\t\\t\\t\\t<ul>\\n<li><a href=\"https://www.emsc-csem.org/Project/#aristotle\"   >ARISTOTLE</a></li>\\n<li><a href=\"https://www.emsc-csem.org/Project/#carismand\"   >CARISMAND</a></li>\\n<li><a href=\"https://www.emsc-csem.org/Project/#improver\"   >IMPROVER</a></li>\\n<li><a href=\"https://www.emsc-csem.org/Project/#seismic\"   >Seismic portal</a></li>\\n<li><a href=\"https://www.emsc-csem.org/Project/#citizen\"   >Citizen seismology</a></li>\\n<li><a href=\"https://www.emsc-csem.org/Project/#qcn\"   >Quake Catcher Network</a></li>\\n<li><a href=\"https://www.emsc-csem.org/Project/#sigma\"   >Sigma</a></li>\\n<li><a href=\"https://www.emsc-csem.org/Project/#verce\"   >Verce</a></li>\\n<li><a href=\"https://www.emsc-csem.org/Project/#marsite\"   >MARsite</a></li>\\n<li><a href=\"https://www.emsc-csem.org/Project/#nera\"   >NERA</a></li>\\n<li><a href=\"https://www.emsc-csem.org/Project/#EPOS\"   >EPOS</a></li>\\n<li><a href=\"https://www.emsc-csem.org/Project/#REAKT\"   >REAKT</a></li>\\n</ul></li>\\r\\n\\t\\t\\t<!-- publi level 0 -->\\r\\n\\t\\t\\t <li><a href=\"https://www.emsc-csem.org/Documents/\"   >Publications & docs</a></li>\\r\\n\\t\\t</ul><div class=\"clearer\"></div><div class=\"clearer\"></div>\\r\\n\\t<div id=\"sitemap\"><i>You are here : </i>\\n<a href=\"https://www.emsc-csem.org\" >EMSC</a> >&nbsp;Earthquake >&nbsp;Real Time Seismicity\\r\\n\\t\\t<div>Our sponsors:&nbsp;\\r\\n\\t\\t<span id=\"sponsor\"><a target=\"_blank\" href=\"http://www.digitalelement.com/\">digitalelement<div id=\"sponimg\"><img src=\"https://static3.emsc.eu/Images/sites/p_netacuity_01.gif\"/></div></a></span>\\r\\n\\t\\t<a href=\"/Donate/\" ><span class=\"spriteorig sp_btn_donate_SM\" style=\"vertical-align:middle;margin-top:-2px;\"></span></a>&nbsp;&nbsp;&nbsp;&nbsp;<a href=\"/about/\">About EMSC</a></div>\\r\\n\\t</div><style type=\"text/css\"> \\r\\n\\t\\t#sitemap div, x:-moz-any-link {margin-top:-13px;} /* Firefox 2*/\\r\\n\\t\\t#sitemap div, x:-moz-any-link, x:default {margin-top:0;} /* Firefox >=3*/\\r\\n\\t\\t#sponsor{margin-right:15px;}\\r\\n\\t\\tdiv#sponimg{position:absolute; display:none; padding:20px; background:rgba(0,0,0,.8);vertical-align:middle;} #sponsor a:hover>div { display: block; }\\r\\n\\t\\tdiv#sponimg img{vertical-align:middle;}\\r\\n\\t</style>\\r\\n\\t<!--[if lte IE 7]><style type=\"text/css\">#sitemap div{ margin-top:-13px;} </style><![endif]-->\\r\\n\\t<script> var sponsor = {\\r\\n\\t\\t_sp:{\"netacuity\":{\"logo\":\"https:\\\\/\\\\/static3.emsc.eu\\\\/Images\\\\/sites\\\\/p_netacuity_01.gif\",\"link\":\"http:\\\\/\\\\/www.digitalelement.com\\\\/\",\"name\":\"digitalelement\"},\"geosig\":{\"logo\":\"https:\\\\/\\\\/static1.emsc.eu\\\\/Images\\\\/sites\\\\/geosig_logo.jpg\",\"text\":\"Strong motion instrumentation with a focus on Earthquake Early Warning<br>\",\"link\":\"http:\\\\/\\\\/www.geosig.com\\\\/\",\"name\":\"GeoSIG\"}}, _i:0, _keys:null,\\r\\n\\t\\t_start:function() {\\r\\n\\t\\t\\tthis._keys = Object.keys(this._sp);\\t\\r\\n\\t\\t},\\t\\r\\n\\t\\t_next: function() {\\r\\n\\t\\t\\tthis._i++;\\r\\n\\t\\t\\tif(this._i >= this._keys.length) this._i=0;\\r\\n\\t\\t\\tvar k=this._keys[this._i]; //console.log(this._keys.length, k, this._i);\\r\\n\\t\\t\\t//console.log( $jq(\"#sponsor a\").contents());\\r\\n\\t\\t\\t$jq(\"#sponsor a\").attr(\"href\",this._sp[k][\"link\"]);\\r\\n\\t\\t\\t$jq(\"#sponsor a\").contents()[0].textContent=this._sp[k][\"name\"]; $jq(\"#sponimg img\").attr(\"src\",this._sp[k][\"logo\"]);\\r\\n\\t\\t\\tvar self=this;\\r\\n\\t\\t\\tsetTimeout(function() {self._next();},1000*40);\\r\\n\\t\\t}\\t\\r\\n\\t}\\r\\n\\t$jq(function() {\\r\\n\\t\\t//console.log( \"ready!\" );\\r\\n\\t\\tsponsor._start();\\r\\n\\t\\tsponsor._next();\\r\\n\\t});\\r\\n\\t</script>\\r\\n<div id=\"info_bulle\"><div id=\"inf_t\" class=\"inf_t\"></div><div id=\"inf_te\" class=\"inf_te\"></div></div>\\r\\n<div id=\"info_bulle2\"><div id=\"inf_seul\" class=\"inf_seul\"></div></div>\\r\\n<div id=\"content\"><!-- Start content --><div id=\"bann_defile\"><span class=\"markee\" id=\"markee_bann_defile\" name=\"markee_bann_defile\">temp</span><span id=\"bann_disclam\" style=\"display:none;\" ><a href=\"/disclaimer.php\">Disclaimer</a></span></div>\\r\\n\\t<h1><span>Real Time Seismicity</span></h1><!-- ============ TITRE ===================== --><div style=\"font-size:11px;text-align:center; margin-bottom:5px;\" id=\"quick_access\">\\r\\n\\t<a href=\"/Earthquake/?filter=yes\"><span class=\"spriteorig sp_Icon_tools_th\" style=\"margin-right:3px;\"></span>Define your criteria</a> to find specific events  -  Quick search: \\r\\n\\t<a href=\"/Earthquake/world/M3/\"> mag&ge;3 </a> | <a href=\"/Earthquake/world/M4/\"> mag&ge;4 </a> | <a href=\"/Earthquake/world/M5/\"> mag&ge;5 </a>\\r\\n\\t</div><style type=\"text/css\"> .npages { height:30px; text-align:center; font-weight:bold; } .npages td { border-bottom: 2px solid #EDF3FE;} a.sublink { /*height:18px;*/ padding:5px 10px; border:1px solid #ccc; margin:0 4px; text-decoration:underline; background-color:#fff;} \\r\\n\\t\\t\\ta.sublinka { color:#000; text-decoration:none; font-weight:normal; background-color:#FFFFCC; /*rgb(255,255,0);*/ background-color:rgba(255,255,0,0.3); } \\r\\n\\t\\t\\t</style>\\r\\n\\t\\t\\t<!--[if IE]>  \\r\\n\\t\\t\\t<style type=\"text/css\">\\r\\n\\t\\t\\t.sublinka { background:transparent; filter:progid:DXImageTransform.Microsoft.gradient(startColorstr=#FFFFFFCC,endColorstr=#FFFFFFCC); zoom:1; opacity:0.9; } .sublink {zoom:1;}\\r\\n\\t\\t\\t</style> \\r\\n\\t\\t\\t<![endif]--> <link rel=\"stylesheet\" type=\"text/css\" href=\"https://static2.emsc.eu/Css/tableau_event.css\" />\\n<style type=\"text/css\">\\r\\n\\t\\t\\t@media print {\\r\\n\\t\\t\\t\\ttbody td {font-size:10px; } .comment { font-size:7px; width:78px;} .tabev3 { padding-right:15px; } .tabev2 { padding-right:2px; } .tabev5 { padding-right:0; padding-left:2px; } .tabev6 { width:140px; }\\r\\n\\t\\t\\t\\t.pagelist,.autour,.tb_infos,.npages {display:none;}\\t.black td{border-top:1px solid black;} #quick_access{display:none;}\\r\\n\\t\\t\\t}\\r\\n\\t\\t\\t</style><script> addjs_after(\"https://static3.emsc.eu/javascript/tri_tableau.js\"); \\r\\n\\t\\t\\t\\t\\t\\t\\taddjs_after(\"https://static1.emsc.eu/javascript/tableau_tri_event.js\"); \\r\\n\\t\\t\\t\\t</script><table style=\"width:99%;\"><tr class=\"tb_infos\"><td><span class=\"spriteorig sp_info\"></span>&nbsp;- Sorting by column is performed on the data of the current page.</td><td style=\"text-align:right;\"><a href=\"/glossary.php\">Glossary</a></td></tr></table><script> var scrollable=false; </script><table border=\"0\" cellspacing=\"0\" cellpadding=\"0\" width=\"100%\"><thead>\\n<tr>\\r\\n\\t\\t\\t\\t\\t\\t\\t<td  colspan=\"13\" style=\"background: white;height: 1px\"></td>\\r\\n\\t\\t\\t</tr>\\r\\n\\t\\t\\t<tr id=\"haut_tableau\"><th class=\"th2 th3\" colspan=\"3\" style=\"width:90px;display:table-csell;\"><div onmouseover=\"info_b(\\'show\\',\\'Represents the results of information provided by users (Felt earthquake, pictures, testimonies ,...)<br>See an intensity map for more details on the macroseismic intensity scale.\\',\\'Citizen response\\');\" onmouseout=\"info_b(\\'notshow\\',\\'\\',\\'\\');\">Citizen<br>Response</div><br><table cellspacing=\"0\" style=\"width:100%;margin:0;text-align:center;\" cellpadding=\"0\"><tr><td><div  onmouseover=\"change_image(this,\\'over\\',\\'im_report\\');\" onmouseout=\"change_image(this,\\'out\\',\\'im_report\\');\" onclick=\"change_tri(\\'im_report\\');\" ><span class=\"spriteorig sp_ico_list\" onmouseover=\"info_b2(\\'show\\',\\'Sorted by number of <b>Comments</b>\\');\" onmouseout=\"info_b2(\\'notshow\\',\\'\\');\"></span><span class=\"spriteorig sp_s_asc\" style=\"display:none;\" id=\"im_report\"></span></div></td><td><div  onmouseover=\"change_image(this,\\'over\\',\\'im_pics\\');\" onmouseout=\"change_image(this,\\'out\\',\\'im_pics\\');\" onclick=\"change_tri(\\'im_pics\\');\" ><span class=\"spriteorig sp_digikam\"  onmouseover=\"info_b2(\\'show\\',\\'Sorted by number of <b>Pictures</b>\\');\" onmouseout=\"info_b2(\\'notshow\\',\\'\\');\" ></span><span class=\"spriteorig sp_s_asc\" style=\"display:none;\" id=\"im_pics\"></span></div></td><td><div  onmouseover=\"change_image(this,\\'over\\',\\'im_intens\\');\" onmouseout=\"change_image(this,\\'out\\',\\'im_intens\\');\" onclick=\"change_tri(\\'im_intens\\');\" ><span class=\"spriteorig sp_IntensityMap\" onmouseover=\"info_b2(\\'show\\',\\'Sorted by <b>Macroseismic Intensity</b>\\');\" onmouseout=\"info_b2(\\'notshow\\',\\'\\');\" ></span><span class=\"spriteorig sp_s_asc\" style=\"display:none;\" id=\"im_intens\"></span></div></td></tr></table></th><th class=\"th2\" onmouseover=\"change_image(this,\\'over\\',\\'im_time\\');\" onmouseout=\"change_image(this,\\'out\\',\\'im_time\\');\" onclick=\"change_tri(\\'im_time\\');\">Date &amp; Time <span class=\"spriteorig sp_s_desc\"  id=\"im_select\"></span><div  style=\"font-weight:normal;\">UTC</div></th><th class=\"th2\" onmouseover=\"change_image(this,\\'over\\',\\'im_lat\\');\" onmouseout=\"change_image(this,\\'out\\',\\'im_lat\\');\" onclick=\"change_tri(\\'im_lat\\');\" colspan=\"2\">Latitude <span class=\"spriteorig sp_s_asc\" style=\"display:none;\" id=\"im_lat\"></span><div  style=\"font-weight:normal;\">degrees</div></th><th class=\"th2\" onmouseover=\"change_image(this,\\'over\\',\\'im_lon\\');\" onmouseout=\"change_image(this,\\'out\\',\\'im_lon\\');\" onclick=\"change_tri(\\'im_lon\\');\" colspan=\"2\">Longitude <span class=\"spriteorig sp_s_asc\" style=\"display:none;\" id=\"im_lon\"></span><div  style=\"font-weight:normal;\">degrees</div></th><th class=\"th2\" onmouseover=\"change_image(this,\\'over\\',\\'im_depth\\');\" onmouseout=\"change_image(this,\\'out\\',\\'im_depth\\');\" onclick=\"change_tri(\\'im_depth\\');\" >Depth <span class=\"spriteorig sp_s_asc\" style=\"display:none;\" id=\"im_depth\"></span><div  style=\"font-weight: normal\">km</div></th><th class=\"th2\" colspan=\"1\" id=\"thmag\"><div style=\"float:left;\" onmouseover=\"change_image(this,\\'over\\',\\'im_mag\\');\" onmouseout=\"change_image(this,\\'out\\',\\'im_mag\\');\" onclick=\"change_tri(\\'im_mag\\');\" >Mag <span class=\"spriteorig sp_s_asc\" style=\"display:none;\" id=\"im_mag\"></span></div><div style=\"float:left;\" id=\"magplus2\"> <a id=\"magplus\" href=\"javascript:hide_magni();\" style=\"color:white;\">[+]</a></div></th><th class=\"th2\" id=\"ex_th2\"><div style=\"float:left;\" onmouseover=\"change_image(this,\\'over\\',\\'im_reg\\');\" onmouseout=\"change_image(this,\\'out\\',\\'im_reg\\');\" onclick=\"change_tri(\\'im_reg\\');\">Region name <span class=\"spriteorig sp_s_asc\" style=\"display:none;\" id=\"im_reg\"></span></div><div id=\"upda\" onmouseover=\"info_b2(\\'show\\',\\'Show last update\\');\" onmouseout=\"info_b2(\\'notshow\\',\\'\\');\"> <a href=\"javascript:hide_upd();\" style=\"color:white;\">[+]</a></div></th><th class=\"th2 updatetimeno\" id=\"upd\" ><div onmouseover=\"change_image(this,\\'over\\',\\'im_upd\\');\" onmouseout=\"change_image(this,\\'out\\',\\'im_upd\\');\" onclick=\"change_tri(\\'im_upd\\');\" style=\"float:left;text-align:right;\" id=\"labupd\">Last update <span class=\"spriteorig sp_s_asc\" style=\"display:none;\" id=\"im_upd\"></span></div><div id=\"hideupda\" style=\"float:left;\" onmouseover=\"info_b2(\\'show\\',\\'Hide last update\\');\" onmouseout=\"info_b2(\\'notshow\\',\\'\\');\"><a href=\"javascript:hide_upd();\" style=\"color:white;\">[-]</a></div></th></tr>\\r\\n\\t\\t\\t<tr><td colspan=\"13\" style=\"background: white;height: 1px\"></td></tr>\\n <tr class=\"npages\" id=\"my_pagelist_0\"><td colspan=\"13\"><a href=\"javascript:void()\" rel=\"nofollow\" class=\"sublink sublinka\" >1</a><a href=\"/Earthquake/?view=2\" class=\"sublink\">2</a><a href=\"/Earthquake/?view=3\" class=\"sublink\">3</a><a href=\"/Earthquake/?view=4\" class=\"sublink\">4</a><a href=\"/Earthquake/?view=5\" class=\"sublink\">5</a><a href=\"/Earthquake/?view=6\" class=\"sublink\">6</a><a href=\"/Earthquake/?view=7\" class=\"sublink\">7</a><a href=\"/Earthquake/?view=8\" class=\"sublink\">8</a><a href=\"/Earthquake/?view=9\" class=\"sublink\">9</a><a href=\"/Earthquake/?view=10\" class=\"sublink\">10</a><a href=\"/Earthquake/?view=2\" class=\"sublink\" alt=\"Next page\">&#155;</a><a href=\"/Earthquake/?view=11\" class=\"sublink\" alt=\"Next 10 pages\">&raquo;</a></td></tr></thead><tbody id=\"tbody\"><tr id=\"773860\" class=\"ligne1 normal\" onclick=\"go_details(event,773860);\"  ><td class=\"tabev0\"></td><td class=\"tabev0\"></td><td class=\"tabev0\"></td><td class=\"tabev6\"><b><i style=\"display:none;\">earthquake</i><a href=\"/Earthquake/earthquake.php?id=773860\">2019-06-28&#160;&#160;&#160;08:20:21.0</a></b><i class=\"ago\" id=\"ago0\">15min ago</i></td><td class=\"tabev1\">9.25&nbsp;</td><td class=\"tabev2\">S&nbsp;&nbsp;</td><td class=\"tabev1\">114.25&nbsp;</td><td class=\"tabev2\">E&nbsp;&nbsp;</td><td class=\"tabev3\">10</td><td class=\"tabev5\" id=\"magtyp0\" > M</td><td class=\"tabev2\">3.8</td><td id=\"reg0\" class=\"tb_region\" >&#160;SOUTH OF BALI, INDONESIA</td><td class=\"comment updatetimeno\" id=\"upd0\" style=\"text-align:right;\">2019-06-28 08:30</td></tr>\\n<tr id=\"773859\" class=\"ligne2 normal\" onclick=\"go_details(event,773859);\"  ><td class=\"tabev0\"></td><td class=\"tabev0\"></td><td class=\"tabev0\"></td><td class=\"tabev6\"><b><i style=\"display:none;\">earthquake</i><a href=\"/Earthquake/earthquake.php?id=773859\">2019-06-28&#160;&#160;&#160;07:55:44.6</a></b><i class=\"ago\" id=\"ago1\">39min ago</i></td><td class=\"tabev1\">19.41&nbsp;</td><td class=\"tabev2\">N&nbsp;&nbsp;</td><td class=\"tabev1\">155.28&nbsp;</td><td class=\"tabev2\">W&nbsp;&nbsp;</td><td class=\"tabev3\">0</td><td class=\"tabev5\" id=\"magtyp1\" >Md</td><td class=\"tabev2\">2.3</td><td id=\"reg1\" class=\"tb_region\" >&#160;ISLAND OF HAWAII, HAWAII</td><td class=\"comment updatetimeno\" id=\"upd1\" style=\"text-align:right;\">2019-06-28 07:58</td></tr>\\n<tr id=\"773856\" class=\"ligne1 normal\" onclick=\"go_details(event,773856);\"  ><td class=\"tabev0\"></td><td class=\"tabev0\"></td><td class=\"tabev0\"></td><td class=\"tabev6\"><b><i style=\"display:none;\">earthquake</i><a href=\"/Earthquake/earthquake.php?id=773856\">2019-06-28&#160;&#160;&#160;07:48:25.9</a></b><i class=\"ago\" id=\"ago2\">47min ago</i></td><td class=\"tabev1\">19.41&nbsp;</td><td class=\"tabev2\">N&nbsp;&nbsp;</td><td class=\"tabev1\">155.29&nbsp;</td><td class=\"tabev2\">W&nbsp;&nbsp;</td><td class=\"tabev3\">0</td><td class=\"tabev5\" id=\"magtyp2\" >Md</td><td class=\"tabev2\">2.2</td><td id=\"reg2\" class=\"tb_region\" >&#160;ISLAND OF HAWAII, HAWAII</td><td class=\"comment updatetimeno\" id=\"upd2\" style=\"text-align:right;\">2019-06-28 07:51</td></tr>\\n<tr id=\"773852\" class=\"ligne2 normal\" onclick=\"go_details(event,773852);\"  ><td class=\"tabev0\"></td><td class=\"tabev0\"></td><td class=\"tabev0\"></td><td class=\"tabev6\"><b><i style=\"display:none;\">earthquake</i><a href=\"/Earthquake/earthquake.php?id=773852\">2019-06-28&#160;&#160;&#160;07:40:31.0</a></b><i class=\"ago\" id=\"ago3\">54min ago</i></td><td class=\"tabev1\">19.41&nbsp;</td><td class=\"tabev2\">N&nbsp;&nbsp;</td><td class=\"tabev1\">155.28&nbsp;</td><td class=\"tabev2\">W&nbsp;&nbsp;</td><td class=\"tabev3\">0</td><td class=\"tabev5\" id=\"magtyp3\" >Ml</td><td class=\"tabev2\">2.4</td><td id=\"reg3\" class=\"tb_region\" >&#160;ISLAND OF HAWAII, HAWAII</td><td class=\"comment updatetimeno\" id=\"upd3\" style=\"text-align:right;\">2019-06-28 07:46</td></tr>\\n<tr id=\"773851\" class=\"ligne1 normal\" onclick=\"go_details(event,773851);\"  ><td class=\"tabev0\"></td><td class=\"tabev0\"></td><td class=\"tabev0\"></td><td class=\"tabev6\"><b><i style=\"display:none;\">earthquake</i><a href=\"/Earthquake/earthquake.php?id=773851\">2019-06-28&#160;&#160;&#160;07:39:29.8</a></b><i class=\"ago\" id=\"ago4\">55min ago</i></td><td class=\"tabev1\">39.46&nbsp;</td><td class=\"tabev2\">N&nbsp;&nbsp;</td><td class=\"tabev1\">20.77&nbsp;</td><td class=\"tabev2\">E&nbsp;&nbsp;</td><td class=\"tabev3\">2</td><td class=\"tabev5\" id=\"magtyp4\" >ML</td><td class=\"tabev2\">2.8</td><td id=\"reg4\" class=\"tb_region\" >&#160;GREECE</td><td class=\"comment updatetimeno\" id=\"upd4\" style=\"text-align:right;\">2019-06-28 07:46</td></tr>\\n<tr id=\"773857\" class=\"ligne2 normal\" onclick=\"go_details(event,773857);\"  ><td class=\"tabev0\"></td><td class=\"tabev0\"></td><td class=\"tabev0\"></td><td class=\"tabev6\"><b><i style=\"display:none;\">earthquake</i><a href=\"/Earthquake/earthquake.php?id=773857\">2019-06-28&#160;&#160;&#160;07:04:22.6</a></b><i class=\"ago\" id=\"ago5\">1hr 31min ago</i></td><td class=\"tabev1\">8.25&nbsp;</td><td class=\"tabev2\">N&nbsp;&nbsp;</td><td class=\"tabev1\">125.95&nbsp;</td><td class=\"tabev2\">E&nbsp;&nbsp;</td><td class=\"tabev3\">40</td><td class=\"tabev5\" id=\"magtyp5\" >mb</td><td class=\"tabev2\">4.7</td><td id=\"reg5\" class=\"tb_region\" >&#160;MINDANAO, PHILIPPINES</td><td class=\"comment updatetimeno\" id=\"upd5\" style=\"text-align:right;\">2019-06-28 08:09</td></tr>\\n<tr id=\"773848\" class=\"ligne1 normal\" onclick=\"go_details(event,773848);\"  ><td class=\"tabev0\"></td><td class=\"tabev0\"></td><td class=\"tabev0\"></td><td class=\"tabev6\"><b><i style=\"display:none;\">earthquake</i><a href=\"/Earthquake/earthquake.php?id=773848\">2019-06-28&#160;&#160;&#160;06:56:30.0</a></b><i class=\"ago\" id=\"ago6\">1hr 38min ago</i></td><td class=\"tabev1\">8.35&nbsp;</td><td class=\"tabev2\">N&nbsp;&nbsp;</td><td class=\"tabev1\">82.84&nbsp;</td><td class=\"tabev2\">W&nbsp;&nbsp;</td><td class=\"tabev3\">29</td><td class=\"tabev5\" id=\"magtyp6\" > M</td><td class=\"tabev2\">3.0</td><td id=\"reg6\" class=\"tb_region\" >&#160;PANAMA-COSTA RICA BORDER REGION</td><td class=\"comment updatetimeno\" id=\"upd6\" style=\"text-align:right;\">2019-06-28 07:26</td></tr>\\n<tr id=\"773842\" class=\"ligne2 normal\" onclick=\"go_details(event,773842);\"  ><td class=\"tabev0\"></td><td class=\"tabev0\"></td><td class=\"tabev0\"></td><td class=\"tabev6\"><b><i style=\"display:none;\">earthquake</i><a href=\"/Earthquake/earthquake.php?id=773842\">2019-06-28&#160;&#160;&#160;06:49:17.8</a></b><i class=\"ago\" id=\"ago7\">1hr 46min ago</i></td><td class=\"tabev1\">19.22&nbsp;</td><td class=\"tabev2\">N&nbsp;&nbsp;</td><td class=\"tabev1\">155.40&nbsp;</td><td class=\"tabev2\">W&nbsp;&nbsp;</td><td class=\"tabev3\">32</td><td class=\"tabev5\" id=\"magtyp7\" >Ml</td><td class=\"tabev2\">2.2</td><td id=\"reg7\" class=\"tb_region\" >&#160;ISLAND OF HAWAII, HAWAII</td><td class=\"comment updatetimeno\" id=\"upd7\" style=\"text-align:right;\">2019-06-28 06:55</td></tr>\\n<tr id=\"773858\" class=\"ligne1 normal\" onclick=\"go_details(event,773858);\"  ><td class=\"tabev0\"></td><td class=\"tabev0\"></td><td class=\"tabev0\"></td><td class=\"tabev6\"><b><i style=\"display:none;\">earthquake</i><a href=\"/Earthquake/earthquake.php?id=773858\">2019-06-28&#160;&#160;&#160;06:48:48.2</a></b><i class=\"ago\" id=\"ago8\">1hr 46min ago</i></td><td class=\"tabev1\">4.03&nbsp;</td><td class=\"tabev2\">N&nbsp;&nbsp;</td><td class=\"tabev1\">78.63&nbsp;</td><td class=\"tabev2\">W&nbsp;&nbsp;</td><td class=\"tabev3\">10</td><td class=\"tabev5\" id=\"magtyp8\" >mb</td><td class=\"tabev2\">4.7</td><td id=\"reg8\" class=\"tb_region\" >&#160;SOUTH OF PANAMA</td><td class=\"comment updatetimeno\" id=\"upd8\" style=\"text-align:right;\">2019-06-28 07:55</td></tr>\\n<tr id=\"773843\" class=\"ligne2 normal\" onclick=\"go_details(event,773843);\"  ><td class=\"tabev0\"></td><td class=\"tabev0\"></td><td class=\"tabev0\"></td><td class=\"tabev6\"><b><i style=\"display:none;\">earthquake</i><a href=\"/Earthquake/earthquake.php?id=773843\">2019-06-28&#160;&#160;&#160;06:37:40.9</a></b><i class=\"ago\" id=\"ago9\">1hr 57min ago</i></td><td class=\"tabev1\">37.27&nbsp;</td><td class=\"tabev2\">N&nbsp;&nbsp;</td><td class=\"tabev1\">36.97&nbsp;</td><td class=\"tabev2\">E&nbsp;&nbsp;</td><td class=\"tabev3\">7</td><td class=\"tabev5\" id=\"magtyp9\" >ML</td><td class=\"tabev2\">2.3</td><td id=\"reg9\" class=\"tb_region\" >&#160;CENTRAL TURKEY</td><td class=\"comment updatetimeno\" id=\"upd9\" style=\"text-align:right;\">2019-06-28 06:54</td></tr>\\n<tr id=\"773854\" class=\"ligne1 normal\" onclick=\"go_details(event,773854);\"  ><td class=\"tabev0\"></td><td class=\"tabev0\"></td><td class=\"tabev0\"></td><td class=\"tabev6\"><b><i style=\"display:none;\">earthquake</i><a href=\"/Earthquake/earthquake.php?id=773854\">2019-06-28&#160;&#160;&#160;06:16:55.0</a></b><i class=\"ago\" id=\"ago10\">2hr 18min ago</i></td><td class=\"tabev1\">19.74&nbsp;</td><td class=\"tabev2\">S&nbsp;&nbsp;</td><td class=\"tabev1\">148.88&nbsp;</td><td class=\"tabev2\">E&nbsp;&nbsp;</td><td class=\"tabev3\">10</td><td class=\"tabev5\" id=\"magtyp10\" >M </td><td class=\"tabev2\">4.1</td><td id=\"reg10\" class=\"tb_region\" >&#160;QUEENSLAND, AUSTRALIA</td><td class=\"comment updatetimeno\" id=\"upd10\" style=\"text-align:right;\">2019-06-28 07:50</td></tr>\\n<tr id=\"773840\" class=\"ligne2 normal\" onclick=\"go_details(event,773840);\"  ><td class=\"tabev0\"></td><td class=\"tabev0\"></td><td class=\"tabev0\"></td><td class=\"tabev6\"><b><i style=\"display:none;\">earthquake</i><a href=\"/Earthquake/earthquake.php?id=773840\">2019-06-28&#160;&#160;&#160;05:42:39.8</a></b><i class=\"ago\" id=\"ago11\">2hr 52min ago</i></td><td class=\"tabev1\">37.51&nbsp;</td><td class=\"tabev2\">N&nbsp;&nbsp;</td><td class=\"tabev1\">42.74&nbsp;</td><td class=\"tabev2\">E&nbsp;&nbsp;</td><td class=\"tabev3\">8</td><td class=\"tabev5\" id=\"magtyp11\" >ML</td><td class=\"tabev2\">3.0</td><td id=\"reg11\" class=\"tb_region\" >&#160;TURKEY-SYRIA-IRAQ BORDER REGION</td><td class=\"comment updatetimeno\" id=\"upd11\" style=\"text-align:right;\">2019-06-28 06:42</td></tr>\\n<tr id=\"773849\" class=\"ligne1 normal\" onclick=\"go_details(event,773849);\"  ><td class=\"tabev0\"></td><td class=\"tabev0\"></td><td class=\"tabev0\"></td><td class=\"tabev6\"><b><i style=\"display:none;\">earthquake</i><a href=\"/Earthquake/earthquake.php?id=773849\">2019-06-28&#160;&#160;&#160;05:38:30.0</a></b><i class=\"ago\" id=\"ago12\">2hr 56min ago</i></td><td class=\"tabev1\">8.33&nbsp;</td><td class=\"tabev2\">N&nbsp;&nbsp;</td><td class=\"tabev1\">82.80&nbsp;</td><td class=\"tabev2\">W&nbsp;&nbsp;</td><td class=\"tabev3\">28</td><td class=\"tabev5\" id=\"magtyp12\" > M</td><td class=\"tabev2\">4.1</td><td id=\"reg12\" class=\"tb_region\" >&#160;PANAMA-COSTA RICA BORDER REGION</td><td class=\"comment updatetimeno\" id=\"upd12\" style=\"text-align:right;\">2019-06-28 07:26</td></tr>\\n<tr id=\"773839\" class=\"ligne2 normal\" onclick=\"go_details(event,773839);\"  ><td class=\"tabev0\"></td><td class=\"tabev0\"></td><td class=\"tabev0\"></td><td class=\"tabev6\"><b><i style=\"display:none;\">earthquake</i><a href=\"/Earthquake/earthquake.php?id=773839\">2019-06-28&#160;&#160;&#160;05:29:52.3</a></b><i class=\"ago\" id=\"ago13\">3hr 05min ago</i></td><td class=\"tabev1\">22.43&nbsp;</td><td class=\"tabev2\">S&nbsp;&nbsp;</td><td class=\"tabev1\">65.98&nbsp;</td><td class=\"tabev2\">W&nbsp;&nbsp;</td><td class=\"tabev3\">260</td><td class=\"tabev5\" id=\"magtyp13\" >mb</td><td class=\"tabev2\">4.2</td><td id=\"reg13\" class=\"tb_region\" >&#160;JUJUY, ARGENTINA</td><td class=\"comment updatetimeno\" id=\"upd13\" style=\"text-align:right;\">2019-06-28 07:19</td></tr>\\n<tr id=\"773837\" class=\"ligne1 normal\" onclick=\"go_details(event,773837);\"  ><td class=\"tabev0\"></td><td class=\"tabev0\"></td><td class=\"tabev0\"></td><td class=\"tabev6\"><b><i style=\"display:none;\">earthquake</i><a href=\"/Earthquake/earthquake.php?id=773837\">2019-06-28&#160;&#160;&#160;05:23:59.3</a></b><i class=\"ago\" id=\"ago14\">3hr 11min ago</i></td><td class=\"tabev1\">19.38&nbsp;</td><td class=\"tabev2\">N&nbsp;&nbsp;</td><td class=\"tabev1\">154.95&nbsp;</td><td class=\"tabev2\">W&nbsp;&nbsp;</td><td class=\"tabev3\">2</td><td class=\"tabev5\" id=\"magtyp14\" >Ml</td><td class=\"tabev2\">2.2</td><td id=\"reg14\" class=\"tb_region\" >&#160;HAWAII REGION, HAWAII</td><td class=\"comment updatetimeno\" id=\"upd14\" style=\"text-align:right;\">2019-06-28 05:30</td></tr>\\n<tr id=\"773838\" class=\"ligne2 normal\" onclick=\"go_details(event,773838);\"  ><td class=\"tabev0\"></td><td class=\"tabev0\"></td><td class=\"tabev0\"></td><td class=\"tabev6\"><b><i style=\"display:none;\">earthquake</i><a href=\"/Earthquake/earthquake.php?id=773838\">2019-06-28&#160;&#160;&#160;05:16:12.1</a></b><i class=\"ago\" id=\"ago15\">3hr 19min ago</i></td><td class=\"tabev1\">36.51&nbsp;</td><td class=\"tabev2\">N&nbsp;&nbsp;</td><td class=\"tabev1\">70.29&nbsp;</td><td class=\"tabev2\">E&nbsp;&nbsp;</td><td class=\"tabev3\">215</td><td class=\"tabev5\" id=\"magtyp15\" >mb</td><td class=\"tabev2\">4.2</td><td id=\"reg15\" class=\"tb_region\" >&#160;HINDU KUSH REGION, AFGHANISTAN</td><td class=\"comment updatetimeno\" id=\"upd15\" style=\"text-align:right;\">2019-06-28 06:41</td></tr>\\n<tr id=\"773836\" class=\"ligne1 normal\" onclick=\"go_details(event,773836);\"  ><td class=\"tabev0\"></td><td class=\"tabev0\"></td><td class=\"tabev0\"></td><td class=\"tabev6\"><b><i style=\"display:none;\">earthquake</i><a href=\"/Earthquake/earthquake.php?id=773836\">2019-06-28&#160;&#160;&#160;04:30:34.0</a></b><i class=\"ago\" id=\"ago16\">4hr 04min ago</i></td><td class=\"tabev1\">29.97&nbsp;</td><td class=\"tabev2\">N&nbsp;&nbsp;</td><td class=\"tabev1\">142.92&nbsp;</td><td class=\"tabev2\">E&nbsp;&nbsp;</td><td class=\"tabev3\">10</td><td class=\"tabev5\" id=\"magtyp16\" >mb</td><td class=\"tabev2\">4.7</td><td id=\"reg16\" class=\"tb_region\" >&#160;IZU ISLANDS, JAPAN REGION</td><td class=\"comment updatetimeno\" id=\"upd16\" style=\"text-align:right;\">2019-06-28 06:41</td></tr>\\n<tr id=\"773850\" class=\"ligne2 normal\" onclick=\"go_details(event,773850);\"  ><td class=\"tabev0\"></td><td class=\"tabev0\"></td><td class=\"tabev0\"></td><td class=\"tabev6\"><b><i style=\"display:none;\">earthquake</i><a href=\"/Earthquake/earthquake.php?id=773850\">2019-06-28&#160;&#160;&#160;04:27:30.0</a></b><i class=\"ago\" id=\"ago17\">4hr 07min ago</i></td><td class=\"tabev1\">8.34&nbsp;</td><td class=\"tabev2\">N&nbsp;&nbsp;</td><td class=\"tabev1\">82.88&nbsp;</td><td class=\"tabev2\">W&nbsp;&nbsp;</td><td class=\"tabev3\">30</td><td class=\"tabev5\" id=\"magtyp17\" > M</td><td class=\"tabev2\">3.1</td><td id=\"reg17\" class=\"tb_region\" >&#160;PANAMA-COSTA RICA BORDER REGION</td><td class=\"comment updatetimeno\" id=\"upd17\" style=\"text-align:right;\">2019-06-28 07:27</td></tr>\\n<tr id=\"773830\" class=\"ligne1 normal\" onclick=\"go_details(event,773830);\"  ><td class=\"tabev0\"></td><td class=\"tabev0\"></td><td class=\"tabev0\"></td><td class=\"tabev6\"><b><i style=\"display:none;\">earthquake</i><a href=\"/Earthquake/earthquake.php?id=773830\">2019-06-28&#160;&#160;&#160;04:20:11.4</a></b><i class=\"ago\" id=\"ago18\">4hr 15min ago</i></td><td class=\"tabev1\">31.63&nbsp;</td><td class=\"tabev2\">N&nbsp;&nbsp;</td><td class=\"tabev1\">104.28&nbsp;</td><td class=\"tabev2\">W&nbsp;&nbsp;</td><td class=\"tabev3\">5</td><td class=\"tabev5\" id=\"magtyp18\" >mb</td><td class=\"tabev2\">2.7</td><td id=\"reg18\" class=\"tb_region\" >&#160;WESTERN TEXAS</td><td class=\"comment updatetimeno\" id=\"upd18\" style=\"text-align:right;\">2019-06-28 04:30</td></tr>\\n<tr id=\"773829\" class=\"ligne2 normal\" onclick=\"go_details(event,773829);\"  ><td class=\"tabev0\"></td><td class=\"tabev0\"></td><td class=\"tabev0\"></td><td class=\"tabev6\"><b><i style=\"display:none;\">earthquake</i><a href=\"/Earthquake/earthquake.php?id=773829\">2019-06-28&#160;&#160;&#160;04:20:02.0</a></b><i class=\"ago\" id=\"ago19\">4hr 15min ago</i></td><td class=\"tabev1\">1.25&nbsp;</td><td class=\"tabev2\">S&nbsp;&nbsp;</td><td class=\"tabev1\">120.32&nbsp;</td><td class=\"tabev2\">E&nbsp;&nbsp;</td><td class=\"tabev3\">10</td><td class=\"tabev5\" id=\"magtyp19\" > M</td><td class=\"tabev2\">3.8</td><td id=\"reg19\" class=\"tb_region\" >&#160;SULAWESI, INDONESIA</td><td class=\"comment updatetimeno\" id=\"upd19\" style=\"text-align:right;\">2019-06-28 04:30</td></tr>\\n<tr id=\"773828\" class=\"ligne1 normal\" onclick=\"go_details(event,773828);\"  ><td class=\"tabev0\"></td><td class=\"tabev0\"></td><td class=\"tabev0\"></td><td class=\"tabev6\"><b><i style=\"display:none;\">earthquake</i><a href=\"/Earthquake/earthquake.php?id=773828\">2019-06-28&#160;&#160;&#160;03:58:30.0</a></b><i class=\"ago\" id=\"ago20\">4hr 36min ago</i></td><td class=\"tabev1\">8.34&nbsp;</td><td class=\"tabev2\">N&nbsp;&nbsp;</td><td class=\"tabev1\">82.81&nbsp;</td><td class=\"tabev2\">W&nbsp;&nbsp;</td><td class=\"tabev3\">30</td><td class=\"tabev5\" id=\"magtyp20\" > M</td><td class=\"tabev2\">3.6</td><td id=\"reg20\" class=\"tb_region\" >&#160;PANAMA-COSTA RICA BORDER REGION</td><td class=\"comment updatetimeno\" id=\"upd20\" style=\"text-align:right;\">2019-06-28 04:25</td></tr>\\n<tr id=\"773825\" class=\"ligne2 normal\" onclick=\"go_details(event,773825);\"  ><td class=\"tabev0\"></td><td class=\"tabev0\"></td><td class=\"tabev0\"></td><td class=\"tabev6\"><b><i style=\"display:none;\">earthquake</i><a href=\"/Earthquake/earthquake.php?id=773825\">2019-06-28&#160;&#160;&#160;03:41:30.0</a></b><i class=\"ago\" id=\"ago21\">4hr 53min ago</i></td><td class=\"tabev1\">8.34&nbsp;</td><td class=\"tabev2\">N&nbsp;&nbsp;</td><td class=\"tabev1\">82.82&nbsp;</td><td class=\"tabev2\">W&nbsp;&nbsp;</td><td class=\"tabev3\">29</td><td class=\"tabev5\" id=\"magtyp21\" > M</td><td class=\"tabev2\">3.3</td><td id=\"reg21\" class=\"tb_region\" >&#160;PANAMA-COSTA RICA BORDER REGION</td><td class=\"comment updatetimeno\" id=\"upd21\" style=\"text-align:right;\">2019-06-28 04:05</td></tr>\\n<tr id=\"773822\" class=\"ligne1 normal\" onclick=\"go_details(event,773822);\"  ><td class=\"tabev0\"></td><td class=\"tabev0\"></td><td class=\"tabev0\"></td><td class=\"tabev6\"><b><i style=\"display:none;\">earthquake</i><a href=\"/Earthquake/earthquake.php?id=773822\">2019-06-28&#160;&#160;&#160;03:41:22.9</a></b><i class=\"ago\" id=\"ago22\">4hr 54min ago</i></td><td class=\"tabev1\">38.92&nbsp;</td><td class=\"tabev2\">N&nbsp;&nbsp;</td><td class=\"tabev1\">15.51&nbsp;</td><td class=\"tabev2\">E&nbsp;&nbsp;</td><td class=\"tabev3\">101</td><td class=\"tabev5\" id=\"magtyp22\" >ML</td><td class=\"tabev2\">2.0</td><td id=\"reg22\" class=\"tb_region\" >&#160;SICILY, ITALY</td><td class=\"comment updatetimeno\" id=\"upd22\" style=\"text-align:right;\">2019-06-28 03:49</td></tr>\\n<tr id=\"773823\" class=\"ligne2 normal\" onclick=\"go_details(event,773823);\"  ><td class=\"tabev0\"></td><td class=\"tabev0\"></td><td class=\"tabev0\"></td><td class=\"tabev6\"><b><i style=\"display:none;\">earthquake</i><a href=\"/Earthquake/earthquake.php?id=773823\">2019-06-28&#160;&#160;&#160;03:40:05.0</a></b><i class=\"ago\" id=\"ago23\">4hr 55min ago</i></td><td class=\"tabev1\">38.94&nbsp;</td><td class=\"tabev2\">S&nbsp;&nbsp;</td><td class=\"tabev1\">73.61&nbsp;</td><td class=\"tabev2\">W&nbsp;&nbsp;</td><td class=\"tabev3\">24</td><td class=\"tabev5\" id=\"magtyp23\" >ML</td><td class=\"tabev2\">3.6</td><td id=\"reg23\" class=\"tb_region\" >&#160;OFFSHORE ARAUCANIA, CHILE</td><td class=\"comment updatetimeno\" id=\"upd23\" style=\"text-align:right;\">2019-06-28 03:50</td></tr>\\n<tr id=\"773820\" class=\"ligne1 normal\" onclick=\"go_details(event,773820);\"  ><td class=\"tabev0\"></td><td class=\"tabev0\"></td><td class=\"tabev0\"></td><td class=\"tabev6\"><b><i style=\"display:none;\">earthquake</i><a href=\"/Earthquake/earthquake.php?id=773820\">2019-06-28&#160;&#160;&#160;02:56:49.2</a></b><i class=\"ago\" id=\"ago24\">5hr 38min ago</i></td><td class=\"tabev1\">35.63&nbsp;</td><td class=\"tabev2\">N&nbsp;&nbsp;</td><td class=\"tabev1\">26.03&nbsp;</td><td class=\"tabev2\">E&nbsp;&nbsp;</td><td class=\"tabev3\">17</td><td class=\"tabev5\" id=\"magtyp24\" >ML</td><td class=\"tabev2\">2.7</td><td id=\"reg24\" class=\"tb_region\" >&#160;CRETE, GREECE</td><td class=\"comment updatetimeno\" id=\"upd24\" style=\"text-align:right;\">2019-06-28 06:40</td></tr>\\n<tr id=\"773819\" class=\"ligne2 normal\" onclick=\"go_details(event,773819);\"  ><td class=\"tabev0\"></td><td class=\"tabev0\"></td><td class=\"tabev0\"></td><td class=\"tabev6\"><b><i style=\"display:none;\">earthquake</i><a href=\"/Earthquake/earthquake.php?id=773819\">2019-06-28&#160;&#160;&#160;02:55:28.5</a></b><i class=\"ago\" id=\"ago25\">5hr 39min ago</i></td><td class=\"tabev1\">38.78&nbsp;</td><td class=\"tabev2\">N&nbsp;&nbsp;</td><td class=\"tabev1\">122.75&nbsp;</td><td class=\"tabev2\">W&nbsp;&nbsp;</td><td class=\"tabev3\">-1</td><td class=\"tabev5\" id=\"magtyp25\" >Md</td><td class=\"tabev2\">2.2</td><td id=\"reg25\" class=\"tb_region\" >&#160;NORTHERN CALIFORNIA</td><td class=\"comment updatetimeno\" id=\"upd25\" style=\"text-align:right;\">2019-06-28 02:57</td></tr>\\n<tr id=\"773818\" class=\"ligne1 normal\" onclick=\"go_details(event,773818);\"  ><td class=\"tabev0\"></td><td class=\"tabev0\"></td><td class=\"tabev0\"></td><td class=\"tabev6\"><b><i style=\"display:none;\">earthquake</i><a href=\"/Earthquake/earthquake.php?id=773818\">2019-06-28&#160;&#160;&#160;02:24:30.0</a></b><i class=\"ago\" id=\"ago26\">6hr 10min ago</i></td><td class=\"tabev1\">8.32&nbsp;</td><td class=\"tabev2\">N&nbsp;&nbsp;</td><td class=\"tabev1\">82.81&nbsp;</td><td class=\"tabev2\">W&nbsp;&nbsp;</td><td class=\"tabev3\">27</td><td class=\"tabev5\" id=\"magtyp26\" > M</td><td class=\"tabev2\">3.1</td><td id=\"reg26\" class=\"tb_region\" >&#160;PANAMA-COSTA RICA BORDER REGION</td><td class=\"comment updatetimeno\" id=\"upd26\" style=\"text-align:right;\">2019-06-28 02:40</td></tr>\\n<tr id=\"773817\" class=\"ligne2 normal\" onclick=\"go_details(event,773817);\"  ><td class=\"tabev0\"></td><td class=\"tabev0\"></td><td class=\"tabev0\"></td><td class=\"tabev6\"><b><i style=\"display:none;\">earthquake</i><a href=\"/Earthquake/earthquake.php?id=773817\">2019-06-28&#160;&#160;&#160;02:07:43.6</a></b><i class=\"ago\" id=\"ago27\">6hr 27min ago</i></td><td class=\"tabev1\">13.66&nbsp;</td><td class=\"tabev2\">N&nbsp;&nbsp;</td><td class=\"tabev1\">91.82&nbsp;</td><td class=\"tabev2\">W&nbsp;&nbsp;</td><td class=\"tabev3\">35</td><td class=\"tabev5\" id=\"magtyp27\" >mb</td><td class=\"tabev2\">4.1</td><td id=\"reg27\" class=\"tb_region\" >&#160;OFFSHORE GUATEMALA</td><td class=\"comment updatetimeno\" id=\"upd27\" style=\"text-align:right;\">2019-06-28 02:33</td></tr>\\n<tr id=\"773815\" class=\"ligne1 normal\" onclick=\"go_details(event,773815);\"  ><td class=\"tabev0\"></td><td class=\"tabev0\"></td><td class=\"tabev0\"></td><td class=\"tabev6\"><b><i style=\"display:none;\">earthquake</i><a href=\"/Earthquake/earthquake.php?id=773815\">2019-06-28&#160;&#160;&#160;01:50:30.0</a></b><i class=\"ago\" id=\"ago28\">6hr 44min ago</i></td><td class=\"tabev1\">8.35&nbsp;</td><td class=\"tabev2\">N&nbsp;&nbsp;</td><td class=\"tabev1\">82.85&nbsp;</td><td class=\"tabev2\">W&nbsp;&nbsp;</td><td class=\"tabev3\">31</td><td class=\"tabev5\" id=\"magtyp28\" > M</td><td class=\"tabev2\">3.0</td><td id=\"reg28\" class=\"tb_region\" >&#160;PANAMA-COSTA RICA BORDER REGION</td><td class=\"comment updatetimeno\" id=\"upd28\" style=\"text-align:right;\">2019-06-28 02:15</td></tr>\\n<tr id=\"773846\" class=\"ligne2 normal\" onclick=\"go_details(event,773846);\"  ><td class=\"tabev0\"></td><td class=\"tabev0\"></td><td class=\"tabev0\"></td><td class=\"tabev6\"><b><i style=\"display:none;\">earthquake</i><a href=\"/Earthquake/earthquake.php?id=773846\">2019-06-28&#160;&#160;&#160;01:35:51.8</a></b><i class=\"ago\" id=\"ago29\">6hr 59min ago</i></td><td class=\"tabev1\">38.82&nbsp;</td><td class=\"tabev2\">N&nbsp;&nbsp;</td><td class=\"tabev1\">122.81&nbsp;</td><td class=\"tabev2\">W&nbsp;&nbsp;</td><td class=\"tabev3\">2</td><td class=\"tabev5\" id=\"magtyp29\" >Md</td><td class=\"tabev2\">2.0</td><td id=\"reg29\" class=\"tb_region\" >&#160;NORTHERN CALIFORNIA</td><td class=\"comment updatetimeno\" id=\"upd29\" style=\"text-align:right;\">2019-06-28 07:14</td></tr>\\n<tr id=\"773807\" class=\"ligne1 normal\" onclick=\"go_details(event,773807);\"  ><td class=\"tabev0\"></td><td class=\"tabev0\"></td><td class=\"tabev0\"></td><td class=\"tabev6\"><b><i style=\"display:none;\">earthquake</i><a href=\"/Earthquake/earthquake.php?id=773807\">2019-06-28&#160;&#160;&#160;01:03:58.0</a></b><i class=\"ago\" id=\"ago30\">7hr 31min ago</i></td><td class=\"tabev1\">2.53&nbsp;</td><td class=\"tabev2\">S&nbsp;&nbsp;</td><td class=\"tabev1\">138.49&nbsp;</td><td class=\"tabev2\">E&nbsp;&nbsp;</td><td class=\"tabev3\">10</td><td class=\"tabev5\" id=\"magtyp30\" > M</td><td class=\"tabev2\">3.8</td><td id=\"reg30\" class=\"tb_region\" >&#160;PAPUA, INDONESIA</td><td class=\"comment updatetimeno\" id=\"upd30\" style=\"text-align:right;\">2019-06-28 01:15</td></tr>\\n<tr id=\"773795\" class=\"ligne2 normal\" onclick=\"go_details(event,773795);\"  ><td class=\"tabev0\"></td><td class=\"tabev0\"></td><td class=\"tabev0\"></td><td class=\"tabev6\"><b><i style=\"display:none;\">earthquake</i><a href=\"/Earthquake/earthquake.php?id=773795\">2019-06-28&#160;&#160;&#160;00:52:16.0</a></b><i class=\"ago\" id=\"ago31\">7hr 43min ago</i></td><td class=\"tabev1\">2.81&nbsp;</td><td class=\"tabev2\">S&nbsp;&nbsp;</td><td class=\"tabev1\">138.60&nbsp;</td><td class=\"tabev2\">E&nbsp;&nbsp;</td><td class=\"tabev3\">10</td><td class=\"tabev5\" id=\"magtyp31\" > M</td><td class=\"tabev2\">4.0</td><td id=\"reg31\" class=\"tb_region\" >&#160;PAPUA, INDONESIA</td><td class=\"comment updatetimeno\" id=\"upd31\" style=\"text-align:right;\">2019-06-28 01:00</td></tr>\\n<tr id=\"773791\" class=\"ligne1 normal\" onclick=\"go_details(event,773791);\"  ><td class=\"tabev0\"></td><td class=\"tabev0\"></td><td class=\"tabev0\"></td><td class=\"tabev6\"><b><i style=\"display:none;\">earthquake</i><a href=\"/Earthquake/earthquake.php?id=773791\">2019-06-28&#160;&#160;&#160;00:50:24.2</a></b><i class=\"ago\" id=\"ago32\">7hr 45min ago</i></td><td class=\"tabev1\">38.68&nbsp;</td><td class=\"tabev2\">N&nbsp;&nbsp;</td><td class=\"tabev1\">27.61&nbsp;</td><td class=\"tabev2\">E&nbsp;&nbsp;</td><td class=\"tabev3\">7</td><td class=\"tabev5\" id=\"magtyp32\" >ML</td><td class=\"tabev2\">2.8</td><td id=\"reg32\" class=\"tb_region\" >&#160;WESTERN TURKEY</td><td class=\"comment updatetimeno\" id=\"upd32\" style=\"text-align:right;\">2019-06-28 06:40</td></tr>\\n<tr id=\"773793\" class=\"ligne2 normal\" onclick=\"go_details(event,773793);\"  ><td class=\"tabev0\"></td><td class=\"tabev0\"></td><td class=\"tabev0\"></td><td class=\"tabev6\"><b><i style=\"display:none;\">earthquake</i><a href=\"/Earthquake/earthquake.php?id=773793\">2019-06-28&#160;&#160;&#160;00:45:47.0</a></b><i class=\"ago\" id=\"ago33\">7hr 49min ago</i></td><td class=\"tabev1\">2.47&nbsp;</td><td class=\"tabev2\">S&nbsp;&nbsp;</td><td class=\"tabev1\">138.49&nbsp;</td><td class=\"tabev2\">E&nbsp;&nbsp;</td><td class=\"tabev3\">10</td><td class=\"tabev5\" id=\"magtyp33\" > M</td><td class=\"tabev2\">3.7</td><td id=\"reg33\" class=\"tb_region\" >&#160;PAPUA, INDONESIA</td><td class=\"comment updatetimeno\" id=\"upd33\" style=\"text-align:right;\">2019-06-28 00:55</td></tr>\\n<tr id=\"773790\" class=\"ligne1 normal\" onclick=\"go_details(event,773790);\"  ><td class=\"tabev0\" style=\"text-align:center;\"><a href=\"https://www.emsc-csem.org/Earthquake/Testimonies/comments.php?id=773790\" onmouseover=\"info_b2(\\'show\\',\\'See the <b>2 testimonies</b> for this earthquake\\');\" onmouseout=\"info_b2(\\'notshow\\',\\'\\');\"><span class=\" \" style=\"vertical-align:middle;\">2</span></a></td><td class=\"tabev0\"></td><td class=\"tabev0\"></td><td class=\"tabev6\"><b><i style=\"display:none;\">earthquake</i><a href=\"/Earthquake/earthquake.php?id=773790\">2019-06-28&#160;&#160;&#160;00:39:46.5</a></b><i class=\"ago\" id=\"ago34\">7hr 55min ago</i></td><td class=\"tabev1\">61.96&nbsp;</td><td class=\"tabev2\">N&nbsp;&nbsp;</td><td class=\"tabev1\">150.93&nbsp;</td><td class=\"tabev2\">W&nbsp;&nbsp;</td><td class=\"tabev3\">59</td><td class=\"tabev5\" id=\"magtyp34\" >ML</td><td class=\"tabev2\">2.4</td><td id=\"reg34\" class=\"tb_region\" >&#160;SOUTHERN ALASKA</td><td class=\"comment updatetimeno\" id=\"upd34\" style=\"text-align:right;\">2019-06-28 01:52</td></tr>\\n<tr id=\"773794\" class=\"ligne2 normal\" onclick=\"go_details(event,773794);\"  ><td class=\"tabev0\"></td><td class=\"tabev0\"></td><td class=\"tabev0\"></td><td class=\"tabev6\"><b><i style=\"display:none;\">earthquake</i><a href=\"/Earthquake/earthquake.php?id=773794\">2019-06-28&#160;&#160;&#160;00:37:57.0</a></b><i class=\"ago\" id=\"ago35\">7hr 57min ago</i></td><td class=\"tabev1\">15.90&nbsp;</td><td class=\"tabev2\">N&nbsp;&nbsp;</td><td class=\"tabev1\">96.57&nbsp;</td><td class=\"tabev2\">W&nbsp;&nbsp;</td><td class=\"tabev3\">10</td><td class=\"tabev5\" id=\"magtyp35\" > M</td><td class=\"tabev2\">4.1</td><td id=\"reg35\" class=\"tb_region\" >&#160;OAXACA, MEXICO</td><td class=\"comment updatetimeno\" id=\"upd35\" style=\"text-align:right;\">2019-06-28 00:55</td></tr>\\n<tr id=\"773789\" class=\"ligne1 normal\" onclick=\"go_details(event,773789);\"  ><td class=\"tabev0\"></td><td class=\"tabev0\"></td><td class=\"tabev0\"></td><td class=\"tabev6\"><b><i style=\"display:none;\">earthquake</i><a href=\"/Earthquake/earthquake.php?id=773789\">2019-06-28&#160;&#160;&#160;00:28:45.7</a></b><i class=\"ago\" id=\"ago36\">8hr 06min ago</i></td><td class=\"tabev1\">1.81&nbsp;</td><td class=\"tabev2\">N&nbsp;&nbsp;</td><td class=\"tabev1\">127.40&nbsp;</td><td class=\"tabev2\">E&nbsp;&nbsp;</td><td class=\"tabev3\">106</td><td class=\"tabev5\" id=\"magtyp36\" >mb</td><td class=\"tabev2\">4.5</td><td id=\"reg36\" class=\"tb_region\" >&#160;HALMAHERA, INDONESIA</td><td class=\"comment updatetimeno\" id=\"upd36\" style=\"text-align:right;\">2019-06-28 00:46</td></tr>\\n<tr id=\"773788\" class=\"ligne2 normal\" onclick=\"go_details(event,773788);\"  ><td class=\"tabev0\"></td><td class=\"tabev0\"></td><td class=\"tabev0\"></td><td class=\"tabev6\"><b><i style=\"display:none;\">earthquake</i><a href=\"/Earthquake/earthquake.php?id=773788\">2019-06-28&#160;&#160;&#160;00:18:57.0</a></b><i class=\"ago\" id=\"ago37\">8hr 16min ago</i></td><td class=\"tabev1\">17.17&nbsp;</td><td class=\"tabev2\">N&nbsp;&nbsp;</td><td class=\"tabev1\">94.42&nbsp;</td><td class=\"tabev2\">W&nbsp;&nbsp;</td><td class=\"tabev3\">151</td><td class=\"tabev5\" id=\"magtyp37\" > M</td><td class=\"tabev2\">4.3</td><td id=\"reg37\" class=\"tb_region\" >&#160;OAXACA, MEXICO</td><td class=\"comment updatetimeno\" id=\"upd37\" style=\"text-align:right;\">2019-06-28 00:35</td></tr>\\n<tr id=\"773787\" class=\"ligne1 normal\" onclick=\"go_details(event,773787);\"  ><td class=\"tabev0\"></td><td class=\"tabev0\"></td><td class=\"tabev0\"></td><td class=\"tabev6\"><b><i style=\"display:none;\">earthquake</i><a href=\"/Earthquake/earthquake.php?id=773787\">2019-06-28&#160;&#160;&#160;00:16:30.0</a></b><i class=\"ago\" id=\"ago38\">8hr 18min ago</i></td><td class=\"tabev1\">8.37&nbsp;</td><td class=\"tabev2\">N&nbsp;&nbsp;</td><td class=\"tabev1\">82.83&nbsp;</td><td class=\"tabev2\">W&nbsp;&nbsp;</td><td class=\"tabev3\">31</td><td class=\"tabev5\" id=\"magtyp38\" > M</td><td class=\"tabev2\">3.2</td><td id=\"reg38\" class=\"tb_region\" >&#160;PANAMA-COSTA RICA BORDER REGION</td><td class=\"comment updatetimeno\" id=\"upd38\" style=\"text-align:right;\">2019-06-28 00:35</td></tr>\\n<tr id=\"tr039\" class=\"autour\"><td colspan=\"13\"  style=\"height:3px;background-color:#FFF;\"></td></tr><tr id=\"tr139\" class=\"black\"><td colspan=\"13\" style=\"height:1px;line-height:1px;\"> <!--[if lte IE 7]>&nbsp;<![endif]--></td></tr><tr id=\"tr239\" class=\"autour\"><td colspan=\"13\" style=\"height:3px;background-color:#FFF;\"></td></tr><tr id=\"773785\" class=\"ligne2 normal\" onclick=\"go_details(event,773785);\"  ><td class=\"tabev0\"></td><td class=\"tabev0\"></td><td class=\"tabev0\"></td><td class=\"tabev6\"><b><i style=\"display:none;\">earthquake</i><a href=\"/Earthquake/earthquake.php?id=773785\">2019-06-27&#160;&#160;&#160;23:37:58.7</a></b><i class=\"ago\" id=\"ago39\">8hr 57min ago</i></td><td class=\"tabev1\">17.58&nbsp;</td><td class=\"tabev2\">S&nbsp;&nbsp;</td><td class=\"tabev1\">69.89&nbsp;</td><td class=\"tabev2\">W&nbsp;&nbsp;</td><td class=\"tabev3\">171</td><td class=\"tabev5\" id=\"magtyp39\" >mb</td><td class=\"tabev2\">4.0</td><td id=\"reg39\" class=\"tb_region\" >&#160;SOUTHERN PERU</td><td class=\"comment updatetimeno\" id=\"upd39\" style=\"text-align:right;\">2019-06-28 08:16</td></tr>\\n<tr id=\"773783\" class=\"ligne1 normal\" onclick=\"go_details(event,773783);\"  ><td class=\"tabev0\"></td><td class=\"tabev0\"></td><td class=\"tabev0\"></td><td class=\"tabev6\"><b><i style=\"display:none;\">earthquake</i><a href=\"/Earthquake/earthquake.php?id=773783\">2019-06-27&#160;&#160;&#160;23:32:43.6</a></b><i class=\"ago\" id=\"ago40\">9hr 02min ago</i></td><td class=\"tabev1\">35.81&nbsp;</td><td class=\"tabev2\">N&nbsp;&nbsp;</td><td class=\"tabev1\">121.38&nbsp;</td><td class=\"tabev2\">W&nbsp;&nbsp;</td><td class=\"tabev3\">5</td><td class=\"tabev5\" id=\"magtyp40\" >Md</td><td class=\"tabev2\">2.2</td><td id=\"reg40\" class=\"tb_region\" >&#160;OFFSHORE CENTRAL CALIFORNIA</td><td class=\"comment updatetimeno\" id=\"upd40\" style=\"text-align:right;\">2019-06-27 23:34</td></tr>\\n<tr id=\"773779\" class=\"ligne2 normal\" onclick=\"go_details(event,773779);\"  ><td class=\"tabev0\"></td><td class=\"tabev0\"></td><td class=\"tabev0\"></td><td class=\"tabev6\"><b><i style=\"display:none;\">earthquake</i><a href=\"/Earthquake/earthquake.php?id=773779\">2019-06-27&#160;&#160;&#160;22:57:44.0</a></b><i class=\"ago\" id=\"ago41\">9hr 37min ago</i></td><td class=\"tabev1\">0.16&nbsp;</td><td class=\"tabev2\">N&nbsp;&nbsp;</td><td class=\"tabev1\">124.95&nbsp;</td><td class=\"tabev2\">E&nbsp;&nbsp;</td><td class=\"tabev3\">139</td><td class=\"tabev5\" id=\"magtyp41\" > M</td><td class=\"tabev2\">3.7</td><td id=\"reg41\" class=\"tb_region\" >&#160;MINAHASA, SULAWESI, INDONESIA</td><td class=\"comment updatetimeno\" id=\"upd41\" style=\"text-align:right;\">2019-06-27 23:20</td></tr>\\n<tr id=\"773773\" class=\"ligne1 normal\" onclick=\"go_details(event,773773);\"  ><td class=\"tabev0\"></td><td class=\"tabev0\"></td><td class=\"tabev0\"></td><td class=\"tabev6\"><b><i style=\"display:none;\">earthquake</i><a href=\"/Earthquake/earthquake.php?id=773773\">2019-06-27&#160;&#160;&#160;22:47:17.7</a></b><i class=\"ago\" id=\"ago42\">9hr 48min ago</i></td><td class=\"tabev1\">27.63&nbsp;</td><td class=\"tabev2\">N&nbsp;&nbsp;</td><td class=\"tabev1\">18.01&nbsp;</td><td class=\"tabev2\">W&nbsp;&nbsp;</td><td class=\"tabev3\">24</td><td class=\"tabev5\" id=\"magtyp42\" >ML</td><td class=\"tabev2\">3.0</td><td id=\"reg42\" class=\"tb_region\" >&#160;CANARY ISLANDS, SPAIN REGION</td><td class=\"comment updatetimeno\" id=\"upd42\" style=\"text-align:right;\">2019-06-27 22:48</td></tr>\\n<tr id=\"773771\" class=\"ligne2 normal\" onclick=\"go_details(event,773771);\"  ><td class=\"tabev0\"></td><td class=\"tabev0\"></td><td class=\"tabev0\"></td><td class=\"tabev6\"><b><i style=\"display:none;\">earthquake</i><a href=\"/Earthquake/earthquake.php?id=773771\">2019-06-27&#160;&#160;&#160;22:37:20.9</a></b><i class=\"ago\" id=\"ago43\">9hr 58min ago</i></td><td class=\"tabev1\">47.18&nbsp;</td><td class=\"tabev2\">N&nbsp;&nbsp;</td><td class=\"tabev1\">10.42&nbsp;</td><td class=\"tabev2\">E&nbsp;&nbsp;</td><td class=\"tabev3\">1</td><td class=\"tabev5\" id=\"magtyp43\" >ML</td><td class=\"tabev2\">1.6</td><td id=\"reg43\" class=\"tb_region\" >&#160;AUSTRIA</td><td class=\"comment updatetimeno\" id=\"upd43\" style=\"text-align:right;\">2019-06-27 22:42</td></tr>\\n<tr id=\"773786\" class=\"ligne1 normal\" onclick=\"go_details(event,773786);\"  ><td class=\"tabev0\"></td><td class=\"tabev0\"></td><td class=\"tabev0\"></td><td class=\"tabev6\"><b><i style=\"display:none;\">earthquake</i><a href=\"/Earthquake/earthquake.php?id=773786\">2019-06-27&#160;&#160;&#160;22:12:54.0</a></b><i class=\"ago\" id=\"ago44\">10hr 22min ago</i></td><td class=\"tabev1\">19.09&nbsp;</td><td class=\"tabev2\">N&nbsp;&nbsp;</td><td class=\"tabev1\">69.30&nbsp;</td><td class=\"tabev2\">W&nbsp;&nbsp;</td><td class=\"tabev3\">27</td><td class=\"tabev5\" id=\"magtyp44\" > M</td><td class=\"tabev2\">3.3</td><td id=\"reg44\" class=\"tb_region\" >&#160;DOMINICAN REPUBLIC REGION</td><td class=\"comment updatetimeno\" id=\"upd44\" style=\"text-align:right;\">2019-06-28 00:00</td></tr>\\n<tr id=\"773770\" class=\"ligne2 normal\" onclick=\"go_details(event,773770);\"  ><td class=\"tabev0\"></td><td class=\"tabev0\"></td><td class=\"tabev0\"><span onClick=\"go_details(event,null,\\'https://www.emsc-csem.org/Earthquake/popup_intensmap.php?id=773770&f=/INTENSITY_MAPS/77/773770/AUTOMATIC/AreaThreshold_5/EMS_98__RMW_Musson/LocMethod_PerClusterCity/DynamicClusters_MaxSize50/IntensityMapThumbnails.png\\');\" class=\"intensity\" style=\"background-color:#FFFFFF;\" onmouseover=\"info_b2(\\'show\\',\\'See the <b> Intensity map</b>\\');\" onmouseout=\"info_b2(\\'notshow\\',\\'\\');\">F</span></td><td class=\"tabev6\"><b><i style=\"display:none;\">earthquake</i><a href=\"/Earthquake/earthquake.php?id=773770\">2019-06-27&#160;&#160;&#160;22:11:30.0</a></b><i class=\"ago\" id=\"ago45\">10hr 23min ago</i></td><td class=\"tabev1\">8.33&nbsp;</td><td class=\"tabev2\">N&nbsp;&nbsp;</td><td class=\"tabev1\">82.80&nbsp;</td><td class=\"tabev2\">W&nbsp;&nbsp;</td><td class=\"tabev3\">22</td><td class=\"tabev5\" id=\"magtyp45\" > M</td><td class=\"tabev2\">4.2</td><td id=\"reg45\" class=\"tb_region\" >&#160;PANAMA-COSTA RICA BORDER REGION</td><td class=\"comment updatetimeno\" id=\"upd45\" style=\"text-align:right;\">2019-06-27 22:25</td></tr>\\n<tr id=\"773810\" class=\"ligne1 normal\" onclick=\"go_details(event,773810);\"  ><td class=\"tabev0\"></td><td class=\"tabev0\"></td><td class=\"tabev0\"></td><td class=\"tabev6\"><b><i style=\"display:none;\">earthquake</i><a href=\"/Earthquake/earthquake.php?id=773810\">2019-06-27&#160;&#160;&#160;21:47:54.3</a></b><i class=\"ago\" id=\"ago46\">10hr 47min ago</i></td><td class=\"tabev1\">19.49&nbsp;</td><td class=\"tabev2\">N&nbsp;&nbsp;</td><td class=\"tabev1\">65.45&nbsp;</td><td class=\"tabev2\">W&nbsp;&nbsp;</td><td class=\"tabev3\">35</td><td class=\"tabev5\" id=\"magtyp46\" >ML</td><td class=\"tabev2\">2.2</td><td id=\"reg46\" class=\"tb_region\" >&#160;PUERTO RICO REGION</td><td class=\"comment updatetimeno\" id=\"upd46\" style=\"text-align:right;\">2019-06-28 01:58</td></tr>\\n<tr id=\"773765\" class=\"ligne2 normal\" onclick=\"go_details(event,773765);\"  ><td class=\"tabev0\"></td><td class=\"tabev0\"></td><td class=\"tabev0\"></td><td class=\"tabev6\"><b><i style=\"display:none;\">earthquake</i><a href=\"/Earthquake/earthquake.php?id=773765\">2019-06-27&#160;&#160;&#160;21:34:00.5</a></b><i class=\"ago\" id=\"ago47\">11hr 01min ago</i></td><td class=\"tabev1\">35.20&nbsp;</td><td class=\"tabev2\">N&nbsp;&nbsp;</td><td class=\"tabev1\">118.23&nbsp;</td><td class=\"tabev2\">W&nbsp;&nbsp;</td><td class=\"tabev3\">2</td><td class=\"tabev5\" id=\"magtyp47\" >Ml</td><td class=\"tabev2\">2.3</td><td id=\"reg47\" class=\"tb_region\" >&#160;SOUTHERN CALIFORNIA</td><td class=\"comment updatetimeno\" id=\"upd47\" style=\"text-align:right;\">2019-06-27 21:53</td></tr>\\n<tr id=\"773766\" class=\"ligne1 normal\" onclick=\"go_details(event,773766);\"  ><td class=\"tabev0\"></td><td class=\"tabev0\"></td><td class=\"tabev0\"></td><td class=\"tabev6\"><b><i style=\"display:none;\">earthquake</i><a href=\"/Earthquake/earthquake.php?id=773766\">2019-06-27&#160;&#160;&#160;21:14:30.0</a></b><i class=\"ago\" id=\"ago48\">11hr 20min ago</i></td><td class=\"tabev1\">8.38&nbsp;</td><td class=\"tabev2\">N&nbsp;&nbsp;</td><td class=\"tabev1\">82.87&nbsp;</td><td class=\"tabev2\">W&nbsp;&nbsp;</td><td class=\"tabev3\">12</td><td class=\"tabev5\" id=\"magtyp48\" > M</td><td class=\"tabev2\">3.3</td><td id=\"reg48\" class=\"tb_region\" >&#160;PANAMA-COSTA RICA BORDER REGION</td><td class=\"comment updatetimeno\" id=\"upd48\" style=\"text-align:right;\">2019-06-27 21:45</td></tr>\\n<tr id=\"773802\" class=\"ligne2 normal\" onclick=\"go_details(event,773802);\"  ><td class=\"tabev0\"></td><td class=\"tabev0\"></td><td class=\"tabev0\"></td><td class=\"tabev6\"><b><i style=\"display:none;\">earthquake</i><a href=\"/Earthquake/earthquake.php?id=773802\">2019-06-27&#160;&#160;&#160;21:06:59.0</a></b><i class=\"ago\" id=\"ago49\">11hr 28min ago</i></td><td class=\"tabev1\">16.11&nbsp;</td><td class=\"tabev2\">N&nbsp;&nbsp;</td><td class=\"tabev1\">98.72&nbsp;</td><td class=\"tabev2\">W&nbsp;&nbsp;</td><td class=\"tabev3\">11</td><td class=\"tabev5\" id=\"magtyp49\" > M</td><td class=\"tabev2\">3.5</td><td id=\"reg49\" class=\"tb_region\" >&#160;OFFSHORE GUERRERO, MEXICO</td><td class=\"comment updatetimeno\" id=\"upd49\" style=\"text-align:right;\">2019-06-28 01:10</td></tr>\\n</tbody><tfoot><tr><td colspan=\"13\" style=\"height:3px\"></td></tr> <tr class=\"npages\" id=\"my_pagelist_1\"><td colspan=\"13\"><a href=\"javascript:void()\" rel=\"nofollow\" class=\"sublink sublinka\" >1</a><a href=\"/Earthquake/?view=2\" class=\"sublink\">2</a><a href=\"/Earthquake/?view=3\" class=\"sublink\">3</a><a href=\"/Earthquake/?view=4\" class=\"sublink\">4</a><a href=\"/Earthquake/?view=5\" class=\"sublink\">5</a><a href=\"/Earthquake/?view=6\" class=\"sublink\">6</a><a href=\"/Earthquake/?view=7\" class=\"sublink\">7</a><a href=\"/Earthquake/?view=8\" class=\"sublink\">8</a><a href=\"/Earthquake/?view=9\" class=\"sublink\">9</a><a href=\"/Earthquake/?view=10\" class=\"sublink\">10</a><a href=\"/Earthquake/?view=2\" class=\"sublink\" alt=\"Next page\">&#155;</a><a href=\"/Earthquake/?view=11\" class=\"sublink\" alt=\"Next 10 pages\">&raquo;</a></td></tr><tr><td colspan=\"13\" style=\"border-bottom:1px solid #000;\"></td></tr></tfoot></table><b>Bold : Earthquakes with a magnitude &ge; 4.5 in Euro-med, or &ge; 5.5 in the world </b><br/><b style=\"color:red;\">Red : Earthquakes with a magnitude &ge; 5 in Euro-med, or &ge; 6 in the world </b><br/><script>\\r\\n\\t\\t\\t\\tvar nb_event_on_page=50;\\r\\n\\t\\t\\t\\r\\n\\t\\t\\t\\tfunction cancel_evt(e) {\\r\\n\\t\\t\\t\\t\\tif(e.bubbles===undefined) e.cancelBubble = true;\\r\\n\\t\\t\\t\\t\\telse e.stopPropagation();\\r\\n\\t\\t\\t\\t}\\t\\r\\n\\t\\t\\t\\tfunction go_details(e,id,page) {\\r\\n\\t\\t\\t\\t\\tif((!id) || (id==null)) {\\r\\n\\t\\t\\t\\t\\t\\tcancel_evt(e);\\r\\n\\t\\t\\t\\t\\t\\twindow.open(page,\"Intensity_Map\",\"menubar=no, status=no, scrollbars=no, menubar=no, width=900, height=1000\");\\r\\n\\t\\t\\t\\t\\t}\\t\\r\\n\\t\\t\\t\\t\\telse document.location.href=\"/Earthquake/earthquake.php?id=\"+id;\\r\\n\\t\\t\\t\\t}\\r\\n\\t\\t\\t\\t\\r\\n\\t\\t\\t\\tvar is_hide_magni=true;\\r\\n\\t\\t\\t\\tfunction hide_magni() {\\r\\n\\t\\t\\t\\t\\tif(!is_hide_magni) {\\r\\n\\t\\t\\t\\t\\t\\tis_hide_magni=true;\\r\\n\\t\\t\\t\\t\\t\\tif(document.getElementById(\"thmag\")) document.getElementById(\"thmag\").colSpan=\"1\";\\r\\n\\t\\t\\t\\t\\t\\tif(document.getElementById(\"magplus\")) document.getElementById(\"magplus\").innerHTML=\"[+]\";\\r\\n\\t\\t\\t\\t\\t\\tfor (i=0;i<= nb_event_on_page;i++) {\\r\\n\\t\\t\\t\\t\\t\\t\\tif(document.getElementById(\"magtyp\"+i)) { document.getElementById(\"magtyp\"+i).className=\"tabev5\"; } \\r\\n\\t\\t\\t\\t\\t\\t}\\r\\n\\t\\t\\t\\t\\t}\\r\\n\\t\\t\\t\\t\\telse {\\r\\n\\t\\t\\t\\t\\t\\tis_hide_magni=false;\\r\\n\\t\\t\\t\\t\\t\\tif(document.getElementById(\"thmag\")) document.getElementById(\"thmag\").colSpan=\"2\";\\r\\n\\t\\t\\t\\t\\t\\tif(document.getElementById(\"magplus\")) document.getElementById(\"magplus\").innerHTML=\"[-]\";\\r\\n\\t\\t\\t\\t\\t\\tfor (i=0;i<= nb_event_on_page;i++) {\\r\\n\\t\\t\\t\\t\\t\\t\\tif(document.getElementById(\"magtyp\"+i)) {document.getElementById(\"magtyp\"+i).className=\"tabev52\"; } \\r\\n\\t\\t\\t\\t\\t\\t}\\r\\n\\t\\t\\t\\t\\t}\\t\\r\\n\\t\\t\\t\\t}\\t\\r\\n\\t\\t\\t\\t\\r\\n\\t\\t\\t\\tvar ishide=true;\\r\\n\\t\\t\\t\\tfunction hide_upd() {\\r\\n\\t\\t\\t\\t\\tvar i=0;\\r\\n\\t\\t\\t\\t\\tif(!ishide) {\\r\\n\\t\\t\\t\\t\\t\\tishide=true;\\r\\n\\t\\t\\t\\t\\t\\tdocument.getElementById(\"upd\").className=\"th2 updatetimeno\";\\r\\n\\t\\t\\t\\t\\t\\tdocument.getElementById(\"upda\").style.display=\"block\";\\r\\n\\t\\t\\t\\t\\t\\t\\r\\n\\t\\t\\t\\t\\t\\tfor (i=0;i<= nb_event_on_page;i++) {\\r\\n\\t\\t\\t\\t\\t\\t\\tif(document.getElementById(\"upd\"+i)) document.getElementById(\"upd\"+i).className=\"comment updatetimeno\";\\r\\n\\t\\t\\t\\t\\t\\t\\tif(document.getElementById(\"reg\"+i)) document.getElementById(\"reg\"+i).style.paddingLeft=\"20px\";\\r\\n\\t\\t\\t\\t\\t\\t}\\t\\r\\n\\t\\t\\t\\t\\t}\\r\\n\\t\\t\\t\\t\\telse {\\r\\n\\t\\t\\t\\t\\t\\t\\tishide=false;\\r\\n\\t\\t\\t\\t\\t\\tdocument.getElementById(\"upda\").style.display=\"none\";\\t\\r\\n\\t\\t\\t\\t\\t\\tdocument.getElementById(\"upd\").className=\"th2\";\\r\\n\\t\\t\\t\\t\\t\\t\\r\\n\\t\\t\\t\\t\\t\\tfor (i=0;i<= nb_event_on_page;i++) {\\r\\n\\t\\t\\t\\t\\t\\t\\tif(document.getElementById(\"reg\"+i)) document.getElementById(\"reg\"+i).style.paddingLeft=\"4px\";\\r\\n\\t\\t\\t\\t\\t\\t\\tif(document.getElementById(\"upd\"+i)) document.getElementById(\"upd\"+i).className=\"comment\";\\r\\n\\t\\t\\t\\t\\t\\t}\\t\\r\\n\\t\\t\\t\\t\\t\\t\\r\\n\\t\\t\\t\\t\\t}\\t\\r\\n\\t\\t\\t\\t}\\r\\n\\t\\t\\t\\t\\tfunction update_ago() {\\r\\n\\t\\t\\t\\t\\t\\tvar i=0;\\r\\n\\t\\t\\t\\t\\t\\tvar def=new Array(\"min ago\",\"hr \");\\r\\n\\t\\t\\t\\t\\t\\twhile( document.getElementById(\"ago\"+i)) { \\r\\n\\t\\t\\t\\t\\t\\t\\tvar tb=new Array();\\r\\n\\t\\t\\t\\t\\t\\t\\tvar elem=document.getElementById(\"ago\"+i);\\r\\n\\t\\t\\t\\t\\t\\t\\tvar str=elem.innerHTML.replace(/min ago/i,\"\").replace(/hr/i,\"\");\\r\\n\\t\\t\\t\\t\\t\\t\\ttb=str.split(\" \").reverse();\\r\\n\\t\\t\\t\\t\\t\\t\\t//if(i==0) alert(\"**\"+str+\"**\"+tb[0]+\" | \"+tb[1]);\\r\\n\\t\\t\\t\\t\\t\\t\\tvar str2=\"\";\\r\\n\\t\\t\\t\\t\\t\\t\\tvar ln=tb.length;\\r\\n\\t\\t\\t\\t\\t\\t\\tvar j=0;\\r\\n\\t\\t\\t\\t\\t\\t\\r\\n\\t\\t\\t\\t\\t\\t\\ttb[j]=parseFloat(tb[j])+1;\\r\\n\\t\\t\\t\\t\\t\\t\\tif(tb[j]==60) {\\r\\n\\t\\t\\t\\t\\t\\t\\t\\ttb[j]=0;\\r\\n\\t\\t\\t\\t\\t\\t\\t\\tif(ln<=1) tb[j+1]=0;\\r\\n\\t\\t\\t\\t\\t\\t\\t\\ttb[j+1]=parseFloat(tb[j+1])+1;\\r\\n\\t\\t\\t\\t\\t\\t\\t\\tif(tb[j+1]>=12) elem.parentNode.removeChild(elem);\\r\\n\\t\\t\\t\\t\\t\\t\\t}\\t\\r\\n\\t\\t\\t\\t\\t\\t\\tif(tb[j]<10) { tb[j]=\"0\"+tb[j]; }\\r\\n\\t\\t\\t\\t\\t\\t\\t\\t\\r\\n\\t\\t\\t\\t\\t\\t\\tdo {\\r\\n\\t\\t\\t\\t\\t\\t\\t\\ttb[j]+=def[j];\\r\\n\\t\\t\\t\\t\\t\\t\\t\\tj++;\\r\\n\\t\\t\\t\\t\\t\\t\\t} while(tb.length>=(j+1));\\t\\r\\n\\t\\t\\t\\t\\t\\t\\t\\r\\n\\t\\t\\t\\t\\t\\t\\ttb.reverse();\\r\\n\\t\\t\\t\\t\\t\\t\\tfor(var z=0; z<tb.length;z++) {\\r\\n\\t\\t\\t\\t\\t\\t\\t\\tstr2+=tb[z];\\r\\n\\t\\t\\t\\t\\t\\t\\t}\\t\\r\\n\\t\\t\\t\\t\\r\\n\\t\\t\\t\\t\\t\\t\\telem.innerHTML=str2;\\r\\n\\t\\t\\t\\t\\t\\t\\t//alert(str2);\\r\\n\\t\\t\\t\\t\\t\\t\\ti++;\\r\\n\\t\\t\\t\\t\\t\\t} \\r\\n\\t\\t\\t\\t\\t\\tsetTimeout(\"update_ago()\",60000); //1min \\r\\n\\t\\t\\t\\t\\t}\\r\\n\\t\\t\\t\\t\\tsetTimeout(\"update_ago()\",60000);\\r\\n\\t\\t\\t\\t\\t //update_ago();\\r\\n\\t\\t\\t\\tvar tab_time=new Array( {evid:773860, time:\"2019-06-28&#160;&#160;&#160;08:20:21.0\", times:\"1561710021\"},{evid:773859, time:\"2019-06-28&#160;&#160;&#160;07:55:44.6\", times:\"1561708544.6\"},{evid:773856, time:\"2019-06-28&#160;&#160;&#160;07:48:25.9\", times:\"1561708105.9\"},{evid:773852, time:\"2019-06-28&#160;&#160;&#160;07:40:31.0\", times:\"1561707631\"},{evid:773851, time:\"2019-06-28&#160;&#160;&#160;07:39:29.8\", times:\"1561707569.8\"},{evid:773857, time:\"2019-06-28&#160;&#160;&#160;07:04:22.6\", times:\"1561705462.6\"},{evid:773848, time:\"2019-06-28&#160;&#160;&#160;06:56:30.0\", times:\"1561704990\"},{evid:773842, time:\"2019-06-28&#160;&#160;&#160;06:49:17.8\", times:\"1561704557.8\"},{evid:773858, time:\"2019-06-28&#160;&#160;&#160;06:48:48.2\", times:\"1561704528.2\"},{evid:773843, time:\"2019-06-28&#160;&#160;&#160;06:37:40.9\", times:\"1561703860.9\"},{evid:773854, time:\"2019-06-28&#160;&#160;&#160;06:16:55.0\", times:\"1561702615\"},{evid:773840, time:\"2019-06-28&#160;&#160;&#160;05:42:39.8\", times:\"1561700559.8\"},{evid:773849, time:\"2019-06-28&#160;&#160;&#160;05:38:30.0\", times:\"1561700310\"},{evid:773839, time:\"2019-06-28&#160;&#160;&#160;05:29:52.3\", times:\"1561699792.3\"},{evid:773837, time:\"2019-06-28&#160;&#160;&#160;05:23:59.3\", times:\"1561699439.3\"},{evid:773838, time:\"2019-06-28&#160;&#160;&#160;05:16:12.1\", times:\"1561698972.1\"},{evid:773836, time:\"2019-06-28&#160;&#160;&#160;04:30:34.0\", times:\"1561696234\"},{evid:773850, time:\"2019-06-28&#160;&#160;&#160;04:27:30.0\", times:\"1561696050\"},{evid:773830, time:\"2019-06-28&#160;&#160;&#160;04:20:11.4\", times:\"1561695611.4\"},{evid:773829, time:\"2019-06-28&#160;&#160;&#160;04:20:02.0\", times:\"1561695602\"},{evid:773828, time:\"2019-06-28&#160;&#160;&#160;03:58:30.0\", times:\"1561694310\"},{evid:773825, time:\"2019-06-28&#160;&#160;&#160;03:41:30.0\", times:\"1561693290\"},{evid:773822, time:\"2019-06-28&#160;&#160;&#160;03:41:22.9\", times:\"1561693282.9\"},{evid:773823, time:\"2019-06-28&#160;&#160;&#160;03:40:05.0\", times:\"1561693205\"},{evid:773820, time:\"2019-06-28&#160;&#160;&#160;02:56:49.2\", times:\"1561690609.2\"},{evid:773819, time:\"2019-06-28&#160;&#160;&#160;02:55:28.5\", times:\"1561690528.5\"},{evid:773818, time:\"2019-06-28&#160;&#160;&#160;02:24:30.0\", times:\"1561688670\"},{evid:773817, time:\"2019-06-28&#160;&#160;&#160;02:07:43.6\", times:\"1561687663.6\"},{evid:773815, time:\"2019-06-28&#160;&#160;&#160;01:50:30.0\", times:\"1561686630\"},{evid:773846, time:\"2019-06-28&#160;&#160;&#160;01:35:51.8\", times:\"1561685751.8\"},{evid:773807, time:\"2019-06-28&#160;&#160;&#160;01:03:58.0\", times:\"1561683838\"},{evid:773795, time:\"2019-06-28&#160;&#160;&#160;00:52:16.0\", times:\"1561683136\"},{evid:773791, time:\"2019-06-28&#160;&#160;&#160;00:50:24.2\", times:\"1561683024.2\"},{evid:773793, time:\"2019-06-28&#160;&#160;&#160;00:45:47.0\", times:\"1561682747\"},{evid:773790, time:\"2019-06-28&#160;&#160;&#160;00:39:46.5\", times:\"1561682386.5\"},{evid:773794, time:\"2019-06-28&#160;&#160;&#160;00:37:57.0\", times:\"1561682277\"},{evid:773789, time:\"2019-06-28&#160;&#160;&#160;00:28:45.7\", times:\"1561681725.7\"},{evid:773788, time:\"2019-06-28&#160;&#160;&#160;00:18:57.0\", times:\"1561681137\"},{evid:773787, time:\"2019-06-28&#160;&#160;&#160;00:16:30.0\", times:\"1561680990\"},{evid:\"tr039\", time:\"\"},{evid:\"tr139\", time:\"\"},{evid:\"tr239\", time:\"\"},{evid:773785, time:\"2019-06-27&#160;&#160;&#160;23:37:58.7\", times:\"1561678678.7\"},{evid:773783, time:\"2019-06-27&#160;&#160;&#160;23:32:43.6\", times:\"1561678363.6\"},{evid:773779, time:\"2019-06-27&#160;&#160;&#160;22:57:44.0\", times:\"1561676264\"},{evid:773773, time:\"2019-06-27&#160;&#160;&#160;22:47:17.7\", times:\"1561675637.7\"},{evid:773771, time:\"2019-06-27&#160;&#160;&#160;22:37:20.9\", times:\"1561675040.9\"},{evid:773786, time:\"2019-06-27&#160;&#160;&#160;22:12:54.0\", times:\"1561673574\"},{evid:773770, time:\"2019-06-27&#160;&#160;&#160;22:11:30.0\", times:\"1561673490\"},{evid:773810, time:\"2019-06-27&#160;&#160;&#160;21:47:54.3\", times:\"1561672074.3\"},{evid:773765, time:\"2019-06-27&#160;&#160;&#160;21:34:00.5\", times:\"1561671240.5\"},{evid:773766, time:\"2019-06-27&#160;&#160;&#160;21:14:30.0\", times:\"1561670070\"},{evid:773802, time:\"2019-06-27&#160;&#160;&#160;21:06:59.0\", times:\"1561669619\"});\\nvar tab_tab=new Array( {evid:773860, ago:\"15min ago\", comm: \"0\", pics: \"0\", intens: \"-1\", lat:\"-9.25\", lon:\"114.25\", depth:\"10\", mag:\"3.8\", reg:\"SOUTH OF BALI, INDONESIA\",upd:\"1561710600\"},{evid:773859, ago:\"39min ago\", comm: \"0\", pics: \"0\", intens: \"-1\", lat:\"19.41\", lon:\"-155.28\", depth:\"0\", mag:\"2.3\", reg:\"ISLAND OF HAWAII, HAWAII\",upd:\"1561708680\"},{evid:773856, ago:\"47min ago\", comm: \"0\", pics: \"0\", intens: \"-1\", lat:\"19.41\", lon:\"-155.29\", depth:\"0\", mag:\"2.2\", reg:\"ISLAND OF HAWAII, HAWAII\",upd:\"1561708260\"},{evid:773852, ago:\"54min ago\", comm: \"0\", pics: \"0\", intens: \"-1\", lat:\"19.41\", lon:\"-155.28\", depth:\"0\", mag:\"2.4\", reg:\"ISLAND OF HAWAII, HAWAII\",upd:\"1561707960\"},{evid:773851, ago:\"55min ago\", comm: \"0\", pics: \"0\", intens: \"-1\", lat:\"39.46\", lon:\"20.77\", depth:\"2\", mag:\"2.8\", reg:\"GREECE\",upd:\"1561707960\"},{evid:773857, ago:\"1hr 31min ago\", comm: \"0\", pics: \"0\", intens: \"-1\", lat:\"8.25\", lon:\"125.95\", depth:\"40\", mag:\"4.7\", reg:\"MINDANAO, PHILIPPINES\",upd:\"1561709340\"},{evid:773848, ago:\"1hr 38min ago\", comm: \"0\", pics: \"0\", intens: \"-1\", lat:\"8.35\", lon:\"-82.84\", depth:\"29\", mag:\"3.0\", reg:\"PANAMA-COSTA RICA BORDER REGION\",upd:\"1561706760\"},{evid:773842, ago:\"1hr 46min ago\", comm: \"0\", pics: \"0\", intens: \"-1\", lat:\"19.22\", lon:\"-155.40\", depth:\"32\", mag:\"2.2\", reg:\"ISLAND OF HAWAII, HAWAII\",upd:\"1561704900\"},{evid:773858, ago:\"1hr 46min ago\", comm: \"0\", pics: \"0\", intens: \"-1\", lat:\"4.03\", lon:\"-78.63\", depth:\"10\", mag:\"4.7\", reg:\"SOUTH OF PANAMA\",upd:\"1561708500\"},{evid:773843, ago:\"1hr 57min ago\", comm: \"0\", pics: \"0\", intens: \"-1\", lat:\"37.27\", lon:\"36.97\", depth:\"7\", mag:\"2.3\", reg:\"CENTRAL TURKEY\",upd:\"1561704840\"},{evid:773854, ago:\"2hr 18min ago\", comm: \"0\", pics: \"0\", intens: \"-1\", lat:\"-19.74\", lon:\"148.88\", depth:\"10\", mag:\"4.1\", reg:\"QUEENSLAND, AUSTRALIA\",upd:\"1561708200\"},{evid:773840, ago:\"2hr 52min ago\", comm: \"0\", pics: \"0\", intens: \"-1\", lat:\"37.51\", lon:\"42.74\", depth:\"8\", mag:\"3.0\", reg:\"TURKEY-SYRIA-IRAQ BORDER REGION\",upd:\"1561704120\"},{evid:773849, ago:\"2hr 56min ago\", comm: \"0\", pics: \"0\", intens: \"-1\", lat:\"8.33\", lon:\"-82.80\", depth:\"28\", mag:\"4.1\", reg:\"PANAMA-COSTA RICA BORDER REGION\",upd:\"1561706760\"},{evid:773839, ago:\"3hr 05min ago\", comm: \"0\", pics: \"0\", intens: \"-1\", lat:\"-22.43\", lon:\"-65.98\", depth:\"260\", mag:\"4.2\", reg:\"JUJUY, ARGENTINA\",upd:\"1561706340\"},{evid:773837, ago:\"3hr 11min ago\", comm: \"0\", pics: \"0\", intens: \"-1\", lat:\"19.38\", lon:\"-154.95\", depth:\"2\", mag:\"2.2\", reg:\"HAWAII REGION, HAWAII\",upd:\"1561699800\"},{evid:773838, ago:\"3hr 19min ago\", comm: \"0\", pics: \"0\", intens: \"-1\", lat:\"36.51\", lon:\"70.29\", depth:\"215\", mag:\"4.2\", reg:\"HINDU KUSH REGION, AFGHANISTAN\",upd:\"1561704060\"},{evid:773836, ago:\"4hr 04min ago\", comm: \"0\", pics: \"0\", intens: \"-1\", lat:\"29.97\", lon:\"142.92\", depth:\"10\", mag:\"4.7\", reg:\"IZU ISLANDS, JAPAN REGION\",upd:\"1561704060\"},{evid:773850, ago:\"4hr 07min ago\", comm: \"0\", pics: \"0\", intens: \"-1\", lat:\"8.34\", lon:\"-82.88\", depth:\"30\", mag:\"3.1\", reg:\"PANAMA-COSTA RICA BORDER REGION\",upd:\"1561706820\"},{evid:773830, ago:\"4hr 15min ago\", comm: \"0\", pics: \"0\", intens: \"-1\", lat:\"31.63\", lon:\"-104.28\", depth:\"5\", mag:\"2.7\", reg:\"WESTERN TEXAS\",upd:\"1561696200\"},{evid:773829, ago:\"4hr 15min ago\", comm: \"0\", pics: \"0\", intens: \"-1\", lat:\"-1.25\", lon:\"120.32\", depth:\"10\", mag:\"3.8\", reg:\"SULAWESI, INDONESIA\",upd:\"1561696200\"},{evid:773828, ago:\"4hr 36min ago\", comm: \"0\", pics: \"0\", intens: \"-1\", lat:\"8.34\", lon:\"-82.81\", depth:\"30\", mag:\"3.6\", reg:\"PANAMA-COSTA RICA BORDER REGION\",upd:\"1561695900\"},{evid:773825, ago:\"4hr 53min ago\", comm: \"0\", pics: \"0\", intens: \"-1\", lat:\"8.34\", lon:\"-82.82\", depth:\"29\", mag:\"3.3\", reg:\"PANAMA-COSTA RICA BORDER REGION\",upd:\"1561694700\"},{evid:773822, ago:\"4hr 54min ago\", comm: \"0\", pics: \"0\", intens: \"-1\", lat:\"38.92\", lon:\"15.51\", depth:\"101\", mag:\"2.0\", reg:\"SICILY, ITALY\",upd:\"1561693740\"},{evid:773823, ago:\"4hr 55min ago\", comm: \"0\", pics: \"0\", intens: \"-1\", lat:\"-38.94\", lon:\"-73.61\", depth:\"24\", mag:\"3.6\", reg:\"OFFSHORE ARAUCANIA, CHILE\",upd:\"1561693800\"},{evid:773820, ago:\"5hr 38min ago\", comm: \"0\", pics: \"0\", intens: \"-1\", lat:\"35.63\", lon:\"26.03\", depth:\"17\", mag:\"2.7\", reg:\"CRETE, GREECE\",upd:\"1561704000\"},{evid:773819, ago:\"5hr 39min ago\", comm: \"0\", pics: \"0\", intens: \"-1\", lat:\"38.78\", lon:\"-122.75\", depth:\"-1\", mag:\"2.2\", reg:\"NORTHERN CALIFORNIA\",upd:\"1561690620\"},{evid:773818, ago:\"6hr 10min ago\", comm: \"0\", pics: \"0\", intens: \"-1\", lat:\"8.32\", lon:\"-82.81\", depth:\"27\", mag:\"3.1\", reg:\"PANAMA-COSTA RICA BORDER REGION\",upd:\"1561689600\"},{evid:773817, ago:\"6hr 27min ago\", comm: \"0\", pics: \"0\", intens: \"-1\", lat:\"13.66\", lon:\"-91.82\", depth:\"35\", mag:\"4.1\", reg:\"OFFSHORE GUATEMALA\",upd:\"1561689180\"},{evid:773815, ago:\"6hr 44min ago\", comm: \"0\", pics: \"0\", intens: \"-1\", lat:\"8.35\", lon:\"-82.85\", depth:\"31\", mag:\"3.0\", reg:\"PANAMA-COSTA RICA BORDER REGION\",upd:\"1561688100\"},{evid:773846, ago:\"6hr 59min ago\", comm: \"0\", pics: \"0\", intens: \"-1\", lat:\"38.82\", lon:\"-122.81\", depth:\"2\", mag:\"2.0\", reg:\"NORTHERN CALIFORNIA\",upd:\"1561706040\"},{evid:773807, ago:\"7hr 31min ago\", comm: \"0\", pics: \"0\", intens: \"-1\", lat:\"-2.53\", lon:\"138.49\", depth:\"10\", mag:\"3.8\", reg:\"PAPUA, INDONESIA\",upd:\"1561684500\"},{evid:773795, ago:\"7hr 43min ago\", comm: \"0\", pics: \"0\", intens: \"-1\", lat:\"-2.81\", lon:\"138.60\", depth:\"10\", mag:\"4.0\", reg:\"PAPUA, INDONESIA\",upd:\"1561683600\"},{evid:773791, ago:\"7hr 45min ago\", comm: \"0\", pics: \"0\", intens: \"-1\", lat:\"38.68\", lon:\"27.61\", depth:\"7\", mag:\"2.8\", reg:\"WESTERN TURKEY\",upd:\"1561704000\"},{evid:773793, ago:\"7hr 49min ago\", comm: \"0\", pics: \"0\", intens: \"-1\", lat:\"-2.47\", lon:\"138.49\", depth:\"10\", mag:\"3.7\", reg:\"PAPUA, INDONESIA\",upd:\"1561683300\"},{evid:773790, ago:\"7hr 55min ago\", comm: \"2\", pics: \"0\", intens: \"-1\", lat:\"61.96\", lon:\"-150.93\", depth:\"59\", mag:\"2.4\", reg:\"SOUTHERN ALASKA\",upd:\"1561686720\"},{evid:773794, ago:\"7hr 57min ago\", comm: \"0\", pics: \"0\", intens: \"-1\", lat:\"15.90\", lon:\"-96.57\", depth:\"10\", mag:\"4.1\", reg:\"OAXACA, MEXICO\",upd:\"1561683300\"},{evid:773789, ago:\"8hr 06min ago\", comm: \"0\", pics: \"0\", intens: \"-1\", lat:\"1.81\", lon:\"127.40\", depth:\"106\", mag:\"4.5\", reg:\"HALMAHERA, INDONESIA\",upd:\"1561682760\"},{evid:773788, ago:\"8hr 16min ago\", comm: \"0\", pics: \"0\", intens: \"-1\", lat:\"17.17\", lon:\"-94.42\", depth:\"151\", mag:\"4.3\", reg:\"OAXACA, MEXICO\",upd:\"1561682100\"},{evid:773787, ago:\"8hr 18min ago\", comm: \"0\", pics: \"0\", intens: \"-1\", lat:\"8.37\", lon:\"-82.83\", depth:\"31\", mag:\"3.2\", reg:\"PANAMA-COSTA RICA BORDER REGION\",upd:\"1561682100\"},{evid:773785, ago:\"8hr 57min ago\", comm: \"0\", pics: \"0\", intens: \"-1\", lat:\"-17.58\", lon:\"-69.89\", depth:\"171\", mag:\"4.0\", reg:\"SOUTHERN PERU\",upd:\"1561709760\"},{evid:773783, ago:\"9hr 02min ago\", comm: \"0\", pics: \"0\", intens: \"-1\", lat:\"35.81\", lon:\"-121.38\", depth:\"5\", mag:\"2.2\", reg:\"OFFSHORE CENTRAL CALIFORNIA\",upd:\"1561678440\"},{evid:773779, ago:\"9hr 37min ago\", comm: \"0\", pics: \"0\", intens: \"-1\", lat:\"0.16\", lon:\"124.95\", depth:\"139\", mag:\"3.7\", reg:\"MINAHASA, SULAWESI, INDONESIA\",upd:\"1561677600\"},{evid:773773, ago:\"9hr 48min ago\", comm: \"0\", pics: \"0\", intens: \"-1\", lat:\"27.63\", lon:\"-18.01\", depth:\"24\", mag:\"3.0\", reg:\"CANARY ISLANDS, SPAIN REGION\",upd:\"1561675680\"},{evid:773771, ago:\"9hr 58min ago\", comm: \"0\", pics: \"0\", intens: \"-1\", lat:\"47.18\", lon:\"10.42\", depth:\"1\", mag:\"1.6\", reg:\"AUSTRIA\",upd:\"1561675320\"},{evid:773786, ago:\"10hr 22min ago\", comm: \"0\", pics: \"0\", intens: \"-1\", lat:\"19.09\", lon:\"-69.30\", depth:\"27\", mag:\"3.3\", reg:\"DOMINICAN REPUBLIC REGION\",upd:\"1561680000\"},{evid:773770, ago:\"10hr 23min ago\", comm: \"0\", pics: \"0\", intens: \"0\", lat:\"8.33\", lon:\"-82.80\", depth:\"22\", mag:\"4.2\", reg:\"PANAMA-COSTA RICA BORDER REGION\",upd:\"1561674300\"},{evid:773810, ago:\"10hr 47min ago\", comm: \"0\", pics: \"0\", intens: \"-1\", lat:\"19.49\", lon:\"-65.45\", depth:\"35\", mag:\"2.2\", reg:\"PUERTO RICO REGION\",upd:\"1561687080\"},{evid:773765, ago:\"11hr 01min ago\", comm: \"0\", pics: \"0\", intens: \"-1\", lat:\"35.20\", lon:\"-118.23\", depth:\"2\", mag:\"2.3\", reg:\"SOUTHERN CALIFORNIA\",upd:\"1561672380\"},{evid:773766, ago:\"11hr 20min ago\", comm: \"0\", pics: \"0\", intens: \"-1\", lat:\"8.38\", lon:\"-82.87\", depth:\"12\", mag:\"3.3\", reg:\"PANAMA-COSTA RICA BORDER REGION\",upd:\"1561671900\"},{evid:773802, ago:\"11hr 28min ago\", comm: \"0\", pics: \"0\", intens: \"-1\", lat:\"16.11\", lon:\"-98.72\", depth:\"11\", mag:\"3.5\", reg:\"OFFSHORE GUERRERO, MEXICO\",upd:\"1561684200\"});\\n\\r\\n\\t\\t\\t\\tvar tab_num_alpha=new Array({reg:false,lat:true,lon:true,mag:true,depth:true,upd:true,intens:true,comm:true,pics:true}); \\r\\n\\t\\t\\t\\t//addonload(hide_upd);\\r\\n\\t\\t\\t</script><span onmouseover=\"info_b(\\'show\\',\\'This list of events should not be considered as complete. <br />\\t\\t\\t\\tEarthquakes with smaller magnitudes are reported for the Euro-Mediterranenan region.<br />\\t\\t\\t\\tThe reported locations have not been computed by the EMSC and the automatic location can be inaccurate.<br />\\t\\t\\t\\tThis list is fully dynamic and the information is updated as often as necessary.<br />\\t\\t\\t\\tThis is particulary the case in the very first hours following an earthquake occurence\\',\\'Disclaimer\\');\" onmouseout=\"info_b(\\'notshow\\',\\'\\',\\'\\');\"><a href=\"/Earthquake/?disclam=yes\">Disclaimer</a></span><script> function changeLocation(adress) { window.location.href = adress; }\\r\\n\\t\\t\\t\\tfunction refreshcsem(adress,timeout) { setTimeout(\\'changeLocation(\"\\'+adress+\\'\")\\',timeout*60000); }\\r\\n\\t\\t\\t\\tif(/www/i.test(window.location.href)) refreshcsem(\"/Earthquake/?csemrefresh=true\",5);\\r\\n\\t\\t</script><script>\\r\\nvar objbeta=new createEMSCWidget(\"beta1\",65,\"left\",\"POPULARITY MAP\",new Array(0,0,255),new Array(255,0,0),false); \\r\\nobjbeta.W_init(\"iframe\",\"/Tools/realtimefeltmap.php?xminbefore=5&width=740&height=350\",700,420);\\r\\n</script><p>&nbsp;</p>\\r\\n</div><!-- End content -->\\r\\n\\r\\n<div class=\"clearer\"></div>\\r\\n\\r\\n</div><!-- End container --><div id=\"footer\"><!-- ======== PIED DE PAGE ====== -->\\r\\n<div id=\"footer2\">\\r\\n<a href=\"https://www.emsc-csem.org/faq.php\"><b>FAQ</b></a>&nbsp;&nbsp;&nbsp;<a href=\"https://www.emsc-csem.org/about/\"><b>About EMSC</b></a>\\r\\n&nbsp;&nbsp;&nbsp;&nbsp;&nbsp;&nbsp;&nbsp;&nbsp;&nbsp;&nbsp;&nbsp;&nbsp;<span id=\"mast\"></span><script type=\"text/javascript\">at(\"webmaster_0_emsc-csem_8_org\",true,\"\",\"mast\",\"If you have any comments, please contact us\");</script>&nbsp;&nbsp;&nbsp;&nbsp;&nbsp;&nbsp;&nbsp;&nbsp;&nbsp;&nbsp;&nbsp;&nbsp;\\r\\n<a href=\"https://www.emsc-csem.org/sitemap.php\"><b>Site Map</b></a>&nbsp;&nbsp;&nbsp;<a href=\"https://www.emsc-csem.org/Search/\"><b>Search</b></a><br/><br/>\\r\\n<span id=\"media\" style=\"float:left;width:50%;\">Media : <a href=\"http://twitter.com/lastquake\" target=\"_blank\"><span class=\"spriteorig sp_twitter\" title=\"twitter: @lastquake\"></span></a>&nbsp;&nbsp;<a href=\"http://twitter.com/EMSC\" target=\"_blank\"><span class=\"spriteorig sp_twitter\" title=\"twitter: @EMSC\"></span></a>&nbsp;&nbsp;<a href=\"http://www.facebook.com/pages/EMSC-CSEM/207151812690551?sk=wall\" target=\"_blank\"><span class=\"spriteorig sp_facebook\" title=\"facebook: EMSC-CSEM\"></span></a>&nbsp;&nbsp;<a href=\"https://t.me/LastQuake2\" target=\"_blank\"><span style=\"display:inline-block;background:url(/Css/img/telegram-24.png) no-repeat;width:24px;height:24px;\" title=\"Telegram: LastQuake2\"></span></a>&nbsp;&nbsp;<a href=\"https://t.me/AllQuakes2\" target=\"_blank\"><span style=\"display:inline-block;background:url(/Css/img/telegram-24.png) no-repeat;width:24px;height:24px;\" title=\"Telegram: AllQuakes2\"></span></a>&nbsp;&nbsp;<a href=\"https://plus.google.com/110355370165808827925/posts\" target=\"_blank\"><span class=\"spriteorig sp_googleplus\" title=\"google: emsc csem\"></span></a>&nbsp;&nbsp;<a href=\"http://www.pinterest.com/EMSCCSEM/\" target=\"_blank\"><span class=\"spriteorig sp_pinterest\" title=\"pinterest: EMSCCSEM\"></span></a>&nbsp;&nbsp;<a href=\"http://www.youtube.com/user/EuroMSC\" target=\"_blank\"><span class=\"spriteorig sp_youtube\" title=\"youtube: EuroMSC\"></span></a>\\r\\n</span>Compatibility : <span class=\"browser spriteorig sp_chrome\" title=\"chrome\"></span><span class=\"browser spriteorig sp_firefox\" title=\"firefox\"></span><span class=\"browser spriteorig sp_ie\" title=\"internet explorer\"></span><span class=\"browser spriteorig sp_opera\" title=\"opera\"></span><span class=\"browser spriteorig sp_safari\" title=\"safari\"></span><br/><br/>\\r\\n<center>© 2010 - <b><a href=\"/policy.php\">Privacy</a></b></center>\\r\\n\\r\\n</div></div>\\r\\n\\t<!-- Google analytics Code -->\\r\\n\\t<script type=\"text/javascript\">\\r\\n\\tvar gaJsHost = ((\"https:\" == document.location.protocol) ? \"https://ssl.\" : \"http://www.\");\\r\\n\\tdocument.write(unescape(\"%3Cscript async=\\'true\\' src=\\'\" + gaJsHost + \"google-analytics.com/ga.js\\' type=\\'text/javascript\\'%3E%3C/script%3E\"));\\r\\n\\t</script>\\n<script type=\"text/javascript\">\\r\\n    try {\\r\\n\\tvar pageTracker = _gat._getTracker(\"UA-810235-1\");\\r\\n\\tpageTracker._trackPageview();\\r\\n\\t} catch(err) {} </script>\\r\\n\\t<!-- End of Google analytics Code -->\\r\\n\\t\\r\\n\\t<!-- Start of StatCounter Code -->\\r\\n\\t<script type=\"text/javascript\">\\r\\n\\tvar sc_project=217829; \\r\\n\\tvar sc_invisible=1; \\r\\n\\tvar sc_security=\"\"; \\r\\n\\t</script>\\n<script type=\"text/javascript\" src=\"https://www.statcounter.com/counter/counter.js\" async=\"true\"></script>\\n<noscript><div class=\"statcounter\" style=\"display:none;\"><a title=\"hit counter\" href=\"http://www.statcounter.com/\" target=\"_blank\"><img style=\"width:1px;height:1px;\" class=\"statcounter\" src=\"https://c.statcounter.com/217829/0//1/\" alt=\"hit counter\" /></a></div></noscript>\\r\\n\\t<!-- End of StatCounter Code -->\\r\\n\\t<span id=\"mesure\" style=\"visibility:hidden; white-space:nowrap;\"></span>\\t<script type=\"text/javascript\" src=\"https://zebu-neries.emsc-csem.org/socket.io/socket.io.js\" defer></script>\\n<script> \\r\\n\\t\\t\\r\\n\\t\\tvar socketE,intervalID ;\\r\\n\\t\\t\\r\\n\\t\\tfunction conn_io() {\\r\\n\\t\\t\\tif (typeof io == \"undefined\") \\tsetTimeout(\"conn_io()\",200);\\r\\n\\t\\t\\telse { \\r\\n\\t\\t\\t\\tvar isMobile= (/android|mobile|webos|iphone|ipad|ipod|blackberry|iemobile|opera mini/i.test(navigator.userAgent.toLowerCase()));\\r\\n\\t\\t\\t\\tvar opts={transports:[\"polling\"]};\\r\\n\\t\\t\\t\\tif(/*!isMobile &&*/ window.WebSocket) opts.transports.unshift(\"websocket\"); //opts.transports.push(\"websocket\");  //\\r\\n\\t\\t\\t\\t\\t//console.log(opts.transports);  console.log(navigator.userAgent.toLowerCase());\\r\\n\\t\\t\\t\\tsocketE=io.connect(\"https://zebu-neries.emsc-csem.org/Traffic?REF=\"+escape(document.referrer),opts); \\r\\n\\t\\t\\t\\tsocketE.on(\"connect\", function () { \\r\\n\\t\\t\\t\\t\\tsocketE.on(\"cookie\", function (msg) { \\r\\n\\t\\t\\t\\t\\t\\tconsole.log(msg); \\r\\n\\t\\t\\t\\t\\t\\tvar xjs=document.createElement(\"script\"); xjs.src=\"https://zebu-neries.emsc-csem.org/?addSockId=\"+msg.name+\"&value=\"+msg.value+\"&expires=\"+msg.expires; xjs.type=\"text/javascript\"; document.getElementsByTagName(\"head\")[0].appendChild(xjs);\\r\\n\\t\\t\\t\\t\\t});\\r\\n\\t\\t\\t\\t});\\r\\n\\t\\t\\t\\tsocketE.on(\"banner\", function (msg) { /*console.log(msg);*/ /*if(typeof treat_quick_traffic_peak !=\"undefined\") { treat_quick_traffic_peak(JSON.parse(msg)); }*/ });\\r\\n\\t\\t\\t\\tsocketE.on(\"message\",function(mes) { console.log(mes); });\\r\\n\\t\\t\\t}\\t\\r\\n\\t\\t}\\t\\r\\n\\t\\taddonload(conn_io);\\r\\n\\t\\tif(typeof JSON == \"undefined\") { var xjs2=document.createElement(\"script\"); xjs2.src=\"https://www.emsc-csem.org/javascript/json2.min.js\"; xjs2.type=\"text/javascript\"; document.getElementsByTagName(\"head\")[0].appendChild(xjs2); }\\r\\n\\t\\t\\r\\n\\t\\t\\r\\n\\tfunction loadWs() {\\r\\n\\t\\tvar d=Date.now();\\r\\n\\t\\t\\r\\n\\t\\tvar ws= new WebSocket(\"wss://www.emsc-csem.org/traffic?REF=\"+escape(document.referrer)); \\r\\n\\t\\tws.id=d; //console.log(\"try ws \"+ws.id);\\r\\n\\r\\n\\t\\tws.onopen = function() { /*setInterval(function () { ws.send(\"Test\"); console.log(\"sendTest\"); }, 12 * 60 * 1000); */   };\\r\\n\\t\\tws[\"banner\"]=function (msg) { \\r\\n\\t\\t\\tif(typeof treat_quick_traffic_peak !=\"undefined\") { treat_quick_traffic_peak(msg); } \\r\\n\\t\\t\\telse setTimeout(function() { ws.banner(msg);} , 300 );\\r\\n\\t\\t};\\t\\r\\n\\t\\tws.onmessage = function (evt) { \\r\\n\\t\\t\\tvar m=JSON.parse(evt.data); //console.log(m);\\t\\r\\n\\t\\t\\tif(m.label && m.data && ws[m.label]) ws[m.label](m.data);\\r\\n\\t\\t};\\r\\n\\t\\t\\r\\n\\t\\tws.onclose = function() {\\r\\n\\t\\t\\t//console.log(\"Connection is closed...\",ws.id); console.log(arguments);\\r\\n\\t\\t\\tsetTimeout(function() { loadWs(); }, 1000);\\r\\n\\t\\t};\\r\\n\\t\\tws.onerror = function(err) { };\\r\\n\\t}\\r\\n\\t(function() { loadWs(); })();\\r\\n\\t\\t\\r\\n\\t\\t\\r\\n\\t\\t</script>\\r\\n         </body>\\r\\n         </html>'"
      ]
     },
     "execution_count": 21,
     "metadata": {},
     "output_type": "execute_result"
    }
   ],
   "source": [
    "res = req.get(url7)\n",
    "res.text"
   ]
  },
  {
   "cell_type": "code",
   "execution_count": 22,
   "metadata": {},
   "outputs": [
    {
     "name": "stdout",
     "output_type": "stream",
     "text": [
      "[['2019-06-28', '08:20:21.0'], ['2019-06-28', '07:55:44.6'], ['2019-06-28', '07:48:25.9'], ['2019-06-28', '07:40:31.0'], ['2019-06-28', '07:39:29.8'], ['2019-06-28', '07:04:22.6'], ['2019-06-28', '06:56:30.0'], ['2019-06-28', '06:49:17.8'], ['2019-06-28', '06:48:48.2'], ['2019-06-28', '06:37:40.9'], ['2019-06-28', '06:16:55.0'], ['2019-06-28', '05:42:39.8'], ['2019-06-28', '05:38:30.0'], ['2019-06-28', '05:29:52.3'], ['2019-06-28', '05:23:59.3'], ['2019-06-28', '05:16:12.1'], ['2019-06-28', '04:30:34.0'], ['2019-06-28', '04:27:30.0'], ['2019-06-28', '04:20:11.4'], ['2019-06-28', '04:20:02.0']]\n"
     ]
    }
   ],
   "source": [
    "from bs4 import BeautifulSoup\n",
    "soup = BeautifulSoup(res.text, 'html.parser')\n",
    "bsdate = []\n",
    "#bslatitude = []\n",
    "#bdlongitude = []\n",
    "\n",
    "earthdf =pd.DataFrame()\n",
    "for lst in soup.select(\"tr td.tabev6 b a\")[0:20]:\n",
    "    bsdate.append(lst.get_text())\n",
    "bsdate = list(map(lambda x: x.split('\\xa0\\xa0\\xa0'),bsdate))\n",
    "#bslatitude.append\n",
    "#bslongitude.append\n",
    "print(bsdate)"
   ]
  },
  {
   "cell_type": "markdown",
   "metadata": {},
   "source": [
    "#### Display the date, days, title, city, country of next 25 hackathon events as a Pandas dataframe table"
   ]
  },
  {
   "cell_type": "code",
   "execution_count": null,
   "metadata": {},
   "outputs": [],
   "source": [
    "# This is the url you will scrape in this exercise\n",
    "url ='https://hackevents.co/hackathons'"
   ]
  },
  {
   "cell_type": "code",
   "execution_count": null,
   "metadata": {},
   "outputs": [],
   "source": []
  },
  {
   "cell_type": "code",
   "execution_count": null,
   "metadata": {},
   "outputs": [],
   "source": []
  },
  {
   "cell_type": "markdown",
   "metadata": {},
   "source": [
    "#### Count number of tweets by a given Twitter account."
   ]
  },
  {
   "cell_type": "markdown",
   "metadata": {},
   "source": [
    "You will need to include a ***try/except block*** for account names not found. \n",
    "<br>***Hint:*** the program should count the number of tweets for any provided account"
   ]
  },
  {
   "cell_type": "code",
   "execution_count": 25,
   "metadata": {},
   "outputs": [],
   "source": [
    "# This is the url you will scrape in this exercise \n",
    "# You will need to add the account credentials to this url\n",
    "url = 'https://twitter.com/'"
   ]
  },
  {
   "cell_type": "code",
   "execution_count": 26,
   "metadata": {},
   "outputs": [],
   "source": [
    "#your code"
   ]
  },
  {
   "cell_type": "markdown",
   "metadata": {},
   "source": [
    "#### Number of followers of a given twitter account"
   ]
  },
  {
   "cell_type": "markdown",
   "metadata": {},
   "source": [
    "You will need to include a ***try/except block*** in case account/s name not found. \n",
    "<br>***Hint:*** the program should count the followers for any provided account"
   ]
  },
  {
   "cell_type": "code",
   "execution_count": 27,
   "metadata": {},
   "outputs": [],
   "source": [
    "# This is the url you will scrape in this exercise \n",
    "# You will need to add the account credentials to this url\n",
    "url = 'https://twitter.com/'"
   ]
  },
  {
   "cell_type": "code",
   "execution_count": 28,
   "metadata": {},
   "outputs": [],
   "source": [
    "#your code"
   ]
  },
  {
   "cell_type": "markdown",
   "metadata": {},
   "source": [
    "#### List all language names and number of related articles in the order they appear in wikipedia.org"
   ]
  },
  {
   "cell_type": "code",
   "execution_count": 29,
   "metadata": {},
   "outputs": [],
   "source": [
    "# This is the url you will scrape in this exercise\n",
    "url = 'https://www.wikipedia.org/'"
   ]
  },
  {
   "cell_type": "code",
   "execution_count": 30,
   "metadata": {},
   "outputs": [],
   "source": [
    "#your code"
   ]
  },
  {
   "cell_type": "markdown",
   "metadata": {},
   "source": [
    "#### A list with the different kind of datasets available in data.gov.uk "
   ]
  },
  {
   "cell_type": "code",
   "execution_count": 31,
   "metadata": {},
   "outputs": [],
   "source": [
    "# This is the url you will scrape in this exercise\n",
    "url = 'https://data.gov.uk/'"
   ]
  },
  {
   "cell_type": "code",
   "execution_count": 32,
   "metadata": {},
   "outputs": [],
   "source": [
    "#your code "
   ]
  },
  {
   "cell_type": "markdown",
   "metadata": {},
   "source": [
    "#### Top 10 languages by number of native speakers stored in a Pandas Dataframe"
   ]
  },
  {
   "cell_type": "code",
   "execution_count": 33,
   "metadata": {},
   "outputs": [],
   "source": [
    "# This is the url you will scrape in this exercise\n",
    "url = 'https://en.wikipedia.org/wiki/List_of_languages_by_number_of_native_speakers'"
   ]
  },
  {
   "cell_type": "code",
   "execution_count": 34,
   "metadata": {},
   "outputs": [],
   "source": [
    "#your code"
   ]
  },
  {
   "cell_type": "markdown",
   "metadata": {},
   "source": [
    "### BONUS QUESTIONS"
   ]
  },
  {
   "cell_type": "markdown",
   "metadata": {},
   "source": [
    "#### Scrape a certain number of tweets of a given Twitter account."
   ]
  },
  {
   "cell_type": "code",
   "execution_count": 35,
   "metadata": {},
   "outputs": [],
   "source": [
    "# This is the url you will scrape in this exercise \n",
    "# You will need to add the account credentials to this url\n",
    "url = 'https://twitter.com/'"
   ]
  },
  {
   "cell_type": "code",
   "execution_count": 36,
   "metadata": {},
   "outputs": [],
   "source": [
    "# your code"
   ]
  },
  {
   "cell_type": "markdown",
   "metadata": {},
   "source": [
    "#### IMDB's Top 250 data (movie name, Initial release, director name and stars) as a pandas dataframe"
   ]
  },
  {
   "cell_type": "code",
   "execution_count": 37,
   "metadata": {},
   "outputs": [],
   "source": [
    "# This is the url you will scrape in this exercise \n",
    "url = 'https://www.imdb.com/chart/top'"
   ]
  },
  {
   "cell_type": "code",
   "execution_count": 38,
   "metadata": {},
   "outputs": [],
   "source": [
    "# your code"
   ]
  },
  {
   "cell_type": "markdown",
   "metadata": {},
   "source": [
    "#### Movie name, year and a brief summary of the top 10 random movies (IMDB) as a pandas dataframe."
   ]
  },
  {
   "cell_type": "code",
   "execution_count": 39,
   "metadata": {},
   "outputs": [],
   "source": [
    "#This is the url you will scrape in this exercise\n",
    "url = 'http://www.imdb.com/chart/top'"
   ]
  },
  {
   "cell_type": "code",
   "execution_count": 40,
   "metadata": {},
   "outputs": [],
   "source": [
    "#your code"
   ]
  },
  {
   "cell_type": "markdown",
   "metadata": {},
   "source": [
    "#### Find the live weather report (temperature, wind speed, description and weather) of a given city."
   ]
  },
  {
   "cell_type": "code",
   "execution_count": 41,
   "metadata": {},
   "outputs": [
    {
     "ename": "KeyboardInterrupt",
     "evalue": "",
     "output_type": "error",
     "traceback": [
      "\u001b[0;31m---------------------------------------------------------------------------\u001b[0m",
      "\u001b[0;31mKeyboardInterrupt\u001b[0m                         Traceback (most recent call last)",
      "\u001b[0;32m/usr/local/Cellar/ipython/7.5.0/libexec/vendor/lib/python3.7/site-packages/ipykernel/kernelbase.py\u001b[0m in \u001b[0;36m_input_request\u001b[0;34m(self, prompt, ident, parent, password)\u001b[0m\n\u001b[1;32m    877\u001b[0m             \u001b[0;32mtry\u001b[0m\u001b[0;34m:\u001b[0m\u001b[0;34m\u001b[0m\u001b[0;34m\u001b[0m\u001b[0m\n\u001b[0;32m--> 878\u001b[0;31m                 \u001b[0mident\u001b[0m\u001b[0;34m,\u001b[0m \u001b[0mreply\u001b[0m \u001b[0;34m=\u001b[0m \u001b[0mself\u001b[0m\u001b[0;34m.\u001b[0m\u001b[0msession\u001b[0m\u001b[0;34m.\u001b[0m\u001b[0mrecv\u001b[0m\u001b[0;34m(\u001b[0m\u001b[0mself\u001b[0m\u001b[0;34m.\u001b[0m\u001b[0mstdin_socket\u001b[0m\u001b[0;34m,\u001b[0m \u001b[0;36m0\u001b[0m\u001b[0;34m)\u001b[0m\u001b[0;34m\u001b[0m\u001b[0;34m\u001b[0m\u001b[0m\n\u001b[0m\u001b[1;32m    879\u001b[0m             \u001b[0;32mexcept\u001b[0m \u001b[0mException\u001b[0m\u001b[0;34m:\u001b[0m\u001b[0;34m\u001b[0m\u001b[0;34m\u001b[0m\u001b[0m\n",
      "\u001b[0;32m/usr/local/Cellar/ipython/7.5.0/libexec/vendor/lib/python3.7/site-packages/jupyter_client/session.py\u001b[0m in \u001b[0;36mrecv\u001b[0;34m(self, socket, mode, content, copy)\u001b[0m\n\u001b[1;32m    802\u001b[0m         \u001b[0;32mtry\u001b[0m\u001b[0;34m:\u001b[0m\u001b[0;34m\u001b[0m\u001b[0;34m\u001b[0m\u001b[0m\n\u001b[0;32m--> 803\u001b[0;31m             \u001b[0mmsg_list\u001b[0m \u001b[0;34m=\u001b[0m \u001b[0msocket\u001b[0m\u001b[0;34m.\u001b[0m\u001b[0mrecv_multipart\u001b[0m\u001b[0;34m(\u001b[0m\u001b[0mmode\u001b[0m\u001b[0;34m,\u001b[0m \u001b[0mcopy\u001b[0m\u001b[0;34m=\u001b[0m\u001b[0mcopy\u001b[0m\u001b[0;34m)\u001b[0m\u001b[0;34m\u001b[0m\u001b[0;34m\u001b[0m\u001b[0m\n\u001b[0m\u001b[1;32m    804\u001b[0m         \u001b[0;32mexcept\u001b[0m \u001b[0mzmq\u001b[0m\u001b[0;34m.\u001b[0m\u001b[0mZMQError\u001b[0m \u001b[0;32mas\u001b[0m \u001b[0me\u001b[0m\u001b[0;34m:\u001b[0m\u001b[0;34m\u001b[0m\u001b[0;34m\u001b[0m\u001b[0m\n",
      "\u001b[0;32m/usr/local/Cellar/ipython/7.5.0/libexec/vendor/lib/python3.7/site-packages/zmq/sugar/socket.py\u001b[0m in \u001b[0;36mrecv_multipart\u001b[0;34m(self, flags, copy, track)\u001b[0m\n\u001b[1;32m    469\u001b[0m         \"\"\"\n\u001b[0;32m--> 470\u001b[0;31m         \u001b[0mparts\u001b[0m \u001b[0;34m=\u001b[0m \u001b[0;34m[\u001b[0m\u001b[0mself\u001b[0m\u001b[0;34m.\u001b[0m\u001b[0mrecv\u001b[0m\u001b[0;34m(\u001b[0m\u001b[0mflags\u001b[0m\u001b[0;34m,\u001b[0m \u001b[0mcopy\u001b[0m\u001b[0;34m=\u001b[0m\u001b[0mcopy\u001b[0m\u001b[0;34m,\u001b[0m \u001b[0mtrack\u001b[0m\u001b[0;34m=\u001b[0m\u001b[0mtrack\u001b[0m\u001b[0;34m)\u001b[0m\u001b[0;34m]\u001b[0m\u001b[0;34m\u001b[0m\u001b[0;34m\u001b[0m\u001b[0m\n\u001b[0m\u001b[1;32m    471\u001b[0m         \u001b[0;31m# have first part already, only loop while more to receive\u001b[0m\u001b[0;34m\u001b[0m\u001b[0;34m\u001b[0m\u001b[0;34m\u001b[0m\u001b[0m\n",
      "\u001b[0;32mzmq/backend/cython/socket.pyx\u001b[0m in \u001b[0;36mzmq.backend.cython.socket.Socket.recv\u001b[0;34m()\u001b[0m\n",
      "\u001b[0;32mzmq/backend/cython/socket.pyx\u001b[0m in \u001b[0;36mzmq.backend.cython.socket.Socket.recv\u001b[0;34m()\u001b[0m\n",
      "\u001b[0;32mzmq/backend/cython/socket.pyx\u001b[0m in \u001b[0;36mzmq.backend.cython.socket._recv_copy\u001b[0;34m()\u001b[0m\n",
      "\u001b[0;32m/usr/local/Cellar/ipython/7.5.0/libexec/vendor/lib/python3.7/site-packages/zmq/backend/cython/checkrc.pxd\u001b[0m in \u001b[0;36mzmq.backend.cython.checkrc._check_rc\u001b[0;34m()\u001b[0m\n",
      "\u001b[0;31mKeyboardInterrupt\u001b[0m: ",
      "\nDuring handling of the above exception, another exception occurred:\n",
      "\u001b[0;31mKeyboardInterrupt\u001b[0m                         Traceback (most recent call last)",
      "\u001b[0;32m<ipython-input-41-784a0b919997>\u001b[0m in \u001b[0;36m<module>\u001b[0;34m\u001b[0m\n\u001b[1;32m      1\u001b[0m \u001b[0;31m#https://openweathermap.org/current\u001b[0m\u001b[0;34m\u001b[0m\u001b[0;34m\u001b[0m\u001b[0;34m\u001b[0m\u001b[0m\n\u001b[0;32m----> 2\u001b[0;31m \u001b[0mcity\u001b[0m \u001b[0;34m=\u001b[0m \u001b[0mcity\u001b[0m\u001b[0;34m=\u001b[0m\u001b[0minput\u001b[0m\u001b[0;34m(\u001b[0m\u001b[0;34m'Enter the city:'\u001b[0m\u001b[0;34m)\u001b[0m\u001b[0;34m\u001b[0m\u001b[0;34m\u001b[0m\u001b[0m\n\u001b[0m\u001b[1;32m      3\u001b[0m \u001b[0murl\u001b[0m \u001b[0;34m=\u001b[0m \u001b[0;34m'http://api.openweathermap.org/data/2.5/weather?'\u001b[0m\u001b[0;34m+\u001b[0m\u001b[0;34m'q='\u001b[0m\u001b[0;34m+\u001b[0m\u001b[0mcity\u001b[0m\u001b[0;34m+\u001b[0m\u001b[0;34m'&APPID=b35975e18dc93725acb092f7272cc6b8&units=metric'\u001b[0m\u001b[0;34m\u001b[0m\u001b[0;34m\u001b[0m\u001b[0m\n",
      "\u001b[0;32m/usr/local/Cellar/ipython/7.5.0/libexec/vendor/lib/python3.7/site-packages/ipykernel/kernelbase.py\u001b[0m in \u001b[0;36mraw_input\u001b[0;34m(self, prompt)\u001b[0m\n\u001b[1;32m    851\u001b[0m             \u001b[0mself\u001b[0m\u001b[0;34m.\u001b[0m\u001b[0m_parent_ident\u001b[0m\u001b[0;34m,\u001b[0m\u001b[0;34m\u001b[0m\u001b[0;34m\u001b[0m\u001b[0m\n\u001b[1;32m    852\u001b[0m             \u001b[0mself\u001b[0m\u001b[0;34m.\u001b[0m\u001b[0m_parent_header\u001b[0m\u001b[0;34m,\u001b[0m\u001b[0;34m\u001b[0m\u001b[0;34m\u001b[0m\u001b[0m\n\u001b[0;32m--> 853\u001b[0;31m             \u001b[0mpassword\u001b[0m\u001b[0;34m=\u001b[0m\u001b[0;32mFalse\u001b[0m\u001b[0;34m,\u001b[0m\u001b[0;34m\u001b[0m\u001b[0;34m\u001b[0m\u001b[0m\n\u001b[0m\u001b[1;32m    854\u001b[0m         )\n\u001b[1;32m    855\u001b[0m \u001b[0;34m\u001b[0m\u001b[0m\n",
      "\u001b[0;32m/usr/local/Cellar/ipython/7.5.0/libexec/vendor/lib/python3.7/site-packages/ipykernel/kernelbase.py\u001b[0m in \u001b[0;36m_input_request\u001b[0;34m(self, prompt, ident, parent, password)\u001b[0m\n\u001b[1;32m    881\u001b[0m             \u001b[0;32mexcept\u001b[0m \u001b[0mKeyboardInterrupt\u001b[0m\u001b[0;34m:\u001b[0m\u001b[0;34m\u001b[0m\u001b[0;34m\u001b[0m\u001b[0m\n\u001b[1;32m    882\u001b[0m                 \u001b[0;31m# re-raise KeyboardInterrupt, to truncate traceback\u001b[0m\u001b[0;34m\u001b[0m\u001b[0;34m\u001b[0m\u001b[0;34m\u001b[0m\u001b[0m\n\u001b[0;32m--> 883\u001b[0;31m                 \u001b[0;32mraise\u001b[0m \u001b[0mKeyboardInterrupt\u001b[0m\u001b[0;34m\u001b[0m\u001b[0;34m\u001b[0m\u001b[0m\n\u001b[0m\u001b[1;32m    884\u001b[0m             \u001b[0;32melse\u001b[0m\u001b[0;34m:\u001b[0m\u001b[0;34m\u001b[0m\u001b[0;34m\u001b[0m\u001b[0m\n\u001b[1;32m    885\u001b[0m                 \u001b[0;32mbreak\u001b[0m\u001b[0;34m\u001b[0m\u001b[0;34m\u001b[0m\u001b[0m\n",
      "\u001b[0;31mKeyboardInterrupt\u001b[0m: "
     ]
    }
   ],
   "source": [
    "#https://openweathermap.org/current\n",
    "city = city=input('Enter the city:')\n",
    "url = 'http://api.openweathermap.org/data/2.5/weather?'+'q='+city+'&APPID=b35975e18dc93725acb092f7272cc6b8&units=metric'"
   ]
  },
  {
   "cell_type": "code",
   "execution_count": null,
   "metadata": {},
   "outputs": [],
   "source": [
    "# your code"
   ]
  },
  {
   "cell_type": "markdown",
   "metadata": {},
   "source": [
    "#### Book name,price and stock availability as a pandas dataframe."
   ]
  },
  {
   "cell_type": "code",
   "execution_count": null,
   "metadata": {},
   "outputs": [],
   "source": [
    "# This is the url you will scrape in this exercise. \n",
    "# It is a fictional bookstore created to be scraped. \n",
    "url = 'http://books.toscrape.com/'"
   ]
  },
  {
   "cell_type": "code",
   "execution_count": null,
   "metadata": {},
   "outputs": [],
   "source": [
    "#your code"
   ]
  }
 ],
 "metadata": {
  "kernelspec": {
   "display_name": "Python 3",
   "language": "python",
   "name": "python3"
  },
  "language_info": {
   "codemirror_mode": {
    "name": "ipython",
    "version": 3
   },
   "file_extension": ".py",
   "mimetype": "text/x-python",
   "name": "python",
   "nbconvert_exporter": "python",
   "pygments_lexer": "ipython3",
   "version": "3.7.3"
  }
 },
 "nbformat": 4,
 "nbformat_minor": 2
}
