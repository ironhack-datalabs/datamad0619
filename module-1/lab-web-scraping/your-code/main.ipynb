{
 "cells": [
  {
   "cell_type": "markdown",
   "metadata": {},
   "source": [
    "# Web Scraping Lab\n",
    "\n",
    "You will find in this notebook some scrapy exercises to practise your scraping skills.\n",
    "\n",
    "**Tips:**\n",
    "\n",
    "- Check the response status code for each request to ensure you have obtained the intended contennt.\n",
    "- Print the response text in each request to understand the kind of info you are getting and its format.\n",
    "- Check for patterns in the response text to extract the data/info requested in each question.\n",
    "- Visit each url and take a look at its source through Chrome DevTools. You'll need to identify the html tags, special class names etc. used for the html content you are expected to extract."
   ]
  },
  {
   "cell_type": "markdown",
   "metadata": {},
   "source": [
    "- [Requests library](http://docs.python-requests.org/en/master/#the-user-guide) documentation \n",
    "- [Beautiful Soup Doc](https://www.crummy.com/software/BeautifulSoup/bs4/doc/)\n",
    "- [Urllib](https://docs.python.org/3/library/urllib.html#module-urllib)\n",
    "- [re lib](https://docs.python.org/3/library/re.html)\n",
    "- [lxml lib](https://lxml.de/)\n",
    "- [Scrapy](https://scrapy.org/)\n",
    "- [List of HTTP status codes](https://en.wikipedia.org/wiki/List_of_HTTP_status_codes)\n",
    "- [HTML basics](http://www.simplehtmlguide.com/cheatsheet.php)\n",
    "- [CSS basics](https://www.cssbasics.com/#page_start)"
   ]
  },
  {
   "cell_type": "markdown",
   "metadata": {},
   "source": [
    "#### Below are the libraries and modules you may need. `requests`,  `BeautifulSoup` and `pandas` are imported for you. If you prefer to use additional libraries feel free to uncomment them."
   ]
  },
  {
   "cell_type": "code",
   "execution_count": 1,
   "metadata": {},
   "outputs": [],
   "source": [
    "import requests as req\n",
    "from bs4 import BeautifulSoup\n",
    "import pandas as pd\n",
    "import re\n",
    "# from pprint import pprint\n",
    "# from lxml import html\n",
    "# from lxml.html import fromstring\n",
    "# import urllib.request\n",
    "# from urllib.request import urlopen\n",
    "# import random\n",
    "# import scrapy"
   ]
  },
  {
   "cell_type": "markdown",
   "metadata": {},
   "source": [
    "#### Download, parse (using BeautifulSoup), and print the content from the Trending Developers page from GitHub:"
   ]
  },
  {
   "cell_type": "code",
   "execution_count": 2,
   "metadata": {},
   "outputs": [],
   "source": [
    "url = 'https://github.com/trending/developers'"
   ]
  },
  {
   "cell_type": "code",
   "execution_count": 3,
   "metadata": {},
   "outputs": [],
   "source": [
    "res_url = req.get(url)\n",
    "#No he printeado el contenido porque es muy largo."
   ]
  },
  {
   "cell_type": "markdown",
   "metadata": {},
   "source": [
    "#### Display the names of the trending developers retrieved in the previous step.\n",
    "\n",
    "Your output should be a Python list of developer names. Each name should not contain any html tag.\n",
    "\n",
    "**Instructions:**\n",
    "\n",
    "1. Find out the html tag and class names used for the developer names. You can achieve this using Chrome DevTools.\n",
    "\n",
    "1. Use BeautifulSoup to extract all the html elements that contain the developer names.\n",
    "\n",
    "1. Use string manipulation techniques to replace whitespaces and linebreaks (i.e. `\\n`) in the *text* of each html element. Use a list to store the clean names.\n",
    "\n",
    "1. Print the list of names.\n",
    "\n",
    "Your output should look like below:\n",
    "\n",
    "```\n",
    "['trimstray (@trimstray)',\n",
    " 'joewalnes (JoeWalnes)',\n",
    " 'charlax (Charles-AxelDein)',\n",
    " 'ForrestKnight (ForrestKnight)',\n",
    " 'revery-ui (revery-ui)',\n",
    " 'alibaba (Alibaba)',\n",
    " 'Microsoft (Microsoft)',\n",
    " 'github (GitHub)',\n",
    " 'facebook (Facebook)',\n",
    " 'boazsegev (Bo)',\n",
    " 'google (Google)',\n",
    " 'cloudfetch',\n",
    " 'sindresorhus (SindreSorhus)',\n",
    " 'tensorflow',\n",
    " 'apache (TheApacheSoftwareFoundation)',\n",
    " 'DevonCrawford (DevonCrawford)',\n",
    " 'ARMmbed (ArmMbed)',\n",
    " 'vuejs (vuejs)',\n",
    " 'fastai (fast.ai)',\n",
    " 'QiShaoXuan (Qi)',\n",
    " 'joelparkerhenderson (JoelParkerHenderson)',\n",
    " 'torvalds (LinusTorvalds)',\n",
    " 'CyC2018',\n",
    " 'komeiji-satori (神楽坂覚々)',\n",
    " 'script-8']\n",
    " ```"
   ]
  },
  {
   "cell_type": "code",
   "execution_count": 4,
   "metadata": {},
   "outputs": [],
   "source": [
    "soup = BeautifulSoup(res_url.text, 'html.parser')"
   ]
  },
  {
   "cell_type": "code",
   "execution_count": 5,
   "metadata": {},
   "outputs": [
    {
     "name": "stdout",
     "output_type": "stream",
     "text": [
      "[<a href=\"/carllerche\">Carl Lerche</a>, <a href=\"/typicode\">typicode</a>, <a href=\"/davidfowl\">David Fowler</a>, <a href=\"/aduth\">Andrew Duthie</a>, <a href=\"/potatoqualitee\">Chrissy LeMaire</a>, <a href=\"/EvanPurkhiser\">Evan Purkhiser</a>, <a href=\"/peterbourgon\">Peter Bourgon</a>, <a href=\"/guardrex\">Luke Latham</a>, <a href=\"/alexellis\">Alex Ellis</a>, <a href=\"/phil-opp\">Philipp Oppermann</a>, <a href=\"/RichardKnop\">Richard Knop</a>, <a href=\"/jaredpalmer\">Jared Palmer</a>, <a href=\"/mikejolley\">Mike Jolley</a>, <a href=\"/jquense\">Jason Quense</a>, <a href=\"/torch2424\">Aaron Turner</a>, <a href=\"/sobolevn\">Nikita Sobolev</a>, <a href=\"/ChangJoo-Park\">ChangJoo Park(박창주)</a>, <a href=\"/gr2m\">Gregor Martynus</a>, <a href=\"/aaugustin\">Aymeric Augustin</a>, <a href=\"/mattleibow\">Matthew Leibowitz</a>, <a href=\"/miekg\">Miek Gieben</a>, <a href=\"/EvanBacon\">Evan Bacon</a>, <a href=\"/dagar\">Daniel Agar</a>, <a href=\"/laurent22\">Laurent Cozic</a>, <a href=\"/developit\">Jason Miller</a>]\n"
     ]
    }
   ],
   "source": [
    "lista_clases = soup.select(\".h3.lh-condensed a\")\n",
    "print(lista_clases)"
   ]
  },
  {
   "cell_type": "code",
   "execution_count": 6,
   "metadata": {},
   "outputs": [
    {
     "name": "stdout",
     "output_type": "stream",
     "text": [
      "['Carl Lerche, carllerche']\n",
      "['typicode, typicode']\n",
      "['David Fowler, davidfowl']\n",
      "['Andrew Duthie, aduth']\n",
      "['Chrissy LeMaire, potatoqualitee']\n",
      "['Evan Purkhiser, EvanPurkhiser']\n",
      "['Peter Bourgon, peterbourgon']\n",
      "['Luke Latham, guardrex']\n",
      "['Alex Ellis, alexellis']\n",
      "['Philipp Oppermann, phil-opp']\n",
      "['Richard Knop, RichardKnop']\n",
      "['Jared Palmer, jaredpalmer']\n",
      "['Mike Jolley, mikejolley']\n",
      "['Jason Quense, jquense']\n",
      "['Aaron Turner, torch2424']\n",
      "['Nikita Sobolev, sobolevn']\n",
      "['ChangJoo Park(박창주), ChangJoo-Park']\n",
      "['Gregor Martynus, gr2m']\n",
      "['Aymeric Augustin, aaugustin']\n",
      "['Matthew Leibowitz, mattleibow']\n",
      "['Miek Gieben, miekg']\n",
      "['Evan Bacon, EvanBacon']\n",
      "['Daniel Agar, dagar']\n",
      "['Laurent Cozic, laurent22']\n",
      "['Jason Miller, developit']\n"
     ]
    }
   ],
   "source": [
    "for e in lista_clases:\n",
    "    lista_nombre=\", \".join([e.text, e.attrs[\"href\"]])\n",
    "    nombres = lista_nombre.replace(\"/\", \"\" )\n",
    "    lista_final = nombres.split(\"\\n\")\n",
    "    print(lista_final)"
   ]
  },
  {
   "cell_type": "markdown",
   "metadata": {},
   "source": [
    "#### Display the trending Python repositories in GitHub\n",
    "\n",
    "The steps to solve this problem is similar to the previous one except that you need to find out the repository names instead of developer names."
   ]
  },
  {
   "cell_type": "code",
   "execution_count": 7,
   "metadata": {},
   "outputs": [],
   "source": [
    "url = 'https://github.com/trending/python?since=daily'\n",
    "res_url_2 = req.get(url)"
   ]
  },
  {
   "cell_type": "code",
   "execution_count": 8,
   "metadata": {},
   "outputs": [],
   "source": [
    "soup = BeautifulSoup(res_url_2.text, 'html.parser')"
   ]
  },
  {
   "cell_type": "code",
   "execution_count": 9,
   "metadata": {},
   "outputs": [],
   "source": [
    "clases = soup.select(\"h1.h3 a\")"
   ]
  },
  {
   "cell_type": "code",
   "execution_count": 10,
   "metadata": {},
   "outputs": [
    {
     "name": "stdout",
     "output_type": "stream",
     "text": [
      "\n",
      "\n",
      "leisurelicht / wtfpython-cn\n",
      "\n",
      "\n",
      "\n",
      "soimort / you-get\n",
      "\n",
      "\n",
      "\n",
      "bokeh / bokeh\n",
      "\n",
      "\n",
      "\n",
      "fox-it / cve-2019-1040-scanner\n",
      "\n",
      "\n",
      "\n",
      "spesmilo / electrum\n",
      "\n",
      "\n",
      "\n",
      "raspberrypi / documentation\n",
      "\n",
      "\n",
      "\n",
      "dask / dask\n",
      "\n",
      "\n",
      "\n",
      "zalandoresearch / flair\n",
      "\n",
      "\n",
      "\n",
      "TheresAFewConors / Sooty\n",
      "\n",
      "\n",
      "\n",
      "ZhuiyiTechnology / nl2sql_baseline\n",
      "\n",
      "\n",
      "\n",
      "docker / compose\n",
      "\n",
      "\n",
      "\n",
      "satwikkansal / wtfpython\n",
      "\n",
      "\n",
      "\n",
      "matterport / Mask_RCNN\n",
      "\n",
      "\n",
      "\n",
      "reiinakano / scikit-plot\n",
      "\n",
      "\n",
      "\n",
      "machinelearningmindset / machine-learning-course\n",
      "\n",
      "\n",
      "\n",
      "USTC-Resource / USTC-Course\n",
      "\n",
      "\n",
      "\n",
      "my8100 / scrapydweb\n",
      "\n",
      "\n",
      "\n",
      "Neo23x0 / sigma\n",
      "\n",
      "\n",
      "\n",
      "locustio / locust\n",
      "\n",
      "\n",
      "\n",
      "microsoft / MASS\n",
      "\n",
      "\n",
      "\n",
      "tzutalin / labelImg\n",
      "\n",
      "\n",
      "\n",
      "dmlc / tvm\n",
      "\n",
      "\n",
      "\n",
      "PySimpleGUI / PySimpleGUI\n",
      "\n",
      "\n",
      "\n",
      "google-research / google-research\n",
      "\n",
      "\n",
      "\n",
      "LaQuay / TDTChannels\n",
      "\n"
     ]
    }
   ],
   "source": [
    "for repo in clases:\n",
    "    print(repo.text)"
   ]
  },
  {
   "cell_type": "markdown",
   "metadata": {},
   "source": [
    "#### Display all the image links from Walt Disney wikipedia page"
   ]
  },
  {
   "cell_type": "code",
   "execution_count": 11,
   "metadata": {},
   "outputs": [],
   "source": [
    "url_3 = 'https://en.wikipedia.org/wiki/Walt_Disney'"
   ]
  },
  {
   "cell_type": "code",
   "execution_count": 12,
   "metadata": {},
   "outputs": [],
   "source": [
    "res_url_3 = req.get(url)\n",
    "res_url_3.text\n",
    "soup = BeautifulSoup(res_url_3.text, 'html.parser')"
   ]
  },
  {
   "cell_type": "code",
   "execution_count": 13,
   "metadata": {},
   "outputs": [
    {
     "name": "stdout",
     "output_type": "stream",
     "text": [
      "https://github.githubassets.com/images/search-key-slash.svg\n",
      "\n",
      "\n",
      "\n",
      "https://avatars1.githubusercontent.com/u/8042345?s=40&v=4\n",
      "https://avatars1.githubusercontent.com/u/342945?s=40&v=4\n",
      "https://avatars1.githubusercontent.com/u/1081266?s=40&v=4\n",
      "https://avatars3.githubusercontent.com/u/1560962?s=40&v=4\n",
      "https://avatars3.githubusercontent.com/u/2900871?s=40&v=4\n",
      "https://avatars2.githubusercontent.com/u/440661?s=40&v=4\n",
      "https://avatars1.githubusercontent.com/u/1078448?s=40&v=4\n",
      "https://avatars0.githubusercontent.com/u/27475?s=40&v=4\n",
      "https://avatars1.githubusercontent.com/u/1640669?s=40&v=4\n",
      "https://avatars1.githubusercontent.com/u/1796208?s=40&v=4\n",
      "https://avatars0.githubusercontent.com/u/1084690?s=40&v=4\n",
      "https://avatars0.githubusercontent.com/u/1773762?s=40&v=4\n",
      "https://avatars2.githubusercontent.com/u/15322061?s=40&v=4\n",
      "https://avatars1.githubusercontent.com/u/2343238?s=40&v=4\n",
      "https://avatars1.githubusercontent.com/u/29142493?s=40&v=4\n",
      "https://avatars2.githubusercontent.com/u/3319176?s=40&v=4\n",
      "https://avatars0.githubusercontent.com/u/20855?s=40&v=4\n",
      "https://avatars3.githubusercontent.com/u/598790?s=40&v=4\n",
      "https://avatars1.githubusercontent.com/u/1609725?s=40&v=4\n",
      "https://avatars0.githubusercontent.com/u/3844893?s=40&v=4\n",
      "https://avatars2.githubusercontent.com/u/11164126?s=40&v=4\n",
      "https://avatars0.githubusercontent.com/u/476186?s=40&v=4\n",
      "https://avatars1.githubusercontent.com/u/6973823?s=40&v=4\n",
      "https://avatars2.githubusercontent.com/u/306380?s=40&v=4\n",
      "https://avatars3.githubusercontent.com/u/2783717?s=40&v=4\n",
      "https://avatars2.githubusercontent.com/u/598099?s=40&v=4\n",
      "https://avatars3.githubusercontent.com/u/3019665?s=40&v=4\n",
      "https://avatars3.githubusercontent.com/u/1696302?s=40&v=4\n",
      "https://avatars1.githubusercontent.com/u/18665324?s=40&v=4\n",
      "https://avatars2.githubusercontent.com/u/7203823?s=40&v=4\n",
      "https://avatars0.githubusercontent.com/u/20651387?s=40&v=4\n",
      "https://avatars2.githubusercontent.com/u/8100?s=40&v=4\n",
      "https://avatars0.githubusercontent.com/u/15139331?s=40&v=4\n",
      "https://avatars2.githubusercontent.com/u/31410218?s=40&v=4\n",
      "https://avatars0.githubusercontent.com/u/13430434?s=40&v=4\n",
      "https://avatars1.githubusercontent.com/u/2102625?s=40&v=4\n",
      "https://avatars0.githubusercontent.com/u/1086876?s=40&v=4\n",
      "https://avatars3.githubusercontent.com/u/1062?s=40&v=4\n",
      "https://avatars2.githubusercontent.com/u/442180?s=40&v=4\n",
      "https://avatars0.githubusercontent.com/u/40906?s=40&v=4\n",
      "https://avatars2.githubusercontent.com/u/557287?s=40&v=4\n",
      "https://avatars0.githubusercontent.com/u/10217535?s=40&v=4\n",
      "https://avatars1.githubusercontent.com/u/273688?s=40&v=4\n",
      "https://avatars0.githubusercontent.com/u/7661092?s=40&v=4\n",
      "https://avatars3.githubusercontent.com/u/253362?s=40&v=4\n",
      "https://avatars3.githubusercontent.com/u/10658503?s=40&v=4\n",
      "https://avatars3.githubusercontent.com/u/106472?s=40&v=4\n",
      "https://avatars2.githubusercontent.com/u/18047300?s=40&v=4\n",
      "https://avatars3.githubusercontent.com/u/6441756?s=40&v=4\n",
      "https://avatars0.githubusercontent.com/u/6035284?s=40&v=4\n",
      "https://avatars1.githubusercontent.com/u/4167654?s=40&v=4\n",
      "https://avatars0.githubusercontent.com/u/18363734?s=40&v=4\n",
      "https://avatars2.githubusercontent.com/u/4276196?s=40&v=4\n",
      "https://avatars2.githubusercontent.com/u/6459778?s=40&v=4\n",
      "https://avatars2.githubusercontent.com/u/316741?s=40&v=4\n",
      "https://avatars3.githubusercontent.com/u/389091?s=40&v=4\n",
      "https://avatars0.githubusercontent.com/u/47649014?s=40&v=4\n",
      "https://avatars0.githubusercontent.com/u/13461059?s=40&v=4\n",
      "https://avatars3.githubusercontent.com/u/29823405?s=40&v=4\n",
      "https://avatars3.githubusercontent.com/u/21221740?s=40&v=4\n",
      "https://avatars2.githubusercontent.com/u/31991221?s=40&v=4\n",
      "https://avatars0.githubusercontent.com/u/29198767?s=40&v=4\n",
      "https://avatars3.githubusercontent.com/u/3709715?s=40&v=4\n",
      "https://avatars3.githubusercontent.com/u/38147623?s=40&v=4\n",
      "https://avatars2.githubusercontent.com/u/7020805?s=40&v=4\n",
      "https://avatars1.githubusercontent.com/u/37427675?s=40&v=4\n",
      "https://avatars0.githubusercontent.com/u/1845601?s=40&v=4\n",
      "https://avatars3.githubusercontent.com/u/2851492?s=40&v=4\n",
      "https://avatars3.githubusercontent.com/u/38029682?s=40&v=4\n",
      "https://avatars2.githubusercontent.com/u/1300844?s=40&v=4\n",
      "https://avatars3.githubusercontent.com/u/19668285?s=40&v=4\n",
      "https://avatars0.githubusercontent.com/u/54217?s=40&v=4\n",
      "https://avatars2.githubusercontent.com/u/1010517?s=40&v=4\n",
      "https://avatars1.githubusercontent.com/u/39149?s=40&v=4\n",
      "https://avatars0.githubusercontent.com/u/138786?s=40&v=4\n",
      "https://avatars1.githubusercontent.com/u/17010500?s=40&v=4\n",
      "https://avatars3.githubusercontent.com/u/48324527?s=40&v=4\n",
      "https://avatars2.githubusercontent.com/u/6577458?s=40&v=4\n",
      "https://avatars0.githubusercontent.com/u/36886556?s=40&v=4\n",
      "https://avatars1.githubusercontent.com/u/22527892?s=40&v=4\n",
      "https://avatars2.githubusercontent.com/u/9328564?s=40&v=4\n",
      "https://avatars1.githubusercontent.com/u/3283822?s=40&v=4\n",
      "https://avatars3.githubusercontent.com/u/50263?s=40&v=4\n",
      "https://avatars1.githubusercontent.com/u/46901656?s=40&v=4\n",
      "https://avatars2.githubusercontent.com/u/13544299?s=40&v=4\n",
      "https://avatars1.githubusercontent.com/u/2882739?s=40&v=4\n",
      "https://avatars1.githubusercontent.com/u/2577440?s=40&v=4\n",
      "https://avatars2.githubusercontent.com/u/17693755?s=40&v=4\n",
      "https://avatars2.githubusercontent.com/u/15100009?s=40&v=4\n",
      "https://avatars2.githubusercontent.com/u/14215163?s=40&v=4\n",
      "https://avatars3.githubusercontent.com/u/15828974?s=40&v=4\n",
      "https://avatars2.githubusercontent.com/u/13696193?s=40&v=4\n",
      "https://avatars2.githubusercontent.com/u/4681318?s=40&v=4\n",
      "https://avatars0.githubusercontent.com/u/46163555?s=40&v=4\n",
      "https://avatars3.githubusercontent.com/u/44204857?s=40&v=4\n",
      "https://avatars2.githubusercontent.com/u/22997468?s=40&v=4\n",
      "https://avatars1.githubusercontent.com/u/20805451?s=40&v=4\n",
      "https://avatars2.githubusercontent.com/u/2569867?s=40&v=4\n",
      "https://avatars1.githubusercontent.com/u/6128079?s=40&v=4\n",
      "https://avatars0.githubusercontent.com/u/6495170?s=40&v=4\n",
      "https://avatars0.githubusercontent.com/u/13373825?s=40&v=4\n",
      "https://avatars0.githubusercontent.com/u/6410250?s=40&v=4\n",
      "https://avatars2.githubusercontent.com/u/38435718?s=40&v=4\n",
      "https://avatars3.githubusercontent.com/u/3778999?s=40&v=4\n",
      "https://avatars2.githubusercontent.com/u/46137909?s=40&v=4\n",
      "https://avatars1.githubusercontent.com/u/46264854?s=40&v=4\n"
     ]
    }
   ],
   "source": [
    "for src in soup.find_all('img'):\n",
    "    print(src['src'])"
   ]
  },
  {
   "cell_type": "markdown",
   "metadata": {},
   "source": [
    "#### Retrieve an arbitary Wikipedia page of \"Python\" and create a list of links on that page"
   ]
  },
  {
   "cell_type": "code",
   "execution_count": 14,
   "metadata": {},
   "outputs": [],
   "source": [
    "url ='https://en.wikipedia.org/wiki/Python' "
   ]
  },
  {
   "cell_type": "code",
   "execution_count": 15,
   "metadata": {},
   "outputs": [],
   "source": [
    "#your code\n",
    "res_4 = req.get(url)\n",
    "res_4.text\n",
    "soup = BeautifulSoup(res_4.text, 'html.parser')"
   ]
  },
  {
   "cell_type": "code",
   "execution_count": 16,
   "metadata": {},
   "outputs": [],
   "source": [
    "links = [a['href'] for a in soup.select('a[href]')[15:]]"
   ]
  },
  {
   "cell_type": "code",
   "execution_count": 17,
   "metadata": {},
   "outputs": [
    {
     "name": "stdout",
     "output_type": "stream",
     "text": [
      "['/w/index.php?title=Python&action=edit&section=1']\n",
      "['/wiki/Pythonidae']\n",
      "['/wiki/Python_(genus)']\n",
      "['/w/index.php?title=Python&action=edit&section=2']\n",
      "['/wiki/Python_(mythology)']\n",
      "['/wiki/Python_of_Aenus']\n",
      "['/wiki/Python_(painter)']\n",
      "['/wiki/Python_of_Byzantium']\n",
      "['/wiki/Python_of_Catana']\n",
      "['/w/index.php?title=Python&action=edit&section=3']\n",
      "['/wiki/Python_(film)']\n",
      "['/wiki/Pythons_2']\n",
      "['/wiki/Monty_Python']\n",
      "['/wiki/Python_(Monty)_Pictures']\n",
      "['/w/index.php?title=Python&action=edit&section=4']\n",
      "['/wiki/Python_(programming_language)']\n",
      "['/wiki/CPython']\n",
      "['/wiki/CMU_Common_Lisp']\n",
      "['/wiki/PERQ#PERQ_3']\n",
      "['/w/index.php?title=Python&action=edit&section=5']\n",
      "['/w/index.php?title=Python&action=edit&section=6']\n",
      "['/wiki/Python_(Busch_Gardens_Tampa_Bay)']\n",
      "['/wiki/Python_(Coney_Island', '_Cincinnati', '_Ohio)']\n",
      "['/wiki/Python_(Efteling)']\n",
      "['/w/index.php?title=Python&action=edit&section=7']\n",
      "['/wiki/Python_(automobile_maker)']\n",
      "['/wiki/Python_(Ford_prototype)']\n",
      "['/w/index.php?title=Python&action=edit&section=8']\n",
      "['/wiki/Colt_Python']\n",
      "['/wiki/Python_(missile)']\n",
      "['/wiki/Python_(nuclear_primary)']\n",
      "['/w/index.php?title=Python&action=edit&section=9']\n",
      "['/wiki/Python_Anghelo']\n",
      "['/w/index.php?title=Python&action=edit&section=10']\n",
      "['/wiki/PYTHON']\n",
      "['/w/index.php?title=Python&action=edit&section=11']\n",
      "['/wiki/Cython']\n",
      "['/wiki/Pyton']\n",
      "['/wiki/File:Disambig_gray.svg']\n",
      "['/wiki/Help:Disambiguation']\n",
      "['//en.wikipedia.org/w/index.php?title=Special:WhatLinksHere/Python&namespace=0']\n",
      "['https://en.wikipedia.org/w/index.php?title=Python&oldid=900406526']\n",
      "['/wiki/Help:Category']\n",
      "['/wiki/Category:Disambiguation_pages']\n",
      "['/wiki/Category:Disambiguation_pages_with_short_description']\n",
      "['/wiki/Category:All_article_disambiguation_pages']\n",
      "['/wiki/Category:All_disambiguation_pages']\n",
      "['/wiki/Category:Animal_common_name_disambiguation_pages']\n",
      "['/wiki/Special:MyTalk']\n",
      "['/wiki/Special:MyContributions']\n",
      "['/w/index.php?title=Special:CreateAccount&returnto=Python']\n",
      "['/w/index.php?title=Special:UserLogin&returnto=Python']\n",
      "['/wiki/Python']\n",
      "['/wiki/Talk:Python']\n",
      "['/wiki/Python']\n",
      "['/w/index.php?title=Python&action=edit']\n",
      "['/w/index.php?title=Python&action=history']\n",
      "['/wiki/Main_Page']\n",
      "['/wiki/Main_Page']\n",
      "['/wiki/Portal:Contents']\n",
      "['/wiki/Portal:Featured_content']\n",
      "['/wiki/Portal:Current_events']\n",
      "['/wiki/Special:Random']\n",
      "['https://donate.wikimedia.org/wiki/Special:FundraiserRedirector?utm_source=donate&utm_medium=sidebar&utm_campaign=C13_en.wikipedia.org&uselang=en']\n",
      "['//shop.wikimedia.org']\n",
      "['/wiki/Help:Contents']\n",
      "['/wiki/Wikipedia:About']\n",
      "['/wiki/Wikipedia:Community_portal']\n",
      "['/wiki/Special:RecentChanges']\n",
      "['//en.wikipedia.org/wiki/Wikipedia:Contact_us']\n",
      "['/wiki/Special:WhatLinksHere/Python']\n",
      "['/wiki/Special:RecentChangesLinked/Python']\n",
      "['/wiki/Wikipedia:File_Upload_Wizard']\n",
      "['/wiki/Special:SpecialPages']\n",
      "['/w/index.php?title=Python&oldid=900406526']\n",
      "['/w/index.php?title=Python&action=info']\n",
      "['https://www.wikidata.org/wiki/Special:EntityPage/Q747452']\n",
      "['/w/index.php?title=Special:CiteThisPage&page=Python&id=900406526']\n",
      "['https://commons.wikimedia.org/wiki/Category:Python']\n",
      "['/w/index.php?title=Special:Book&bookcmd=book_creator&referer=Python']\n",
      "['/w/index.php?title=Special:ElectronPdf&page=Python&action=show-download-screen']\n",
      "['/w/index.php?title=Python&printable=yes']\n",
      "['https://af.wikipedia.org/wiki/Python']\n",
      "['https://als.wikipedia.org/wiki/Python']\n",
      "['https://az.wikipedia.org/wiki/Python']\n",
      "['https://bn.wikipedia.org/wiki/%E0%A6%AA%E0%A6%BE%E0%A6%87%E0%A6%A5%E0%A6%A8_(%E0%A6%A6%E0%A7%8D%E0%A6%AC%E0%A7%8D%E0%A6%AF%E0%A6%B0%E0%A7%8D%E0%A6%A5%E0%A6%A4%E0%A6%BE_%E0%A6%A8%E0%A6%BF%E0%A6%B0%E0%A6%B8%E0%A6%A8)']\n",
      "['https://be.wikipedia.org/wiki/Python']\n",
      "['https://bg.wikipedia.org/wiki/%D0%9F%D0%B8%D1%82%D0%BE%D0%BD_(%D0%BF%D0%BE%D1%8F%D1%81%D0%BD%D0%B5%D0%BD%D0%B8%D0%B5)']\n",
      "['https://cs.wikipedia.org/wiki/Python_(rozcestn%C3%ADk)']\n",
      "['https://da.wikipedia.org/wiki/Python']\n",
      "['https://de.wikipedia.org/wiki/Python']\n",
      "['https://eo.wikipedia.org/wiki/Pitono_(apartigilo)']\n",
      "['https://eu.wikipedia.org/wiki/Python_(argipena)']\n",
      "['https://fa.wikipedia.org/wiki/%D9%BE%D8%A7%DB%8C%D8%AA%D9%88%D9%86']\n",
      "['https://fr.wikipedia.org/wiki/Python']\n",
      "['https://ko.wikipedia.org/wiki/%ED%8C%8C%EC%9D%B4%EC%84%A0']\n",
      "['https://hr.wikipedia.org/wiki/Python_(razdvojba)']\n",
      "['https://io.wikipedia.org/wiki/Pitono']\n",
      "['https://id.wikipedia.org/wiki/Python']\n",
      "['https://ia.wikipedia.org/wiki/Python_(disambiguation)']\n",
      "['https://is.wikipedia.org/wiki/Python_(a%C3%B0greining)']\n",
      "['https://it.wikipedia.org/wiki/Python_(disambigua)']\n",
      "['https://he.wikipedia.org/wiki/%D7%A4%D7%99%D7%AA%D7%95%D7%9F']\n",
      "['https://ka.wikipedia.org/wiki/%E1%83%9E%E1%83%98%E1%83%97%E1%83%9D%E1%83%9C%E1%83%98_(%E1%83%9B%E1%83%A0%E1%83%90%E1%83%95%E1%83%90%E1%83%9A%E1%83%9B%E1%83%9C%E1%83%98%E1%83%A8%E1%83%95%E1%83%9C%E1%83%94%E1%83%9A%E1%83%9D%E1%83%95%E1%83%90%E1%83%9C%E1%83%98)']\n",
      "['https://kg.wikipedia.org/wiki/Mboma_(nyoka)']\n",
      "['https://la.wikipedia.org/wiki/Python_(discretiva)']\n",
      "['https://lb.wikipedia.org/wiki/Python']\n",
      "['https://hu.wikipedia.org/wiki/Python_(egy%C3%A9rtelm%C5%B1s%C3%ADt%C5%91_lap)']\n",
      "['https://mr.wikipedia.org/wiki/%E0%A4%AA%E0%A4%BE%E0%A4%AF%E0%A4%A5%E0%A5%89%E0%A4%A8_(%E0%A4%86%E0%A4%9C%E0%A5%8D%E0%A4%9E%E0%A4%BE%E0%A4%B5%E0%A4%B2%E0%A5%80_%E0%A4%AD%E0%A4%BE%E0%A4%B7%E0%A4%BE)']\n",
      "['https://nl.wikipedia.org/wiki/Python']\n",
      "['https://ja.wikipedia.org/wiki/%E3%83%91%E3%82%A4%E3%82%BD%E3%83%B3']\n",
      "['https://no.wikipedia.org/wiki/Pyton']\n",
      "['https://pl.wikipedia.org/wiki/Pyton']\n",
      "['https://pt.wikipedia.org/wiki/Python_(desambigua%C3%A7%C3%A3o)']\n",
      "['https://ru.wikipedia.org/wiki/Python_(%D0%B7%D0%BD%D0%B0%D1%87%D0%B5%D0%BD%D0%B8%D1%8F)']\n",
      "['https://sd.wikipedia.org/wiki/%D8%A7%D8%B1%DA%99']\n",
      "['https://sk.wikipedia.org/wiki/Python']\n",
      "['https://sh.wikipedia.org/wiki/Python']\n",
      "['https://fi.wikipedia.org/wiki/Python']\n",
      "['https://sv.wikipedia.org/wiki/Pyton']\n",
      "['https://th.wikipedia.org/wiki/%E0%B9%84%E0%B8%9E%E0%B8%97%E0%B8%AD%E0%B8%99']\n",
      "['https://tr.wikipedia.org/wiki/Python']\n",
      "['https://uk.wikipedia.org/wiki/%D0%9F%D1%96%D1%84%D0%BE%D0%BD']\n",
      "['https://ur.wikipedia.org/wiki/%D9%BE%D8%A7%D8%A6%DB%8C%D8%AA%DA%BE%D9%88%D9%86']\n",
      "['https://vi.wikipedia.org/wiki/Python']\n",
      "['https://zh.wikipedia.org/wiki/Python_(%E6%B6%88%E6%AD%A7%E4%B9%89)']\n",
      "['https://www.wikidata.org/wiki/Special:EntityPage/Q747452#sitelinks-wikipedia']\n",
      "['//en.wikipedia.org/wiki/Wikipedia:Text_of_Creative_Commons_Attribution-ShareAlike_3.0_Unported_License']\n",
      "['//creativecommons.org/licenses/by-sa/3.0/']\n",
      "['//foundation.wikimedia.org/wiki/Terms_of_Use']\n",
      "['//foundation.wikimedia.org/wiki/Privacy_policy']\n",
      "['//www.wikimediafoundation.org/']\n",
      "['https://foundation.wikimedia.org/wiki/Privacy_policy']\n",
      "['/wiki/Wikipedia:About']\n",
      "['/wiki/Wikipedia:General_disclaimer']\n",
      "['//en.wikipedia.org/wiki/Wikipedia:Contact_us']\n",
      "['https://www.mediawiki.org/wiki/Special:MyLanguage/How_to_contribute']\n",
      "['https://foundation.wikimedia.org/wiki/Cookie_statement']\n",
      "['//en.m.wikipedia.org/w/index.php?title=Python&mobileaction=toggle_view_mobile']\n",
      "['https://wikimediafoundation.org/']\n",
      "['https://www.mediawiki.org/']\n"
     ]
    }
   ],
   "source": [
    "for i in links:\n",
    "    x = i.split(',')\n",
    "    print(x)"
   ]
  },
  {
   "cell_type": "markdown",
   "metadata": {},
   "source": [
    "#### Number of Titles that have changed in the United States Code since its last release point "
   ]
  },
  {
   "cell_type": "code",
   "execution_count": 18,
   "metadata": {},
   "outputs": [],
   "source": [
    "url = 'http://uscode.house.gov/download/download.shtml'"
   ]
  },
  {
   "cell_type": "code",
   "execution_count": 19,
   "metadata": {},
   "outputs": [],
   "source": [
    "res_5 = req.get(url)\n",
    "res_5.text\n",
    "soup = BeautifulSoup(res_5.text, 'html.parser')"
   ]
  },
  {
   "cell_type": "code",
   "execution_count": 20,
   "metadata": {},
   "outputs": [
    {
     "name": "stdout",
     "output_type": "stream",
     "text": [
      "[<div class=\"usctitlechanged\" id=\"us/usc/t2\">\n",
      "\n",
      "          Title 2 - The Congress\n",
      "\n",
      "        </div>]\n"
     ]
    }
   ],
   "source": [
    "titles = soup.select(\".usctitlechanged\")\n",
    "print(titles)"
   ]
  },
  {
   "cell_type": "markdown",
   "metadata": {},
   "source": [
    "#### A Python list with the top ten FBI's Most Wanted names "
   ]
  },
  {
   "cell_type": "code",
   "execution_count": 21,
   "metadata": {},
   "outputs": [],
   "source": [
    "url = 'https://www.fbi.gov/wanted/topten'"
   ]
  },
  {
   "cell_type": "code",
   "execution_count": 22,
   "metadata": {},
   "outputs": [],
   "source": [
    "res_6 = req.get(url)\n",
    "res_6.text\n",
    "soup = BeautifulSoup(res_6.text, 'html.parser')"
   ]
  },
  {
   "cell_type": "code",
   "execution_count": 23,
   "metadata": {},
   "outputs": [
    {
     "name": "stdout",
     "output_type": "stream",
     "text": [
      "[<a href=\"https://www.fbi.gov/wanted/topten/jason-derek-brown\">JASON DEREK BROWN</a>, <a href=\"https://www.fbi.gov/wanted/topten/rafael-caro-quintero\">RAFAEL CARO-QUINTERO</a>, <a href=\"https://www.fbi.gov/wanted/topten/alexis-flores\">ALEXIS FLORES</a>, <a href=\"https://www.fbi.gov/wanted/topten/eugene-palmer\">EUGENE PALMER</a>, <a href=\"https://www.fbi.gov/wanted/topten/santiago-mederos\">SANTIAGO VILLALBA MEDEROS</a>, <a href=\"https://www.fbi.gov/wanted/topten/robert-william-fisher\">ROBERT WILLIAM FISHER</a>, <a href=\"https://www.fbi.gov/wanted/topten/bhadreshkumar-chetanbhai-patel\">BHADRESHKUMAR CHETANBHAI PATEL</a>, <a href=\"https://www.fbi.gov/wanted/topten/arnoldo-jimenez\">ARNOLDO JIMENEZ</a>, <a href=\"https://www.fbi.gov/wanted/topten/alejandro-castillo\">ALEJANDRO ROSALES CASTILLO</a>, <a href=\"https://www.fbi.gov/wanted/topten/yaser-abdel-said\">YASER ABDEL SAID</a>]\n"
     ]
    }
   ],
   "source": [
    "names = soup.select(\"h3 a\")\n",
    "print(names)"
   ]
  },
  {
   "cell_type": "code",
   "execution_count": null,
   "metadata": {},
   "outputs": [
    {
     "name": "stdout",
     "output_type": "stream",
     "text": [
      "JASON DEREK BROWN\n",
      "RAFAEL CARO-QUINTERO\n",
      "ALEXIS FLORES\n",
      "EUGENE PALMER\n",
      "SANTIAGO VILLALBA MEDEROS\n",
      "ROBERT WILLIAM FISHER\n",
      "BHADRESHKUMAR CHETANBHAI PATEL\n",
      "ARNOLDO JIMENEZ\n",
      "ALEJANDRO ROSALES CASTILLO\n",
      "YASER ABDEL SAID\n"
     ]
    }
   ],
   "source": [
    "for name in names:\n",
    "    print(name.text)"
   ]
  },
  {
   "cell_type": "markdown",
   "metadata": {},
   "source": [
    "####  20 latest earthquakes info (date, time, latitude, longitude and region name) by the EMSC as a pandas dataframe"
   ]
  },
  {
   "cell_type": "code",
   "execution_count": null,
   "metadata": {},
   "outputs": [],
   "source": [
    "url = 'https://www.emsc-csem.org/Earthquake/'"
   ]
  },
  {
   "cell_type": "code",
   "execution_count": null,
   "metadata": {},
   "outputs": [],
   "source": [
    "res_7 = req.get(url)\n",
    "res_7.text\n",
    "soup = BeautifulSoup(res_7.text, 'html.parser')"
   ]
  },
  {
   "cell_type": "code",
   "execution_count": null,
   "metadata": {},
   "outputs": [
    {
     "name": "stdout",
     "output_type": "stream",
     "text": [
      "['2019-06-28', '06:56:30.0']\n",
      "['2019-06-28', '06:49:17.8']\n",
      "['2019-06-28', '06:37:40.9']\n",
      "['2019-06-28', '05:42:39.8']\n",
      "['2019-06-28', '05:38:30.0']\n",
      "['2019-06-28', '05:29:52.3']\n",
      "['2019-06-28', '05:23:59.3']\n",
      "['2019-06-28', '05:16:12.1']\n",
      "['2019-06-28', '04:30:34.0']\n",
      "['2019-06-28', '04:27:30.0']\n",
      "['2019-06-28', '04:20:11.4']\n",
      "['2019-06-28', '04:20:02.0']\n",
      "['2019-06-28', '03:58:30.0']\n",
      "['2019-06-28', '03:41:30.0']\n",
      "['2019-06-28', '03:41:22.9']\n",
      "['2019-06-28', '03:40:05.0']\n",
      "['2019-06-28', '02:56:49.2']\n",
      "['2019-06-28', '02:55:28.5']\n",
      "['2019-06-28', '02:24:30.0']\n",
      "['2019-06-28', '02:07:43.6']\n",
      "['2019-06-28', '01:50:30.0']\n",
      "['2019-06-28', '01:35:51.8']\n",
      "['2019-06-28', '01:03:58.0']\n",
      "['2019-06-28', '00:52:16.0']\n",
      "['2019-06-28', '00:50:24.2']\n",
      "['2019-06-28', '00:45:47.0']\n",
      "['2019-06-28', '00:39:46.5']\n",
      "['2019-06-28', '00:37:57.0']\n",
      "['2019-06-28', '00:28:45.7']\n",
      "['2019-06-28', '00:18:57.0']\n",
      "['2019-06-28', '00:16:30.0']\n",
      "['2019-06-27', '23:37:58.9']\n",
      "['2019-06-27', '23:32:43.6']\n",
      "['2019-06-27', '22:57:44.0']\n",
      "['2019-06-27', '22:47:17.7']\n",
      "['2019-06-27', '22:37:20.9']\n",
      "['2019-06-27', '22:12:54.0']\n",
      "['2019-06-27', '22:11:30.0']\n",
      "['2019-06-27', '21:47:54.3']\n",
      "['2019-06-27', '21:34:00.5']\n",
      "['2019-06-27', '21:14:30.0']\n",
      "['2019-06-27', '21:06:59.0']\n",
      "['2019-06-27', '20:58:24.3']\n",
      "['2019-06-27', '20:50:46.8']\n",
      "['2019-06-27', '20:45:15.5']\n",
      "['2019-06-27', '20:41:30.0']\n",
      "['2019-06-27', '20:38:31.0']\n",
      "['2019-06-27', '20:34:50.0']\n",
      "['2019-06-27', '20:24:33.2']\n",
      "['2019-06-27', '20:23:35.5']\n"
     ]
    }
   ],
   "source": [
    "dates = soup.select(\".tabev6 a\")\n",
    "for date in dates:\n",
    "    final_date = date.text.split()\n",
    "    print(final_date)"
   ]
  },
  {
   "cell_type": "code",
   "execution_count": null,
   "metadata": {},
   "outputs": [
    {
     "name": "stdout",
     "output_type": "stream",
     "text": [
      "['PANAMA-COSTA', 'RICA', 'BORDER', 'REGION']\n",
      "['ISLAND', 'OF', 'HAWAII,', 'HAWAII']\n",
      "['CENTRAL', 'TURKEY']\n",
      "['TURKEY-SYRIA-IRAQ', 'BORDER', 'REGION']\n",
      "['PANAMA-COSTA', 'RICA', 'BORDER', 'REGION']\n",
      "['JUJUY,', 'ARGENTINA']\n",
      "['HAWAII', 'REGION,', 'HAWAII']\n",
      "['HINDU', 'KUSH', 'REGION,', 'AFGHANISTAN']\n",
      "['IZU', 'ISLANDS,', 'JAPAN', 'REGION']\n",
      "['PANAMA-COSTA', 'RICA', 'BORDER', 'REGION']\n",
      "['WESTERN', 'TEXAS']\n",
      "['SULAWESI,', 'INDONESIA']\n",
      "['PANAMA-COSTA', 'RICA', 'BORDER', 'REGION']\n",
      "['PANAMA-COSTA', 'RICA', 'BORDER', 'REGION']\n",
      "['SICILY,', 'ITALY']\n",
      "['OFFSHORE', 'ARAUCANIA,', 'CHILE']\n",
      "['CRETE,', 'GREECE']\n",
      "['NORTHERN', 'CALIFORNIA']\n",
      "['PANAMA-COSTA', 'RICA', 'BORDER', 'REGION']\n",
      "['OFFSHORE', 'GUATEMALA']\n",
      "['PANAMA-COSTA', 'RICA', 'BORDER', 'REGION']\n",
      "['NORTHERN', 'CALIFORNIA']\n",
      "['PAPUA,', 'INDONESIA']\n",
      "['PAPUA,', 'INDONESIA']\n",
      "['WESTERN', 'TURKEY']\n",
      "['PAPUA,', 'INDONESIA']\n",
      "['SOUTHERN', 'ALASKA']\n",
      "['OAXACA,', 'MEXICO']\n",
      "['HALMAHERA,', 'INDONESIA']\n",
      "['OAXACA,', 'MEXICO']\n",
      "['PANAMA-COSTA', 'RICA', 'BORDER', 'REGION']\n",
      "['SOUTHERN', 'PERU']\n",
      "['OFFSHORE', 'CENTRAL', 'CALIFORNIA']\n",
      "['MINAHASA,', 'SULAWESI,', 'INDONESIA']\n",
      "['CANARY', 'ISLANDS,', 'SPAIN', 'REGION']\n",
      "['AUSTRIA']\n",
      "['DOMINICAN', 'REPUBLIC', 'REGION']\n",
      "['PANAMA-COSTA', 'RICA', 'BORDER', 'REGION']\n",
      "['PUERTO', 'RICO', 'REGION']\n",
      "['SOUTHERN', 'CALIFORNIA']\n",
      "['PANAMA-COSTA', 'RICA', 'BORDER', 'REGION']\n",
      "['OFFSHORE', 'GUERRERO,', 'MEXICO']\n",
      "['TONGA']\n",
      "['GREATER', 'LOS', 'ANGELES', 'AREA,', 'CALIF.']\n",
      "['PAPUA,', 'INDONESIA']\n",
      "['PANAMA-COSTA', 'RICA', 'BORDER', 'REGION']\n",
      "['NEW', 'SOUTH', 'WALES,', 'AUSTRALIA']\n",
      "['OAXACA,', 'MEXICO']\n",
      "['HALMAHERA,', 'INDONESIA']\n",
      "['NORTHWESTERN', 'IRAN']\n"
     ]
    }
   ],
   "source": [
    "region = soup.select(\".tb_region\")\n",
    "for re in region:\n",
    "    regions2 = re.text.split()\n",
    "    print(regions2)"
   ]
  },
  {
   "cell_type": "code",
   "execution_count": null,
   "metadata": {},
   "outputs": [],
   "source": [
    "longitu = soup.select(\"td tabev1\")\n",
    "print(longitu)"
   ]
  },
  {
   "cell_type": "markdown",
   "metadata": {},
   "source": [
    "#### Display the date, days, title, city, country of next 25 hackathon events as a Pandas dataframe table"
   ]
  },
  {
   "cell_type": "code",
   "execution_count": null,
   "metadata": {},
   "outputs": [],
   "source": [
    "url ='https://hackevents.co/hackathons'"
   ]
  },
  {
   "cell_type": "code",
   "execution_count": null,
   "metadata": {},
   "outputs": [],
   "source": []
  },
  {
   "cell_type": "markdown",
   "metadata": {},
   "source": [
    "#### Count number of tweets by a given Twitter account."
   ]
  },
  {
   "cell_type": "markdown",
   "metadata": {},
   "source": [
    "You will need to include a ***try/except block*** for account names not found. \n",
    "<br>***Hint:*** the program should count the number of tweets for any provided account"
   ]
  },
  {
   "cell_type": "code",
   "execution_count": null,
   "metadata": {},
   "outputs": [],
   "source": [
    "# This is the url you will scrape in this exercise \n",
    "# You will need to add the account credentials to this url\n",
    "url = 'https://twitter.com/'"
   ]
  },
  {
   "cell_type": "code",
   "execution_count": null,
   "metadata": {},
   "outputs": [],
   "source": [
    "#your code"
   ]
  },
  {
   "cell_type": "markdown",
   "metadata": {},
   "source": [
    "#### Number of followers of a given twitter account"
   ]
  },
  {
   "cell_type": "markdown",
   "metadata": {},
   "source": [
    "You will need to include a ***try/except block*** in case account/s name not found. \n",
    "<br>***Hint:*** the program should count the followers for any provided account"
   ]
  },
  {
   "cell_type": "code",
   "execution_count": null,
   "metadata": {},
   "outputs": [],
   "source": [
    "# This is the url you will scrape in this exercise \n",
    "# You will need to add the account credentials to this url\n",
    "url = 'https://twitter.com/'"
   ]
  },
  {
   "cell_type": "code",
   "execution_count": null,
   "metadata": {},
   "outputs": [],
   "source": [
    "#your code"
   ]
  },
  {
   "cell_type": "markdown",
   "metadata": {},
   "source": [
    "#### List all language names and number of related articles in the order they appear in wikipedia.org"
   ]
  },
  {
   "cell_type": "code",
   "execution_count": null,
   "metadata": {},
   "outputs": [],
   "source": [
    "# This is the url you will scrape in this exercise\n",
    "url = 'https://www.wikipedia.org/'"
   ]
  },
  {
   "cell_type": "code",
   "execution_count": null,
   "metadata": {},
   "outputs": [],
   "source": [
    "#your code"
   ]
  },
  {
   "cell_type": "markdown",
   "metadata": {},
   "source": [
    "#### A list with the different kind of datasets available in data.gov.uk "
   ]
  },
  {
   "cell_type": "code",
   "execution_count": null,
   "metadata": {},
   "outputs": [],
   "source": [
    "# This is the url you will scrape in this exercise\n",
    "url = 'https://data.gov.uk/'"
   ]
  },
  {
   "cell_type": "code",
   "execution_count": null,
   "metadata": {},
   "outputs": [],
   "source": [
    "#your code "
   ]
  },
  {
   "cell_type": "markdown",
   "metadata": {},
   "source": [
    "#### Top 10 languages by number of native speakers stored in a Pandas Dataframe"
   ]
  },
  {
   "cell_type": "code",
   "execution_count": null,
   "metadata": {},
   "outputs": [],
   "source": [
    "# This is the url you will scrape in this exercise\n",
    "url = 'https://en.wikipedia.org/wiki/List_of_languages_by_number_of_native_speakers'"
   ]
  },
  {
   "cell_type": "code",
   "execution_count": null,
   "metadata": {},
   "outputs": [],
   "source": [
    "#your code"
   ]
  },
  {
   "cell_type": "markdown",
   "metadata": {},
   "source": [
    "### BONUS QUESTIONS"
   ]
  },
  {
   "cell_type": "markdown",
   "metadata": {},
   "source": [
    "#### Scrape a certain number of tweets of a given Twitter account."
   ]
  },
  {
   "cell_type": "code",
   "execution_count": null,
   "metadata": {},
   "outputs": [],
   "source": [
    "# This is the url you will scrape in this exercise \n",
    "# You will need to add the account credentials to this url\n",
    "url = 'https://twitter.com/'"
   ]
  },
  {
   "cell_type": "code",
   "execution_count": null,
   "metadata": {},
   "outputs": [],
   "source": [
    "# your code"
   ]
  },
  {
   "cell_type": "markdown",
   "metadata": {},
   "source": [
    "#### IMDB's Top 250 data (movie name, Initial release, director name and stars) as a pandas dataframe"
   ]
  },
  {
   "cell_type": "code",
   "execution_count": null,
   "metadata": {},
   "outputs": [],
   "source": [
    "# This is the url you will scrape in this exercise \n",
    "url = 'https://www.imdb.com/chart/top'"
   ]
  },
  {
   "cell_type": "code",
   "execution_count": null,
   "metadata": {},
   "outputs": [],
   "source": [
    "# your code"
   ]
  },
  {
   "cell_type": "markdown",
   "metadata": {},
   "source": [
    "#### Movie name, year and a brief summary of the top 10 random movies (IMDB) as a pandas dataframe."
   ]
  },
  {
   "cell_type": "code",
   "execution_count": null,
   "metadata": {},
   "outputs": [],
   "source": [
    "#This is the url you will scrape in this exercise\n",
    "url = 'http://www.imdb.com/chart/top'"
   ]
  },
  {
   "cell_type": "code",
   "execution_count": null,
   "metadata": {},
   "outputs": [],
   "source": [
    "#your code"
   ]
  },
  {
   "cell_type": "markdown",
   "metadata": {},
   "source": [
    "#### Find the live weather report (temperature, wind speed, description and weather) of a given city."
   ]
  },
  {
   "cell_type": "code",
   "execution_count": null,
   "metadata": {},
   "outputs": [],
   "source": [
    "#https://openweathermap.org/current\n",
    "city = city=input('Enter the city:')\n",
    "url = 'http://api.openweathermap.org/data/2.5/weather?'+'q='+city+'&APPID=b35975e18dc93725acb092f7272cc6b8&units=metric'"
   ]
  },
  {
   "cell_type": "code",
   "execution_count": null,
   "metadata": {},
   "outputs": [],
   "source": [
    "# your code"
   ]
  },
  {
   "cell_type": "markdown",
   "metadata": {},
   "source": [
    "#### Book name,price and stock availability as a pandas dataframe."
   ]
  },
  {
   "cell_type": "code",
   "execution_count": null,
   "metadata": {},
   "outputs": [],
   "source": [
    "# This is the url you will scrape in this exercise. \n",
    "# It is a fictional bookstore created to be scraped. \n",
    "url = 'http://books.toscrape.com/'"
   ]
  },
  {
   "cell_type": "code",
   "execution_count": null,
   "metadata": {},
   "outputs": [],
   "source": [
    "#your code"
   ]
  }
 ],
 "metadata": {
  "kernelspec": {
   "display_name": "Python 3",
   "language": "python",
   "name": "python3"
  },
  "language_info": {
   "codemirror_mode": {
    "name": "ipython",
    "version": 3
   },
   "file_extension": ".py",
   "mimetype": "text/x-python",
   "name": "python",
   "nbconvert_exporter": "python",
   "pygments_lexer": "ipython3",
   "version": "3.7.3"
  }
 },
 "nbformat": 4,
 "nbformat_minor": 2
}
