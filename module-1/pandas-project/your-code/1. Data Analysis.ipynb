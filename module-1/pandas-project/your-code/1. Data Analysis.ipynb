{
 "cells": [
  {
   "cell_type": "code",
   "execution_count": null,
   "metadata": {},
   "outputs": [],
   "source": [
    "'''test = pd.DataFrame()\n",
    "test [\"Survived\"] = clean_sharks[clean_sharks[\"Fatal\"]==\"N\"].groupby([\"Sex\"]).count()[\"Fatal\"]\n",
    "test [\"Died\"] = clean_sharks[clean_sharks[\"Fatal\"]==\"Y\"].groupby([\"Sex\"]).count()[\"Fatal\"]\n",
    "test [\"Surv rate\"] = (test[\"Survived\"]/(test[\"Survived\"]+test[\"Died\"]))*100\n",
    "test\n",
    "'''"
   ]
  },
  {
   "cell_type": "code",
   "execution_count": null,
   "metadata": {},
   "outputs": [],
   "source": [
    "'''\n",
    "test2=pd.DataFrame()\n",
    "test2[\"Reported attacks\"] = clean_sharks.groupby([\"Country\"]).count()[\"Year\"]\n",
    "test2[\"Common Sex\"]=clean_sharks.groupby([\"Country\"])[\"Sex\"].agg(pd.Series.mode)\n",
    "test2[\"Victim age\"]=clean_sharks[clean_sharks[\"Sex\"]==test2[\"Sex\"]].groupby([\"Country\"])[\"Age\"].agg(pd.Series.mean)\n",
    "test2 = test2.sort_values(\"Reported attacks\",ascending=False)\n",
    "test2\n",
    "#clean_sharks[clean_sharks[\"Country\"]==\"USA\"][\"Sex\"].mode()[0]\n",
    "#test2[\"Sex\"]==clean_sharks[\"Sex\"]\n",
    "'''"
   ]
  }
 ],
 "metadata": {
  "kernelspec": {
   "display_name": "Python 3",
   "language": "python",
   "name": "python3"
  },
  "language_info": {
   "codemirror_mode": {
    "name": "ipython",
    "version": 3
   },
   "file_extension": ".py",
   "mimetype": "text/x-python",
   "name": "python",
   "nbconvert_exporter": "python",
   "pygments_lexer": "ipython3",
   "version": "3.6.8"
  }
 },
 "nbformat": 4,
 "nbformat_minor": 2
}
