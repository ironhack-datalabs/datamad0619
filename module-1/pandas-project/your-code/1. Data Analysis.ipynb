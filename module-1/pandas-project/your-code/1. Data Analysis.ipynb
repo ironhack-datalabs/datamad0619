{
 "cells": [
  {
   "cell_type": "markdown",
   "metadata": {},
   "source": [
    "### Time to analyse that data! Firs let's import all libraries and create a also out *clean_sharks.csv* into a new dataframe for analysis. Also, let's only keep \"proven\" shark attacks. That is, we will discard registers in which the \"Type\" variable is set to \"Invalid\":"
   ]
  },
  {
   "cell_type": "code",
   "execution_count": 21,
   "metadata": {},
   "outputs": [
    {
     "data": {
      "text/html": [
       "<div>\n",
       "<style scoped>\n",
       "    .dataframe tbody tr th:only-of-type {\n",
       "        vertical-align: middle;\n",
       "    }\n",
       "\n",
       "    .dataframe tbody tr th {\n",
       "        vertical-align: top;\n",
       "    }\n",
       "\n",
       "    .dataframe thead th {\n",
       "        text-align: right;\n",
       "    }\n",
       "</style>\n",
       "<table border=\"1\" class=\"dataframe\">\n",
       "  <thead>\n",
       "    <tr style=\"text-align: right;\">\n",
       "      <th></th>\n",
       "      <th>Month</th>\n",
       "      <th>Year</th>\n",
       "      <th>Type</th>\n",
       "      <th>Country</th>\n",
       "      <th>Area</th>\n",
       "      <th>Location</th>\n",
       "      <th>Activity</th>\n",
       "      <th>Sex</th>\n",
       "      <th>Age</th>\n",
       "      <th>Age range</th>\n",
       "      <th>Injury</th>\n",
       "      <th>Fatal</th>\n",
       "      <th>Time</th>\n",
       "      <th>Time of day</th>\n",
       "      <th>Species</th>\n",
       "      <th>Case Number</th>\n",
       "      <th>Date</th>\n",
       "    </tr>\n",
       "  </thead>\n",
       "  <tbody>\n",
       "    <tr>\n",
       "      <th>0</th>\n",
       "      <td>9</td>\n",
       "      <td>2016</td>\n",
       "      <td>Unprovoked</td>\n",
       "      <td>USA</td>\n",
       "      <td>Florida</td>\n",
       "      <td>New Smyrna Beach, Volusia County</td>\n",
       "      <td>Surfing</td>\n",
       "      <td>M</td>\n",
       "      <td>16</td>\n",
       "      <td>12-17</td>\n",
       "      <td>Minor injury to thigh</td>\n",
       "      <td>N</td>\n",
       "      <td>13h00</td>\n",
       "      <td>1. Afternoon</td>\n",
       "      <td>Unknown</td>\n",
       "      <td>2016.09.18.c</td>\n",
       "      <td>18-Sep-16</td>\n",
       "    </tr>\n",
       "  </tbody>\n",
       "</table>\n",
       "</div>"
      ],
      "text/plain": [
       "   Month  Year        Type Country     Area                          Location  \\\n",
       "0      9  2016  Unprovoked     USA  Florida  New Smyrna Beach, Volusia County   \n",
       "\n",
       "  Activity Sex  Age Age range                 Injury Fatal   Time  \\\n",
       "0  Surfing   M   16     12-17  Minor injury to thigh     N  13h00   \n",
       "\n",
       "    Time of day  Species   Case Number       Date  \n",
       "0  1. Afternoon  Unknown  2016.09.18.c  18-Sep-16  "
      ]
     },
     "execution_count": 21,
     "metadata": {},
     "output_type": "execute_result"
    }
   ],
   "source": [
    "import pandas as pd\n",
    "import numpy as np\n",
    "import re\n",
    "import matplotlib.pyplot as plt\n",
    "\n",
    "clean_sharks = pd.read_csv('./clean_sharks.csv',sep=\",\")\n",
    "clean_sharks = clean_sharks[clean_sharks[\"Type\"]!=\"Invalid\"]\n",
    "clean_sharks.head(1)"
   ]
  },
  {
   "cell_type": "code",
   "execution_count": 22,
   "metadata": {},
   "outputs": [
    {
     "data": {
      "text/plain": [
       "Unprovoked      3975\n",
       "Provoked         508\n",
       "Boat             280\n",
       "Sea Disaster     169\n",
       "Name: Type, dtype: int64"
      ]
     },
     "execution_count": 22,
     "metadata": {},
     "output_type": "execute_result"
    }
   ],
   "source": [
    "clean_sharks[\"Type\"].value_counts()"
   ]
  },
  {
   "cell_type": "markdown",
   "metadata": {},
   "source": [
    "## Now I'll try to confirm or different hypothesis:"
   ]
  },
  {
   "cell_type": "markdown",
   "metadata": {},
   "source": [
    "### 0. \"Men are more likely to survive a shark attack than women\":"
   ]
  },
  {
   "cell_type": "code",
   "execution_count": 65,
   "metadata": {},
   "outputs": [
    {
     "data": {
      "text/html": [
       "<div>\n",
       "<style scoped>\n",
       "    .dataframe tbody tr th:only-of-type {\n",
       "        vertical-align: middle;\n",
       "    }\n",
       "\n",
       "    .dataframe tbody tr th {\n",
       "        vertical-align: top;\n",
       "    }\n",
       "\n",
       "    .dataframe thead th {\n",
       "        text-align: right;\n",
       "    }\n",
       "</style>\n",
       "<table border=\"1\" class=\"dataframe\">\n",
       "  <thead>\n",
       "    <tr style=\"text-align: right;\">\n",
       "      <th></th>\n",
       "      <th>Sex</th>\n",
       "      <th>Reported attacks</th>\n",
       "      <th>Avg Age</th>\n",
       "      <th>Survived</th>\n",
       "      <th>Died</th>\n",
       "      <th>Unknown</th>\n",
       "      <th>Survival rate</th>\n",
       "    </tr>\n",
       "  </thead>\n",
       "  <tbody>\n",
       "    <tr>\n",
       "      <th>0</th>\n",
       "      <td>F</td>\n",
       "      <td>471</td>\n",
       "      <td>26.603933</td>\n",
       "      <td>382</td>\n",
       "      <td>85</td>\n",
       "      <td>4</td>\n",
       "      <td>81.80</td>\n",
       "    </tr>\n",
       "    <tr>\n",
       "      <th>1</th>\n",
       "      <td>M</td>\n",
       "      <td>4021</td>\n",
       "      <td>26.870183</td>\n",
       "      <td>3074</td>\n",
       "      <td>912</td>\n",
       "      <td>35</td>\n",
       "      <td>77.12</td>\n",
       "    </tr>\n",
       "  </tbody>\n",
       "</table>\n",
       "</div>"
      ],
      "text/plain": [
       "  Sex  Reported attacks    Avg Age  Survived  Died  Unknown  Survival rate\n",
       "0   F               471  26.603933       382    85        4          81.80\n",
       "1   M              4021  26.870183      3074   912       35          77.12"
      ]
     },
     "execution_count": 65,
     "metadata": {},
     "output_type": "execute_result"
    }
   ],
   "source": [
    "sharks0 = clean_sharks.copy()[clean_sharks[\"Sex\"]!=\"Unknown\"]\n",
    "men_women = pd.DataFrame()\n",
    "men_women [\"Reported attacks\"] = sharks0.groupby([\"Sex\"]).count()[\"Fatal\"]\n",
    "men_women [\"Avg Age\"] = sharks0[sharks0[\"Age\"] > 0].groupby([\"Sex\"]).mean()[\"Age\"]\n",
    "men_women [\"Survived\"] = sharks0[sharks0[\"Fatal\"]==\"N\"].groupby([\"Sex\"]).count()[\"Fatal\"]\n",
    "men_women [\"Died\"] = sharks0[sharks0[\"Fatal\"]==\"Y\"].groupby([\"Sex\"]).count()[\"Fatal\"]\n",
    "men_women [\"Unknown\"] = sharks0[sharks0[\"Fatal\"]==\"Unknown\"].groupby([\"Sex\"]).count()[\"Fatal\"]\n",
    "men_women [\"Survival rate\"] = round((men_women[\"Survived\"]/(men_women[\"Survived\"]+men_women[\"Died\"]))*100,2)\n",
    "men_women = men_women.reset_index().rename_axis(None).rename_axis(None, axis=1)\n",
    "men_women\n"
   ]
  },
  {
   "cell_type": "markdown",
   "metadata": {},
   "source": [
    "Well look at that! Of course I was wrong, I was just emmmm... trying to prove women are stronger than men!\n",
    "The data shows that, based on the reported shark attacks, almost 82% of women have survived an attack while 77% of men have survived. Let's see what happens if we throw in age into the equation."
   ]
  },
  {
   "cell_type": "markdown",
   "metadata": {},
   "source": [
    "### 1. \"Children are more likely to die in a shark attack\":"
   ]
  },
  {
   "cell_type": "code",
   "execution_count": 59,
   "metadata": {},
   "outputs": [
    {
     "name": "stderr",
     "output_type": "stream",
     "text": [
      "/usr/lib/python3/dist-packages/ipykernel_launcher.py:5: UserWarning: Boolean Series key will be reindexed to match DataFrame index.\n",
      "  \"\"\"\n"
     ]
    },
    {
     "data": {
      "text/html": [
       "<div>\n",
       "<style scoped>\n",
       "    .dataframe tbody tr th:only-of-type {\n",
       "        vertical-align: middle;\n",
       "    }\n",
       "\n",
       "    .dataframe tbody tr th {\n",
       "        vertical-align: top;\n",
       "    }\n",
       "\n",
       "    .dataframe thead th {\n",
       "        text-align: right;\n",
       "    }\n",
       "</style>\n",
       "<table border=\"1\" class=\"dataframe\">\n",
       "  <thead>\n",
       "    <tr style=\"text-align: right;\">\n",
       "      <th></th>\n",
       "      <th>Sex</th>\n",
       "      <th>Age range</th>\n",
       "      <th>Reported attacks</th>\n",
       "      <th>Survived</th>\n",
       "      <th>Died</th>\n",
       "      <th>Survival rate</th>\n",
       "    </tr>\n",
       "  </thead>\n",
       "  <tbody>\n",
       "    <tr>\n",
       "      <th>0</th>\n",
       "      <td>F</td>\n",
       "      <td>1-12</td>\n",
       "      <td>47</td>\n",
       "      <td>44.0</td>\n",
       "      <td>3</td>\n",
       "      <td>93.62</td>\n",
       "    </tr>\n",
       "    <tr>\n",
       "      <th>1</th>\n",
       "      <td>F</td>\n",
       "      <td>12-17</td>\n",
       "      <td>92</td>\n",
       "      <td>81.0</td>\n",
       "      <td>10</td>\n",
       "      <td>89.01</td>\n",
       "    </tr>\n",
       "    <tr>\n",
       "      <th>2</th>\n",
       "      <td>F</td>\n",
       "      <td>18-24</td>\n",
       "      <td>71</td>\n",
       "      <td>55.0</td>\n",
       "      <td>16</td>\n",
       "      <td>77.46</td>\n",
       "    </tr>\n",
       "    <tr>\n",
       "      <th>3</th>\n",
       "      <td>F</td>\n",
       "      <td>25-34</td>\n",
       "      <td>47</td>\n",
       "      <td>38.0</td>\n",
       "      <td>9</td>\n",
       "      <td>80.85</td>\n",
       "    </tr>\n",
       "    <tr>\n",
       "      <th>4</th>\n",
       "      <td>F</td>\n",
       "      <td>35-44</td>\n",
       "      <td>41</td>\n",
       "      <td>35.0</td>\n",
       "      <td>6</td>\n",
       "      <td>85.37</td>\n",
       "    </tr>\n",
       "    <tr>\n",
       "      <th>5</th>\n",
       "      <td>F</td>\n",
       "      <td>45-54</td>\n",
       "      <td>24</td>\n",
       "      <td>21.0</td>\n",
       "      <td>3</td>\n",
       "      <td>87.50</td>\n",
       "    </tr>\n",
       "    <tr>\n",
       "      <th>6</th>\n",
       "      <td>F</td>\n",
       "      <td>55-64</td>\n",
       "      <td>25</td>\n",
       "      <td>21.0</td>\n",
       "      <td>4</td>\n",
       "      <td>84.00</td>\n",
       "    </tr>\n",
       "    <tr>\n",
       "      <th>7</th>\n",
       "      <td>F</td>\n",
       "      <td>65-74</td>\n",
       "      <td>7</td>\n",
       "      <td>3.0</td>\n",
       "      <td>4</td>\n",
       "      <td>42.86</td>\n",
       "    </tr>\n",
       "    <tr>\n",
       "      <th>8</th>\n",
       "      <td>F</td>\n",
       "      <td>75+</td>\n",
       "      <td>2</td>\n",
       "      <td>0.0</td>\n",
       "      <td>2</td>\n",
       "      <td>0.00</td>\n",
       "    </tr>\n",
       "    <tr>\n",
       "      <th>9</th>\n",
       "      <td>M</td>\n",
       "      <td>1-12</td>\n",
       "      <td>122</td>\n",
       "      <td>102.0</td>\n",
       "      <td>20</td>\n",
       "      <td>83.61</td>\n",
       "    </tr>\n",
       "    <tr>\n",
       "      <th>10</th>\n",
       "      <td>M</td>\n",
       "      <td>12-17</td>\n",
       "      <td>522</td>\n",
       "      <td>417.0</td>\n",
       "      <td>101</td>\n",
       "      <td>80.50</td>\n",
       "    </tr>\n",
       "    <tr>\n",
       "      <th>11</th>\n",
       "      <td>M</td>\n",
       "      <td>18-24</td>\n",
       "      <td>668</td>\n",
       "      <td>523.0</td>\n",
       "      <td>141</td>\n",
       "      <td>78.77</td>\n",
       "    </tr>\n",
       "    <tr>\n",
       "      <th>12</th>\n",
       "      <td>M</td>\n",
       "      <td>25-34</td>\n",
       "      <td>555</td>\n",
       "      <td>459.0</td>\n",
       "      <td>96</td>\n",
       "      <td>82.70</td>\n",
       "    </tr>\n",
       "    <tr>\n",
       "      <th>13</th>\n",
       "      <td>M</td>\n",
       "      <td>35-44</td>\n",
       "      <td>311</td>\n",
       "      <td>263.0</td>\n",
       "      <td>48</td>\n",
       "      <td>84.57</td>\n",
       "    </tr>\n",
       "    <tr>\n",
       "      <th>14</th>\n",
       "      <td>M</td>\n",
       "      <td>45-54</td>\n",
       "      <td>185</td>\n",
       "      <td>154.0</td>\n",
       "      <td>31</td>\n",
       "      <td>83.24</td>\n",
       "    </tr>\n",
       "    <tr>\n",
       "      <th>15</th>\n",
       "      <td>M</td>\n",
       "      <td>55-64</td>\n",
       "      <td>72</td>\n",
       "      <td>59.0</td>\n",
       "      <td>13</td>\n",
       "      <td>81.94</td>\n",
       "    </tr>\n",
       "    <tr>\n",
       "      <th>16</th>\n",
       "      <td>M</td>\n",
       "      <td>65-74</td>\n",
       "      <td>24</td>\n",
       "      <td>16.0</td>\n",
       "      <td>8</td>\n",
       "      <td>66.67</td>\n",
       "    </tr>\n",
       "    <tr>\n",
       "      <th>17</th>\n",
       "      <td>M</td>\n",
       "      <td>75+</td>\n",
       "      <td>6</td>\n",
       "      <td>4.0</td>\n",
       "      <td>2</td>\n",
       "      <td>66.67</td>\n",
       "    </tr>\n",
       "  </tbody>\n",
       "</table>\n",
       "</div>"
      ],
      "text/plain": [
       "   Sex Age range  Reported attacks  Survived  Died  Survival rate\n",
       "0    F      1-12                47      44.0     3          93.62\n",
       "1    F     12-17                92      81.0    10          89.01\n",
       "2    F     18-24                71      55.0    16          77.46\n",
       "3    F     25-34                47      38.0     9          80.85\n",
       "4    F     35-44                41      35.0     6          85.37\n",
       "5    F     45-54                24      21.0     3          87.50\n",
       "6    F     55-64                25      21.0     4          84.00\n",
       "7    F     65-74                 7       3.0     4          42.86\n",
       "8    F       75+                 2       0.0     2           0.00\n",
       "9    M      1-12               122     102.0    20          83.61\n",
       "10   M     12-17               522     417.0   101          80.50\n",
       "11   M     18-24               668     523.0   141          78.77\n",
       "12   M     25-34               555     459.0    96          82.70\n",
       "13   M     35-44               311     263.0    48          84.57\n",
       "14   M     45-54               185     154.0    31          83.24\n",
       "15   M     55-64                72      59.0    13          81.94\n",
       "16   M     65-74                24      16.0     8          66.67\n",
       "17   M       75+                 6       4.0     2          66.67"
      ]
     },
     "execution_count": 59,
     "metadata": {},
     "output_type": "execute_result"
    }
   ],
   "source": [
    "sharks1 = clean_sharks.copy()[(clean_sharks[\"Sex\"]!=\"Unknown\")&(clean_sharks[\"Age range\"]!=\"Unknown\")]\n",
    "age = pd.DataFrame()\n",
    "men_women_age [\"Reported attacks\"] = sharks1.groupby([\"Sex\",\"Age range\"]).count()[\"Fatal\"]\n",
    "men_women_age [\"Survived\"] = sharks1[sharks1[\"Fatal\"]==\"N\"].groupby([\"Sex\",\"Age range\"]).count()[\"Fatal\"]\n",
    "men_women_age [\"Died\"] = sharks1[sharks0[\"Fatal\"]==\"Y\"].groupby([\"Sex\",\"Age range\"]).count()[\"Fatal\"]\n",
    "men_women_age [\"Survival rate\"] = round((men_women_age[\"Survived\"]/(men_women_age[\"Survived\"]+men_women_age[\"Died\"]))*100,2)\n",
    "men_women_age.fillna(0,inplace=True)\n",
    "men_women_age = men_women_age.reset_index().rename_axis(None).rename_axis(None, axis=1)\n",
    "men_women_age"
   ]
  },
  {
   "cell_type": "code",
   "execution_count": 60,
   "metadata": {},
   "outputs": [
    {
     "name": "stderr",
     "output_type": "stream",
     "text": [
      "/usr/lib/python3/dist-packages/ipykernel_launcher.py:5: UserWarning: Boolean Series key will be reindexed to match DataFrame index.\n",
      "  \"\"\"\n"
     ]
    },
    {
     "data": {
      "text/html": [
       "<div>\n",
       "<style scoped>\n",
       "    .dataframe tbody tr th:only-of-type {\n",
       "        vertical-align: middle;\n",
       "    }\n",
       "\n",
       "    .dataframe tbody tr th {\n",
       "        vertical-align: top;\n",
       "    }\n",
       "\n",
       "    .dataframe thead th {\n",
       "        text-align: right;\n",
       "    }\n",
       "</style>\n",
       "<table border=\"1\" class=\"dataframe\">\n",
       "  <thead>\n",
       "    <tr style=\"text-align: right;\">\n",
       "      <th></th>\n",
       "      <th>Age range</th>\n",
       "      <th>Reported attacks</th>\n",
       "      <th>Survived</th>\n",
       "      <th>Died</th>\n",
       "      <th>Survival rate</th>\n",
       "    </tr>\n",
       "  </thead>\n",
       "  <tbody>\n",
       "    <tr>\n",
       "      <th>0</th>\n",
       "      <td>1-12</td>\n",
       "      <td>169</td>\n",
       "      <td>146</td>\n",
       "      <td>23</td>\n",
       "      <td>86.39</td>\n",
       "    </tr>\n",
       "    <tr>\n",
       "      <th>1</th>\n",
       "      <td>12-17</td>\n",
       "      <td>614</td>\n",
       "      <td>498</td>\n",
       "      <td>111</td>\n",
       "      <td>81.77</td>\n",
       "    </tr>\n",
       "    <tr>\n",
       "      <th>2</th>\n",
       "      <td>18-24</td>\n",
       "      <td>739</td>\n",
       "      <td>578</td>\n",
       "      <td>157</td>\n",
       "      <td>78.64</td>\n",
       "    </tr>\n",
       "    <tr>\n",
       "      <th>3</th>\n",
       "      <td>25-34</td>\n",
       "      <td>602</td>\n",
       "      <td>497</td>\n",
       "      <td>105</td>\n",
       "      <td>82.56</td>\n",
       "    </tr>\n",
       "    <tr>\n",
       "      <th>4</th>\n",
       "      <td>35-44</td>\n",
       "      <td>352</td>\n",
       "      <td>298</td>\n",
       "      <td>54</td>\n",
       "      <td>84.66</td>\n",
       "    </tr>\n",
       "    <tr>\n",
       "      <th>5</th>\n",
       "      <td>45-54</td>\n",
       "      <td>209</td>\n",
       "      <td>175</td>\n",
       "      <td>34</td>\n",
       "      <td>83.73</td>\n",
       "    </tr>\n",
       "    <tr>\n",
       "      <th>6</th>\n",
       "      <td>55-64</td>\n",
       "      <td>97</td>\n",
       "      <td>80</td>\n",
       "      <td>17</td>\n",
       "      <td>82.47</td>\n",
       "    </tr>\n",
       "    <tr>\n",
       "      <th>7</th>\n",
       "      <td>65-74</td>\n",
       "      <td>31</td>\n",
       "      <td>19</td>\n",
       "      <td>12</td>\n",
       "      <td>61.29</td>\n",
       "    </tr>\n",
       "    <tr>\n",
       "      <th>8</th>\n",
       "      <td>75+</td>\n",
       "      <td>8</td>\n",
       "      <td>4</td>\n",
       "      <td>4</td>\n",
       "      <td>50.00</td>\n",
       "    </tr>\n",
       "  </tbody>\n",
       "</table>\n",
       "</div>"
      ],
      "text/plain": [
       "  Age range  Reported attacks  Survived  Died  Survival rate\n",
       "0      1-12               169       146    23          86.39\n",
       "1     12-17               614       498   111          81.77\n",
       "2     18-24               739       578   157          78.64\n",
       "3     25-34               602       497   105          82.56\n",
       "4     35-44               352       298    54          84.66\n",
       "5     45-54               209       175    34          83.73\n",
       "6     55-64                97        80    17          82.47\n",
       "7     65-74                31        19    12          61.29\n",
       "8       75+                 8         4     4          50.00"
      ]
     },
     "execution_count": 60,
     "metadata": {},
     "output_type": "execute_result"
    }
   ],
   "source": [
    "sharks2 = clean_sharks.copy()[(clean_sharks[\"Age range\"]!=\"Unknown\")]\n",
    "age = pd.DataFrame()\n",
    "age [\"Reported attacks\"] = sharks1.groupby([\"Age range\"]).count()[\"Fatal\"]\n",
    "age [\"Survived\"] = sharks1[sharks1[\"Fatal\"]==\"N\"].groupby([\"Age range\"]).count()[\"Fatal\"]\n",
    "age [\"Died\"] = sharks1[sharks0[\"Fatal\"]==\"Y\"].groupby([\"Age range\"]).count()[\"Fatal\"]\n",
    "age [\"Survival rate\"] = round((age[\"Survived\"]/(age[\"Survived\"]+age[\"Died\"]))*100,2)\n",
    "age.fillna(0,inplace=True)\n",
    "age = age.reset_index().rename_axis(None).rename_axis(None, axis=1)\n",
    "age"
   ]
  },
  {
   "cell_type": "code",
   "execution_count": 64,
   "metadata": {},
   "outputs": [
    {
     "data": {
      "image/png": "[encoded data removed]",
      "text/plain": [
       "<Figure size 432x288 with 1 Axes>"
      ]
     },
     "metadata": {},
     "output_type": "display_data"
    }
   ],
   "source": [
    "plt.bar(age['Age range'],age['Survival rate'], color='blue', sketch_params=False)\n",
    "plt.title('Survival rate by Age group')\n",
    "plt.xlabel('Ages')\n",
    "plt.ylabel('Survival rate')\n",
    "plt.show()"
   ]
  },
  {
   "cell_type": "markdown",
   "metadata": {},
   "source": [
    "Once again I've been proven wrong. The data shows that children actually have a higher survival rate (86%) than the rest of age groups. In fact, people who are 75+ years old are group with the lowest survival rate.  "
   ]
  },
  {
   "cell_type": "markdown",
   "metadata": {},
   "source": [
    "### 2. \"Shark attack reports have increased through the years, but the number of attacks that end in death has decreased\""
   ]
  },
  {
   "cell_type": "code",
   "execution_count": 84,
   "metadata": {},
   "outputs": [
    {
     "data": {
      "image/png": "[encoded data removed]",
      "text/plain": [
       "<Figure size 432x288 with 1 Axes>"
      ]
     },
     "metadata": {},
     "output_type": "display_data"
    }
   ],
   "source": [
    "sharks3=clean_sharks[clean_sharks[\"Year\"] >= 1950]\n",
    "\n",
    "years = pd.DataFrame()\n",
    "years [\"Attacks\"] = sharks3.groupby([\"Year\"]).count()[\"Month\"]\n",
    "years [\"Deaths\"] = sharks3[sharks3[\"Fatal\"]==\"Y\"].groupby([\"Year\"]).count()[\"Month\"]\n",
    "years [\"Deaths ratio\"] = (years [\"Deaths\"]/years [\"Attacks\"])*100\n",
    "years.fillna(0,inplace=True)\n",
    "years = years.reset_index().rename_axis(None).rename_axis(None, axis=1)\n",
    "\n",
    "plt.plot(years.groupby([\"Year\"]).sum()[\"Attacks\"], label = 'Attacks', c='blue')\n",
    "plt.plot(years.groupby([\"Year\"]).sum()[\"Deaths ratio\"], label = 'Ratio of deaths', c='red')\n",
    "plt.legend(loc=1)\n",
    "plt.title('Shark attacks vs death ratio')\n",
    "plt.xlabel('Year')\n",
    "plt.ylabel('Number of attacks / death ratio')\n",
    "plt.show()\n"
   ]
  },
  {
   "cell_type": "markdown",
   "metadata": {},
   "source": [
    "We can see that, indeed, shark attack reports have increased in the las 30-40 years. However, the ratio between deaths and reports has decreased, which means that either the number of deaths by shark attack have decreased or stayed the same for the last 30-40 years. Let's confirm what's going on with deaths by shark attack by looking at the next chart:"
   ]
  },
  {
   "cell_type": "code",
   "execution_count": 85,
   "metadata": {},
   "outputs": [
    {
     "data": {
      "image/png": "[encoded data removed]",
      "text/plain": [
       "<Figure size 432x288 with 1 Axes>"
      ]
     },
     "metadata": {},
     "output_type": "display_data"
    }
   ],
   "source": [
    "plt.plot(years.groupby([\"Year\"]).sum()[\"Deaths\"], label = 'Deaths', c='red')\n",
    "plt.legend(loc=1)\n",
    "plt.title('Deaths by shark attack since 1950')\n",
    "plt.xlabel('Year')\n",
    "plt.ylabel('Number of deaths')\n",
    "plt.show()"
   ]
  },
  {
   "cell_type": "markdown",
   "metadata": {},
   "source": [
    "### 3. \"*More people == more attacks*. The number of attack reports increases along with the human population growth\":"
   ]
  },
  {
   "cell_type": "markdown",
   "metadata": {},
   "source": [
    "To prove this I will need to import a new dataset that contains countries' populations by year from 1960 to 2016."
   ]
  }
 ],
 "metadata": {
  "kernelspec": {
   "display_name": "Python 3",
   "language": "python",
   "name": "python3"
  },
  "language_info": {
   "codemirror_mode": {
    "name": "ipython",
    "version": 3
   },
   "file_extension": ".py",
   "mimetype": "text/x-python",
   "name": "python",
   "nbconvert_exporter": "python",
   "pygments_lexer": "ipython3",
   "version": "3.6.8"
  }
 },
 "nbformat": 4,
 "nbformat_minor": 2
}
