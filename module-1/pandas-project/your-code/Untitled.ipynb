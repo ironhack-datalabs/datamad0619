{
 "cells": [
  {
   "cell_type": "code",
   "execution_count": 166,
   "metadata": {
    "scrolled": false
   },
   "outputs": [
    {
     "data": {
      "text/html": [
       "<div>\n",
       "<style scoped>\n",
       "    .dataframe tbody tr th:only-of-type {\n",
       "        vertical-align: middle;\n",
       "    }\n",
       "\n",
       "    .dataframe tbody tr th {\n",
       "        vertical-align: top;\n",
       "    }\n",
       "\n",
       "    .dataframe thead th {\n",
       "        text-align: right;\n",
       "    }\n",
       "</style>\n",
       "<table border=\"1\" class=\"dataframe\">\n",
       "  <thead>\n",
       "    <tr style=\"text-align: right;\">\n",
       "      <th></th>\n",
       "      <th>Case Number</th>\n",
       "      <th>Date</th>\n",
       "      <th>Year</th>\n",
       "      <th>Type</th>\n",
       "      <th>Country</th>\n",
       "      <th>Area</th>\n",
       "      <th>Location</th>\n",
       "      <th>Activity</th>\n",
       "      <th>Name</th>\n",
       "      <th>Sex</th>\n",
       "      <th>...</th>\n",
       "      <th>Species</th>\n",
       "      <th>Investigator or Source</th>\n",
       "      <th>pdf</th>\n",
       "      <th>href formula</th>\n",
       "      <th>href</th>\n",
       "      <th>Case Number.1</th>\n",
       "      <th>Case Number.2</th>\n",
       "      <th>original order</th>\n",
       "      <th>Unnamed: 22</th>\n",
       "      <th>Unnamed: 23</th>\n",
       "    </tr>\n",
       "  </thead>\n",
       "  <tbody>\n",
       "    <tr>\n",
       "      <th>0</th>\n",
       "      <td>2016.09.18.c</td>\n",
       "      <td>18-Sep-16</td>\n",
       "      <td>2016</td>\n",
       "      <td>Unprovoked</td>\n",
       "      <td>USA</td>\n",
       "      <td>Florida</td>\n",
       "      <td>New Smyrna Beach, Volusia County</td>\n",
       "      <td>Surfing</td>\n",
       "      <td>male</td>\n",
       "      <td>M</td>\n",
       "      <td>...</td>\n",
       "      <td>NaN</td>\n",
       "      <td>Orlando Sentinel, 9/19/2016</td>\n",
       "      <td>2016.09.18.c-NSB.pdf</td>\n",
       "      <td>http://sharkattackfile.net/spreadsheets/pdf_di...</td>\n",
       "      <td>http://sharkattackfile.net/spreadsheets/pdf_di...</td>\n",
       "      <td>2016.09.18.c</td>\n",
       "      <td>2016.09.18.c</td>\n",
       "      <td>5993</td>\n",
       "      <td>NaN</td>\n",
       "      <td>NaN</td>\n",
       "    </tr>\n",
       "    <tr>\n",
       "      <th>1</th>\n",
       "      <td>2016.09.18.b</td>\n",
       "      <td>18-Sep-16</td>\n",
       "      <td>2016</td>\n",
       "      <td>Unprovoked</td>\n",
       "      <td>USA</td>\n",
       "      <td>Florida</td>\n",
       "      <td>New Smyrna Beach, Volusia County</td>\n",
       "      <td>Surfing</td>\n",
       "      <td>Chucky Luciano</td>\n",
       "      <td>M</td>\n",
       "      <td>...</td>\n",
       "      <td>NaN</td>\n",
       "      <td>Orlando Sentinel, 9/19/2016</td>\n",
       "      <td>2016.09.18.b-Luciano.pdf</td>\n",
       "      <td>http://sharkattackfile.net/spreadsheets/pdf_di...</td>\n",
       "      <td>http://sharkattackfile.net/spreadsheets/pdf_di...</td>\n",
       "      <td>2016.09.18.b</td>\n",
       "      <td>2016.09.18.b</td>\n",
       "      <td>5992</td>\n",
       "      <td>NaN</td>\n",
       "      <td>NaN</td>\n",
       "    </tr>\n",
       "    <tr>\n",
       "      <th>2</th>\n",
       "      <td>2016.09.18.a</td>\n",
       "      <td>18-Sep-16</td>\n",
       "      <td>2016</td>\n",
       "      <td>Unprovoked</td>\n",
       "      <td>USA</td>\n",
       "      <td>Florida</td>\n",
       "      <td>New Smyrna Beach, Volusia County</td>\n",
       "      <td>Surfing</td>\n",
       "      <td>male</td>\n",
       "      <td>M</td>\n",
       "      <td>...</td>\n",
       "      <td>NaN</td>\n",
       "      <td>Orlando Sentinel, 9/19/2016</td>\n",
       "      <td>2016.09.18.a-NSB.pdf</td>\n",
       "      <td>http://sharkattackfile.net/spreadsheets/pdf_di...</td>\n",
       "      <td>http://sharkattackfile.net/spreadsheets/pdf_di...</td>\n",
       "      <td>2016.09.18.a</td>\n",
       "      <td>2016.09.18.a</td>\n",
       "      <td>5991</td>\n",
       "      <td>NaN</td>\n",
       "      <td>NaN</td>\n",
       "    </tr>\n",
       "    <tr>\n",
       "      <th>3</th>\n",
       "      <td>2016.09.17</td>\n",
       "      <td>17-Sep-16</td>\n",
       "      <td>2016</td>\n",
       "      <td>Unprovoked</td>\n",
       "      <td>AUSTRALIA</td>\n",
       "      <td>Victoria</td>\n",
       "      <td>Thirteenth Beach</td>\n",
       "      <td>Surfing</td>\n",
       "      <td>Rory Angiolella</td>\n",
       "      <td>M</td>\n",
       "      <td>...</td>\n",
       "      <td>NaN</td>\n",
       "      <td>The Age, 9/18/2016</td>\n",
       "      <td>2016.09.17-Angiolella.pdf</td>\n",
       "      <td>http://sharkattackfile.net/spreadsheets/pdf_di...</td>\n",
       "      <td>http://sharkattackfile.net/spreadsheets/pdf_di...</td>\n",
       "      <td>2016.09.17</td>\n",
       "      <td>2016.09.17</td>\n",
       "      <td>5990</td>\n",
       "      <td>NaN</td>\n",
       "      <td>NaN</td>\n",
       "    </tr>\n",
       "    <tr>\n",
       "      <th>4</th>\n",
       "      <td>2016.09.15</td>\n",
       "      <td>16-Sep-16</td>\n",
       "      <td>2016</td>\n",
       "      <td>Unprovoked</td>\n",
       "      <td>AUSTRALIA</td>\n",
       "      <td>Victoria</td>\n",
       "      <td>Bells Beach</td>\n",
       "      <td>Surfing</td>\n",
       "      <td>male</td>\n",
       "      <td>M</td>\n",
       "      <td>...</td>\n",
       "      <td>2 m shark</td>\n",
       "      <td>The Age, 9/16/2016</td>\n",
       "      <td>2016.09.16-BellsBeach.pdf</td>\n",
       "      <td>http://sharkattackfile.net/spreadsheets/pdf_di...</td>\n",
       "      <td>http://sharkattackfile.net/spreadsheets/pdf_di...</td>\n",
       "      <td>2016.09.16</td>\n",
       "      <td>2016.09.15</td>\n",
       "      <td>5989</td>\n",
       "      <td>NaN</td>\n",
       "      <td>NaN</td>\n",
       "    </tr>\n",
       "  </tbody>\n",
       "</table>\n",
       "<p>5 rows × 24 columns</p>\n",
       "</div>"
      ],
      "text/plain": [
       "    Case Number       Date  Year        Type    Country      Area  \\\n",
       "0  2016.09.18.c  18-Sep-16  2016  Unprovoked        USA   Florida   \n",
       "1  2016.09.18.b  18-Sep-16  2016  Unprovoked        USA   Florida   \n",
       "2  2016.09.18.a  18-Sep-16  2016  Unprovoked        USA   Florida   \n",
       "3    2016.09.17  17-Sep-16  2016  Unprovoked  AUSTRALIA  Victoria   \n",
       "4    2016.09.15  16-Sep-16  2016  Unprovoked  AUSTRALIA  Victoria   \n",
       "\n",
       "                           Location Activity             Name Sex   ...  \\\n",
       "0  New Smyrna Beach, Volusia County  Surfing             male    M  ...   \n",
       "1  New Smyrna Beach, Volusia County  Surfing   Chucky Luciano    M  ...   \n",
       "2  New Smyrna Beach, Volusia County  Surfing             male    M  ...   \n",
       "3                  Thirteenth Beach  Surfing  Rory Angiolella    M  ...   \n",
       "4                       Bells Beach  Surfing             male    M  ...   \n",
       "\n",
       "    Species        Investigator or Source                        pdf  \\\n",
       "0        NaN  Orlando Sentinel, 9/19/2016       2016.09.18.c-NSB.pdf   \n",
       "1        NaN  Orlando Sentinel, 9/19/2016   2016.09.18.b-Luciano.pdf   \n",
       "2        NaN  Orlando Sentinel, 9/19/2016       2016.09.18.a-NSB.pdf   \n",
       "3        NaN           The Age, 9/18/2016  2016.09.17-Angiolella.pdf   \n",
       "4  2 m shark           The Age, 9/16/2016  2016.09.16-BellsBeach.pdf   \n",
       "\n",
       "                                        href formula  \\\n",
       "0  http://sharkattackfile.net/spreadsheets/pdf_di...   \n",
       "1  http://sharkattackfile.net/spreadsheets/pdf_di...   \n",
       "2  http://sharkattackfile.net/spreadsheets/pdf_di...   \n",
       "3  http://sharkattackfile.net/spreadsheets/pdf_di...   \n",
       "4  http://sharkattackfile.net/spreadsheets/pdf_di...   \n",
       "\n",
       "                                                href Case Number.1  \\\n",
       "0  http://sharkattackfile.net/spreadsheets/pdf_di...  2016.09.18.c   \n",
       "1  http://sharkattackfile.net/spreadsheets/pdf_di...  2016.09.18.b   \n",
       "2  http://sharkattackfile.net/spreadsheets/pdf_di...  2016.09.18.a   \n",
       "3  http://sharkattackfile.net/spreadsheets/pdf_di...    2016.09.17   \n",
       "4  http://sharkattackfile.net/spreadsheets/pdf_di...    2016.09.16   \n",
       "\n",
       "  Case Number.2 original order Unnamed: 22 Unnamed: 23  \n",
       "0  2016.09.18.c           5993         NaN         NaN  \n",
       "1  2016.09.18.b           5992         NaN         NaN  \n",
       "2  2016.09.18.a           5991         NaN         NaN  \n",
       "3    2016.09.17           5990         NaN         NaN  \n",
       "4    2016.09.15           5989         NaN         NaN  \n",
       "\n",
       "[5 rows x 24 columns]"
      ]
     },
     "execution_count": 166,
     "metadata": {},
     "output_type": "execute_result"
    }
   ],
   "source": [
    "import pandas as pd\n",
    "df=pd.read_csv(\"GSAF5.csv\", encoding=\"ISO-8859-1\")\n",
    "df.head()"
   ]
  },
  {
   "cell_type": "code",
   "execution_count": 167,
   "metadata": {},
   "outputs": [
    {
     "data": {
      "text/plain": [
       "(5992, 24)"
      ]
     },
     "execution_count": 167,
     "metadata": {},
     "output_type": "execute_result"
    }
   ],
   "source": [
    "df.shape"
   ]
  },
  {
   "cell_type": "code",
   "execution_count": 168,
   "metadata": {},
   "outputs": [
    {
     "data": {
      "text/plain": [
       "Index(['Case Number', 'Date', 'Year', 'Type', 'Country', 'Area', 'Location',\n",
       "       'Activity', 'Name', 'Sex ', 'Age', 'Injury', 'Fatal (Y/N)', 'Time',\n",
       "       'Species ', 'Investigator or Source', 'pdf', 'href formula', 'href',\n",
       "       'Case Number.1', 'Case Number.2', 'original order', 'Unnamed: 22',\n",
       "       'Unnamed: 23'],\n",
       "      dtype='object')"
      ]
     },
     "execution_count": 168,
     "metadata": {},
     "output_type": "execute_result"
    }
   ],
   "source": [
    "df.columns"
   ]
  },
  {
   "cell_type": "code",
   "execution_count": 169,
   "metadata": {},
   "outputs": [
    {
     "data": {
      "text/plain": [
       "Surfing         904\n",
       "Swimming        819\n",
       "Fishing         414\n",
       "Spearfishing    321\n",
       "Bathing         153\n",
       "Name: Activity, dtype: int64"
      ]
     },
     "execution_count": 169,
     "metadata": {},
     "output_type": "execute_result"
    }
   ],
   "source": [
    "df[\"Activity\"].value_counts().head()"
   ]
  },
  {
   "cell_type": "code",
   "execution_count": 170,
   "metadata": {},
   "outputs": [
    {
     "data": {
      "text/plain": [
       "C. Moore, GSAF        94\n",
       "S. Petersohn, GSAF    82\n",
       "C. Creswell, GSAF     81\n",
       "R. Collier            54\n",
       "T. Peake, GSAF        48\n",
       "Name: Investigator or Source, dtype: int64"
      ]
     },
     "execution_count": 170,
     "metadata": {},
     "output_type": "execute_result"
    }
   ],
   "source": [
    "df[\"Investigator or Source\"].value_counts().head()"
   ]
  },
  {
   "cell_type": "code",
   "execution_count": 171,
   "metadata": {},
   "outputs": [
    {
     "data": {
      "text/plain": [
       "FATAL          729\n",
       "Survived        97\n",
       "Foot bitten     82\n",
       "No injury       77\n",
       "Leg bitten      71\n",
       "Name: Injury, dtype: int64"
      ]
     },
     "execution_count": 171,
     "metadata": {},
     "output_type": "execute_result"
    }
   ],
   "source": [
    "df[\"Injury\"].value_counts().head()"
   ]
  },
  {
   "cell_type": "code",
   "execution_count": 172,
   "metadata": {},
   "outputs": [
    {
     "data": {
      "text/plain": [
       "N          4315\n",
       "Y          1552\n",
       "UNKNOWN      94\n",
       " N            8\n",
       "F             1\n",
       "#VALUE!       1\n",
       "N             1\n",
       "n             1\n",
       "Name: Fatal (Y/N), dtype: int64"
      ]
     },
     "execution_count": 172,
     "metadata": {},
     "output_type": "execute_result"
    }
   ],
   "source": [
    "df[\"Fatal (Y/N)\"].value_counts()"
   ]
  },
  {
   "cell_type": "code",
   "execution_count": 173,
   "metadata": {},
   "outputs": [
    {
     "data": {
      "text/plain": [
       "Unprovoked      4386\n",
       "Provoked         557\n",
       "Invalid          519\n",
       "Sea Disaster     220\n",
       "Boat             200\n",
       "Boating          110\n",
       "Name: Type, dtype: int64"
      ]
     },
     "execution_count": 173,
     "metadata": {},
     "output_type": "execute_result"
    }
   ],
   "source": [
    "df[\"Type\"].value_counts()"
   ]
  },
  {
   "cell_type": "code",
   "execution_count": 174,
   "metadata": {},
   "outputs": [
    {
     "data": {
      "text/plain": [
       "Case Number                  0\n",
       "Date                         0\n",
       "Year                         0\n",
       "Type                         0\n",
       "Country                     43\n",
       "Area                       402\n",
       "Location                   496\n",
       "Activity                   527\n",
       "Name                       200\n",
       "Sex                        567\n",
       "Age                       2681\n",
       "Injury                      27\n",
       "Fatal (Y/N)                 19\n",
       "Time                      3213\n",
       "Species                   2934\n",
       "Investigator or Source      15\n",
       "pdf                          0\n",
       "href formula                 1\n",
       "href                         3\n",
       "Case Number.1                0\n",
       "Case Number.2                0\n",
       "original order               0\n",
       "Unnamed: 22               5991\n",
       "Unnamed: 23               5990\n",
       "dtype: int64"
      ]
     },
     "execution_count": 174,
     "metadata": {},
     "output_type": "execute_result"
    }
   ],
   "source": [
    "df.isnull().sum()\n"
   ]
  },
  {
   "cell_type": "code",
   "execution_count": null,
   "metadata": {},
   "outputs": [],
   "source": []
  },
  {
   "cell_type": "code",
   "execution_count": 175,
   "metadata": {},
   "outputs": [
    {
     "data": {
      "text/plain": [
       "7     629\n",
       "0     602\n",
       "8     580\n",
       "9     520\n",
       "1     497\n",
       "6     476\n",
       "4     408\n",
       "12    400\n",
       "3     399\n",
       "10    386\n",
       "5     369\n",
       "11    367\n",
       "2     359\n",
       "Name: Date, dtype: int64"
      ]
     },
     "execution_count": 175,
     "metadata": {},
     "output_type": "execute_result"
    }
   ],
   "source": [
    "#limpio la columna \"Date\"\n",
    "#obtener una columna que indique en que mes se produjo el ataque\n",
    "\n",
    "import re\n",
    "meses=[\"Jan\", \"Feb\", \"Mar\",\"Apr\",\"May\",\"Jun\",\"Jul\",\"Aug\",\"Sep\",\"Oct\",\"Nov\",\"Dec\"]\n",
    "#meses_numeros=[\"1\",\"2\",\"3\",\"4\",\"5\",\"6\",\"7\",\"8\",\"9\",\"10\",\"11\",\"12\"]\n",
    "for i in range(len(meses)):\n",
    "    df[\"Date\"]=df[\"Date\"].replace(meses[i],str(i+1), regex=True)\n",
    "df[\"Date\"]=df[\"Date\"].replace(\"\\d\\d\\d\\d\",\"\",regex=True)\n",
    "df[\"Date\"]=df[\"Date\"].replace(\"Reported \",\"\",regex=True)\n",
    "df[\"Date\"]=df[\"Date\"].replace(\"[a-zA-Z]\",\"\",regex=True)\n",
    "df[\"Date\"]=df[\"Date\"].replace(\"\\s\",\"\",regex=True)\n",
    "df[\"Date\"]=df[\"Date\"].replace(\"\\A\\d\\d-\",\"\",regex=True)\n",
    "df[\"Date\"]=df[\"Date\"].replace(\"-\\d\\d\\Z\",\"\",regex=True)\n",
    "df[\"Date\"]=df[\"Date\"].replace(\"[^\\d]|[^\\d\\d]\",\"\",regex=True)\n",
    "def transform_mes(*mes):\n",
    "    if mes[0]==\"\": return 0\n",
    "    elif int(mes[0])>12: return 0\n",
    "    else:\n",
    "        return int(mes[0])\n",
    "df[\"Date\"]=df[\"Date\"].apply(transform_mes)\n",
    "df[\"Date\"].value_counts()"
   ]
  },
  {
   "cell_type": "code",
   "execution_count": null,
   "metadata": {},
   "outputs": [],
   "source": []
  },
  {
   "cell_type": "code",
   "execution_count": null,
   "metadata": {},
   "outputs": [],
   "source": [
    "\n"
   ]
  },
  {
   "cell_type": "code",
   "execution_count": 176,
   "metadata": {},
   "outputs": [
    {
     "data": {
      "text/plain": [
       "17    148\n",
       "18    145\n",
       "19    138\n",
       "20    136\n",
       "15    135\n",
       "Name: Age, dtype: int64"
      ]
     },
     "execution_count": 176,
     "metadata": {},
     "output_type": "execute_result"
    }
   ],
   "source": [
    "df[\"Age\"].value_counts().head()"
   ]
  },
  {
   "cell_type": "code",
   "execution_count": 177,
   "metadata": {},
   "outputs": [
    {
     "data": {
      "text/plain": [
       "na         2712\n",
       "[15-29]    1683\n",
       "[30-44]     713\n",
       "[0-14]      463\n",
       "[45-59]     320\n",
       "[60-74]      84\n",
       "[>75]        17\n",
       "Name: Age, dtype: int64"
      ]
     },
     "execution_count": 177,
     "metadata": {},
     "output_type": "execute_result"
    }
   ],
   "source": [
    "#limpio la variable \"Age\"\n",
    "a=df[\"Age\"]\n",
    "#reemplazo todo aquello que incluya caracteres no numéricos\n",
    "a=a.replace(\"\\D\",\"\",regex=True)\n",
    "#escojo únicamente los dos primeros dígitos\n",
    "def digitos(x):\n",
    "    if len(str(x))<=2:\n",
    "        return str(x)\n",
    "    else:\n",
    "        return str(x)[0:2]\n",
    "\n",
    "a=a.apply(digitos)\n",
    "a.value_counts().head()\n",
    "\n",
    "#los agrupo por edades\n",
    "def agrupar(x):\n",
    "    try:\n",
    "        if int(x)<15: return \"[0-14]\"\n",
    "        elif int(x)>=15 and int(x)<30: return \"[15-29]\"\n",
    "        elif int(x)>=30 and int(x)<45: return \"[30-44]\"\n",
    "        elif int(x)>=45 and int(x)<60: return \"[45-59]\"\n",
    "        elif int(x)>=60 and int(x)<75: return \"[60-74]\"\n",
    "        else: return \"[>75]\"\n",
    "    except ValueError: return \"na\"\n",
    "a=a.apply(agrupar)\n",
    "df[\"Age\"]=a\n",
    "a.value_counts()"
   ]
  },
  {
   "cell_type": "code",
   "execution_count": 178,
   "metadata": {},
   "outputs": [
    {
     "data": {
      "text/plain": [
       "others            1615\n",
       "fishing           1122\n",
       "surfing           1082\n",
       "swimming          1054\n",
       "diving             509\n",
       "bathing            180\n",
       "wading             159\n",
       "standing           127\n",
       "snorkeling          83\n",
       "fell overboard      41\n",
       "windsurfing         20\n",
       "Name: Activity, dtype: int64"
      ]
     },
     "execution_count": 178,
     "metadata": {},
     "output_type": "execute_result"
    }
   ],
   "source": [
    "#limpio la varibale \"Activity\"\n",
    "df[\"Activity\"]=df[\"Activity\"].str.lower()\n",
    "df[\"Activity\"]=df[\"Activity\"].replace(\"\\d\",\"\",regex=True)\n",
    "df[\"Activity\"].value_counts()\n",
    "def activity(x):\n",
    "    if \"windsurfing\" in str(x): return \"windsurfing\"\n",
    "    if \"surfing\" in str(x) or \"boogie boarding\" in str(x): return \"surfing\"\n",
    "    elif \"swimming\" in str(x): return \"swimming\"\n",
    "    elif \"fishing\" in str(x): return \"fishing\"\n",
    "    elif \"bathing\" in str(x): return\"bathing\"\n",
    "    elif \"wading\" in str(x): return \"wading\"\n",
    "    elif \"diving\" in str(x): return \"diving\"\n",
    "    elif \"fell overboard\" in str(x): return \"fell overboard\"\n",
    "    elif \"snorkeling\" in str(x): return \"snorkeling\"\n",
    "    elif \"standing\" in str(x): return \"standing\"\n",
    "    else: return \"others\"\n",
    "df[\"Activity\"]=df[\"Activity\"].apply(activity)\n",
    "df[\"Activity\"].value_counts()"
   ]
  },
  {
   "cell_type": "code",
   "execution_count": 179,
   "metadata": {},
   "outputs": [
    {
     "data": {
      "text/plain": [
       "N          4315\n",
       "Y          1552\n",
       "UNKNOWN      94\n",
       " N            8\n",
       "F             1\n",
       "#VALUE!       1\n",
       "N             1\n",
       "n             1\n",
       "Name: Fatal (Y/N), dtype: int64"
      ]
     },
     "execution_count": 179,
     "metadata": {},
     "output_type": "execute_result"
    }
   ],
   "source": [
    "b=df[\"Fatal (Y/N)\"]\n",
    "b.value_counts()"
   ]
  },
  {
   "cell_type": "code",
   "execution_count": 180,
   "metadata": {},
   "outputs": [
    {
     "data": {
      "text/plain": [
       "N     4324\n",
       "Y     1552\n",
       "NA     116\n",
       "Name: Fatal (Y/N), dtype: int64"
      ]
     },
     "execution_count": 180,
     "metadata": {},
     "output_type": "execute_result"
    }
   ],
   "source": [
    "#limpio la variable \"Fatal (Y/N)\"\n",
    "def convertir(x):\n",
    "    if x==\"N\" or x==\"n\" or x==\" N\": return \"N\"\n",
    "    if x==\"Y\": return \"Y\"\n",
    "    else: return \"NA\"\n",
    "b=b.apply(convertir)\n",
    "df[\"Fatal (Y/N)\"]=b\n",
    "df[\"Fatal (Y/N)\"].value_counts()"
   ]
  },
  {
   "cell_type": "code",
   "execution_count": null,
   "metadata": {},
   "outputs": [],
   "source": []
  },
  {
   "cell_type": "code",
   "execution_count": 181,
   "metadata": {},
   "outputs": [
    {
     "data": {
      "text/plain": [
       "USA                 2116\n",
       "AUSTRALIA           1279\n",
       "SOUTH AFRICA         565\n",
       "OTHERS               464\n",
       "PAPUA NEW GUINEA     133\n",
       "Name: Country, dtype: int64"
      ]
     },
     "execution_count": 181,
     "metadata": {},
     "output_type": "execute_result"
    }
   ],
   "source": [
    "#limpio la variable \"Country\"\n",
    "c=df[\"Country\"]\n",
    "c1=c.value_counts().to_frame().transpose()\n",
    "\n",
    "def sum(x):\n",
    "    if str(x)==\"nan\": return \"OTHERS\"\n",
    "    if c1[str(x)].sum()<10: return \"OTHERS\"\n",
    "    else: return str(x)\n",
    "c=c.apply(sum)\n",
    "df[\"Country\"]=c\n",
    "df[\"Country\"].value_counts().head()"
   ]
  },
  {
   "cell_type": "code",
   "execution_count": 182,
   "metadata": {},
   "outputs": [],
   "source": [
    "#Asigno un nuevo nombre a la variable \"Sex \"\n",
    "df[\"Sex \"].value_counts()\n",
    "df.rename(columns = {\"Sex \":\"Gender\"}, inplace=True)"
   ]
  },
  {
   "cell_type": "code",
   "execution_count": 183,
   "metadata": {},
   "outputs": [
    {
     "data": {
      "text/plain": [
       "M     4838\n",
       "F      585\n",
       "NA     569\n",
       "Name: Gender, dtype: int64"
      ]
     },
     "execution_count": 183,
     "metadata": {},
     "output_type": "execute_result"
    }
   ],
   "source": [
    "#limpio la variable \"Gender\"\n",
    "d=df[\"Gender\"]\n",
    "d.value_counts()\n",
    "def count(x):\n",
    "    if x==\"M\" or x==\"M \" or x==\"N\": return \"M\"\n",
    "    if x==\"F\": return \"F\"\n",
    "    else: return \"NA\"\n",
    "d=d.apply(count)\n",
    "df[\"Gender\"]=d\n",
    "df[\"Gender\"].value_counts()"
   ]
  },
  {
   "cell_type": "code",
   "execution_count": 184,
   "metadata": {},
   "outputs": [
    {
     "data": {
      "text/plain": [
       "na             4426\n",
       "white           646\n",
       "tiger           282\n",
       "bull            167\n",
       "no shark        143\n",
       "blacktip        102\n",
       "small shark      67\n",
       "blue             58\n",
       "mako             56\n",
       "wobbegong        45\n",
       "Name: Species, dtype: int64"
      ]
     },
     "execution_count": 184,
     "metadata": {},
     "output_type": "execute_result"
    }
   ],
   "source": [
    "#limpio la variable \"Species\"\n",
    "df.rename(columns={\"Species \":\"Species\"}, inplace=True)\n",
    "e=df[\"Species\"]\n",
    "e=e.str.lower()\n",
    "e.value_counts()\n",
    "def sharks(x):\n",
    "    if \"white\" in str(x): return \"white\"\n",
    "    if \"tiger\" in str(x): return \"tiger\"\n",
    "    if \"bull\" in str(x): return \"bull\"\n",
    "    if \"blue\" in str(x): return \"blue\"\n",
    "    if \"mako\" in str(x): return\"mako\"\n",
    "    if \"wobbegong\" in str(x): return \"wobbegong\"\n",
    "    if \"blacktip\" in str(x): return \"blacktip\"\n",
    "    if \"no\" in str(x): return \"no shark\"\n",
    "    if \"small\" in str(x): return \"small shark\"\n",
    "    else: return \"na\"\n",
    "e=e.apply(sharks)\n",
    "df[\"Species\"]=e\n",
    "df[\"Species\"].value_counts()"
   ]
  },
  {
   "cell_type": "code",
   "execution_count": 185,
   "metadata": {},
   "outputs": [
    {
     "data": {
      "text/plain": [
       "na           3318\n",
       "morning      1416\n",
       "afternoon    1061\n",
       "night         122\n",
       "Name: Time, dtype: int64"
      ]
     },
     "execution_count": 185,
     "metadata": {},
     "output_type": "execute_result"
    }
   ],
   "source": [
    "#limpio la variable \"Time\"\n",
    "f=df[\"Time\"].str.lower()\n",
    "f.value_counts()\n",
    "f=f.replace(\"h\\d\\d\",\"\", regex=True)\n",
    "f=f.replace(\"\\A0\",\"\", regex=True)\n",
    "def replace(x):\n",
    "    try:\n",
    "        if len(str(int(x)))<=2:\n",
    "            if int(x)<=6 and int(x)>22: return \"night\"\n",
    "            if int(x)>6 and int(x)<=14: return \"morning\"\n",
    "            if int(x)>14 and int(x)<=22: return \"afternoon\"\n",
    "        \n",
    "        else:\n",
    "            if int(str(x)[0:2])<=6 and int(str(x)[0:2])>22: return \"night\"\n",
    "            if int(str(x)[0:2])>6 and int(str(x)[0:2])<=14: return \"morning\"\n",
    "            if int(str(x)[0:2])>14 and int(str(x)[0:2])<=22: return \"afternoon\"\n",
    "    \n",
    "    except ValueError:\n",
    "        if \"afternoon\" in str(x) or \"p.m.\" in str(x) : return \"afternoon\"\n",
    "        if \"morning\" in str(x) or \"a.m.\" in str(x): return \"morning\"\n",
    "        if \"night\" in str(x) or \"dusk\" in str(x) or \"evening\" in str(x): return \"night\"\n",
    "        else: return \"na\"\n",
    "        \n",
    "\n",
    "f=f.apply(replace)\n",
    "df[\"Time\"]=f\n",
    "df[\"Time\"].value_counts()"
   ]
  },
  {
   "cell_type": "code",
   "execution_count": 186,
   "metadata": {},
   "outputs": [
    {
     "data": {
      "text/html": [
       "<div>\n",
       "<style scoped>\n",
       "    .dataframe tbody tr th:only-of-type {\n",
       "        vertical-align: middle;\n",
       "    }\n",
       "\n",
       "    .dataframe tbody tr th {\n",
       "        vertical-align: top;\n",
       "    }\n",
       "\n",
       "    .dataframe thead th {\n",
       "        text-align: right;\n",
       "    }\n",
       "</style>\n",
       "<table border=\"1\" class=\"dataframe\">\n",
       "  <thead>\n",
       "    <tr style=\"text-align: right;\">\n",
       "      <th></th>\n",
       "      <th>Date</th>\n",
       "      <th>Year</th>\n",
       "      <th>Type</th>\n",
       "      <th>Country</th>\n",
       "      <th>Activity</th>\n",
       "      <th>Gender</th>\n",
       "      <th>Age</th>\n",
       "      <th>Fatal (Y/N)</th>\n",
       "      <th>Time</th>\n",
       "      <th>Species</th>\n",
       "    </tr>\n",
       "  </thead>\n",
       "  <tbody>\n",
       "    <tr>\n",
       "      <th>0</th>\n",
       "      <td>9</td>\n",
       "      <td>2016</td>\n",
       "      <td>Unprovoked</td>\n",
       "      <td>USA</td>\n",
       "      <td>surfing</td>\n",
       "      <td>M</td>\n",
       "      <td>[15-29]</td>\n",
       "      <td>N</td>\n",
       "      <td>morning</td>\n",
       "      <td>na</td>\n",
       "    </tr>\n",
       "    <tr>\n",
       "      <th>1</th>\n",
       "      <td>9</td>\n",
       "      <td>2016</td>\n",
       "      <td>Unprovoked</td>\n",
       "      <td>USA</td>\n",
       "      <td>surfing</td>\n",
       "      <td>M</td>\n",
       "      <td>[30-44]</td>\n",
       "      <td>N</td>\n",
       "      <td>morning</td>\n",
       "      <td>na</td>\n",
       "    </tr>\n",
       "    <tr>\n",
       "      <th>2</th>\n",
       "      <td>9</td>\n",
       "      <td>2016</td>\n",
       "      <td>Unprovoked</td>\n",
       "      <td>USA</td>\n",
       "      <td>surfing</td>\n",
       "      <td>M</td>\n",
       "      <td>[30-44]</td>\n",
       "      <td>N</td>\n",
       "      <td>morning</td>\n",
       "      <td>na</td>\n",
       "    </tr>\n",
       "    <tr>\n",
       "      <th>3</th>\n",
       "      <td>9</td>\n",
       "      <td>2016</td>\n",
       "      <td>Unprovoked</td>\n",
       "      <td>AUSTRALIA</td>\n",
       "      <td>surfing</td>\n",
       "      <td>M</td>\n",
       "      <td>na</td>\n",
       "      <td>N</td>\n",
       "      <td>na</td>\n",
       "      <td>na</td>\n",
       "    </tr>\n",
       "    <tr>\n",
       "      <th>4</th>\n",
       "      <td>9</td>\n",
       "      <td>2016</td>\n",
       "      <td>Unprovoked</td>\n",
       "      <td>AUSTRALIA</td>\n",
       "      <td>surfing</td>\n",
       "      <td>M</td>\n",
       "      <td>na</td>\n",
       "      <td>N</td>\n",
       "      <td>na</td>\n",
       "      <td>na</td>\n",
       "    </tr>\n",
       "  </tbody>\n",
       "</table>\n",
       "</div>"
      ],
      "text/plain": [
       "   Date  Year        Type    Country Activity Gender      Age Fatal (Y/N)  \\\n",
       "0     9  2016  Unprovoked        USA  surfing      M  [15-29]           N   \n",
       "1     9  2016  Unprovoked        USA  surfing      M  [30-44]           N   \n",
       "2     9  2016  Unprovoked        USA  surfing      M  [30-44]           N   \n",
       "3     9  2016  Unprovoked  AUSTRALIA  surfing      M       na           N   \n",
       "4     9  2016  Unprovoked  AUSTRALIA  surfing      M       na           N   \n",
       "\n",
       "      Time Species  \n",
       "0  morning      na  \n",
       "1  morning      na  \n",
       "2  morning      na  \n",
       "3       na      na  \n",
       "4       na      na  "
      ]
     },
     "execution_count": 186,
     "metadata": {},
     "output_type": "execute_result"
    }
   ],
   "source": [
    "#elimino las columnas que no me interesan\n",
    "df.head()\n",
    "col_el=[\"Case Number\",\"Location\",\"Investigator or Source\",\"pdf\",\"Name\",\"Area\", \"href formula\",\"Injury\",\"href\",\"Case Number.1\",\"Case Number.2\",\"original order\",\"Unnamed: 22\",\"Unnamed: 23\"]\n",
    "df=df.drop(col_el,axis=1)\n",
    "df.head()"
   ]
  },
  {
   "cell_type": "code",
   "execution_count": null,
   "metadata": {},
   "outputs": [],
   "source": []
  },
  {
   "cell_type": "code",
   "execution_count": 187,
   "metadata": {},
   "outputs": [
    {
     "data": {
      "text/plain": [
       "2015    139\n",
       "2011    128\n",
       "2014    125\n",
       "2013    122\n",
       "2008    121\n",
       "Name: Year, dtype: int64"
      ]
     },
     "execution_count": 187,
     "metadata": {},
     "output_type": "execute_result"
    }
   ],
   "source": [
    "df_1940=df[df['Year']>1940]\n",
    "df_1940[\"Year\"].value_counts().head()"
   ]
  },
  {
   "cell_type": "code",
   "execution_count": 188,
   "metadata": {},
   "outputs": [
    {
     "data": {
      "text/plain": [
       "(4530, 10)"
      ]
     },
     "execution_count": 188,
     "metadata": {},
     "output_type": "execute_result"
    }
   ],
   "source": [
    "df_1940.shape"
   ]
  },
  {
   "cell_type": "code",
   "execution_count": 189,
   "metadata": {},
   "outputs": [
    {
     "data": {
      "text/html": [
       "<div>\n",
       "<style scoped>\n",
       "    .dataframe tbody tr th:only-of-type {\n",
       "        vertical-align: middle;\n",
       "    }\n",
       "\n",
       "    .dataframe tbody tr th {\n",
       "        vertical-align: top;\n",
       "    }\n",
       "\n",
       "    .dataframe thead th {\n",
       "        text-align: right;\n",
       "    }\n",
       "</style>\n",
       "<table border=\"1\" class=\"dataframe\">\n",
       "  <thead>\n",
       "    <tr style=\"text-align: right;\">\n",
       "      <th></th>\n",
       "      <th>Date</th>\n",
       "      <th>Year</th>\n",
       "      <th>Type</th>\n",
       "      <th>Country</th>\n",
       "      <th>Activity</th>\n",
       "      <th>Gender</th>\n",
       "      <th>Age</th>\n",
       "      <th>Fatal (Y/N)</th>\n",
       "      <th>Time</th>\n",
       "      <th>Species</th>\n",
       "    </tr>\n",
       "  </thead>\n",
       "  <tbody>\n",
       "    <tr>\n",
       "      <th>0</th>\n",
       "      <td>9</td>\n",
       "      <td>2016</td>\n",
       "      <td>Unprovoked</td>\n",
       "      <td>USA</td>\n",
       "      <td>surfing</td>\n",
       "      <td>M</td>\n",
       "      <td>[15-29]</td>\n",
       "      <td>N</td>\n",
       "      <td>morning</td>\n",
       "      <td>na</td>\n",
       "    </tr>\n",
       "    <tr>\n",
       "      <th>1</th>\n",
       "      <td>9</td>\n",
       "      <td>2016</td>\n",
       "      <td>Unprovoked</td>\n",
       "      <td>USA</td>\n",
       "      <td>surfing</td>\n",
       "      <td>M</td>\n",
       "      <td>[30-44]</td>\n",
       "      <td>N</td>\n",
       "      <td>morning</td>\n",
       "      <td>na</td>\n",
       "    </tr>\n",
       "    <tr>\n",
       "      <th>2</th>\n",
       "      <td>9</td>\n",
       "      <td>2016</td>\n",
       "      <td>Unprovoked</td>\n",
       "      <td>USA</td>\n",
       "      <td>surfing</td>\n",
       "      <td>M</td>\n",
       "      <td>[30-44]</td>\n",
       "      <td>N</td>\n",
       "      <td>morning</td>\n",
       "      <td>na</td>\n",
       "    </tr>\n",
       "    <tr>\n",
       "      <th>3</th>\n",
       "      <td>9</td>\n",
       "      <td>2016</td>\n",
       "      <td>Unprovoked</td>\n",
       "      <td>AUSTRALIA</td>\n",
       "      <td>surfing</td>\n",
       "      <td>M</td>\n",
       "      <td>na</td>\n",
       "      <td>N</td>\n",
       "      <td>na</td>\n",
       "      <td>na</td>\n",
       "    </tr>\n",
       "    <tr>\n",
       "      <th>4</th>\n",
       "      <td>9</td>\n",
       "      <td>2016</td>\n",
       "      <td>Unprovoked</td>\n",
       "      <td>AUSTRALIA</td>\n",
       "      <td>surfing</td>\n",
       "      <td>M</td>\n",
       "      <td>na</td>\n",
       "      <td>N</td>\n",
       "      <td>na</td>\n",
       "      <td>na</td>\n",
       "    </tr>\n",
       "  </tbody>\n",
       "</table>\n",
       "</div>"
      ],
      "text/plain": [
       "   Date  Year        Type    Country Activity Gender      Age Fatal (Y/N)  \\\n",
       "0     9  2016  Unprovoked        USA  surfing      M  [15-29]           N   \n",
       "1     9  2016  Unprovoked        USA  surfing      M  [30-44]           N   \n",
       "2     9  2016  Unprovoked        USA  surfing      M  [30-44]           N   \n",
       "3     9  2016  Unprovoked  AUSTRALIA  surfing      M       na           N   \n",
       "4     9  2016  Unprovoked  AUSTRALIA  surfing      M       na           N   \n",
       "\n",
       "      Time Species  \n",
       "0  morning      na  \n",
       "1  morning      na  \n",
       "2  morning      na  \n",
       "3       na      na  \n",
       "4       na      na  "
      ]
     },
     "execution_count": 189,
     "metadata": {},
     "output_type": "execute_result"
    }
   ],
   "source": [
    "df_1940.head()"
   ]
  },
  {
   "cell_type": "code",
   "execution_count": 190,
   "metadata": {},
   "outputs": [
    {
     "data": {
      "text/plain": [
       "N     3602\n",
       "Y      867\n",
       "NA      61\n",
       "Name: Fatal (Y/N), dtype: int64"
      ]
     },
     "execution_count": 190,
     "metadata": {},
     "output_type": "execute_result"
    }
   ],
   "source": [
    "df_1940[\"Fatal (Y/N)\"].value_counts()"
   ]
  },
  {
   "cell_type": "code",
   "execution_count": 191,
   "metadata": {},
   "outputs": [],
   "source": [
    "# Estudio de las especies en relación con las demás variables una vez han sido limpiadas."
   ]
  },
  {
   "cell_type": "code",
   "execution_count": 192,
   "metadata": {},
   "outputs": [],
   "source": [
    "import matplotlib.pyplot as plt\n",
    "import seaborn as sns\n",
    "import numpy as np"
   ]
  },
  {
   "cell_type": "code",
   "execution_count": 193,
   "metadata": {},
   "outputs": [
    {
     "data": {
      "text/plain": [
       "<matplotlib.axes._subplots.AxesSubplot at 0x7f54463b61d0>"
      ]
     },
     "execution_count": 193,
     "metadata": {},
     "output_type": "execute_result"
    },
    {
     "data": {
      "image/png": "[encoded data removed]",
      "text/plain": [
       "<Figure size 432x288 with 1 Axes>"
      ]
     },
     "metadata": {
      "needs_background": "light"
     },
     "output_type": "display_data"
    }
   ],
   "source": [
    "Years_values = df_1940['Year'].value_counts().sort_index()\n",
    "%matplotlib inline\n",
    "Years_values.plot(title=\"Shark Attacks per year\")"
   ]
  },
  {
   "cell_type": "code",
   "execution_count": 194,
   "metadata": {},
   "outputs": [
    {
     "data": {
      "text/plain": [
       "Text(0, 0.5, 'Species')"
      ]
     },
     "execution_count": 194,
     "metadata": {},
     "output_type": "execute_result"
    },
    {
     "data": {
      "image/png": "[encoded data removed]",
      "text/plain": [
       "<Figure size 576x432 with 1 Axes>"
      ]
     },
     "metadata": {
      "needs_background": "light"
     },
     "output_type": "display_data"
    }
   ],
   "source": [
    "df_Dropspecies = df.drop(df[df['Species']==\"na\"].index,axis=0)\n",
    "table_count = df_Dropspecies['Species'].value_counts()\n",
    "type_index = table_count.index\n",
    "type_values = table_count.values\n",
    "\n",
    "fig,ax = plt.subplots(figsize=(8,6))\n",
    "sns.barplot(x = type_values , y = type_index , ax =ax , orient='h')\n",
    "plt.title('Total Type')\n",
    "plt.xlabel('Counter')\n",
    "plt.ylabel('Species')"
   ]
  },
  {
   "cell_type": "code",
   "execution_count": 195,
   "metadata": {},
   "outputs": [
    {
     "data": {
      "text/plain": [
       "Text(0.5, 1.0, 'Species vs Year(2006-2016)')"
      ]
     },
     "execution_count": 195,
     "metadata": {},
     "output_type": "execute_result"
    },
    {
     "data": {
      "image/png": "[encoded data removed]",
      "text/plain": [
       "<Figure size 576x432 with 1 Axes>"
      ]
     },
     "metadata": {
      "needs_background": "light"
     },
     "output_type": "display_data"
    }
   ],
   "source": [
    "year_range = np.arange(2006,2017).tolist()\n",
    "fig,ax = plt.subplots(figsize=(8,6))\n",
    "ax = sns.countplot(data =df_Dropspecies[df_Dropspecies['Year'].isin(year_range)],x='Year',hue='Species',ax=ax)\n",
    "plt.legend(loc='best',bbox_to_anchor=(1.05, 1))\n",
    "plt.title('Species vs Year(2006-2016)')\n",
    "\n"
   ]
  },
  {
   "cell_type": "code",
   "execution_count": 196,
   "metadata": {},
   "outputs": [
    {
     "data": {
      "text/plain": [
       "Text(0.5, 1.0, 'Species vs Month')"
      ]
     },
     "execution_count": 196,
     "metadata": {},
     "output_type": "execute_result"
    },
    {
     "data": {
      "image/png": "[encoded data removed]",
      "text/plain": [
       "<Figure size 576x432 with 1 Axes>"
      ]
     },
     "metadata": {
      "needs_background": "light"
     },
     "output_type": "display_data"
    }
   ],
   "source": [
    "df_Dropspecies0 = df_Dropspecies.drop(df_Dropspecies[df_Dropspecies['Date']==0].index,axis=0)\n",
    "fig,ax = plt.subplots(figsize=(8,6))\n",
    "ax = sns.countplot(data =df_Dropspecies0,x='Date' ,hue='Species',ax=ax)\n",
    "plt.xlabel('Month')\n",
    "plt.legend(loc='best',bbox_to_anchor=(1.05, 1))\n",
    "plt.title('Species vs Month')"
   ]
  },
  {
   "cell_type": "code",
   "execution_count": 197,
   "metadata": {},
   "outputs": [
    {
     "data": {
      "text/plain": [
       "<matplotlib.axes._subplots.AxesSubplot at 0x7f5445e25160>"
      ]
     },
     "execution_count": 197,
     "metadata": {},
     "output_type": "execute_result"
    },
    {
     "data": {
      "image/png": "[encoded data removed]",
      "text/plain": [
       "<Figure size 720x360 with 1 Axes>"
      ]
     },
     "metadata": {
      "needs_background": "light"
     },
     "output_type": "display_data"
    }
   ],
   "source": [
    "df_Dropspecies1['Fatal_Binary'] = df_Dropspecies[df_Dropspecies['Fatal (Y/N)'].isin(['Y','N'])]['Fatal (Y/N)']\n",
    "df_Dropspecies1['Fatal_Binary'] = df_Dropspecies1['Fatal_Binary'].str.replace('N',\"0\").str.replace('Y',\"1\").dropna().astype(int)\n",
    "df_Dropspecies1[df_Dropspecies1[\"Fatal_Binary\"]==1]\\\n",
    "  .groupby(\"Species\").filter(lambda x: len(x) > 10)\\\n",
    "  .groupby([\"Species\",\"Fatal_Binary\"])\\\n",
    "  .size().to_frame().unstack(level=0)[0].plot.bar(title='Death by species',figsize=[10,5])"
   ]
  },
  {
   "cell_type": "code",
   "execution_count": 198,
   "metadata": {},
   "outputs": [
    {
     "data": {
      "text/plain": [
       "Text(0.5, 1, 'Species vs Activity\\n')"
      ]
     },
     "execution_count": 198,
     "metadata": {},
     "output_type": "execute_result"
    },
    {
     "data": {
      "image/png": "[encoded data removed]",
      "text/plain": [
       "<Figure size 576x432 with 2 Axes>"
      ]
     },
     "metadata": {
      "needs_background": "light"
     },
     "output_type": "display_data"
    }
   ],
   "source": [
    "table_count = pd.pivot_table(data = df_Dropspecies,\n",
    "                             index = ['Species'],\n",
    "                             columns=['Activity'],\n",
    "                             values = ['Year'],\n",
    "                             aggfunc = 'count')\n",
    "fig,ax = plt.subplots(figsize=(8,6))\n",
    "sns.heatmap(table_count['Year'],ax=ax,annot=True,fmt='2.0f',vmin=0,linewidth=.5)\n",
    "plt.title('Species vs Activity\\n')"
   ]
  },
  {
   "cell_type": "code",
   "execution_count": 199,
   "metadata": {},
   "outputs": [
    {
     "data": {
      "text/plain": [
       "Text(0.5, 1, 'Species vs Country\\n')"
      ]
     },
     "execution_count": 199,
     "metadata": {},
     "output_type": "execute_result"
    },
    {
     "data": {
      "image/png": "[encoded data removed]",
      "text/plain": [
       "<Figure size 576x432 with 2 Axes>"
      ]
     },
     "metadata": {
      "needs_background": "light"
     },
     "output_type": "display_data"
    }
   ],
   "source": [
    "table_count = df_Dropspecies.groupby(df_Dropspecies['Country'])['Species'].size()\n",
    "table_count = table_count.sort_values(ascending=False)[:8]\n",
    "table_count_index = table_count.index\n",
    "table_count_values = table_count.values\n",
    "\n",
    "table_count = pd.pivot_table(data = df_Dropspecies[df_Dropspecies['Country'].isin(table_count_index)],\n",
    "               index = ['Species'],columns=['Country'],values=['Year'],aggfunc='count')\n",
    "fig,ax = plt.subplots(figsize=(8,6))\n",
    "sns.heatmap(table_count['Year'],ax=ax,vmin=0,linewidth=.5,annot=True)\n",
    "plt.title('Species vs Country\\n')"
   ]
  },
  {
   "cell_type": "code",
   "execution_count": 200,
   "metadata": {},
   "outputs": [
    {
     "data": {
      "text/plain": [
       "Text(0.5, 1, 'Species vs Age\\n')"
      ]
     },
     "execution_count": 200,
     "metadata": {},
     "output_type": "execute_result"
    },
    {
     "data": {
      "image/png": "[encoded data removed]",
      "text/plain": [
       "<Figure size 576x432 with 2 Axes>"
      ]
     },
     "metadata": {
      "needs_background": "light"
     },
     "output_type": "display_data"
    }
   ],
   "source": [
    "df_Dropspeciesage = df_Dropspecies.drop(df_Dropspecies[df_Dropspecies['Age']==\"na\"].index,axis=0)\n",
    "table_count = pd.pivot_table(data = df_Dropspeciesage,\n",
    "                             index = ['Species'],\n",
    "                             columns=['Age'],\n",
    "                             values = ['Year'],\n",
    "                             aggfunc = 'count')\n",
    "fig,ax = plt.subplots(figsize=(8,6))\n",
    "sns.heatmap(table_count['Year'],ax=ax,annot=True,fmt='2.0f',vmin=0,linewidth=.5)\n",
    "plt.title('Species vs Age\\n')"
   ]
  },
  {
   "cell_type": "code",
   "execution_count": 201,
   "metadata": {},
   "outputs": [
    {
     "data": {
      "text/plain": [
       "Text(0.5, 1, 'Species vs Time\\n')"
      ]
     },
     "execution_count": 201,
     "metadata": {},
     "output_type": "execute_result"
    },
    {
     "data": {
      "image/png": "[encoded data removed]",
      "text/plain": [
       "<Figure size 576x432 with 2 Axes>"
      ]
     },
     "metadata": {
      "needs_background": "light"
     },
     "output_type": "display_data"
    }
   ],
   "source": [
    "df_Dropspeciestime = df_Dropspecies.drop(df_Dropspecies[df_Dropspecies['Time']==\"na\"].index,axis=0)\n",
    "table_count = pd.pivot_table(data = df_Dropspeciestime,\n",
    "                             index = ['Species'],\n",
    "                             columns=['Time'],\n",
    "                             values = ['Year'],\n",
    "                             aggfunc = 'count')\n",
    "fig,ax = plt.subplots(figsize=(8,6))\n",
    "sns.heatmap(table_count['Year'],ax=ax,annot=True,fmt='2.0f',vmin=0,linewidth=.5)\n",
    "plt.xlabel('\\nTime')\n",
    "plt.title('Species vs Time\\n')"
   ]
  },
  {
   "cell_type": "code",
   "execution_count": null,
   "metadata": {},
   "outputs": [],
   "source": []
  },
  {
   "cell_type": "code",
   "execution_count": null,
   "metadata": {},
   "outputs": [],
   "source": []
  },
  {
   "cell_type": "code",
   "execution_count": null,
   "metadata": {},
   "outputs": [],
   "source": []
  }
 ],
 "metadata": {
  "kernelspec": {
   "display_name": "Python 3",
   "language": "python",
   "name": "python3"
  },
  "language_info": {
   "codemirror_mode": {
    "name": "ipython",
    "version": 3
   },
   "file_extension": ".py",
   "mimetype": "text/x-python",
   "name": "python",
   "nbconvert_exporter": "python",
   "pygments_lexer": "ipython3",
   "version": "3.6.8"
  }
 },
 "nbformat": 4,
 "nbformat_minor": 2
}
