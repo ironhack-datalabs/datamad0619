{
 "cells": [
  {
   "cell_type": "markdown",
   "metadata": {},
   "source": [
    "### First of all, I will import all necessary libraries (including matplotlib, as I might need it later):"
   ]
  },
  {
   "cell_type": "code",
   "execution_count": 1,
   "metadata": {},
   "outputs": [],
   "source": [
    "import pandas as pd\n",
    "import numpy as np\n",
    "import matplotlib as mp"
   ]
  },
  {
   "cell_type": "markdown",
   "metadata": {},
   "source": [
    "### I downloaded and unzipped the .csv file on the same folder as the project notebook. In order to import it we need to set the **\"engine\"** argument of the **pd.read_csv** function to *\"python\"*."
   ]
  },
  {
   "cell_type": "code",
   "execution_count": 2,
   "metadata": {},
   "outputs": [
    {
     "name": "stdout",
     "output_type": "stream",
     "text": [
      "The df has 5992 rows and 24 columns. It looks like this:\n"
     ]
    },
    {
     "data": {
      "text/html": [
       "<div>\n",
       "<style scoped>\n",
       "    .dataframe tbody tr th:only-of-type {\n",
       "        vertical-align: middle;\n",
       "    }\n",
       "\n",
       "    .dataframe tbody tr th {\n",
       "        vertical-align: top;\n",
       "    }\n",
       "\n",
       "    .dataframe thead th {\n",
       "        text-align: right;\n",
       "    }\n",
       "</style>\n",
       "<table border=\"1\" class=\"dataframe\">\n",
       "  <thead>\n",
       "    <tr style=\"text-align: right;\">\n",
       "      <th></th>\n",
       "      <th>Case Number</th>\n",
       "      <th>Date</th>\n",
       "      <th>Year</th>\n",
       "      <th>Type</th>\n",
       "      <th>Country</th>\n",
       "      <th>Area</th>\n",
       "      <th>Location</th>\n",
       "      <th>Activity</th>\n",
       "      <th>Name</th>\n",
       "      <th>Sex</th>\n",
       "      <th>...</th>\n",
       "      <th>Species</th>\n",
       "      <th>Investigator or Source</th>\n",
       "      <th>pdf</th>\n",
       "      <th>href formula</th>\n",
       "      <th>href</th>\n",
       "      <th>Case Number.1</th>\n",
       "      <th>Case Number.2</th>\n",
       "      <th>original order</th>\n",
       "      <th>Unnamed: 22</th>\n",
       "      <th>Unnamed: 23</th>\n",
       "    </tr>\n",
       "  </thead>\n",
       "  <tbody>\n",
       "    <tr>\n",
       "      <th>0</th>\n",
       "      <td>2016.09.18.c</td>\n",
       "      <td>18-Sep-16</td>\n",
       "      <td>2016</td>\n",
       "      <td>Unprovoked</td>\n",
       "      <td>USA</td>\n",
       "      <td>Florida</td>\n",
       "      <td>New Smyrna Beach, Volusia County</td>\n",
       "      <td>Surfing</td>\n",
       "      <td>male</td>\n",
       "      <td>M</td>\n",
       "      <td>...</td>\n",
       "      <td>NaN</td>\n",
       "      <td>Orlando Sentinel, 9/19/2016</td>\n",
       "      <td>2016.09.18.c-NSB.pdf</td>\n",
       "      <td>http://sharkattackfile.net/spreadsheets/pdf_di...</td>\n",
       "      <td>http://sharkattackfile.net/spreadsheets/pdf_di...</td>\n",
       "      <td>2016.09.18.c</td>\n",
       "      <td>2016.09.18.c</td>\n",
       "      <td>5993</td>\n",
       "      <td>NaN</td>\n",
       "      <td>NaN</td>\n",
       "    </tr>\n",
       "    <tr>\n",
       "      <th>1</th>\n",
       "      <td>2016.09.18.b</td>\n",
       "      <td>18-Sep-16</td>\n",
       "      <td>2016</td>\n",
       "      <td>Unprovoked</td>\n",
       "      <td>USA</td>\n",
       "      <td>Florida</td>\n",
       "      <td>New Smyrna Beach, Volusia County</td>\n",
       "      <td>Surfing</td>\n",
       "      <td>Chucky Luciano</td>\n",
       "      <td>M</td>\n",
       "      <td>...</td>\n",
       "      <td>NaN</td>\n",
       "      <td>Orlando Sentinel, 9/19/2016</td>\n",
       "      <td>2016.09.18.b-Luciano.pdf</td>\n",
       "      <td>http://sharkattackfile.net/spreadsheets/pdf_di...</td>\n",
       "      <td>http://sharkattackfile.net/spreadsheets/pdf_di...</td>\n",
       "      <td>2016.09.18.b</td>\n",
       "      <td>2016.09.18.b</td>\n",
       "      <td>5992</td>\n",
       "      <td>NaN</td>\n",
       "      <td>NaN</td>\n",
       "    </tr>\n",
       "    <tr>\n",
       "      <th>2</th>\n",
       "      <td>2016.09.18.a</td>\n",
       "      <td>18-Sep-16</td>\n",
       "      <td>2016</td>\n",
       "      <td>Unprovoked</td>\n",
       "      <td>USA</td>\n",
       "      <td>Florida</td>\n",
       "      <td>New Smyrna Beach, Volusia County</td>\n",
       "      <td>Surfing</td>\n",
       "      <td>male</td>\n",
       "      <td>M</td>\n",
       "      <td>...</td>\n",
       "      <td>NaN</td>\n",
       "      <td>Orlando Sentinel, 9/19/2016</td>\n",
       "      <td>2016.09.18.a-NSB.pdf</td>\n",
       "      <td>http://sharkattackfile.net/spreadsheets/pdf_di...</td>\n",
       "      <td>http://sharkattackfile.net/spreadsheets/pdf_di...</td>\n",
       "      <td>2016.09.18.a</td>\n",
       "      <td>2016.09.18.a</td>\n",
       "      <td>5991</td>\n",
       "      <td>NaN</td>\n",
       "      <td>NaN</td>\n",
       "    </tr>\n",
       "  </tbody>\n",
       "</table>\n",
       "<p>3 rows × 24 columns</p>\n",
       "</div>"
      ],
      "text/plain": [
       "    Case Number       Date  Year        Type Country     Area  \\\n",
       "0  2016.09.18.c  18-Sep-16  2016  Unprovoked     USA  Florida   \n",
       "1  2016.09.18.b  18-Sep-16  2016  Unprovoked     USA  Florida   \n",
       "2  2016.09.18.a  18-Sep-16  2016  Unprovoked     USA  Florida   \n",
       "\n",
       "                           Location Activity            Name Sex   ...  \\\n",
       "0  New Smyrna Beach, Volusia County  Surfing            male    M  ...   \n",
       "1  New Smyrna Beach, Volusia County  Surfing  Chucky Luciano    M  ...   \n",
       "2  New Smyrna Beach, Volusia County  Surfing            male    M  ...   \n",
       "\n",
       "  Species        Investigator or Source                       pdf  \\\n",
       "0      NaN  Orlando Sentinel, 9/19/2016      2016.09.18.c-NSB.pdf   \n",
       "1      NaN  Orlando Sentinel, 9/19/2016  2016.09.18.b-Luciano.pdf   \n",
       "2      NaN  Orlando Sentinel, 9/19/2016      2016.09.18.a-NSB.pdf   \n",
       "\n",
       "                                        href formula  \\\n",
       "0  http://sharkattackfile.net/spreadsheets/pdf_di...   \n",
       "1  http://sharkattackfile.net/spreadsheets/pdf_di...   \n",
       "2  http://sharkattackfile.net/spreadsheets/pdf_di...   \n",
       "\n",
       "                                                href Case Number.1  \\\n",
       "0  http://sharkattackfile.net/spreadsheets/pdf_di...  2016.09.18.c   \n",
       "1  http://sharkattackfile.net/spreadsheets/pdf_di...  2016.09.18.b   \n",
       "2  http://sharkattackfile.net/spreadsheets/pdf_di...  2016.09.18.a   \n",
       "\n",
       "  Case Number.2 original order Unnamed: 22 Unnamed: 23  \n",
       "0  2016.09.18.c           5993         NaN         NaN  \n",
       "1  2016.09.18.b           5992         NaN         NaN  \n",
       "2  2016.09.18.a           5991         NaN         NaN  \n",
       "\n",
       "[3 rows x 24 columns]"
      ]
     },
     "execution_count": 2,
     "metadata": {},
     "output_type": "execute_result"
    }
   ],
   "source": [
    "sharks=pd.read_csv('./GSAF5.csv',sep=\",\",engine='python')\n",
    "\n",
    "print(f\"The df has {sharks.shape[0]} rows and {sharks.shape[1]} columns. It looks like this:\")\n",
    "sharks.head(3)"
   ]
  },
  {
   "cell_type": "markdown",
   "metadata": {},
   "source": [
    "### Let's see the types of each variable (column) in our data set:"
   ]
  },
  {
   "cell_type": "code",
   "execution_count": 3,
   "metadata": {},
   "outputs": [
    {
     "data": {
      "text/plain": [
       "Case Number               object\n",
       "Date                      object\n",
       "Year                       int64\n",
       "Type                      object\n",
       "Country                   object\n",
       "Area                      object\n",
       "Location                  object\n",
       "Activity                  object\n",
       "Name                      object\n",
       "Sex                       object\n",
       "Age                       object\n",
       "Injury                    object\n",
       "Fatal (Y/N)               object\n",
       "Time                      object\n",
       "Species                   object\n",
       "Investigator or Source    object\n",
       "pdf                       object\n",
       "href formula              object\n",
       "href                      object\n",
       "Case Number.1             object\n",
       "Case Number.2             object\n",
       "original order             int64\n",
       "Unnamed: 22               object\n",
       "Unnamed: 23               object\n",
       "dtype: object"
      ]
     },
     "execution_count": 3,
     "metadata": {},
     "output_type": "execute_result"
    }
   ],
   "source": [
    "sharks.dtypes"
   ]
  },
  {
   "cell_type": "markdown",
   "metadata": {},
   "source": [
    "### Most variables have an \"object\" type (strings). It might be necessary to clean columns and change their types later on. Now, let's look for missing values:"
   ]
  },
  {
   "cell_type": "code",
   "execution_count": 4,
   "metadata": {},
   "outputs": [
    {
     "data": {
      "text/plain": [
       "Case Number                  0\n",
       "Date                         0\n",
       "Year                         0\n",
       "Type                         0\n",
       "Country                     43\n",
       "Area                       402\n",
       "Location                   496\n",
       "Activity                   527\n",
       "Name                       200\n",
       "Sex                        567\n",
       "Age                       2681\n",
       "Injury                      27\n",
       "Fatal (Y/N)                 19\n",
       "Time                      3213\n",
       "Species                   2934\n",
       "Investigator or Source      15\n",
       "pdf                          0\n",
       "href formula                 1\n",
       "href                         3\n",
       "Case Number.1                0\n",
       "Case Number.2                0\n",
       "original order               0\n",
       "Unnamed: 22               5991\n",
       "Unnamed: 23               5990\n",
       "dtype: int64"
      ]
     },
     "execution_count": 4,
     "metadata": {},
     "output_type": "execute_result"
    }
   ],
   "source": [
    "sharks.copy().isnull().sum()"
   ]
  },
  {
   "cell_type": "markdown",
   "metadata": {},
   "source": [
    "### We see that the last two columns (\"Unnamed: 22\" and \"Unnamed: 23\") are practically empty, so there's no need to keep them in our clean dataframe. I will do my cleaning in a new dataframe (clean_sharks). Let's get rid of those columns:"
   ]
  },
  {
   "cell_type": "code",
   "execution_count": 5,
   "metadata": {},
   "outputs": [
    {
     "data": {
      "text/html": [
       "<div>\n",
       "<style scoped>\n",
       "    .dataframe tbody tr th:only-of-type {\n",
       "        vertical-align: middle;\n",
       "    }\n",
       "\n",
       "    .dataframe tbody tr th {\n",
       "        vertical-align: top;\n",
       "    }\n",
       "\n",
       "    .dataframe thead th {\n",
       "        text-align: right;\n",
       "    }\n",
       "</style>\n",
       "<table border=\"1\" class=\"dataframe\">\n",
       "  <thead>\n",
       "    <tr style=\"text-align: right;\">\n",
       "      <th></th>\n",
       "      <th>Case Number</th>\n",
       "      <th>Date</th>\n",
       "      <th>Year</th>\n",
       "      <th>Type</th>\n",
       "      <th>Country</th>\n",
       "      <th>Area</th>\n",
       "      <th>Location</th>\n",
       "      <th>Activity</th>\n",
       "      <th>Name</th>\n",
       "      <th>Sex</th>\n",
       "      <th>...</th>\n",
       "      <th>Fatal (Y/N)</th>\n",
       "      <th>Time</th>\n",
       "      <th>Species</th>\n",
       "      <th>Investigator or Source</th>\n",
       "      <th>pdf</th>\n",
       "      <th>href formula</th>\n",
       "      <th>href</th>\n",
       "      <th>Case Number.1</th>\n",
       "      <th>Case Number.2</th>\n",
       "      <th>original order</th>\n",
       "    </tr>\n",
       "  </thead>\n",
       "  <tbody>\n",
       "    <tr>\n",
       "      <th>0</th>\n",
       "      <td>2016.09.18.c</td>\n",
       "      <td>18-Sep-16</td>\n",
       "      <td>2016</td>\n",
       "      <td>Unprovoked</td>\n",
       "      <td>USA</td>\n",
       "      <td>Florida</td>\n",
       "      <td>New Smyrna Beach, Volusia County</td>\n",
       "      <td>Surfing</td>\n",
       "      <td>male</td>\n",
       "      <td>M</td>\n",
       "      <td>...</td>\n",
       "      <td>N</td>\n",
       "      <td>13h00</td>\n",
       "      <td>NaN</td>\n",
       "      <td>Orlando Sentinel, 9/19/2016</td>\n",
       "      <td>2016.09.18.c-NSB.pdf</td>\n",
       "      <td>http://sharkattackfile.net/spreadsheets/pdf_di...</td>\n",
       "      <td>http://sharkattackfile.net/spreadsheets/pdf_di...</td>\n",
       "      <td>2016.09.18.c</td>\n",
       "      <td>2016.09.18.c</td>\n",
       "      <td>5993</td>\n",
       "    </tr>\n",
       "    <tr>\n",
       "      <th>1</th>\n",
       "      <td>2016.09.18.b</td>\n",
       "      <td>18-Sep-16</td>\n",
       "      <td>2016</td>\n",
       "      <td>Unprovoked</td>\n",
       "      <td>USA</td>\n",
       "      <td>Florida</td>\n",
       "      <td>New Smyrna Beach, Volusia County</td>\n",
       "      <td>Surfing</td>\n",
       "      <td>Chucky Luciano</td>\n",
       "      <td>M</td>\n",
       "      <td>...</td>\n",
       "      <td>N</td>\n",
       "      <td>11h00</td>\n",
       "      <td>NaN</td>\n",
       "      <td>Orlando Sentinel, 9/19/2016</td>\n",
       "      <td>2016.09.18.b-Luciano.pdf</td>\n",
       "      <td>http://sharkattackfile.net/spreadsheets/pdf_di...</td>\n",
       "      <td>http://sharkattackfile.net/spreadsheets/pdf_di...</td>\n",
       "      <td>2016.09.18.b</td>\n",
       "      <td>2016.09.18.b</td>\n",
       "      <td>5992</td>\n",
       "    </tr>\n",
       "    <tr>\n",
       "      <th>2</th>\n",
       "      <td>2016.09.18.a</td>\n",
       "      <td>18-Sep-16</td>\n",
       "      <td>2016</td>\n",
       "      <td>Unprovoked</td>\n",
       "      <td>USA</td>\n",
       "      <td>Florida</td>\n",
       "      <td>New Smyrna Beach, Volusia County</td>\n",
       "      <td>Surfing</td>\n",
       "      <td>male</td>\n",
       "      <td>M</td>\n",
       "      <td>...</td>\n",
       "      <td>N</td>\n",
       "      <td>10h43</td>\n",
       "      <td>NaN</td>\n",
       "      <td>Orlando Sentinel, 9/19/2016</td>\n",
       "      <td>2016.09.18.a-NSB.pdf</td>\n",
       "      <td>http://sharkattackfile.net/spreadsheets/pdf_di...</td>\n",
       "      <td>http://sharkattackfile.net/spreadsheets/pdf_di...</td>\n",
       "      <td>2016.09.18.a</td>\n",
       "      <td>2016.09.18.a</td>\n",
       "      <td>5991</td>\n",
       "    </tr>\n",
       "  </tbody>\n",
       "</table>\n",
       "<p>3 rows × 22 columns</p>\n",
       "</div>"
      ],
      "text/plain": [
       "    Case Number       Date  Year        Type Country     Area  \\\n",
       "0  2016.09.18.c  18-Sep-16  2016  Unprovoked     USA  Florida   \n",
       "1  2016.09.18.b  18-Sep-16  2016  Unprovoked     USA  Florida   \n",
       "2  2016.09.18.a  18-Sep-16  2016  Unprovoked     USA  Florida   \n",
       "\n",
       "                           Location Activity            Name Sex   ...  \\\n",
       "0  New Smyrna Beach, Volusia County  Surfing            male    M  ...   \n",
       "1  New Smyrna Beach, Volusia County  Surfing  Chucky Luciano    M  ...   \n",
       "2  New Smyrna Beach, Volusia County  Surfing            male    M  ...   \n",
       "\n",
       "  Fatal (Y/N)   Time Species        Investigator or Source  \\\n",
       "0           N  13h00      NaN  Orlando Sentinel, 9/19/2016   \n",
       "1           N  11h00      NaN  Orlando Sentinel, 9/19/2016   \n",
       "2           N  10h43      NaN  Orlando Sentinel, 9/19/2016   \n",
       "\n",
       "                        pdf  \\\n",
       "0      2016.09.18.c-NSB.pdf   \n",
       "1  2016.09.18.b-Luciano.pdf   \n",
       "2      2016.09.18.a-NSB.pdf   \n",
       "\n",
       "                                        href formula  \\\n",
       "0  http://sharkattackfile.net/spreadsheets/pdf_di...   \n",
       "1  http://sharkattackfile.net/spreadsheets/pdf_di...   \n",
       "2  http://sharkattackfile.net/spreadsheets/pdf_di...   \n",
       "\n",
       "                                                href Case Number.1  \\\n",
       "0  http://sharkattackfile.net/spreadsheets/pdf_di...  2016.09.18.c   \n",
       "1  http://sharkattackfile.net/spreadsheets/pdf_di...  2016.09.18.b   \n",
       "2  http://sharkattackfile.net/spreadsheets/pdf_di...  2016.09.18.a   \n",
       "\n",
       "  Case Number.2 original order  \n",
       "0  2016.09.18.c           5993  \n",
       "1  2016.09.18.b           5992  \n",
       "2  2016.09.18.a           5991  \n",
       "\n",
       "[3 rows x 22 columns]"
      ]
     },
     "execution_count": 5,
     "metadata": {},
     "output_type": "execute_result"
    }
   ],
   "source": [
    "clean_sharks = sharks.copy().drop([\"Unnamed: 22\",\"Unnamed: 23\"], axis=1)\n",
    "clean_sharks.head(3)"
   ]
  },
  {
   "cell_type": "markdown",
   "metadata": {},
   "source": [
    "### Great! now, I've noticed that not all columns have \"pretty\" names. That is, some of them begin/end with spaces, or are just not intuitive:"
   ]
  },
  {
   "cell_type": "code",
   "execution_count": 6,
   "metadata": {},
   "outputs": [
    {
     "data": {
      "text/plain": [
       "Index(['Case Number', 'Date', 'Year', 'Type', 'Country', 'Area', 'Location',\n",
       "       'Activity', 'Name', 'Sex ', 'Age', 'Injury', 'Fatal (Y/N)', 'Time',\n",
       "       'Species ', 'Investigator or Source', 'pdf', 'href formula', 'href',\n",
       "       'Case Number.1', 'Case Number.2', 'original order'],\n",
       "      dtype='object')"
      ]
     },
     "execution_count": 6,
     "metadata": {},
     "output_type": "execute_result"
    }
   ],
   "source": [
    "clean_sharks.columns"
   ]
  },
  {
   "cell_type": "markdown",
   "metadata": {},
   "source": [
    "### Let's \"prettify\" those column names:"
   ]
  },
  {
   "cell_type": "code",
   "execution_count": 8,
   "metadata": {},
   "outputs": [
    {
     "data": {
      "text/plain": [
       "Index(['Case Number', 'Date', 'Year', 'Type', 'Country', 'Area', 'Location',\n",
       "       'Activity', 'Name', 'Sex', 'Age', 'Injury', 'Fatal', 'Time', 'Species',\n",
       "       'Investigator or Source', 'pdf', 'url', 'url 2', 'Case Number.1',\n",
       "       'Case Number.2', 'original order'],\n",
       "      dtype='object')"
      ]
     },
     "execution_count": 8,
     "metadata": {},
     "output_type": "execute_result"
    }
   ],
   "source": [
    "clean_sharks.columns = [c.strip() for c in clean_sharks.columns]\n",
    "clean_sharks.rename(index=str, columns={\"Fatal (Y/N)\": \"Fatal\", \"href formula\": \"url\",\"href\":\"url 2\"},inplace=True)\n",
    "clean_sharks.columns"
   ]
  },
  {
   "cell_type": "markdown",
   "metadata": {},
   "source": [
    "### By looking at the dataframe I see that the columns \"Case Number\", \"Case Number.1\" and \"Case Number.2\" are quite similar. Let's see all the registers in which this columns differ:"
   ]
  },
  {
   "cell_type": "code",
   "execution_count": 9,
   "metadata": {},
   "outputs": [
    {
     "name": "stdout",
     "output_type": "stream",
     "text": [
      "rows with differences:  13\n"
     ]
    },
    {
     "data": {
      "text/html": [
       "<div>\n",
       "<style scoped>\n",
       "    .dataframe tbody tr th:only-of-type {\n",
       "        vertical-align: middle;\n",
       "    }\n",
       "\n",
       "    .dataframe tbody tr th {\n",
       "        vertical-align: top;\n",
       "    }\n",
       "\n",
       "    .dataframe thead th {\n",
       "        text-align: right;\n",
       "    }\n",
       "</style>\n",
       "<table border=\"1\" class=\"dataframe\">\n",
       "  <thead>\n",
       "    <tr style=\"text-align: right;\">\n",
       "      <th></th>\n",
       "      <th>Case Number</th>\n",
       "      <th>Case Number.1</th>\n",
       "      <th>Case Number.2</th>\n",
       "    </tr>\n",
       "  </thead>\n",
       "  <tbody>\n",
       "    <tr>\n",
       "      <th>4</th>\n",
       "      <td>2016.09.15</td>\n",
       "      <td>2016.09.16</td>\n",
       "      <td>2016.09.15</td>\n",
       "    </tr>\n",
       "    <tr>\n",
       "      <th>33</th>\n",
       "      <td>2016.07.14.4</td>\n",
       "      <td>2016.07.14.R</td>\n",
       "      <td>2016.07.14.4</td>\n",
       "    </tr>\n",
       "    <tr>\n",
       "      <th>97</th>\n",
       "      <td>2016.01.24.b</td>\n",
       "      <td>2015.01.24.b</td>\n",
       "      <td>2016.01.24.b</td>\n",
       "    </tr>\n",
       "    <tr>\n",
       "      <th>116</th>\n",
       "      <td>2015.12.23</td>\n",
       "      <td>2015.11.07</td>\n",
       "      <td>2015.12.23</td>\n",
       "    </tr>\n",
       "    <tr>\n",
       "      <th>121</th>\n",
       "      <td>2015.10.28.a</td>\n",
       "      <td>2015.10.28</td>\n",
       "      <td>2015.10.28.a</td>\n",
       "    </tr>\n",
       "    <tr>\n",
       "      <th>169</th>\n",
       "      <td>2015.07-10</td>\n",
       "      <td>2015.07.10</td>\n",
       "      <td>2015.07.10</td>\n",
       "    </tr>\n",
       "    <tr>\n",
       "      <th>3296</th>\n",
       "      <td>1967.07.05</td>\n",
       "      <td>1967/07.05</td>\n",
       "      <td>1967.07.05</td>\n",
       "    </tr>\n",
       "    <tr>\n",
       "      <th>3569</th>\n",
       "      <td>1962,08.30.b</td>\n",
       "      <td>1962.08.30.b</td>\n",
       "      <td>1962,08.30.b</td>\n",
       "    </tr>\n",
       "    <tr>\n",
       "      <th>3654</th>\n",
       "      <td>1961.09.02.R</td>\n",
       "      <td>1961.09,06.R</td>\n",
       "      <td>1961.09.02.R</td>\n",
       "    </tr>\n",
       "    <tr>\n",
       "      <th>4177</th>\n",
       "      <td>1952.08.05</td>\n",
       "      <td>1952.08.04</td>\n",
       "      <td>1952.08.05</td>\n",
       "    </tr>\n",
       "    <tr>\n",
       "      <th>4719</th>\n",
       "      <td>1934.01.08.R</td>\n",
       "      <td>1934.02.08.R</td>\n",
       "      <td>1934.02.08.R</td>\n",
       "    </tr>\n",
       "    <tr>\n",
       "      <th>5043</th>\n",
       "      <td>1900.00.00.R</td>\n",
       "      <td>1919.00.00.R</td>\n",
       "      <td>1900.00.00.R</td>\n",
       "    </tr>\n",
       "    <tr>\n",
       "      <th>5150</th>\n",
       "      <td>1911.07.31.R</td>\n",
       "      <td>1911.07.31.T</td>\n",
       "      <td>1911.07.31.R</td>\n",
       "    </tr>\n",
       "  </tbody>\n",
       "</table>\n",
       "</div>"
      ],
      "text/plain": [
       "       Case Number Case Number.1 Case Number.2\n",
       "4       2016.09.15    2016.09.16    2016.09.15\n",
       "33    2016.07.14.4  2016.07.14.R  2016.07.14.4\n",
       "97    2016.01.24.b  2015.01.24.b  2016.01.24.b\n",
       "116     2015.12.23    2015.11.07    2015.12.23\n",
       "121   2015.10.28.a    2015.10.28  2015.10.28.a\n",
       "169     2015.07-10    2015.07.10    2015.07.10\n",
       "3296    1967.07.05    1967/07.05    1967.07.05\n",
       "3569  1962,08.30.b  1962.08.30.b  1962,08.30.b\n",
       "3654  1961.09.02.R  1961.09,06.R  1961.09.02.R\n",
       "4177    1952.08.05    1952.08.04    1952.08.05\n",
       "4719  1934.01.08.R  1934.02.08.R  1934.02.08.R\n",
       "5043  1900.00.00.R  1919.00.00.R  1900.00.00.R\n",
       "5150  1911.07.31.R  1911.07.31.T  1911.07.31.R"
      ]
     },
     "execution_count": 9,
     "metadata": {},
     "output_type": "execute_result"
    }
   ],
   "source": [
    "print(\"rows with differences: \",clean_sharks[((clean_sharks[\"Case Number\"] != clean_sharks[\"Case Number.1\"])|(clean_sharks[\"Case Number\"] \n",
    "...                  != clean_sharks[\"Case Number.2\"]))][[\"Case Number\",\"Case Number.1\",\"Case Number.2\"]].shape[0])\n",
    "clean_sharks[((clean_sharks[\"Case Number\"] != clean_sharks[\"Case Number.1\"])|(clean_sharks[\"Case Number\"] \n",
    "...                  != clean_sharks[\"Case Number.2\"]))][[\"Case Number\",\"Case Number.1\",\"Case Number.2\"]]"
   ]
  },
  {
   "cell_type": "markdown",
   "metadata": {},
   "source": [
    "### That's only 13 rows. Let's consider the \"Case Number\" value as the valid one and discard the other two columns:"
   ]
  },
  {
   "cell_type": "code",
   "execution_count": 10,
   "metadata": {},
   "outputs": [],
   "source": [
    "clean_sharks.drop([\"Case Number.1\",\"Case Number.2\"], axis=1,inplace=True)"
   ]
  },
  {
   "cell_type": "markdown",
   "metadata": {},
   "source": [
    "### It's the same case for columns \"url\" and \"url 2\". Only 54 rows have different values between these two columns, and colum \"url 2\" has more missing values than \"url\". I think it's safe to say we can discard column \"url 2\" as well:"
   ]
  },
  {
   "cell_type": "code",
   "execution_count": 11,
   "metadata": {},
   "outputs": [
    {
     "name": "stdout",
     "output_type": "stream",
     "text": [
      "rows with differences:  54\n"
     ]
    }
   ],
   "source": [
    "print(\"rows with differences: \", clean_sharks[(clean_sharks[\"url\"] != clean_sharks[\"url 2\"])].shape[0])\n",
    "clean_sharks.drop([\"url 2\"], axis=1,inplace=True)"
   ]
  },
  {
   "cell_type": "markdown",
   "metadata": {},
   "source": [
    "### Out of nearly 6000 rows only 124 don't show the year of the incident (showing 0 as the year). We could try to correct those values with the information available in columns \"Case Number\" or \"Date\"... but is it really worth it?:"
   ]
  },
  {
   "cell_type": "code",
   "execution_count": 12,
   "metadata": {},
   "outputs": [
    {
     "name": "stdout",
     "output_type": "stream",
     "text": [
      "Number of rows with Year '0':  124\n"
     ]
    },
    {
     "data": {
      "text/html": [
       "<div>\n",
       "<style scoped>\n",
       "    .dataframe tbody tr th:only-of-type {\n",
       "        vertical-align: middle;\n",
       "    }\n",
       "\n",
       "    .dataframe tbody tr th {\n",
       "        vertical-align: top;\n",
       "    }\n",
       "\n",
       "    .dataframe thead th {\n",
       "        text-align: right;\n",
       "    }\n",
       "</style>\n",
       "<table border=\"1\" class=\"dataframe\">\n",
       "  <thead>\n",
       "    <tr style=\"text-align: right;\">\n",
       "      <th></th>\n",
       "      <th>Case Number</th>\n",
       "      <th>Date</th>\n",
       "    </tr>\n",
       "  </thead>\n",
       "  <tbody>\n",
       "    <tr>\n",
       "      <th>5868</th>\n",
       "      <td>0.0214</td>\n",
       "      <td>Ca. 214 B.C.</td>\n",
       "    </tr>\n",
       "    <tr>\n",
       "      <th>5869</th>\n",
       "      <td>0.0336</td>\n",
       "      <td>Ca. 336.B.C..</td>\n",
       "    </tr>\n",
       "    <tr>\n",
       "      <th>5870</th>\n",
       "      <td>0.0493</td>\n",
       "      <td>493 B.C.</td>\n",
       "    </tr>\n",
       "    <tr>\n",
       "      <th>5871</th>\n",
       "      <td>0.0725</td>\n",
       "      <td>Ca. 725 B.C.</td>\n",
       "    </tr>\n",
       "    <tr>\n",
       "      <th>5872</th>\n",
       "      <td>ND-0153</td>\n",
       "      <td>1990 or 1991</td>\n",
       "    </tr>\n",
       "    <tr>\n",
       "      <th>5873</th>\n",
       "      <td>ND-0152</td>\n",
       "      <td>Before 2016</td>\n",
       "    </tr>\n",
       "    <tr>\n",
       "      <th>5874</th>\n",
       "      <td>ND-0151</td>\n",
       "      <td>Before Oct-2009</td>\n",
       "    </tr>\n",
       "    <tr>\n",
       "      <th>5875</th>\n",
       "      <td>ND-0150</td>\n",
       "      <td>Before 1934</td>\n",
       "    </tr>\n",
       "    <tr>\n",
       "      <th>5876</th>\n",
       "      <td>ND-0149</td>\n",
       "      <td>Before 1934</td>\n",
       "    </tr>\n",
       "    <tr>\n",
       "      <th>5877</th>\n",
       "      <td>ND-0148</td>\n",
       "      <td>2009?</td>\n",
       "    </tr>\n",
       "  </tbody>\n",
       "</table>\n",
       "</div>"
      ],
      "text/plain": [
       "     Case Number             Date\n",
       "5868      0.0214     Ca. 214 B.C.\n",
       "5869      0.0336    Ca. 336.B.C..\n",
       "5870      0.0493         493 B.C.\n",
       "5871      0.0725     Ca. 725 B.C.\n",
       "5872     ND-0153     1990 or 1991\n",
       "5873     ND-0152      Before 2016\n",
       "5874     ND-0151  Before Oct-2009\n",
       "5875     ND-0150      Before 1934\n",
       "5876     ND-0149      Before 1934\n",
       "5877     ND-0148            2009?"
      ]
     },
     "execution_count": 12,
     "metadata": {},
     "output_type": "execute_result"
    }
   ],
   "source": [
    "test=pd.DataFrame()\n",
    "test=clean_sharks.copy()[clean_sharks[\"Year\"]==0][[\"Case Number\",\"Date\"]]\n",
    "print(\"Number of rows with Year '0': \",test.shape[0])\n",
    "test.head(10)"
   ]
  },
  {
   "cell_type": "markdown",
   "metadata": {},
   "source": [
    "### By looking at the Case Number and dates of these rows we see that, in most cases, there's no clear information on the date of occurence. I will discard these rows from my clean dataframe:"
   ]
  },
  {
   "cell_type": "code",
   "execution_count": 13,
   "metadata": {},
   "outputs": [],
   "source": [
    "clean_sharks.drop(test.index,axis=0,inplace=True)"
   ]
  },
  {
   "cell_type": "markdown",
   "metadata": {},
   "source": [
    "### We still have lots of null values in certain columns:"
   ]
  },
  {
   "cell_type": "code",
   "execution_count": 14,
   "metadata": {},
   "outputs": [
    {
     "name": "stdout",
     "output_type": "stream",
     "text": [
      "<class 'pandas.core.frame.DataFrame'>\n",
      "Index: 5868 entries, 0 to 5867\n",
      "Data columns (total 19 columns):\n",
      "Case Number               5868 non-null object\n",
      "Date                      5868 non-null object\n",
      "Year                      5868 non-null int64\n",
      "Type                      5868 non-null object\n",
      "Country                   5829 non-null object\n",
      "Area                      5491 non-null object\n",
      "Location                  5406 non-null object\n",
      "Activity                  5360 non-null object\n",
      "Name                      5675 non-null object\n",
      "Sex                       5311 non-null object\n",
      "Age                       3298 non-null object\n",
      "Injury                    5842 non-null object\n",
      "Fatal                     5849 non-null object\n",
      "Time                      2772 non-null object\n",
      "Species                   3024 non-null object\n",
      "Investigator or Source    5853 non-null object\n",
      "pdf                       5868 non-null object\n",
      "url                       5867 non-null object\n",
      "original order            5868 non-null int64\n",
      "dtypes: int64(2), object(17)\n",
      "memory usage: 916.9+ KB\n"
     ]
    }
   ],
   "source": [
    "clean_sharks.info()"
   ]
  },
  {
   "cell_type": "markdown",
   "metadata": {},
   "source": [
    "### Apart from \"Age\", all of these columns should maintain their type (object). Therefore, we can replace null values in these columns for \"Unknown\" and avoid conflicts:"
   ]
  },
  {
   "cell_type": "code",
   "execution_count": 15,
   "metadata": {},
   "outputs": [
    {
     "data": {
      "text/plain": [
       "Age    2570\n",
       "dtype: int64"
      ]
     },
     "execution_count": 15,
     "metadata": {},
     "output_type": "execute_result"
    }
   ],
   "source": [
    "unknown_columns=[\"Country\",\"Area\",\"Location\",\"Activity\",\"Name\",\"Sex\",\"Injury\",\"Fatal\",\"Time\",\"Species\",\n",
    "                 \"Investigator or Source\",\"url\"]\n",
    "\n",
    "for u in unknown_columns: clean_sharks[u].fillna(\"Unknown\",inplace=True)\n",
    "\n",
    "null_cols = clean_sharks.isnull().sum()\n",
    "null_cols[null_cols > 0]\n",
    "\n"
   ]
  },
  {
   "cell_type": "markdown",
   "metadata": {},
   "source": [
    "### For \"Age\" we can replace null values for 0"
   ]
  },
  {
   "cell_type": "code",
   "execution_count": 16,
   "metadata": {},
   "outputs": [
    {
     "data": {
      "text/plain": [
       "Series([], dtype: int64)"
      ]
     },
     "execution_count": 16,
     "metadata": {},
     "output_type": "execute_result"
    }
   ],
   "source": [
    "zero_columns=[\"Age\",\"Time\"]\n",
    "\n",
    "for z in zero_columns: clean_sharks[z].fillna(0,inplace=True)\n",
    "    \n",
    "null_cols = clean_sharks.isnull().sum()\n",
    "null_cols[null_cols > 0]"
   ]
  },
  {
   "cell_type": "markdown",
   "metadata": {},
   "source": [
    "### Great! now that we have no null values in the dataframe, let's do some more cleaning. We would like the \"Age\" variable to be of *int64* type, but there's still some values that won't allow us to transform it directly. Here's a set of the values in this column:"
   ]
  },
  {
   "cell_type": "code",
   "execution_count": 17,
   "metadata": {
    "scrolled": true
   },
   "outputs": [
    {
     "name": "stdout",
     "output_type": "stream",
     "text": [
      "{0, '73', '52', '29', '50 & 30', 'X', '77', '74', '43', '36', '44', '18 months', '33 & 26', ' ', '10 or 12', '\"young\"', '60s', '12', '41', '84', '23 & 26', '11', 'F', '42', '63', '30 or 36', '40', '2 to 3 months', '54', '20s', '69', '33', '9 or 10', '72', '18 or 20', '28, 23 & 30', '49', '67', '36 & 26', '38', 'young', '71', '19', '34 & 19', 'mid-20s', '81', 'Ca. 33', '87', '9', '1', '14', '6�', '30', '7      &    31', '� ', \"60's\", '60', 'adult', '13', '75', '53', '16', '12 or 13', '39', 'MAKE LINE GREEN', '70', '?    &   14', '17', '37', '31 or 33', '78', '2�', '51', '17 & 16', '24', '7 or 8', '30s', '17 & 35', '35', '8', '58', '55', 'mid-30s', '28', '8 or 10', '30 & 32', '23', '31', '33 & 37', 'teen', '27', '37, 67, 35, 27,  ? & 27', '3', '50s', '13 or 18', 'Elderly', 'A.M.', '45', '>50', '25 or 28', 'Both 11', '6', '7', '46', '21 & ?', '65', '26', '25', '56', '(adult)', '21', '23 & 20', '9 months', '68', '10', 'Teen', '32', '20?', '59', '  ', '20', '21 or 26', '18', '16 to 18', '15', '9 & 12', '25 to 35', '36 & 23', '46 & 34', '40s', '18 to 22', '48', '? & 19', '62', '5', '47', '86', '50', '57', '22', 'M', '64', '61', '21, 34,24 & 35', '34', '28 & 26', '33 or 37', '66', 'Teens', '32 & 30', '\"middle-age\"'}\n"
     ]
    }
   ],
   "source": [
    "print(set(clean_sharks['Age']))"
   ]
  },
  {
   "cell_type": "markdown",
   "metadata": {},
   "source": [
    "### Ok, we see that not all rows contain letters or more than one number (separated by either spaces or special characters). Let's see how many rows contain non numeric strings:"
   ]
  },
  {
   "cell_type": "code",
   "execution_count": 18,
   "metadata": {},
   "outputs": [
    {
     "data": {
      "text/plain": [
       "100"
      ]
     },
     "execution_count": 18,
     "metadata": {},
     "output_type": "execute_result"
    }
   ],
   "source": [
    "clean_sharks[clean_sharks[\"Age\"].str.isdigit()==False].shape[0]"
   ]
  },
  {
   "cell_type": "markdown",
   "metadata": {},
   "source": [
    "### Not that many! I'd say we drop them and make this column *int64* type:"
   ]
  },
  {
   "cell_type": "code",
   "execution_count": 19,
   "metadata": {},
   "outputs": [],
   "source": [
    "test=pd.DataFrame()\n",
    "\n",
    "test = clean_sharks[clean_sharks[\"Age\"].str.isdigit()==False]\n",
    "clean_sharks.drop(test.index,axis=0,inplace=True)"
   ]
  },
  {
   "cell_type": "code",
   "execution_count": 21,
   "metadata": {},
   "outputs": [],
   "source": [
    "clean_sharks[\"Age\"]=clean_sharks[\"Age\"].astype(\"int64\")"
   ]
  },
  {
   "cell_type": "code",
   "execution_count": null,
   "metadata": {},
   "outputs": [],
   "source": []
  },
  {
   "cell_type": "code",
   "execution_count": null,
   "metadata": {},
   "outputs": [],
   "source": []
  }
 ],
 "metadata": {
  "kernelspec": {
   "display_name": "Python 3",
   "language": "python",
   "name": "python3"
  },
  "language_info": {
   "codemirror_mode": {
    "name": "ipython",
    "version": 3
   },
   "file_extension": ".py",
   "mimetype": "text/x-python",
   "name": "python",
   "nbconvert_exporter": "python",
   "pygments_lexer": "ipython3",
   "version": "3.6.8"
  }
 },
 "nbformat": 4,
 "nbformat_minor": 2
}
