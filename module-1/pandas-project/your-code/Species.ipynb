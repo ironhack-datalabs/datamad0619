{
 "cells": [
  {
   "cell_type": "markdown",
   "metadata": {},
   "source": [
    "   # Normalización columna 'Species'"
   ]
  },
  {
   "cell_type": "code",
   "execution_count": 1,
   "metadata": {},
   "outputs": [],
   "source": [
    "#sharks_0['Species'] = sharks_0['Species'].str.replace('?', '')\n",
    "#sharks_0['Species'] = sharks_0['Species'].str.replace(r'\\w+efore ', '')\n",
    "#sharks_0['Species'] = sharks_0['Species'].str.replace('Beforer ', '')\n",
    "#sharks_0['Species'] = sharks_0['Species'].str.replace(r'Between', '')\n",
    "#sharks_0['Species'] = sharks_0['Species'].str.replace('Circa ', '')\n",
    "#sharks_0['Species'] = sharks_0['Species'].str.replace('Early ', '')\n",
    "#sharks_0['Species'] = sharks_0['Species'].str.replace(' or ', ',')\n",
    "#sharks_0['Species'] = sharks_0['Species'].str.replace('-', ',')\n",
    "#sharks_0['Species'] = sharks_0['Species'].str.replace('&', ',')\n",
    "#sharks_0['Species'] = sharks_0['Species'].str.replace('Ca. ', '-')\n",
    "#sharks_0['Species'] = sharks_0['Species'].str.replace(' B.C.', '')\n",
    "#sharks_0['Species'] = sharks_0['Species'].str.replace('.B.C..', '')\n",
    "#sharks_0['Species'] = sharks_0['Species'].str.replace('World War II', '1945')\n",
    "#sharks_0['Species'] = sharks_0['Species'].str.replace('A few years ', '')\n",
    "#sharks_0['Species'] = sharks_0['Species'].str.replace('s', '')\n",
    "#sharks_0['Species'] = sharks_0['Species'].str.replace('No date, ', '')\n",
    "#sharks_0['Species'].head()"
   ]
  },
  {
   "cell_type": "code",
   "execution_count": 2,
   "metadata": {},
   "outputs": [
    {
     "name": "stdout",
     "output_type": "stream",
     "text": [
      "Oceanic Whitetip Shark\n"
     ]
    }
   ],
   "source": [
    "def normal_species(str):\n",
    "    y= str.lower()\n",
    "    if 'whitetip' in y or  'oceanic' in y:\n",
    "        return 'Oceanic Whitetip Shark'\n",
    "    elif 'sand' in y:\n",
    "        return 'Sand Tiger Shark'\n",
    "    elif 'bull' in y:\n",
    "        return 'Bull Shark'\n",
    "    elif 'blue' in y:\n",
    "        return 'Blue Shark'\n",
    "    elif 'mako' in y:\n",
    "        return 'Shortfin Mako Shark'\n",
    "    elif 'lemon' in y:\n",
    "        return 'Lemon Shark'\n",
    "    elif 'gray' in y:\n",
    "        return 'Gray Reef Shark'\n",
    "    elif 'black' in y:\n",
    "        return 'Blacktip Shark'\n",
    "    elif 'white' in y:\n",
    "        return 'White Shark'\n",
    "    elif 'tiger' in y:\n",
    "        return 'Tiger Shark'\n",
    "    else: return str\n",
    "    \n",
    "print(normal_species(\"Shark in msadfasfj white oceanic\"))"
   ]
  },
  {
   "cell_type": "markdown",
   "metadata": {},
   "source": [
    "WHITE SHARK\n",
    "<br>\n",
    "TIGER SHARK\n",
    "<br>\n",
    "BULL SHARK\n",
    "<br>\n",
    "SHORTFIN MAKO SHARK\n",
    "<br>\n",
    "LEMON SHARK\n",
    "<br>\n",
    "OCEANIC WHITETIP SHARK\n",
    "<br>\n",
    "BLUE SHARK\n",
    "<br>\n",
    "GALAPAGOS SHARK\n",
    "<br>\n",
    "CARIBBEAN REEF SHARK\n",
    "<br>\n",
    "DUSKY SHARK\n",
    "<br>\n",
    "BLACKTIP SHARK\n",
    "<br>\n",
    "SILKY SHARK\n",
    "<br>\n",
    "GRAY REEF SHARK\n",
    "<br>\n",
    "GREAT HAMMERHEAD SHARK\n",
    "<br>\n",
    "BLACKTIP REEF SHARK\n",
    "<br>\n",
    "BROADNOSE SEVENGILL SHARK\n",
    "<br>\n",
    "BLUNTNOSE SIXGILL SHARK\n",
    "<br>\n",
    "NURSE SHARK\n",
    "<br>\n",
    "SAND TIGER\n",
    "<br>\n",
    "WOBBEGONG\n",
    "<br>\n",
    "BASKING SHARK\n",
    "<br>\n",
    "SPINNER SHARK\n",
    "<br>\n",
    "BRONZE WHALER SHARK"
   ]
  },
  {
   "cell_type": "code",
   "execution_count": null,
   "metadata": {},
   "outputs": [],
   "source": []
  },
  {
   "cell_type": "code",
   "execution_count": null,
   "metadata": {},
   "outputs": [],
   "source": []
  }
 ],
 "metadata": {
  "kernelspec": {
   "display_name": "Python 3",
   "language": "python",
   "name": "python3"
  },
  "language_info": {
   "codemirror_mode": {
    "name": "ipython",
    "version": 3
   },
   "file_extension": ".py",
   "mimetype": "text/x-python",
   "name": "python",
   "nbconvert_exporter": "python",
   "pygments_lexer": "ipython3",
   "version": "3.7.3"
  }
 },
 "nbformat": 4,
 "nbformat_minor": 2
}
