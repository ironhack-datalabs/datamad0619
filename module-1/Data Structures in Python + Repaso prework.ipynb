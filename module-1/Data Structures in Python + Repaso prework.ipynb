{
 "cells": [
  {
   "cell_type": "code",
   "execution_count": 1,
   "metadata": {},
   "outputs": [],
   "source": [
    "# Code Blocks: if-else, for, break, continue, variables\n",
    "# Structure data: lists, dicts, tuples, sets\n",
    "# Built-in functions: range, dict.values(), dict.items()\n",
    "# Data Types: \n"
   ]
  },
  {
   "cell_type": "code",
   "execution_count": 2,
   "metadata": {},
   "outputs": [],
   "source": [
    "a = 3\n",
    "a = \"Hola\"\n",
    "a = True\n",
    "a = 5.5\n",
    "a = [1,2,3]\n",
    "a = {\"hola\":\"pepe\"}\n",
    "a = (1,2,3)\n",
    "a = 5 + 4 # A has a value of 9"
   ]
  },
  {
   "cell_type": "code",
   "execution_count": 8,
   "metadata": {},
   "outputs": [
    {
     "name": "stdout",
     "output_type": "stream",
     "text": [
      "3\n",
      "Hola Pepe\n",
      "Hola Juan\n",
      "Hola Luis\n"
     ]
    }
   ],
   "source": [
    "b = [\"Pepe\",\"Juan\",\"Luis\"]\n",
    "print(len(b))\n",
    "for e in b:\n",
    "    print(\"Hola \" + e)\n",
    "\n"
   ]
  },
  {
   "cell_type": "code",
   "execution_count": 13,
   "metadata": {},
   "outputs": [
    {
     "name": "stdout",
     "output_type": "stream",
     "text": [
      "Pepe\n",
      "Juan\n",
      "Luis\n"
     ]
    },
    {
     "ename": "IndexError",
     "evalue": "list index out of range",
     "output_type": "error",
     "traceback": [
      "\u001b[0;31m---------------------------------------------------------------------------\u001b[0m",
      "\u001b[0;31mIndexError\u001b[0m                                Traceback (most recent call last)",
      "\u001b[0;32m<ipython-input-13-89c6e00afafa>\u001b[0m in \u001b[0;36m<module>\u001b[0;34m\u001b[0m\n\u001b[1;32m      1\u001b[0m \u001b[0;32mfor\u001b[0m \u001b[0mi\u001b[0m \u001b[0;32min\u001b[0m \u001b[0mrange\u001b[0m\u001b[0;34m(\u001b[0m\u001b[0;36m4\u001b[0m\u001b[0;34m)\u001b[0m\u001b[0;34m:\u001b[0m\u001b[0;34m\u001b[0m\u001b[0;34m\u001b[0m\u001b[0m\n\u001b[0;32m----> 2\u001b[0;31m     \u001b[0mprint\u001b[0m\u001b[0;34m(\u001b[0m\u001b[0mb\u001b[0m\u001b[0;34m[\u001b[0m\u001b[0mi\u001b[0m\u001b[0;34m]\u001b[0m\u001b[0;34m)\u001b[0m\u001b[0;34m\u001b[0m\u001b[0;34m\u001b[0m\u001b[0m\n\u001b[0m",
      "\u001b[0;31mIndexError\u001b[0m: list index out of range"
     ]
    }
   ],
   "source": [
    "for i in range(4):\n",
    "    print(b[i])"
   ]
  },
  {
   "cell_type": "code",
   "execution_count": 31,
   "metadata": {},
   "outputs": [
    {
     "name": "stdout",
     "output_type": "stream",
     "text": [
      "Adios0\n",
      "Adios1\n",
      "Adios2\n",
      "Adios3\n",
      "Adios4\n",
      "Hola5\n",
      "H\n",
      "Adios6\n",
      "Adios7\n",
      "Adios8\n",
      "Adios9\n",
      "Fin\n"
     ]
    }
   ],
   "source": [
    "for i in range(10):\n",
    "    if i == 5:\n",
    "        print(\"Hola\" + str(i) )\n",
    "    else: \n",
    "        print(\"Adios\" + str(i) )\n",
    "        continue\n",
    "    print(\"H\")\n",
    "print(\"Fin\")"
   ]
  },
  {
   "cell_type": "code",
   "execution_count": 5,
   "metadata": {},
   "outputs": [
    {
     "name": "stdout",
     "output_type": "stream",
     "text": [
      "[0, 2, 4, 6, 8]\n"
     ]
    }
   ],
   "source": [
    "x = []\n",
    "for i in range(5):\n",
    "    x.append(i*2)\n",
    "print(x)"
   ]
  },
  {
   "cell_type": "code",
   "execution_count": 7,
   "metadata": {},
   "outputs": [
    {
     "ename": "AttributeError",
     "evalue": "'tuple' object has no attribute 'append'",
     "output_type": "error",
     "traceback": [
      "\u001b[0;31m---------------------------------------------------------------------------\u001b[0m",
      "\u001b[0;31mAttributeError\u001b[0m                            Traceback (most recent call last)",
      "\u001b[0;32m<ipython-input-7-7fc0c9053221>\u001b[0m in \u001b[0;36m<module>\u001b[0;34m\u001b[0m\n\u001b[1;32m      1\u001b[0m \u001b[0my\u001b[0m \u001b[0;34m=\u001b[0m \u001b[0;34m(\u001b[0m\u001b[0;36m1\u001b[0m\u001b[0;34m,\u001b[0m\u001b[0;36m2\u001b[0m\u001b[0;34m,\u001b[0m\u001b[0;36m3\u001b[0m\u001b[0;34m)\u001b[0m\u001b[0;34m\u001b[0m\u001b[0;34m\u001b[0m\u001b[0m\n\u001b[1;32m      2\u001b[0m \u001b[0;32mfor\u001b[0m \u001b[0mi\u001b[0m \u001b[0;32min\u001b[0m \u001b[0mrange\u001b[0m\u001b[0;34m(\u001b[0m\u001b[0;36m5\u001b[0m\u001b[0;34m)\u001b[0m\u001b[0;34m:\u001b[0m\u001b[0;34m\u001b[0m\u001b[0;34m\u001b[0m\u001b[0m\n\u001b[0;32m----> 3\u001b[0;31m     \u001b[0my\u001b[0m\u001b[0;34m.\u001b[0m\u001b[0mappend\u001b[0m\u001b[0;34m(\u001b[0m\u001b[0mi\u001b[0m\u001b[0;34m*\u001b[0m\u001b[0;36m2\u001b[0m\u001b[0;34m)\u001b[0m\u001b[0;34m\u001b[0m\u001b[0;34m\u001b[0m\u001b[0m\n\u001b[0m\u001b[1;32m      4\u001b[0m \u001b[0mprint\u001b[0m\u001b[0;34m(\u001b[0m\u001b[0my\u001b[0m\u001b[0;34m)\u001b[0m\u001b[0;34m\u001b[0m\u001b[0;34m\u001b[0m\u001b[0m\n",
      "\u001b[0;31mAttributeError\u001b[0m: 'tuple' object has no attribute 'append'"
     ]
    }
   ],
   "source": [
    "y = (1,2,3)\n",
    "for i in range(5):\n",
    "    y.append(i*2)\n",
    "print(y)"
   ]
  },
  {
   "cell_type": "code",
   "execution_count": 16,
   "metadata": {},
   "outputs": [
    {
     "name": "stdout",
     "output_type": "stream",
     "text": [
      "{'nombre': 'Rafa', 'apellidos': 'Nadal', 'edad': 33, 'posicionATP': [1, 2, 4, 1, 1, 2, 1]}\n"
     ]
    }
   ],
   "source": [
    "jugador = {\n",
    "    \"nombre\":\"Rafa\",\n",
    "    \"apellidos\":\"Nadal\",\n",
    "    \"edad\": 33,\n",
    "    \"posicionATP\":[1,2,4,1,1,2,1],\n",
    "}\n",
    "\n",
    "print(jugador)\n",
    "\n"
   ]
  },
  {
   "cell_type": "code",
   "execution_count": 19,
   "metadata": {},
   "outputs": [
    {
     "data": {
      "text/plain": [
       "dict_items([('nombre', 'Rafa'), ('apellidos', 'Nadal'), ('edad', 33), ('posicionATP', [1, 2, 4, 1, 1, 2, 1])])"
      ]
     },
     "execution_count": 19,
     "metadata": {},
     "output_type": "execute_result"
    }
   ],
   "source": [
    "jugador.items()"
   ]
  },
  {
   "cell_type": "code",
   "execution_count": 20,
   "metadata": {},
   "outputs": [
    {
     "data": {
      "text/plain": [
       "dict_values(['Rafa', 'Nadal', 33, [1, 2, 4, 1, 1, 2, 1]])"
      ]
     },
     "execution_count": 20,
     "metadata": {},
     "output_type": "execute_result"
    }
   ],
   "source": [
    "jugador.values()"
   ]
  },
  {
   "cell_type": "code",
   "execution_count": 21,
   "metadata": {},
   "outputs": [
    {
     "data": {
      "text/plain": [
       "dict_keys(['nombre', 'apellidos', 'edad', 'posicionATP'])"
      ]
     },
     "execution_count": 21,
     "metadata": {},
     "output_type": "execute_result"
    }
   ],
   "source": [
    "jugador.keys()"
   ]
  },
  {
   "cell_type": "code",
   "execution_count": 32,
   "metadata": {},
   "outputs": [
    {
     "name": "stdout",
     "output_type": "stream",
     "text": [
      "('nombre', 'Rafa')\n",
      "Key: nombre - Value: Rafa\n",
      "('apellidos', 'Nadal')\n",
      "Key: apellidos - Value: Nadal\n",
      "('edad', 33)\n",
      "Key: edad - Value: 33\n",
      "('posicionATP', [1, 2, 4, 1, 1, 2, 1])\n",
      "Key: posicionATP - Value: [1, 2, 4, 1, 1, 2, 1]\n"
     ]
    }
   ],
   "source": [
    "for e in jugador.items():\n",
    "    print(e)\n",
    "    print(\"Key: {} - Value: {}\".format(e[0],e[1]))"
   ]
  },
  {
   "cell_type": "code",
   "execution_count": 31,
   "metadata": {},
   "outputs": [
    {
     "name": "stdout",
     "output_type": "stream",
     "text": [
      "{'nombre': 'Rafa', 'apellidos': 'Nadal', 'edad': 33}\n",
      "Rafa\n",
      "{'nombre': 'Roger', 'apellidos': 'Federer', 'edad': 38}\n",
      "Roger\n"
     ]
    }
   ],
   "source": [
    "ATP = [\n",
    "    {\n",
    "        \"nombre\":\"Rafa\",\n",
    "        \"apellidos\":\"Nadal\",\n",
    "        \"edad\": 33,\n",
    "    },{\n",
    "        \"nombre\":\"Roger\",\n",
    "        \"apellidos\":\"Federer\",\n",
    "        \"edad\": 38,\n",
    "    }\n",
    "]\n",
    "\n",
    "for e in ATP:\n",
    "    print(e)\n",
    "    print(e[\"nombre\"])\n",
    "    "
   ]
  },
  {
   "cell_type": "code",
   "execution_count": 33,
   "metadata": {},
   "outputs": [
    {
     "name": "stdout",
     "output_type": "stream",
     "text": [
      "{'nombre': 'Pepe', 'edad': 40}\n"
     ]
    }
   ],
   "source": [
    "jj = {}\n",
    "\n",
    "jj[\"nombre\"] = \"Pepe\"\n",
    "jj[\"edad\"] = 40\n",
    "\n",
    "print(jj)"
   ]
  },
  {
   "cell_type": "code",
   "execution_count": 34,
   "metadata": {},
   "outputs": [
    {
     "name": "stdout",
     "output_type": "stream",
     "text": [
      "[1, 2, 55, 4]\n"
     ]
    }
   ],
   "source": [
    "a = [1,2,3,4]\n",
    "a[2] = 55\n",
    "print(a)"
   ]
  },
  {
   "cell_type": "code",
   "execution_count": 42,
   "metadata": {},
   "outputs": [
    {
     "name": "stdout",
     "output_type": "stream",
     "text": [
      "Hola me llamo Pepe y tengo 40 años\n"
     ]
    }
   ],
   "source": [
    "n = \"Pepe\"\n",
    "edad = 40\n",
    "x = \"Hola me llamo {} y tengo {} años\".format(n, edad)\n",
    "print(x)\n",
    "\n",
    "\n"
   ]
  },
  {
   "cell_type": "code",
   "execution_count": 43,
   "metadata": {},
   "outputs": [],
   "source": [
    "## SETS"
   ]
  },
  {
   "cell_type": "code",
   "execution_count": 52,
   "metadata": {},
   "outputs": [
    {
     "name": "stdout",
     "output_type": "stream",
     "text": [
      "[1, 1, 2, 2, 3, 3, 4, 4, 5, 6, 7]\n",
      "11\n",
      "7\n"
     ]
    }
   ],
   "source": [
    "a = [1,1,2,2,3,3,4,4,5,6,7]\n",
    "print(a)\n",
    "print(len(a))\n",
    "\n",
    "list(set(a))[3]\n",
    "print(len(set(a)))"
   ]
  },
  {
   "cell_type": "code",
   "execution_count": 2,
   "metadata": {},
   "outputs": [
    {
     "name": "stdout",
     "output_type": "stream",
     "text": [
      "{1, 2, 3, 4, 5}\n",
      "{3}\n",
      "{1, 2}\n",
      "{1, 2, 4, 5}\n"
     ]
    }
   ],
   "source": [
    "a = set([1,2,3])\n",
    "b = set([3,4,5])\n",
    "\n",
    "print (a.union(b))\n",
    "print (a.intersection(b))\n",
    "print (a.difference(b))\n",
    "\n",
    "print (a.difference(b).union(b.difference(a)))"
   ]
  },
  {
   "cell_type": "code",
   "execution_count": 61,
   "metadata": {},
   "outputs": [
    {
     "data": {
      "text/plain": [
       "{' ', 'H', 'M', 'a', 'c', 'e', 'l', 'm', 'o', 'r'}"
      ]
     },
     "execution_count": 61,
     "metadata": {},
     "output_type": "execute_result"
    }
   ],
   "source": [
    "frase = \"Hola me llamo Marc\"\n",
    "\n",
    "set(frase)"
   ]
  },
  {
   "cell_type": "code",
   "execution_count": 63,
   "metadata": {},
   "outputs": [
    {
     "name": "stdout",
     "output_type": "stream",
     "text": [
      "3 <class 'int'>\n",
      "Hola <class 'str'>\n"
     ]
    }
   ],
   "source": [
    "a = 3\n",
    "print(a, type(a))\n",
    "a = \"Hola\"\n",
    "print(a, type(a))"
   ]
  },
  {
   "cell_type": "code",
   "execution_count": 65,
   "metadata": {},
   "outputs": [
    {
     "data": {
      "text/plain": [
       "False"
      ]
     },
     "execution_count": 65,
     "metadata": {},
     "output_type": "execute_result"
    }
   ],
   "source": [
    "q = 3\n",
    "type(q) == str"
   ]
  },
  {
   "cell_type": "code",
   "execution_count": 78,
   "metadata": {},
   "outputs": [
    {
     "name": "stdout",
     "output_type": "stream",
     "text": [
      "Bien\n"
     ]
    }
   ],
   "source": [
    "if [\"\"]:\n",
    "    print(\"Bien\")\n",
    "else:\n",
    "    print(\"Mal\")"
   ]
  },
  {
   "cell_type": "code",
   "execution_count": 71,
   "metadata": {},
   "outputs": [
    {
     "data": {
      "text/plain": [
       "0"
      ]
     },
     "execution_count": 71,
     "metadata": {},
     "output_type": "execute_result"
    }
   ],
   "source": [
    "len(\"\")"
   ]
  },
  {
   "cell_type": "code",
   "execution_count": null,
   "metadata": {},
   "outputs": [],
   "source": []
  }
 ],
 "metadata": {
  "kernelspec": {
   "display_name": "Python 3",
   "language": "python",
   "name": "python3"
  },
  "language_info": {
   "codemirror_mode": {
    "name": "ipython",
    "version": 3
   },
   "file_extension": ".py",
   "mimetype": "text/x-python",
   "name": "python",
   "nbconvert_exporter": "python",
   "pygments_lexer": "ipython3",
   "version": "3.7.3"
  }
 },
 "nbformat": 4,
 "nbformat_minor": 2
}
